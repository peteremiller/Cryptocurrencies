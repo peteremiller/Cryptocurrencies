{
 "cells": [
  {
   "cell_type": "markdown",
   "metadata": {},
   "source": [
    "# Clustering Crypto"
   ]
  },
  {
   "cell_type": "code",
   "execution_count": 40,
   "metadata": {},
   "outputs": [],
   "source": [
    "# Initial imports\n",
    "import pandas as pd\n",
    "import hvplot\n",
    "import hvplot.pandas\n",
    "from path import Path\n",
    "import plotly.express as px\n",
    "from sklearn.preprocessing import StandardScaler, MinMaxScaler\n",
    "from sklearn.decomposition import PCA\n",
    "from sklearn.cluster import KMeans\n",
    "from sklearn.cluster import AgglomerativeClustering"
   ]
  },
  {
   "cell_type": "markdown",
   "metadata": {},
   "source": [
    "### Deliverable 1: Preprocessing the Data for PCA"
   ]
  },
  {
   "cell_type": "code",
   "execution_count": 41,
   "metadata": {},
   "outputs": [
    {
     "data": {
      "text/html": [
       "<div>\n",
       "<style scoped>\n",
       "    .dataframe tbody tr th:only-of-type {\n",
       "        vertical-align: middle;\n",
       "    }\n",
       "\n",
       "    .dataframe tbody tr th {\n",
       "        vertical-align: top;\n",
       "    }\n",
       "\n",
       "    .dataframe thead th {\n",
       "        text-align: right;\n",
       "    }\n",
       "</style>\n",
       "<table border=\"1\" class=\"dataframe\">\n",
       "  <thead>\n",
       "    <tr style=\"text-align: right;\">\n",
       "      <th></th>\n",
       "      <th>CoinName</th>\n",
       "      <th>Algorithm</th>\n",
       "      <th>IsTrading</th>\n",
       "      <th>ProofType</th>\n",
       "      <th>TotalCoinsMined</th>\n",
       "      <th>TotalCoinSupply</th>\n",
       "    </tr>\n",
       "  </thead>\n",
       "  <tbody>\n",
       "    <tr>\n",
       "      <th>42</th>\n",
       "      <td>42 Coin</td>\n",
       "      <td>Scrypt</td>\n",
       "      <td>True</td>\n",
       "      <td>PoW/PoS</td>\n",
       "      <td>4.199995e+01</td>\n",
       "      <td>42</td>\n",
       "    </tr>\n",
       "    <tr>\n",
       "      <th>365</th>\n",
       "      <td>365Coin</td>\n",
       "      <td>X11</td>\n",
       "      <td>True</td>\n",
       "      <td>PoW/PoS</td>\n",
       "      <td>NaN</td>\n",
       "      <td>2300000000</td>\n",
       "    </tr>\n",
       "    <tr>\n",
       "      <th>404</th>\n",
       "      <td>404Coin</td>\n",
       "      <td>Scrypt</td>\n",
       "      <td>True</td>\n",
       "      <td>PoW/PoS</td>\n",
       "      <td>1.055185e+09</td>\n",
       "      <td>532000000</td>\n",
       "    </tr>\n",
       "    <tr>\n",
       "      <th>611</th>\n",
       "      <td>SixEleven</td>\n",
       "      <td>SHA-256</td>\n",
       "      <td>True</td>\n",
       "      <td>PoW</td>\n",
       "      <td>NaN</td>\n",
       "      <td>611000</td>\n",
       "    </tr>\n",
       "    <tr>\n",
       "      <th>808</th>\n",
       "      <td>808</td>\n",
       "      <td>SHA-256</td>\n",
       "      <td>True</td>\n",
       "      <td>PoW/PoS</td>\n",
       "      <td>0.000000e+00</td>\n",
       "      <td>0</td>\n",
       "    </tr>\n",
       "  </tbody>\n",
       "</table>\n",
       "</div>"
      ],
      "text/plain": [
       "      CoinName Algorithm  IsTrading ProofType  TotalCoinsMined TotalCoinSupply\n",
       "42     42 Coin    Scrypt       True   PoW/PoS     4.199995e+01              42\n",
       "365    365Coin       X11       True   PoW/PoS              NaN      2300000000\n",
       "404    404Coin    Scrypt       True   PoW/PoS     1.055185e+09       532000000\n",
       "611  SixEleven   SHA-256       True       PoW              NaN          611000\n",
       "808        808   SHA-256       True   PoW/PoS     0.000000e+00               0"
      ]
     },
     "execution_count": 41,
     "metadata": {},
     "output_type": "execute_result"
    }
   ],
   "source": [
    "# Load the crypto_data.csv dataset.\n",
    "file_path = \"crypto_data.csv\"\n",
    "crypto_df = pd.read_csv(file_path, index_col = 0)\n",
    "crypto_df.head()"
   ]
  },
  {
   "cell_type": "code",
   "execution_count": 42,
   "metadata": {},
   "outputs": [
    {
     "data": {
      "text/html": [
       "<div>\n",
       "<style scoped>\n",
       "    .dataframe tbody tr th:only-of-type {\n",
       "        vertical-align: middle;\n",
       "    }\n",
       "\n",
       "    .dataframe tbody tr th {\n",
       "        vertical-align: top;\n",
       "    }\n",
       "\n",
       "    .dataframe thead th {\n",
       "        text-align: right;\n",
       "    }\n",
       "</style>\n",
       "<table border=\"1\" class=\"dataframe\">\n",
       "  <thead>\n",
       "    <tr style=\"text-align: right;\">\n",
       "      <th></th>\n",
       "      <th>CoinName</th>\n",
       "      <th>Algorithm</th>\n",
       "      <th>IsTrading</th>\n",
       "      <th>ProofType</th>\n",
       "      <th>TotalCoinsMined</th>\n",
       "      <th>TotalCoinSupply</th>\n",
       "    </tr>\n",
       "  </thead>\n",
       "  <tbody>\n",
       "    <tr>\n",
       "      <th>42</th>\n",
       "      <td>42 Coin</td>\n",
       "      <td>Scrypt</td>\n",
       "      <td>True</td>\n",
       "      <td>PoW/PoS</td>\n",
       "      <td>4.199995e+01</td>\n",
       "      <td>42</td>\n",
       "    </tr>\n",
       "    <tr>\n",
       "      <th>365</th>\n",
       "      <td>365Coin</td>\n",
       "      <td>X11</td>\n",
       "      <td>True</td>\n",
       "      <td>PoW/PoS</td>\n",
       "      <td>NaN</td>\n",
       "      <td>2300000000</td>\n",
       "    </tr>\n",
       "    <tr>\n",
       "      <th>404</th>\n",
       "      <td>404Coin</td>\n",
       "      <td>Scrypt</td>\n",
       "      <td>True</td>\n",
       "      <td>PoW/PoS</td>\n",
       "      <td>1.055185e+09</td>\n",
       "      <td>532000000</td>\n",
       "    </tr>\n",
       "    <tr>\n",
       "      <th>611</th>\n",
       "      <td>SixEleven</td>\n",
       "      <td>SHA-256</td>\n",
       "      <td>True</td>\n",
       "      <td>PoW</td>\n",
       "      <td>NaN</td>\n",
       "      <td>611000</td>\n",
       "    </tr>\n",
       "    <tr>\n",
       "      <th>808</th>\n",
       "      <td>808</td>\n",
       "      <td>SHA-256</td>\n",
       "      <td>True</td>\n",
       "      <td>PoW/PoS</td>\n",
       "      <td>0.000000e+00</td>\n",
       "      <td>0</td>\n",
       "    </tr>\n",
       "    <tr>\n",
       "      <th>...</th>\n",
       "      <td>...</td>\n",
       "      <td>...</td>\n",
       "      <td>...</td>\n",
       "      <td>...</td>\n",
       "      <td>...</td>\n",
       "      <td>...</td>\n",
       "    </tr>\n",
       "    <tr>\n",
       "      <th>SERO</th>\n",
       "      <td>Super Zero</td>\n",
       "      <td>Ethash</td>\n",
       "      <td>True</td>\n",
       "      <td>PoW</td>\n",
       "      <td>NaN</td>\n",
       "      <td>1000000000</td>\n",
       "    </tr>\n",
       "    <tr>\n",
       "      <th>UOS</th>\n",
       "      <td>UOS</td>\n",
       "      <td>SHA-256</td>\n",
       "      <td>True</td>\n",
       "      <td>DPoI</td>\n",
       "      <td>NaN</td>\n",
       "      <td>1000000000</td>\n",
       "    </tr>\n",
       "    <tr>\n",
       "      <th>BDX</th>\n",
       "      <td>Beldex</td>\n",
       "      <td>CryptoNight</td>\n",
       "      <td>True</td>\n",
       "      <td>PoW</td>\n",
       "      <td>9.802226e+08</td>\n",
       "      <td>1400222610</td>\n",
       "    </tr>\n",
       "    <tr>\n",
       "      <th>ZEN</th>\n",
       "      <td>Horizen</td>\n",
       "      <td>Equihash</td>\n",
       "      <td>True</td>\n",
       "      <td>PoW</td>\n",
       "      <td>7.296538e+06</td>\n",
       "      <td>21000000</td>\n",
       "    </tr>\n",
       "    <tr>\n",
       "      <th>XBC</th>\n",
       "      <td>BitcoinPlus</td>\n",
       "      <td>Scrypt</td>\n",
       "      <td>True</td>\n",
       "      <td>PoS</td>\n",
       "      <td>1.283270e+05</td>\n",
       "      <td>1000000</td>\n",
       "    </tr>\n",
       "  </tbody>\n",
       "</table>\n",
       "<p>1144 rows × 6 columns</p>\n",
       "</div>"
      ],
      "text/plain": [
       "         CoinName    Algorithm  IsTrading ProofType  TotalCoinsMined  \\\n",
       "42        42 Coin       Scrypt       True   PoW/PoS     4.199995e+01   \n",
       "365       365Coin          X11       True   PoW/PoS              NaN   \n",
       "404       404Coin       Scrypt       True   PoW/PoS     1.055185e+09   \n",
       "611     SixEleven      SHA-256       True       PoW              NaN   \n",
       "808           808      SHA-256       True   PoW/PoS     0.000000e+00   \n",
       "...           ...          ...        ...       ...              ...   \n",
       "SERO   Super Zero       Ethash       True       PoW              NaN   \n",
       "UOS           UOS      SHA-256       True      DPoI              NaN   \n",
       "BDX        Beldex  CryptoNight       True       PoW     9.802226e+08   \n",
       "ZEN       Horizen     Equihash       True       PoW     7.296538e+06   \n",
       "XBC   BitcoinPlus       Scrypt       True       PoS     1.283270e+05   \n",
       "\n",
       "     TotalCoinSupply  \n",
       "42                42  \n",
       "365       2300000000  \n",
       "404        532000000  \n",
       "611           611000  \n",
       "808                0  \n",
       "...              ...  \n",
       "SERO      1000000000  \n",
       "UOS       1000000000  \n",
       "BDX       1400222610  \n",
       "ZEN         21000000  \n",
       "XBC          1000000  \n",
       "\n",
       "[1144 rows x 6 columns]"
      ]
     },
     "execution_count": 42,
     "metadata": {},
     "output_type": "execute_result"
    }
   ],
   "source": [
    "# Keep all the cryptocurrencies that are being traded.\n",
    "crypto_df = crypto_df[crypto_df['IsTrading']==True]\n",
    "crypto_df"
   ]
  },
  {
   "cell_type": "code",
   "execution_count": 43,
   "metadata": {},
   "outputs": [
    {
     "data": {
      "text/plain": [
       "42      False\n",
       "365     False\n",
       "404     False\n",
       "611     False\n",
       "808     False\n",
       "        ...  \n",
       "SERO    False\n",
       "UOS     False\n",
       "BDX     False\n",
       "ZEN     False\n",
       "XBC     False\n",
       "Name: Algorithm, Length: 1144, dtype: bool"
      ]
     },
     "execution_count": 43,
     "metadata": {},
     "output_type": "execute_result"
    }
   ],
   "source": [
    "# Keep all the cryptocurrencies that have a working algorithm.\n",
    "pd.isna(crypto_df['Algorithm'])"
   ]
  },
  {
   "cell_type": "code",
   "execution_count": 45,
   "metadata": {},
   "outputs": [
    {
     "data": {
      "text/html": [
       "<div>\n",
       "<style scoped>\n",
       "    .dataframe tbody tr th:only-of-type {\n",
       "        vertical-align: middle;\n",
       "    }\n",
       "\n",
       "    .dataframe tbody tr th {\n",
       "        vertical-align: top;\n",
       "    }\n",
       "\n",
       "    .dataframe thead th {\n",
       "        text-align: right;\n",
       "    }\n",
       "</style>\n",
       "<table border=\"1\" class=\"dataframe\">\n",
       "  <thead>\n",
       "    <tr style=\"text-align: right;\">\n",
       "      <th></th>\n",
       "      <th>CoinName</th>\n",
       "      <th>Algorithm</th>\n",
       "      <th>ProofType</th>\n",
       "      <th>TotalCoinsMined</th>\n",
       "      <th>TotalCoinSupply</th>\n",
       "    </tr>\n",
       "  </thead>\n",
       "  <tbody>\n",
       "    <tr>\n",
       "      <th>42</th>\n",
       "      <td>42 Coin</td>\n",
       "      <td>Scrypt</td>\n",
       "      <td>PoW/PoS</td>\n",
       "      <td>4.199995e+01</td>\n",
       "      <td>42</td>\n",
       "    </tr>\n",
       "    <tr>\n",
       "      <th>365</th>\n",
       "      <td>365Coin</td>\n",
       "      <td>X11</td>\n",
       "      <td>PoW/PoS</td>\n",
       "      <td>NaN</td>\n",
       "      <td>2300000000</td>\n",
       "    </tr>\n",
       "    <tr>\n",
       "      <th>404</th>\n",
       "      <td>404Coin</td>\n",
       "      <td>Scrypt</td>\n",
       "      <td>PoW/PoS</td>\n",
       "      <td>1.055185e+09</td>\n",
       "      <td>532000000</td>\n",
       "    </tr>\n",
       "    <tr>\n",
       "      <th>611</th>\n",
       "      <td>SixEleven</td>\n",
       "      <td>SHA-256</td>\n",
       "      <td>PoW</td>\n",
       "      <td>NaN</td>\n",
       "      <td>611000</td>\n",
       "    </tr>\n",
       "    <tr>\n",
       "      <th>808</th>\n",
       "      <td>808</td>\n",
       "      <td>SHA-256</td>\n",
       "      <td>PoW/PoS</td>\n",
       "      <td>0.000000e+00</td>\n",
       "      <td>0</td>\n",
       "    </tr>\n",
       "  </tbody>\n",
       "</table>\n",
       "</div>"
      ],
      "text/plain": [
       "      CoinName Algorithm ProofType  TotalCoinsMined TotalCoinSupply\n",
       "42     42 Coin    Scrypt   PoW/PoS     4.199995e+01              42\n",
       "365    365Coin       X11   PoW/PoS              NaN      2300000000\n",
       "404    404Coin    Scrypt   PoW/PoS     1.055185e+09       532000000\n",
       "611  SixEleven   SHA-256       PoW              NaN          611000\n",
       "808        808   SHA-256   PoW/PoS     0.000000e+00               0"
      ]
     },
     "execution_count": 45,
     "metadata": {},
     "output_type": "execute_result"
    }
   ],
   "source": [
    "# Remove the \"IsTrading\" column. \n",
    "crypto_df.drop(columns=[\"IsTrading\"], inplace=True)\n",
    "crypto_df.head()"
   ]
  },
  {
   "cell_type": "code",
   "execution_count": 47,
   "metadata": {},
   "outputs": [
    {
     "name": "stdout",
     "output_type": "stream",
     "text": [
      "Column CoinName has 0 null values\n",
      "Column Algorithm has 0 null values\n",
      "Column ProofType has 0 null values\n",
      "Column TotalCoinsMined has 459 null values\n",
      "Column TotalCoinSupply has 0 null values\n"
     ]
    }
   ],
   "source": [
    "# Remove rows that have at least 1 null value.\n",
    "for column in crypto_df.columns:\n",
    "    print(f\"Column {column} has {crypto_df[column].isnull().sum()} null values\")"
   ]
  },
  {
   "cell_type": "code",
   "execution_count": 49,
   "metadata": {},
   "outputs": [
    {
     "data": {
      "text/plain": [
       "CoinName           685\n",
       "Algorithm          685\n",
       "ProofType          685\n",
       "TotalCoinsMined    685\n",
       "TotalCoinSupply    685\n",
       "dtype: int64"
      ]
     },
     "execution_count": 49,
     "metadata": {},
     "output_type": "execute_result"
    }
   ],
   "source": [
    "#remove rows\n",
    "crypto_df=crypto_df.dropna()\n",
    "crypto_df.count()"
   ]
  },
  {
   "cell_type": "code",
   "execution_count": 50,
   "metadata": {},
   "outputs": [
    {
     "data": {
      "text/html": [
       "<div>\n",
       "<style scoped>\n",
       "    .dataframe tbody tr th:only-of-type {\n",
       "        vertical-align: middle;\n",
       "    }\n",
       "\n",
       "    .dataframe tbody tr th {\n",
       "        vertical-align: top;\n",
       "    }\n",
       "\n",
       "    .dataframe thead th {\n",
       "        text-align: right;\n",
       "    }\n",
       "</style>\n",
       "<table border=\"1\" class=\"dataframe\">\n",
       "  <thead>\n",
       "    <tr style=\"text-align: right;\">\n",
       "      <th></th>\n",
       "      <th>CoinName</th>\n",
       "      <th>Algorithm</th>\n",
       "      <th>ProofType</th>\n",
       "      <th>TotalCoinsMined</th>\n",
       "      <th>TotalCoinSupply</th>\n",
       "    </tr>\n",
       "  </thead>\n",
       "  <tbody>\n",
       "    <tr>\n",
       "      <th>42</th>\n",
       "      <td>42 Coin</td>\n",
       "      <td>Scrypt</td>\n",
       "      <td>PoW/PoS</td>\n",
       "      <td>4.199995e+01</td>\n",
       "      <td>42</td>\n",
       "    </tr>\n",
       "    <tr>\n",
       "      <th>404</th>\n",
       "      <td>404Coin</td>\n",
       "      <td>Scrypt</td>\n",
       "      <td>PoW/PoS</td>\n",
       "      <td>1.055185e+09</td>\n",
       "      <td>532000000</td>\n",
       "    </tr>\n",
       "    <tr>\n",
       "      <th>1337</th>\n",
       "      <td>EliteCoin</td>\n",
       "      <td>X13</td>\n",
       "      <td>PoW/PoS</td>\n",
       "      <td>2.927942e+10</td>\n",
       "      <td>314159265359</td>\n",
       "    </tr>\n",
       "    <tr>\n",
       "      <th>BTC</th>\n",
       "      <td>Bitcoin</td>\n",
       "      <td>SHA-256</td>\n",
       "      <td>PoW</td>\n",
       "      <td>1.792718e+07</td>\n",
       "      <td>21000000</td>\n",
       "    </tr>\n",
       "    <tr>\n",
       "      <th>ETH</th>\n",
       "      <td>Ethereum</td>\n",
       "      <td>Ethash</td>\n",
       "      <td>PoW</td>\n",
       "      <td>1.076842e+08</td>\n",
       "      <td>0</td>\n",
       "    </tr>\n",
       "    <tr>\n",
       "      <th>...</th>\n",
       "      <td>...</td>\n",
       "      <td>...</td>\n",
       "      <td>...</td>\n",
       "      <td>...</td>\n",
       "      <td>...</td>\n",
       "    </tr>\n",
       "    <tr>\n",
       "      <th>ZEPH</th>\n",
       "      <td>ZEPHYR</td>\n",
       "      <td>SHA-256</td>\n",
       "      <td>DPoS</td>\n",
       "      <td>2.000000e+09</td>\n",
       "      <td>2000000000</td>\n",
       "    </tr>\n",
       "    <tr>\n",
       "      <th>GAP</th>\n",
       "      <td>Gapcoin</td>\n",
       "      <td>Scrypt</td>\n",
       "      <td>PoW/PoS</td>\n",
       "      <td>1.493105e+07</td>\n",
       "      <td>250000000</td>\n",
       "    </tr>\n",
       "    <tr>\n",
       "      <th>BDX</th>\n",
       "      <td>Beldex</td>\n",
       "      <td>CryptoNight</td>\n",
       "      <td>PoW</td>\n",
       "      <td>9.802226e+08</td>\n",
       "      <td>1400222610</td>\n",
       "    </tr>\n",
       "    <tr>\n",
       "      <th>ZEN</th>\n",
       "      <td>Horizen</td>\n",
       "      <td>Equihash</td>\n",
       "      <td>PoW</td>\n",
       "      <td>7.296538e+06</td>\n",
       "      <td>21000000</td>\n",
       "    </tr>\n",
       "    <tr>\n",
       "      <th>XBC</th>\n",
       "      <td>BitcoinPlus</td>\n",
       "      <td>Scrypt</td>\n",
       "      <td>PoS</td>\n",
       "      <td>1.283270e+05</td>\n",
       "      <td>1000000</td>\n",
       "    </tr>\n",
       "  </tbody>\n",
       "</table>\n",
       "<p>532 rows × 5 columns</p>\n",
       "</div>"
      ],
      "text/plain": [
       "         CoinName    Algorithm ProofType  TotalCoinsMined TotalCoinSupply\n",
       "42        42 Coin       Scrypt   PoW/PoS     4.199995e+01              42\n",
       "404       404Coin       Scrypt   PoW/PoS     1.055185e+09       532000000\n",
       "1337    EliteCoin          X13   PoW/PoS     2.927942e+10    314159265359\n",
       "BTC       Bitcoin      SHA-256       PoW     1.792718e+07        21000000\n",
       "ETH      Ethereum       Ethash       PoW     1.076842e+08               0\n",
       "...           ...          ...       ...              ...             ...\n",
       "ZEPH       ZEPHYR      SHA-256      DPoS     2.000000e+09      2000000000\n",
       "GAP       Gapcoin       Scrypt   PoW/PoS     1.493105e+07       250000000\n",
       "BDX        Beldex  CryptoNight       PoW     9.802226e+08      1400222610\n",
       "ZEN       Horizen     Equihash       PoW     7.296538e+06        21000000\n",
       "XBC   BitcoinPlus       Scrypt       PoS     1.283270e+05         1000000\n",
       "\n",
       "[532 rows x 5 columns]"
      ]
     },
     "execution_count": 50,
     "metadata": {},
     "output_type": "execute_result"
    }
   ],
   "source": [
    "# Keep the rows where coins are mined.\n",
    "crypto_df = crypto_df[crypto_df.TotalCoinsMined > 0]\n",
    "crypto_df"
   ]
  },
  {
   "cell_type": "code",
   "execution_count": 51,
   "metadata": {},
   "outputs": [
    {
     "data": {
      "text/html": [
       "<div>\n",
       "<style scoped>\n",
       "    .dataframe tbody tr th:only-of-type {\n",
       "        vertical-align: middle;\n",
       "    }\n",
       "\n",
       "    .dataframe tbody tr th {\n",
       "        vertical-align: top;\n",
       "    }\n",
       "\n",
       "    .dataframe thead th {\n",
       "        text-align: right;\n",
       "    }\n",
       "</style>\n",
       "<table border=\"1\" class=\"dataframe\">\n",
       "  <thead>\n",
       "    <tr style=\"text-align: right;\">\n",
       "      <th></th>\n",
       "      <th>CoinName</th>\n",
       "    </tr>\n",
       "  </thead>\n",
       "  <tbody>\n",
       "    <tr>\n",
       "      <th>42</th>\n",
       "      <td>42 Coin</td>\n",
       "    </tr>\n",
       "    <tr>\n",
       "      <th>404</th>\n",
       "      <td>404Coin</td>\n",
       "    </tr>\n",
       "    <tr>\n",
       "      <th>1337</th>\n",
       "      <td>EliteCoin</td>\n",
       "    </tr>\n",
       "    <tr>\n",
       "      <th>BTC</th>\n",
       "      <td>Bitcoin</td>\n",
       "    </tr>\n",
       "    <tr>\n",
       "      <th>ETH</th>\n",
       "      <td>Ethereum</td>\n",
       "    </tr>\n",
       "    <tr>\n",
       "      <th>...</th>\n",
       "      <td>...</td>\n",
       "    </tr>\n",
       "    <tr>\n",
       "      <th>ZEPH</th>\n",
       "      <td>ZEPHYR</td>\n",
       "    </tr>\n",
       "    <tr>\n",
       "      <th>GAP</th>\n",
       "      <td>Gapcoin</td>\n",
       "    </tr>\n",
       "    <tr>\n",
       "      <th>BDX</th>\n",
       "      <td>Beldex</td>\n",
       "    </tr>\n",
       "    <tr>\n",
       "      <th>ZEN</th>\n",
       "      <td>Horizen</td>\n",
       "    </tr>\n",
       "    <tr>\n",
       "      <th>XBC</th>\n",
       "      <td>BitcoinPlus</td>\n",
       "    </tr>\n",
       "  </tbody>\n",
       "</table>\n",
       "<p>532 rows × 1 columns</p>\n",
       "</div>"
      ],
      "text/plain": [
       "         CoinName\n",
       "42        42 Coin\n",
       "404       404Coin\n",
       "1337    EliteCoin\n",
       "BTC       Bitcoin\n",
       "ETH      Ethereum\n",
       "...           ...\n",
       "ZEPH       ZEPHYR\n",
       "GAP       Gapcoin\n",
       "BDX        Beldex\n",
       "ZEN       Horizen\n",
       "XBC   BitcoinPlus\n",
       "\n",
       "[532 rows x 1 columns]"
      ]
     },
     "execution_count": 51,
     "metadata": {},
     "output_type": "execute_result"
    }
   ],
   "source": [
    "# Create a new DataFrame that holds only the cryptocurrencies names.\n",
    "coins_name_df = crypto_df[['CoinName']].set_index([crypto_df.index])\n",
    "coins_name_df"
   ]
  },
  {
   "cell_type": "code",
   "execution_count": 52,
   "metadata": {},
   "outputs": [
    {
     "data": {
      "text/html": [
       "<div>\n",
       "<style scoped>\n",
       "    .dataframe tbody tr th:only-of-type {\n",
       "        vertical-align: middle;\n",
       "    }\n",
       "\n",
       "    .dataframe tbody tr th {\n",
       "        vertical-align: top;\n",
       "    }\n",
       "\n",
       "    .dataframe thead th {\n",
       "        text-align: right;\n",
       "    }\n",
       "</style>\n",
       "<table border=\"1\" class=\"dataframe\">\n",
       "  <thead>\n",
       "    <tr style=\"text-align: right;\">\n",
       "      <th></th>\n",
       "      <th>Algorithm</th>\n",
       "      <th>ProofType</th>\n",
       "      <th>TotalCoinsMined</th>\n",
       "      <th>TotalCoinSupply</th>\n",
       "    </tr>\n",
       "  </thead>\n",
       "  <tbody>\n",
       "    <tr>\n",
       "      <th>42</th>\n",
       "      <td>Scrypt</td>\n",
       "      <td>PoW/PoS</td>\n",
       "      <td>4.199995e+01</td>\n",
       "      <td>42</td>\n",
       "    </tr>\n",
       "    <tr>\n",
       "      <th>404</th>\n",
       "      <td>Scrypt</td>\n",
       "      <td>PoW/PoS</td>\n",
       "      <td>1.055185e+09</td>\n",
       "      <td>532000000</td>\n",
       "    </tr>\n",
       "    <tr>\n",
       "      <th>1337</th>\n",
       "      <td>X13</td>\n",
       "      <td>PoW/PoS</td>\n",
       "      <td>2.927942e+10</td>\n",
       "      <td>314159265359</td>\n",
       "    </tr>\n",
       "    <tr>\n",
       "      <th>BTC</th>\n",
       "      <td>SHA-256</td>\n",
       "      <td>PoW</td>\n",
       "      <td>1.792718e+07</td>\n",
       "      <td>21000000</td>\n",
       "    </tr>\n",
       "    <tr>\n",
       "      <th>ETH</th>\n",
       "      <td>Ethash</td>\n",
       "      <td>PoW</td>\n",
       "      <td>1.076842e+08</td>\n",
       "      <td>0</td>\n",
       "    </tr>\n",
       "    <tr>\n",
       "      <th>...</th>\n",
       "      <td>...</td>\n",
       "      <td>...</td>\n",
       "      <td>...</td>\n",
       "      <td>...</td>\n",
       "    </tr>\n",
       "    <tr>\n",
       "      <th>ZEPH</th>\n",
       "      <td>SHA-256</td>\n",
       "      <td>DPoS</td>\n",
       "      <td>2.000000e+09</td>\n",
       "      <td>2000000000</td>\n",
       "    </tr>\n",
       "    <tr>\n",
       "      <th>GAP</th>\n",
       "      <td>Scrypt</td>\n",
       "      <td>PoW/PoS</td>\n",
       "      <td>1.493105e+07</td>\n",
       "      <td>250000000</td>\n",
       "    </tr>\n",
       "    <tr>\n",
       "      <th>BDX</th>\n",
       "      <td>CryptoNight</td>\n",
       "      <td>PoW</td>\n",
       "      <td>9.802226e+08</td>\n",
       "      <td>1400222610</td>\n",
       "    </tr>\n",
       "    <tr>\n",
       "      <th>ZEN</th>\n",
       "      <td>Equihash</td>\n",
       "      <td>PoW</td>\n",
       "      <td>7.296538e+06</td>\n",
       "      <td>21000000</td>\n",
       "    </tr>\n",
       "    <tr>\n",
       "      <th>XBC</th>\n",
       "      <td>Scrypt</td>\n",
       "      <td>PoS</td>\n",
       "      <td>1.283270e+05</td>\n",
       "      <td>1000000</td>\n",
       "    </tr>\n",
       "  </tbody>\n",
       "</table>\n",
       "<p>532 rows × 4 columns</p>\n",
       "</div>"
      ],
      "text/plain": [
       "        Algorithm ProofType  TotalCoinsMined TotalCoinSupply\n",
       "42         Scrypt   PoW/PoS     4.199995e+01              42\n",
       "404        Scrypt   PoW/PoS     1.055185e+09       532000000\n",
       "1337          X13   PoW/PoS     2.927942e+10    314159265359\n",
       "BTC       SHA-256       PoW     1.792718e+07        21000000\n",
       "ETH        Ethash       PoW     1.076842e+08               0\n",
       "...           ...       ...              ...             ...\n",
       "ZEPH      SHA-256      DPoS     2.000000e+09      2000000000\n",
       "GAP        Scrypt   PoW/PoS     1.493105e+07       250000000\n",
       "BDX   CryptoNight       PoW     9.802226e+08      1400222610\n",
       "ZEN      Equihash       PoW     7.296538e+06        21000000\n",
       "XBC        Scrypt       PoS     1.283270e+05         1000000\n",
       "\n",
       "[532 rows x 4 columns]"
      ]
     },
     "execution_count": 52,
     "metadata": {},
     "output_type": "execute_result"
    }
   ],
   "source": [
    "# Drop the 'CoinName' column since it's not going to be used on the clustering algorithm.\n",
    "crypto_df.drop(columns=[\"CoinName\"], inplace=True)\n",
    "crypto_df"
   ]
  },
  {
   "cell_type": "code",
   "execution_count": 54,
   "metadata": {},
   "outputs": [
    {
     "data": {
      "text/html": [
       "<div>\n",
       "<style scoped>\n",
       "    .dataframe tbody tr th:only-of-type {\n",
       "        vertical-align: middle;\n",
       "    }\n",
       "\n",
       "    .dataframe tbody tr th {\n",
       "        vertical-align: top;\n",
       "    }\n",
       "\n",
       "    .dataframe thead th {\n",
       "        text-align: right;\n",
       "    }\n",
       "</style>\n",
       "<table border=\"1\" class=\"dataframe\">\n",
       "  <thead>\n",
       "    <tr style=\"text-align: right;\">\n",
       "      <th></th>\n",
       "      <th>TotalCoinsMined</th>\n",
       "      <th>TotalCoinSupply</th>\n",
       "      <th>1GB AES Pattern Search</th>\n",
       "      <th>536</th>\n",
       "      <th>Argon2d</th>\n",
       "      <th>BLAKE256</th>\n",
       "      <th>Blake</th>\n",
       "      <th>Blake2S</th>\n",
       "      <th>Blake2b</th>\n",
       "      <th>C11</th>\n",
       "      <th>...</th>\n",
       "      <th>PoW/PoS</th>\n",
       "      <th>PoW/PoS</th>\n",
       "      <th>PoW/PoW</th>\n",
       "      <th>PoW/nPoS</th>\n",
       "      <th>Pos</th>\n",
       "      <th>Proof of Authority</th>\n",
       "      <th>Proof of Trust</th>\n",
       "      <th>TPoS</th>\n",
       "      <th>Zero-Knowledge Proof</th>\n",
       "      <th>dPoW/PoW</th>\n",
       "    </tr>\n",
       "  </thead>\n",
       "  <tbody>\n",
       "    <tr>\n",
       "      <th>42</th>\n",
       "      <td>4.199995e+01</td>\n",
       "      <td>42</td>\n",
       "      <td>0</td>\n",
       "      <td>0</td>\n",
       "      <td>0</td>\n",
       "      <td>0</td>\n",
       "      <td>0</td>\n",
       "      <td>0</td>\n",
       "      <td>0</td>\n",
       "      <td>0</td>\n",
       "      <td>...</td>\n",
       "      <td>1</td>\n",
       "      <td>0</td>\n",
       "      <td>0</td>\n",
       "      <td>0</td>\n",
       "      <td>0</td>\n",
       "      <td>0</td>\n",
       "      <td>0</td>\n",
       "      <td>0</td>\n",
       "      <td>0</td>\n",
       "      <td>0</td>\n",
       "    </tr>\n",
       "    <tr>\n",
       "      <th>404</th>\n",
       "      <td>1.055185e+09</td>\n",
       "      <td>532000000</td>\n",
       "      <td>0</td>\n",
       "      <td>0</td>\n",
       "      <td>0</td>\n",
       "      <td>0</td>\n",
       "      <td>0</td>\n",
       "      <td>0</td>\n",
       "      <td>0</td>\n",
       "      <td>0</td>\n",
       "      <td>...</td>\n",
       "      <td>1</td>\n",
       "      <td>0</td>\n",
       "      <td>0</td>\n",
       "      <td>0</td>\n",
       "      <td>0</td>\n",
       "      <td>0</td>\n",
       "      <td>0</td>\n",
       "      <td>0</td>\n",
       "      <td>0</td>\n",
       "      <td>0</td>\n",
       "    </tr>\n",
       "    <tr>\n",
       "      <th>1337</th>\n",
       "      <td>2.927942e+10</td>\n",
       "      <td>314159265359</td>\n",
       "      <td>0</td>\n",
       "      <td>0</td>\n",
       "      <td>0</td>\n",
       "      <td>0</td>\n",
       "      <td>0</td>\n",
       "      <td>0</td>\n",
       "      <td>0</td>\n",
       "      <td>0</td>\n",
       "      <td>...</td>\n",
       "      <td>1</td>\n",
       "      <td>0</td>\n",
       "      <td>0</td>\n",
       "      <td>0</td>\n",
       "      <td>0</td>\n",
       "      <td>0</td>\n",
       "      <td>0</td>\n",
       "      <td>0</td>\n",
       "      <td>0</td>\n",
       "      <td>0</td>\n",
       "    </tr>\n",
       "    <tr>\n",
       "      <th>BTC</th>\n",
       "      <td>1.792718e+07</td>\n",
       "      <td>21000000</td>\n",
       "      <td>0</td>\n",
       "      <td>0</td>\n",
       "      <td>0</td>\n",
       "      <td>0</td>\n",
       "      <td>0</td>\n",
       "      <td>0</td>\n",
       "      <td>0</td>\n",
       "      <td>0</td>\n",
       "      <td>...</td>\n",
       "      <td>0</td>\n",
       "      <td>0</td>\n",
       "      <td>0</td>\n",
       "      <td>0</td>\n",
       "      <td>0</td>\n",
       "      <td>0</td>\n",
       "      <td>0</td>\n",
       "      <td>0</td>\n",
       "      <td>0</td>\n",
       "      <td>0</td>\n",
       "    </tr>\n",
       "    <tr>\n",
       "      <th>ETH</th>\n",
       "      <td>1.076842e+08</td>\n",
       "      <td>0</td>\n",
       "      <td>0</td>\n",
       "      <td>0</td>\n",
       "      <td>0</td>\n",
       "      <td>0</td>\n",
       "      <td>0</td>\n",
       "      <td>0</td>\n",
       "      <td>0</td>\n",
       "      <td>0</td>\n",
       "      <td>...</td>\n",
       "      <td>0</td>\n",
       "      <td>0</td>\n",
       "      <td>0</td>\n",
       "      <td>0</td>\n",
       "      <td>0</td>\n",
       "      <td>0</td>\n",
       "      <td>0</td>\n",
       "      <td>0</td>\n",
       "      <td>0</td>\n",
       "      <td>0</td>\n",
       "    </tr>\n",
       "    <tr>\n",
       "      <th>...</th>\n",
       "      <td>...</td>\n",
       "      <td>...</td>\n",
       "      <td>...</td>\n",
       "      <td>...</td>\n",
       "      <td>...</td>\n",
       "      <td>...</td>\n",
       "      <td>...</td>\n",
       "      <td>...</td>\n",
       "      <td>...</td>\n",
       "      <td>...</td>\n",
       "      <td>...</td>\n",
       "      <td>...</td>\n",
       "      <td>...</td>\n",
       "      <td>...</td>\n",
       "      <td>...</td>\n",
       "      <td>...</td>\n",
       "      <td>...</td>\n",
       "      <td>...</td>\n",
       "      <td>...</td>\n",
       "      <td>...</td>\n",
       "      <td>...</td>\n",
       "    </tr>\n",
       "    <tr>\n",
       "      <th>ZEPH</th>\n",
       "      <td>2.000000e+09</td>\n",
       "      <td>2000000000</td>\n",
       "      <td>0</td>\n",
       "      <td>0</td>\n",
       "      <td>0</td>\n",
       "      <td>0</td>\n",
       "      <td>0</td>\n",
       "      <td>0</td>\n",
       "      <td>0</td>\n",
       "      <td>0</td>\n",
       "      <td>...</td>\n",
       "      <td>0</td>\n",
       "      <td>0</td>\n",
       "      <td>0</td>\n",
       "      <td>0</td>\n",
       "      <td>0</td>\n",
       "      <td>0</td>\n",
       "      <td>0</td>\n",
       "      <td>0</td>\n",
       "      <td>0</td>\n",
       "      <td>0</td>\n",
       "    </tr>\n",
       "    <tr>\n",
       "      <th>GAP</th>\n",
       "      <td>1.493105e+07</td>\n",
       "      <td>250000000</td>\n",
       "      <td>0</td>\n",
       "      <td>0</td>\n",
       "      <td>0</td>\n",
       "      <td>0</td>\n",
       "      <td>0</td>\n",
       "      <td>0</td>\n",
       "      <td>0</td>\n",
       "      <td>0</td>\n",
       "      <td>...</td>\n",
       "      <td>1</td>\n",
       "      <td>0</td>\n",
       "      <td>0</td>\n",
       "      <td>0</td>\n",
       "      <td>0</td>\n",
       "      <td>0</td>\n",
       "      <td>0</td>\n",
       "      <td>0</td>\n",
       "      <td>0</td>\n",
       "      <td>0</td>\n",
       "    </tr>\n",
       "    <tr>\n",
       "      <th>BDX</th>\n",
       "      <td>9.802226e+08</td>\n",
       "      <td>1400222610</td>\n",
       "      <td>0</td>\n",
       "      <td>0</td>\n",
       "      <td>0</td>\n",
       "      <td>0</td>\n",
       "      <td>0</td>\n",
       "      <td>0</td>\n",
       "      <td>0</td>\n",
       "      <td>0</td>\n",
       "      <td>...</td>\n",
       "      <td>0</td>\n",
       "      <td>0</td>\n",
       "      <td>0</td>\n",
       "      <td>0</td>\n",
       "      <td>0</td>\n",
       "      <td>0</td>\n",
       "      <td>0</td>\n",
       "      <td>0</td>\n",
       "      <td>0</td>\n",
       "      <td>0</td>\n",
       "    </tr>\n",
       "    <tr>\n",
       "      <th>ZEN</th>\n",
       "      <td>7.296538e+06</td>\n",
       "      <td>21000000</td>\n",
       "      <td>0</td>\n",
       "      <td>0</td>\n",
       "      <td>0</td>\n",
       "      <td>0</td>\n",
       "      <td>0</td>\n",
       "      <td>0</td>\n",
       "      <td>0</td>\n",
       "      <td>0</td>\n",
       "      <td>...</td>\n",
       "      <td>0</td>\n",
       "      <td>0</td>\n",
       "      <td>0</td>\n",
       "      <td>0</td>\n",
       "      <td>0</td>\n",
       "      <td>0</td>\n",
       "      <td>0</td>\n",
       "      <td>0</td>\n",
       "      <td>0</td>\n",
       "      <td>0</td>\n",
       "    </tr>\n",
       "    <tr>\n",
       "      <th>XBC</th>\n",
       "      <td>1.283270e+05</td>\n",
       "      <td>1000000</td>\n",
       "      <td>0</td>\n",
       "      <td>0</td>\n",
       "      <td>0</td>\n",
       "      <td>0</td>\n",
       "      <td>0</td>\n",
       "      <td>0</td>\n",
       "      <td>0</td>\n",
       "      <td>0</td>\n",
       "      <td>...</td>\n",
       "      <td>0</td>\n",
       "      <td>0</td>\n",
       "      <td>0</td>\n",
       "      <td>0</td>\n",
       "      <td>0</td>\n",
       "      <td>0</td>\n",
       "      <td>0</td>\n",
       "      <td>0</td>\n",
       "      <td>0</td>\n",
       "      <td>0</td>\n",
       "    </tr>\n",
       "  </tbody>\n",
       "</table>\n",
       "<p>532 rows × 98 columns</p>\n",
       "</div>"
      ],
      "text/plain": [
       "      TotalCoinsMined TotalCoinSupply  1GB AES Pattern Search  536  Argon2d  \\\n",
       "42       4.199995e+01              42                       0    0        0   \n",
       "404      1.055185e+09       532000000                       0    0        0   \n",
       "1337     2.927942e+10    314159265359                       0    0        0   \n",
       "BTC      1.792718e+07        21000000                       0    0        0   \n",
       "ETH      1.076842e+08               0                       0    0        0   \n",
       "...               ...             ...                     ...  ...      ...   \n",
       "ZEPH     2.000000e+09      2000000000                       0    0        0   \n",
       "GAP      1.493105e+07       250000000                       0    0        0   \n",
       "BDX      9.802226e+08      1400222610                       0    0        0   \n",
       "ZEN      7.296538e+06        21000000                       0    0        0   \n",
       "XBC      1.283270e+05         1000000                       0    0        0   \n",
       "\n",
       "      BLAKE256  Blake  Blake2S  Blake2b  C11  ...  PoW/PoS  PoW/PoS   PoW/PoW  \\\n",
       "42           0      0        0        0    0  ...        1         0        0   \n",
       "404          0      0        0        0    0  ...        1         0        0   \n",
       "1337         0      0        0        0    0  ...        1         0        0   \n",
       "BTC          0      0        0        0    0  ...        0         0        0   \n",
       "ETH          0      0        0        0    0  ...        0         0        0   \n",
       "...        ...    ...      ...      ...  ...  ...      ...       ...      ...   \n",
       "ZEPH         0      0        0        0    0  ...        0         0        0   \n",
       "GAP          0      0        0        0    0  ...        1         0        0   \n",
       "BDX          0      0        0        0    0  ...        0         0        0   \n",
       "ZEN          0      0        0        0    0  ...        0         0        0   \n",
       "XBC          0      0        0        0    0  ...        0         0        0   \n",
       "\n",
       "      PoW/nPoS  Pos  Proof of Authority  Proof of Trust  TPoS  \\\n",
       "42           0    0                   0               0     0   \n",
       "404          0    0                   0               0     0   \n",
       "1337         0    0                   0               0     0   \n",
       "BTC          0    0                   0               0     0   \n",
       "ETH          0    0                   0               0     0   \n",
       "...        ...  ...                 ...             ...   ...   \n",
       "ZEPH         0    0                   0               0     0   \n",
       "GAP          0    0                   0               0     0   \n",
       "BDX          0    0                   0               0     0   \n",
       "ZEN          0    0                   0               0     0   \n",
       "XBC          0    0                   0               0     0   \n",
       "\n",
       "      Zero-Knowledge Proof  dPoW/PoW  \n",
       "42                       0         0  \n",
       "404                      0         0  \n",
       "1337                     0         0  \n",
       "BTC                      0         0  \n",
       "ETH                      0         0  \n",
       "...                    ...       ...  \n",
       "ZEPH                     0         0  \n",
       "GAP                      0         0  \n",
       "BDX                      0         0  \n",
       "ZEN                      0         0  \n",
       "XBC                      0         0  \n",
       "\n",
       "[532 rows x 98 columns]"
      ]
     },
     "execution_count": 54,
     "metadata": {},
     "output_type": "execute_result"
    }
   ],
   "source": [
    "# Use get_dummies() to create variables for text features.\n",
    "crypto = pd.get_dummies(crypto_df['Algorithm'])\n",
    "dummy = pd.get_dummies(crypto_df['ProofType'])\n",
    "combined = pd.concat([crypto,dummy], axis= 1)\n",
    "df = crypto_df.merge(combined,left_index = True,right_index = True)\n",
    "df = df.drop(['Algorithm','ProofType'], axis =1)\n",
    "df"
   ]
  },
  {
   "cell_type": "code",
   "execution_count": 55,
   "metadata": {},
   "outputs": [
    {
     "name": "stdout",
     "output_type": "stream",
     "text": [
      "[[-0.11710817 -0.1528703  -0.0433963  ... -0.0433963  -0.0433963\n",
      "  -0.0433963 ]\n",
      " [-0.09396955 -0.145009   -0.0433963  ... -0.0433963  -0.0433963\n",
      "  -0.0433963 ]\n",
      " [ 0.52494561  4.48942416 -0.0433963  ... -0.0433963  -0.0433963\n",
      "  -0.0433963 ]\n",
      " ...\n",
      " [-0.09561336 -0.13217937 -0.0433963  ... -0.0433963  -0.0433963\n",
      "  -0.0433963 ]\n",
      " [-0.11694817 -0.15255998 -0.0433963  ... -0.0433963  -0.0433963\n",
      "  -0.0433963 ]\n",
      " [-0.11710536 -0.15285552 -0.0433963  ... -0.0433963  -0.0433963\n",
      "  -0.0433963 ]]\n"
     ]
    }
   ],
   "source": [
    "# Standardize the data with StandardScaler()\n",
    "df_scaled = StandardScaler().fit_transform(df)\n",
    "print(df_scaled)"
   ]
  },
  {
   "cell_type": "markdown",
   "metadata": {},
   "source": [
    "### Deliverable 2: Reducing Data Dimensions Using PCA"
   ]
  },
  {
   "cell_type": "code",
   "execution_count": 56,
   "metadata": {},
   "outputs": [
    {
     "data": {
      "text/plain": [
       "array([[-0.33701255,  1.03001696, -0.51059724],\n",
       "       [-0.320358  ,  1.03017243, -0.51077964],\n",
       "       [ 2.31396781,  1.62875552, -0.56015115],\n",
       "       ...,\n",
       "       [ 0.32564298, -2.29232316,  0.44363844],\n",
       "       [-0.15249203, -2.01375519,  0.23803376],\n",
       "       [-0.29239486,  0.82476667, -0.27668694]])"
      ]
     },
     "execution_count": 56,
     "metadata": {},
     "output_type": "execute_result"
    }
   ],
   "source": [
    "# Using PCA to reduce dimension to three principal components.\n",
    "pca = PCA(n_components=3)\n",
    "df_pca = pca.fit_transform(df_scaled)\n",
    "df_pca"
   ]
  },
  {
   "cell_type": "code",
   "execution_count": 57,
   "metadata": {},
   "outputs": [
    {
     "data": {
      "text/html": [
       "<div>\n",
       "<style scoped>\n",
       "    .dataframe tbody tr th:only-of-type {\n",
       "        vertical-align: middle;\n",
       "    }\n",
       "\n",
       "    .dataframe tbody tr th {\n",
       "        vertical-align: top;\n",
       "    }\n",
       "\n",
       "    .dataframe thead th {\n",
       "        text-align: right;\n",
       "    }\n",
       "</style>\n",
       "<table border=\"1\" class=\"dataframe\">\n",
       "  <thead>\n",
       "    <tr style=\"text-align: right;\">\n",
       "      <th></th>\n",
       "      <th>PC1</th>\n",
       "      <th>PC2</th>\n",
       "      <th>PC3</th>\n",
       "    </tr>\n",
       "  </thead>\n",
       "  <tbody>\n",
       "    <tr>\n",
       "      <th>42</th>\n",
       "      <td>-0.337013</td>\n",
       "      <td>1.030017</td>\n",
       "      <td>-0.510597</td>\n",
       "    </tr>\n",
       "    <tr>\n",
       "      <th>404</th>\n",
       "      <td>-0.320358</td>\n",
       "      <td>1.030172</td>\n",
       "      <td>-0.510780</td>\n",
       "    </tr>\n",
       "    <tr>\n",
       "      <th>1337</th>\n",
       "      <td>2.313968</td>\n",
       "      <td>1.628756</td>\n",
       "      <td>-0.560151</td>\n",
       "    </tr>\n",
       "    <tr>\n",
       "      <th>BTC</th>\n",
       "      <td>-0.149838</td>\n",
       "      <td>-1.326579</td>\n",
       "      <td>0.192362</td>\n",
       "    </tr>\n",
       "    <tr>\n",
       "      <th>ETH</th>\n",
       "      <td>-0.151890</td>\n",
       "      <td>-2.059342</td>\n",
       "      <td>0.376454</td>\n",
       "    </tr>\n",
       "    <tr>\n",
       "      <th>...</th>\n",
       "      <td>...</td>\n",
       "      <td>...</td>\n",
       "      <td>...</td>\n",
       "    </tr>\n",
       "    <tr>\n",
       "      <th>ZEPH</th>\n",
       "      <td>2.478093</td>\n",
       "      <td>0.717510</td>\n",
       "      <td>0.230748</td>\n",
       "    </tr>\n",
       "    <tr>\n",
       "      <th>GAP</th>\n",
       "      <td>-0.335059</td>\n",
       "      <td>1.029908</td>\n",
       "      <td>-0.510610</td>\n",
       "    </tr>\n",
       "    <tr>\n",
       "      <th>BDX</th>\n",
       "      <td>0.325643</td>\n",
       "      <td>-2.292323</td>\n",
       "      <td>0.443638</td>\n",
       "    </tr>\n",
       "    <tr>\n",
       "      <th>ZEN</th>\n",
       "      <td>-0.152492</td>\n",
       "      <td>-2.013755</td>\n",
       "      <td>0.238034</td>\n",
       "    </tr>\n",
       "    <tr>\n",
       "      <th>XBC</th>\n",
       "      <td>-0.292395</td>\n",
       "      <td>0.824767</td>\n",
       "      <td>-0.276687</td>\n",
       "    </tr>\n",
       "  </tbody>\n",
       "</table>\n",
       "<p>532 rows × 3 columns</p>\n",
       "</div>"
      ],
      "text/plain": [
       "           PC1       PC2       PC3\n",
       "42   -0.337013  1.030017 -0.510597\n",
       "404  -0.320358  1.030172 -0.510780\n",
       "1337  2.313968  1.628756 -0.560151\n",
       "BTC  -0.149838 -1.326579  0.192362\n",
       "ETH  -0.151890 -2.059342  0.376454\n",
       "...        ...       ...       ...\n",
       "ZEPH  2.478093  0.717510  0.230748\n",
       "GAP  -0.335059  1.029908 -0.510610\n",
       "BDX   0.325643 -2.292323  0.443638\n",
       "ZEN  -0.152492 -2.013755  0.238034\n",
       "XBC  -0.292395  0.824767 -0.276687\n",
       "\n",
       "[532 rows x 3 columns]"
      ]
     },
     "execution_count": 57,
     "metadata": {},
     "output_type": "execute_result"
    }
   ],
   "source": [
    "# Create a DataFrame with the three principal components.\n",
    "pcs_df = pd.DataFrame(\n",
    "    data = df_pca, columns = ['PC1', 'PC2', 'PC3'], index = crypto_df.index)\n",
    "\n",
    "pcs_df"
   ]
  },
  {
   "cell_type": "markdown",
   "metadata": {},
   "source": [
    "### Deliverable 3: Clustering Crytocurrencies Using K-Means\n",
    "\n",
    "#### Finding the Best Value for `k` Using the Elbow Curve"
   ]
  },
  {
   "cell_type": "code",
   "execution_count": 58,
   "metadata": {},
   "outputs": [
    {
     "data": {},
     "metadata": {},
     "output_type": "display_data"
    },
    {
     "data": {
      "application/vnd.holoviews_exec.v0+json": "",
      "text/html": [
       "<div id='1169'>\n",
       "\n",
       "\n",
       "\n",
       "\n",
       "\n",
       "  <div class=\"bk-root\" id=\"2a911289-96d7-4abd-be00-10e29226e68c\" data-root-id=\"1169\"></div>\n",
       "</div>\n",
       "<script type=\"application/javascript\">(function(root) {\n",
       "  function embed_document(root) {\n",
       "    var docs_json = {\"84310af9-2ba3-4372-8c73-387fffa8dcee\":{\"roots\":{\"references\":[{\"attributes\":{\"axis_label\":\"k\",\"bounds\":\"auto\",\"formatter\":{\"id\":\"1213\"},\"major_label_orientation\":\"horizontal\",\"ticker\":{\"id\":\"1212\"}},\"id\":\"1183\",\"type\":\"LinearAxis\"},{\"attributes\":{\"text\":\"Elbow Curve\",\"text_color\":{\"value\":\"black\"},\"text_font_size\":{\"value\":\"12pt\"}},\"id\":\"1175\",\"type\":\"Title\"},{\"attributes\":{},\"id\":\"1181\",\"type\":\"LinearScale\"},{\"attributes\":{\"end\":10.0,\"reset_end\":10.0,\"reset_start\":1.0,\"start\":1.0,\"tags\":[[[\"k\",\"k\",null]]]},\"id\":\"1171\",\"type\":\"Range1d\"},{\"attributes\":{\"line_alpha\":0.2,\"line_color\":\"#1f77b3\",\"line_width\":2,\"x\":{\"field\":\"k\"},\"y\":{\"field\":\"inertia\"}},\"id\":\"1209\",\"type\":\"Line\"},{\"attributes\":{\"axis_label\":\"inertia\",\"bounds\":\"auto\",\"formatter\":{\"id\":\"1217\"},\"major_label_orientation\":\"horizontal\",\"ticker\":{\"id\":\"1188\"}},\"id\":\"1187\",\"type\":\"LinearAxis\"},{\"attributes\":{\"line_alpha\":0.1,\"line_color\":\"#1f77b3\",\"line_width\":2,\"x\":{\"field\":\"k\"},\"y\":{\"field\":\"inertia\"}},\"id\":\"1208\",\"type\":\"Line\"},{\"attributes\":{\"line_color\":\"#1f77b3\",\"line_width\":2,\"x\":{\"field\":\"k\"},\"y\":{\"field\":\"inertia\"}},\"id\":\"1207\",\"type\":\"Line\"},{\"attributes\":{\"children\":[{\"id\":\"1170\"},{\"id\":\"1174\"},{\"id\":\"1233\"}],\"margin\":[0,0,0,0],\"name\":\"Row01817\",\"tags\":[\"embedded\"]},\"id\":\"1169\",\"type\":\"Row\"},{\"attributes\":{\"axis\":{\"id\":\"1183\"},\"grid_line_color\":null,\"ticker\":null},\"id\":\"1186\",\"type\":\"Grid\"},{\"attributes\":{\"data\":{\"inertia\":{\"__ndarray__\":\"OD45auFurEDwTNBbklWjQFhj6xFdX5dAXksjqVUpf0Bxeh1NBl9zQJ12xP/y+G5A3YMvoaTIaECouRCTh/xjQAryc7oiU2BA/AUtbmqLWUA=\",\"dtype\":\"float64\",\"order\":\"little\",\"shape\":[10]},\"k\":[1,2,3,4,5,6,7,8,9,10]},\"selected\":{\"id\":\"1205\"},\"selection_policy\":{\"id\":\"1225\"}},\"id\":\"1204\",\"type\":\"ColumnDataSource\"},{\"attributes\":{\"end\":3993.166452802022,\"reset_end\":3993.166452802022,\"reset_start\":-251.54781826068836,\"start\":-251.54781826068836,\"tags\":[[[\"inertia\",\"inertia\",null]]]},\"id\":\"1172\",\"type\":\"Range1d\"},{\"attributes\":{\"callback\":null,\"renderers\":[{\"id\":\"1210\"}],\"tags\":[\"hv_created\"],\"tooltips\":[[\"k\",\"@{k}\"],[\"inertia\",\"@{inertia}\"]]},\"id\":\"1173\",\"type\":\"HoverTool\"},{\"attributes\":{\"margin\":[5,5,5,5],\"name\":\"HSpacer01821\",\"sizing_mode\":\"stretch_width\"},\"id\":\"1170\",\"type\":\"Spacer\"},{\"attributes\":{\"ticks\":[1,2,3,4,5,6,7,8,9,10]},\"id\":\"1212\",\"type\":\"FixedTicker\"},{\"attributes\":{},\"id\":\"1188\",\"type\":\"BasicTicker\"},{\"attributes\":{},\"id\":\"1217\",\"type\":\"BasicTickFormatter\"},{\"attributes\":{\"axis\":{\"id\":\"1187\"},\"dimension\":1,\"grid_line_color\":null,\"ticker\":null},\"id\":\"1190\",\"type\":\"Grid\"},{\"attributes\":{\"bottom_units\":\"screen\",\"fill_alpha\":0.5,\"fill_color\":\"lightgrey\",\"left_units\":\"screen\",\"level\":\"overlay\",\"line_alpha\":1.0,\"line_color\":\"black\",\"line_dash\":[4,4],\"line_width\":2,\"right_units\":\"screen\",\"top_units\":\"screen\"},\"id\":\"1196\",\"type\":\"BoxAnnotation\"},{\"attributes\":{\"data_source\":{\"id\":\"1204\"},\"glyph\":{\"id\":\"1207\"},\"hover_glyph\":null,\"muted_glyph\":{\"id\":\"1209\"},\"nonselection_glyph\":{\"id\":\"1208\"},\"selection_glyph\":null,\"view\":{\"id\":\"1211\"}},\"id\":\"1210\",\"type\":\"GlyphRenderer\"},{\"attributes\":{},\"id\":\"1193\",\"type\":\"WheelZoomTool\"},{\"attributes\":{},\"id\":\"1205\",\"type\":\"Selection\"},{\"attributes\":{},\"id\":\"1179\",\"type\":\"LinearScale\"},{\"attributes\":{\"source\":{\"id\":\"1204\"}},\"id\":\"1211\",\"type\":\"CDSView\"},{\"attributes\":{\"below\":[{\"id\":\"1183\"}],\"center\":[{\"id\":\"1186\"},{\"id\":\"1190\"}],\"left\":[{\"id\":\"1187\"}],\"margin\":[5,5,5,5],\"min_border_bottom\":10,\"min_border_left\":10,\"min_border_right\":10,\"min_border_top\":10,\"plot_height\":300,\"plot_width\":700,\"renderers\":[{\"id\":\"1210\"}],\"sizing_mode\":\"fixed\",\"title\":{\"id\":\"1175\"},\"toolbar\":{\"id\":\"1197\"},\"x_range\":{\"id\":\"1171\"},\"x_scale\":{\"id\":\"1179\"},\"y_range\":{\"id\":\"1172\"},\"y_scale\":{\"id\":\"1181\"}},\"id\":\"1174\",\"subtype\":\"Figure\",\"type\":\"Plot\"},{\"attributes\":{\"active_drag\":\"auto\",\"active_inspect\":\"auto\",\"active_multi\":null,\"active_scroll\":\"auto\",\"active_tap\":\"auto\",\"tools\":[{\"id\":\"1173\"},{\"id\":\"1191\"},{\"id\":\"1192\"},{\"id\":\"1193\"},{\"id\":\"1194\"},{\"id\":\"1195\"}]},\"id\":\"1197\",\"type\":\"Toolbar\"},{\"attributes\":{},\"id\":\"1191\",\"type\":\"SaveTool\"},{\"attributes\":{\"margin\":[5,5,5,5],\"name\":\"HSpacer01822\",\"sizing_mode\":\"stretch_width\"},\"id\":\"1233\",\"type\":\"Spacer\"},{\"attributes\":{},\"id\":\"1192\",\"type\":\"PanTool\"},{\"attributes\":{\"overlay\":{\"id\":\"1196\"}},\"id\":\"1194\",\"type\":\"BoxZoomTool\"},{\"attributes\":{},\"id\":\"1213\",\"type\":\"BasicTickFormatter\"},{\"attributes\":{},\"id\":\"1225\",\"type\":\"UnionRenderers\"},{\"attributes\":{},\"id\":\"1195\",\"type\":\"ResetTool\"}],\"root_ids\":[\"1169\"]},\"title\":\"Bokeh Application\",\"version\":\"2.2.3\"}};\n",
       "    var render_items = [{\"docid\":\"84310af9-2ba3-4372-8c73-387fffa8dcee\",\"root_ids\":[\"1169\"],\"roots\":{\"1169\":\"2a911289-96d7-4abd-be00-10e29226e68c\"}}];\n",
       "    root.Bokeh.embed.embed_items_notebook(docs_json, render_items);\n",
       "  }\n",
       "  if (root.Bokeh !== undefined && root.Bokeh.Panel !== undefined) {\n",
       "    embed_document(root);\n",
       "  } else {\n",
       "    var attempts = 0;\n",
       "    var timer = setInterval(function(root) {\n",
       "      if (root.Bokeh !== undefined && root.Bokeh.Panel !== undefined) {\n",
       "        clearInterval(timer);\n",
       "        embed_document(root);\n",
       "      } else if (document.readyState == \"complete\") {\n",
       "        attempts++;\n",
       "        if (attempts > 100) {\n",
       "          clearInterval(timer);\n",
       "          console.log(\"Bokeh: ERROR: Unable to run BokehJS code because BokehJS library is missing\");\n",
       "        }\n",
       "      }\n",
       "    }, 10, root)\n",
       "  }\n",
       "})(window);</script>"
      ],
      "text/plain": [
       ":Curve   [k]   (inertia)"
      ]
     },
     "execution_count": 58,
     "metadata": {
      "application/vnd.holoviews_exec.v0+json": {
       "id": "1169"
      }
     },
     "output_type": "execute_result"
    }
   ],
   "source": [
    "# Create an elbow curve to find the best value for K.\n",
    "inertia = []\n",
    "k = list(range(1, 11))\n",
    "# Calculate the inertia for the range of K values\n",
    "for i in k:\n",
    "   km = KMeans(n_clusters=i, random_state=0)\n",
    "   km.fit(pcs_df)\n",
    "   inertia.append(km.inertia_)\n",
    "\n",
    "elbow_data = {\"k\":k,\"inertia\":inertia}\n",
    "df_elbow = pd.DataFrame(elbow_data)\n",
    "df_elbow.hvplot.line(x=\"k\",y=\"inertia\",xticks=k,title=\"Elbow Curve\")"
   ]
  },
  {
   "cell_type": "markdown",
   "metadata": {},
   "source": [
    "Running K-Means with `k=4`"
   ]
  },
  {
   "cell_type": "code",
   "execution_count": 59,
   "metadata": {},
   "outputs": [],
   "source": [
    "# Initialize the K-Means model.\n",
    "model = KMeans(n_clusters=4, random_state=0)\n",
    "\n",
    "# Fit the model\n",
    "model.fit(pcs_df)\n",
    "\n",
    "# Predict clusters\n",
    "predictions = model.fit_predict(pcs_df)"
   ]
  },
  {
   "cell_type": "code",
   "execution_count": 62,
   "metadata": {},
   "outputs": [
    {
     "name": "stdout",
     "output_type": "stream",
     "text": [
      "(532, 9)\n"
     ]
    },
    {
     "data": {
      "text/html": [
       "<div>\n",
       "<style scoped>\n",
       "    .dataframe tbody tr th:only-of-type {\n",
       "        vertical-align: middle;\n",
       "    }\n",
       "\n",
       "    .dataframe tbody tr th {\n",
       "        vertical-align: top;\n",
       "    }\n",
       "\n",
       "    .dataframe thead th {\n",
       "        text-align: right;\n",
       "    }\n",
       "</style>\n",
       "<table border=\"1\" class=\"dataframe\">\n",
       "  <thead>\n",
       "    <tr style=\"text-align: right;\">\n",
       "      <th></th>\n",
       "      <th>Algorithm</th>\n",
       "      <th>ProofType</th>\n",
       "      <th>TotalCoinsMined</th>\n",
       "      <th>TotalCoinSupply</th>\n",
       "      <th>PC1</th>\n",
       "      <th>PC2</th>\n",
       "      <th>PC3</th>\n",
       "      <th>CoinName</th>\n",
       "      <th>Class</th>\n",
       "    </tr>\n",
       "  </thead>\n",
       "  <tbody>\n",
       "    <tr>\n",
       "      <th>42</th>\n",
       "      <td>Scrypt</td>\n",
       "      <td>PoW/PoS</td>\n",
       "      <td>4.199995e+01</td>\n",
       "      <td>42</td>\n",
       "      <td>-0.337013</td>\n",
       "      <td>1.030017</td>\n",
       "      <td>-0.510597</td>\n",
       "      <td>42 Coin</td>\n",
       "      <td>1</td>\n",
       "    </tr>\n",
       "    <tr>\n",
       "      <th>404</th>\n",
       "      <td>Scrypt</td>\n",
       "      <td>PoW/PoS</td>\n",
       "      <td>1.055185e+09</td>\n",
       "      <td>532000000</td>\n",
       "      <td>-0.320358</td>\n",
       "      <td>1.030172</td>\n",
       "      <td>-0.510780</td>\n",
       "      <td>404Coin</td>\n",
       "      <td>1</td>\n",
       "    </tr>\n",
       "    <tr>\n",
       "      <th>1337</th>\n",
       "      <td>X13</td>\n",
       "      <td>PoW/PoS</td>\n",
       "      <td>2.927942e+10</td>\n",
       "      <td>314159265359</td>\n",
       "      <td>2.313968</td>\n",
       "      <td>1.628756</td>\n",
       "      <td>-0.560151</td>\n",
       "      <td>EliteCoin</td>\n",
       "      <td>1</td>\n",
       "    </tr>\n",
       "    <tr>\n",
       "      <th>BTC</th>\n",
       "      <td>SHA-256</td>\n",
       "      <td>PoW</td>\n",
       "      <td>1.792718e+07</td>\n",
       "      <td>21000000</td>\n",
       "      <td>-0.149838</td>\n",
       "      <td>-1.326579</td>\n",
       "      <td>0.192362</td>\n",
       "      <td>Bitcoin</td>\n",
       "      <td>0</td>\n",
       "    </tr>\n",
       "    <tr>\n",
       "      <th>ETH</th>\n",
       "      <td>Ethash</td>\n",
       "      <td>PoW</td>\n",
       "      <td>1.076842e+08</td>\n",
       "      <td>0</td>\n",
       "      <td>-0.151890</td>\n",
       "      <td>-2.059342</td>\n",
       "      <td>0.376454</td>\n",
       "      <td>Ethereum</td>\n",
       "      <td>0</td>\n",
       "    </tr>\n",
       "    <tr>\n",
       "      <th>LTC</th>\n",
       "      <td>Scrypt</td>\n",
       "      <td>PoW</td>\n",
       "      <td>6.303924e+07</td>\n",
       "      <td>84000000</td>\n",
       "      <td>-0.171160</td>\n",
       "      <td>-1.093486</td>\n",
       "      <td>0.014193</td>\n",
       "      <td>Litecoin</td>\n",
       "      <td>0</td>\n",
       "    </tr>\n",
       "    <tr>\n",
       "      <th>DASH</th>\n",
       "      <td>X11</td>\n",
       "      <td>PoW/PoS</td>\n",
       "      <td>9.031294e+06</td>\n",
       "      <td>22000000</td>\n",
       "      <td>-0.386394</td>\n",
       "      <td>1.179310</td>\n",
       "      <td>-0.444919</td>\n",
       "      <td>Dash</td>\n",
       "      <td>1</td>\n",
       "    </tr>\n",
       "    <tr>\n",
       "      <th>XMR</th>\n",
       "      <td>CryptoNight-V7</td>\n",
       "      <td>PoW</td>\n",
       "      <td>1.720114e+07</td>\n",
       "      <td>0</td>\n",
       "      <td>-0.152069</td>\n",
       "      <td>-2.208186</td>\n",
       "      <td>0.438570</td>\n",
       "      <td>Monero</td>\n",
       "      <td>0</td>\n",
       "    </tr>\n",
       "    <tr>\n",
       "      <th>ETC</th>\n",
       "      <td>Ethash</td>\n",
       "      <td>PoW</td>\n",
       "      <td>1.133597e+08</td>\n",
       "      <td>210000000</td>\n",
       "      <td>-0.150334</td>\n",
       "      <td>-2.059436</td>\n",
       "      <td>0.376444</td>\n",
       "      <td>Ethereum Classic</td>\n",
       "      <td>0</td>\n",
       "    </tr>\n",
       "    <tr>\n",
       "      <th>ZEC</th>\n",
       "      <td>Equihash</td>\n",
       "      <td>PoW</td>\n",
       "      <td>7.383056e+06</td>\n",
       "      <td>21000000</td>\n",
       "      <td>-0.152491</td>\n",
       "      <td>-2.013755</td>\n",
       "      <td>0.238034</td>\n",
       "      <td>ZCash</td>\n",
       "      <td>0</td>\n",
       "    </tr>\n",
       "  </tbody>\n",
       "</table>\n",
       "</div>"
      ],
      "text/plain": [
       "           Algorithm ProofType  TotalCoinsMined TotalCoinSupply       PC1  \\\n",
       "42            Scrypt   PoW/PoS     4.199995e+01              42 -0.337013   \n",
       "404           Scrypt   PoW/PoS     1.055185e+09       532000000 -0.320358   \n",
       "1337             X13   PoW/PoS     2.927942e+10    314159265359  2.313968   \n",
       "BTC          SHA-256       PoW     1.792718e+07        21000000 -0.149838   \n",
       "ETH           Ethash       PoW     1.076842e+08               0 -0.151890   \n",
       "LTC           Scrypt       PoW     6.303924e+07        84000000 -0.171160   \n",
       "DASH             X11   PoW/PoS     9.031294e+06        22000000 -0.386394   \n",
       "XMR   CryptoNight-V7       PoW     1.720114e+07               0 -0.152069   \n",
       "ETC           Ethash       PoW     1.133597e+08       210000000 -0.150334   \n",
       "ZEC         Equihash       PoW     7.383056e+06        21000000 -0.152491   \n",
       "\n",
       "           PC2       PC3          CoinName  Class  \n",
       "42    1.030017 -0.510597           42 Coin      1  \n",
       "404   1.030172 -0.510780           404Coin      1  \n",
       "1337  1.628756 -0.560151         EliteCoin      1  \n",
       "BTC  -1.326579  0.192362           Bitcoin      0  \n",
       "ETH  -2.059342  0.376454          Ethereum      0  \n",
       "LTC  -1.093486  0.014193          Litecoin      0  \n",
       "DASH  1.179310 -0.444919              Dash      1  \n",
       "XMR  -2.208186  0.438570            Monero      0  \n",
       "ETC  -2.059436  0.376444  Ethereum Classic      0  \n",
       "ZEC  -2.013755  0.238034             ZCash      0  "
      ]
     },
     "execution_count": 62,
     "metadata": {},
     "output_type": "execute_result"
    }
   ],
   "source": [
    "# Create a new DataFrame including predicted clusters and cryptocurrencies features.\n",
    "# Concatentate the crypto_df and pcs_df DataFrames on the same columns.\n",
    "clustered_df = pd.concat([crypto_df,pcs_df,coins_name_df],axis = 1)\n",
    "\n",
    "#  Add a new column, \"Class\" to the clustered_df DataFrame that holds the predictions.\n",
    "clustered_df[\"Class\"]= model.labels_\n",
    "\n",
    "# Print the shape of the clustered_df\n",
    "print(clustered_df.shape)\n",
    "clustered_df.head(10)"
   ]
  },
  {
   "cell_type": "markdown",
   "metadata": {},
   "source": [
    "### Deliverable 4: Visualizing Cryptocurrencies Results\n",
    "\n",
    "#### 3D-Scatter with Clusters"
   ]
  },
  {
   "cell_type": "code",
   "execution_count": 63,
   "metadata": {},
   "outputs": [
    {
     "data": {
      "application/vnd.plotly.v1+json": {
       "config": {
        "plotlyServerURL": "https://plot.ly"
       },
       "data": [
        {
         "customdata": [
          [
           "Scrypt"
          ],
          [
           "Scrypt"
          ],
          [
           "X13"
          ],
          [
           "X11"
          ],
          [
           "SHA-512"
          ],
          [
           "SHA-256"
          ],
          [
           "SHA-256"
          ],
          [
           "X15"
          ],
          [
           "Scrypt"
          ],
          [
           "Scrypt"
          ],
          [
           "Scrypt"
          ],
          [
           "Scrypt"
          ],
          [
           "Scrypt"
          ],
          [
           "Scrypt"
          ],
          [
           "Groestl"
          ],
          [
           "PoS"
          ],
          [
           "Scrypt"
          ],
          [
           "Scrypt"
          ],
          [
           "X11"
          ],
          [
           "X11"
          ],
          [
           "SHA3"
          ],
          [
           "Scrypt"
          ],
          [
           "SHA-256"
          ],
          [
           "Scrypt"
          ],
          [
           "X13"
          ],
          [
           "X13"
          ],
          [
           "NeoScrypt"
          ],
          [
           "Scrypt"
          ],
          [
           "Scrypt"
          ],
          [
           "Scrypt"
          ],
          [
           "X11"
          ],
          [
           "X11"
          ],
          [
           "Multiple"
          ],
          [
           "PHI1612"
          ],
          [
           "X11"
          ],
          [
           "Scrypt"
          ],
          [
           "Scrypt"
          ],
          [
           "Scrypt"
          ],
          [
           "X11"
          ],
          [
           "Multiple"
          ],
          [
           "X13"
          ],
          [
           "Scrypt"
          ],
          [
           "Shabal256"
          ],
          [
           "Counterparty"
          ],
          [
           "SHA-256"
          ],
          [
           "Groestl"
          ],
          [
           "Scrypt"
          ],
          [
           "X13"
          ],
          [
           "Scrypt"
          ],
          [
           "Scrypt"
          ],
          [
           "X13"
          ],
          [
           "X11"
          ],
          [
           "Scrypt"
          ],
          [
           "X11"
          ],
          [
           "SHA3"
          ],
          [
           "QUAIT"
          ],
          [
           "X11"
          ],
          [
           "Scrypt"
          ],
          [
           "X13"
          ],
          [
           "SHA-256"
          ],
          [
           "X15"
          ],
          [
           "BLAKE256"
          ],
          [
           "SHA-256"
          ],
          [
           "X11"
          ],
          [
           "SHA-256"
          ],
          [
           "NIST5"
          ],
          [
           "Scrypt"
          ],
          [
           "Scrypt"
          ],
          [
           "X11"
          ],
          [
           "Scrypt"
          ],
          [
           "SHA-256"
          ],
          [
           "Scrypt"
          ],
          [
           "PoS"
          ],
          [
           "X11"
          ],
          [
           "SHA-256"
          ],
          [
           "SHA-256"
          ],
          [
           "NIST5"
          ],
          [
           "X11"
          ],
          [
           "POS 3.0"
          ],
          [
           "Scrypt"
          ],
          [
           "Scrypt"
          ],
          [
           "Scrypt"
          ],
          [
           "X13"
          ],
          [
           "X11"
          ],
          [
           "X11"
          ],
          [
           "Scrypt"
          ],
          [
           "SHA-256"
          ],
          [
           "X11"
          ],
          [
           "Scrypt"
          ],
          [
           "Scrypt"
          ],
          [
           "Scrypt"
          ],
          [
           "Scrypt"
          ],
          [
           "SHA-256D"
          ],
          [
           "PoS"
          ],
          [
           "Scrypt"
          ],
          [
           "X11"
          ],
          [
           "PoS"
          ],
          [
           "X13"
          ],
          [
           "X14"
          ],
          [
           "PoS"
          ],
          [
           "SHA-256D"
          ],
          [
           "DPoS"
          ],
          [
           "X11"
          ],
          [
           "X13"
          ],
          [
           "X11"
          ],
          [
           "PoS"
          ],
          [
           "Scrypt"
          ],
          [
           "Scrypt"
          ],
          [
           "PoS"
          ],
          [
           "X11"
          ],
          [
           "SHA-256"
          ],
          [
           "Scrypt"
          ],
          [
           "X11"
          ],
          [
           "Scrypt"
          ],
          [
           "Scrypt"
          ],
          [
           "X11"
          ],
          [
           "Scrypt"
          ],
          [
           "Scrypt"
          ],
          [
           "Scrypt"
          ],
          [
           "Scrypt"
          ],
          [
           "Quark"
          ],
          [
           "QuBit"
          ],
          [
           "Scrypt"
          ],
          [
           "SHA-256"
          ],
          [
           "X11"
          ],
          [
           "Scrypt"
          ],
          [
           "Scrypt"
          ],
          [
           "Scrypt"
          ],
          [
           "Scrypt"
          ],
          [
           "X13"
          ],
          [
           "Scrypt"
          ],
          [
           "Scrypt"
          ],
          [
           "X11"
          ],
          [
           "Blake2S"
          ],
          [
           "X11"
          ],
          [
           "PoS"
          ],
          [
           "X11"
          ],
          [
           "PoS"
          ],
          [
           "X11"
          ],
          [
           "Scrypt"
          ],
          [
           "Scrypt"
          ],
          [
           "Scrypt"
          ],
          [
           "SHA-256"
          ],
          [
           "X11"
          ],
          [
           "Scrypt"
          ],
          [
           "PoS"
          ],
          [
           "Scrypt"
          ],
          [
           "X15"
          ],
          [
           "SHA-256"
          ],
          [
           "POS 3.0"
          ],
          [
           "536"
          ],
          [
           "NIST5"
          ],
          [
           "NIST5"
          ],
          [
           "Skein"
          ],
          [
           "X13"
          ],
          [
           "Scrypt"
          ],
          [
           "X13"
          ],
          [
           "SkunkHash v2 Raptor"
          ],
          [
           "Skein"
          ],
          [
           "X11"
          ],
          [
           "Scrypt"
          ],
          [
           "VeChainThor Authority"
          ],
          [
           "PoS"
          ],
          [
           "Scrypt"
          ],
          [
           "Scrypt"
          ],
          [
           "SHA-512"
          ],
          [
           "Ouroboros"
          ],
          [
           "X11"
          ],
          [
           "NeoScrypt"
          ],
          [
           "Scrypt"
          ],
          [
           "Lyra2REv2"
          ],
          [
           "Scrypt"
          ],
          [
           "SHA-256"
          ],
          [
           "NIST5"
          ],
          [
           "PHI1612"
          ],
          [
           "Scrypt"
          ],
          [
           "Quark"
          ],
          [
           "POS 2.0"
          ],
          [
           "Scrypt"
          ],
          [
           "SHA-256"
          ],
          [
           "X11"
          ],
          [
           "DPoS"
          ],
          [
           "NIST5"
          ],
          [
           "X13"
          ],
          [
           "Scrypt"
          ],
          [
           "NIST5"
          ],
          [
           "Quark"
          ],
          [
           "Scrypt"
          ],
          [
           "Scrypt"
          ],
          [
           "X11"
          ],
          [
           "Quark"
          ],
          [
           "Scrypt"
          ],
          [
           "Scrypt"
          ],
          [
           "X11"
          ],
          [
           "POS 3.0"
          ],
          [
           "Scrypt"
          ],
          [
           "Scrypt"
          ],
          [
           "X13"
          ],
          [
           "C11"
          ],
          [
           "X11"
          ],
          [
           "XEVAN"
          ],
          [
           "Scrypt"
          ],
          [
           "VBFT"
          ],
          [
           "NIST5"
          ],
          [
           "Scrypt"
          ],
          [
           "Scrypt"
          ],
          [
           "Scrypt"
          ],
          [
           "Green Protocol"
          ],
          [
           "PoS"
          ],
          [
           "Scrypt"
          ],
          [
           "Semux BFT consensus"
          ],
          [
           "Quark"
          ],
          [
           "PoS"
          ],
          [
           "X16R"
          ],
          [
           "Scrypt"
          ],
          [
           "XEVAN"
          ],
          [
           "Scrypt"
          ],
          [
           "Scrypt"
          ],
          [
           "Scrypt"
          ],
          [
           "SHA-256D"
          ],
          [
           "Scrypt"
          ],
          [
           "X15"
          ],
          [
           "Scrypt"
          ],
          [
           "Quark"
          ],
          [
           "SHA-256"
          ],
          [
           "DPoS"
          ],
          [
           "X16R"
          ],
          [
           "Quark"
          ],
          [
           "Quark"
          ],
          [
           "Scrypt"
          ],
          [
           "Lyra2REv2"
          ],
          [
           "Quark"
          ],
          [
           "Scrypt"
          ],
          [
           "X11"
          ],
          [
           "X11"
          ],
          [
           "Scrypt"
          ],
          [
           "PoS"
          ],
          [
           "Keccak"
          ],
          [
           "X11"
          ],
          [
           "Scrypt"
          ],
          [
           "SHA-512"
          ],
          [
           "XEVAN"
          ],
          [
           "XEVAN"
          ],
          [
           "X11"
          ],
          [
           "Quark"
          ],
          [
           "Equihash"
          ],
          [
           "Scrypt"
          ],
          [
           "Quark"
          ],
          [
           "Quark"
          ],
          [
           "Scrypt"
          ],
          [
           "X11"
          ],
          [
           "Scrypt"
          ],
          [
           "XEVAN"
          ],
          [
           "SHA-256D"
          ],
          [
           "X11"
          ],
          [
           "X11"
          ],
          [
           "DPoS"
          ],
          [
           "Scrypt"
          ],
          [
           "X11"
          ],
          [
           "Scrypt"
          ],
          [
           "Scrypt"
          ],
          [
           "SHA-256"
          ],
          [
           "Scrypt"
          ],
          [
           "X11"
          ],
          [
           "Scrypt"
          ],
          [
           "SHA-256"
          ],
          [
           "X11"
          ],
          [
           "Scrypt"
          ],
          [
           "Scrypt"
          ],
          [
           "X11"
          ],
          [
           "Scrypt"
          ],
          [
           "PoS"
          ],
          [
           "X11"
          ],
          [
           "SHA-256"
          ],
          [
           "DPoS"
          ],
          [
           "Scrypt"
          ],
          [
           "Scrypt"
          ],
          [
           "NeoScrypt"
          ],
          [
           "X13"
          ],
          [
           "DPoS"
          ],
          [
           "DPoS"
          ],
          [
           "SHA-256"
          ],
          [
           "PoS"
          ],
          [
           "PoS"
          ],
          [
           "SHA-256"
          ],
          [
           "Scrypt"
          ],
          [
           "Scrypt"
          ]
         ],
         "hovertemplate": "<b>%{hovertext}</b><br><br>Class=%{marker.color}<br>PC1=%{x}<br>PC2=%{y}<br>PC3=%{z}<br>Algorithm=%{customdata[0]}<extra></extra>",
         "hovertext": [
          "42 Coin",
          "404Coin",
          "EliteCoin",
          "Dash",
          "Bitshares",
          "BitcoinDark",
          "PayCoin",
          "KoboCoin",
          "Aurora Coin",
          "BlueCoin",
          "EnergyCoin",
          "BitBar",
          "CryptoBullion",
          "CasinoCoin",
          "Diamond",
          "Exclusive Coin",
          "FlutterCoin",
          "HoboNickels",
          "HyperStake",
          "IOCoin",
          "MaxCoin",
          "MintCoin",
          "MazaCoin",
          "Nautilus Coin",
          "NavCoin",
          "OpalCoin",
          "Orbitcoin",
          "PotCoin",
          "PhoenixCoin",
          "Reddcoin",
          "SuperCoin",
          "SyncCoin",
          "TeslaCoin",
          "TittieCoin",
          "TorCoin",
          "UnitaryStatus Dollar",
          "UltraCoin",
          "VeriCoin",
          "X11 Coin",
          "Crypti",
          "StealthCoin",
          "ZCC Coin",
          "BurstCoin",
          "StorjCoin",
          "Neutron",
          "FairCoin",
          "RubyCoin",
          "Kore",
          "Dnotes",
          "8BIT Coin",
          "Sativa Coin",
          "Ucoin",
          "Vtorrent",
          "IslaCoin",
          "Nexus",
          "Droidz",
          "Squall Coin",
          "Diggits",
          "Paycon",
          "Emercoin",
          "EverGreenCoin",
          "Decred",
          "EDRCoin",
          "Hitcoin",
          "DubaiCoin",
          "PWR Coin",
          "BillaryCoin",
          "GPU Coin",
          "EuropeCoin",
          "ZeitCoin",
          "SwingCoin",
          "SafeExchangeCoin",
          "Nebuchadnezzar",
          "Ratecoin",
          "Revenu",
          "Clockcoin",
          "VIP Tokens",
          "BitSend",
          "Let it Ride",
          "PutinCoin",
          "iBankCoin",
          "Frankywillcoin",
          "MudraCoin",
          "Lutetium Coin",
          "GoldBlocks",
          "CarterCoin",
          "BitTokens",
          "MustangCoin",
          "ZoneCoin",
          "RootCoin",
          "BitCurrency",
          "Swiscoin",
          "BuzzCoin",
          "Opair",
          "PesoBit",
          "Halloween Coin",
          "CoffeeCoin",
          "RoyalCoin",
          "GanjaCoin V2",
          "TeamUP",
          "LanaCoin",
          "ARK",
          "InsaneCoin",
          "EmberCoin",
          "XenixCoin",
          "FreeCoin",
          "PLNCoin",
          "AquariusCoin",
          "Creatio",
          "Eternity",
          "Eurocoin",
          "BitcoinFast",
          "Stakenet",
          "BitConnect Coin",
          "MoneyCoin",
          "Enigma",
          "Russiacoin",
          "PandaCoin",
          "GameUnits",
          "GAKHcoin",
          "Allsafe",
          "LiteCreed",
          "Klingon Empire Darsek",
          "Internet of People",
          "KushCoin",
          "Printerium",
          "Impeach",
          "Zilbercoin",
          "FirstCoin",
          "FindCoin",
          "OpenChat",
          "RenosCoin",
          "VirtacoinPlus",
          "TajCoin",
          "Impact",
          "Atmos",
          "HappyCoin",
          "MacronCoin",
          "Condensate",
          "Independent Money System",
          "ArgusCoin",
          "LomoCoin",
          "ProCurrency",
          "GoldReserve",
          "GrowthCoin",
          "Phreak",
          "Degas Coin",
          "HTML5 Coin",
          "Ultimate Secure Cash",
          "QTUM",
          "Espers",
          "Denarius",
          "Virta Unique Coin",
          "Bitcoin Planet",
          "BritCoin",
          "Linda",
          "DeepOnion",
          "Signatum",
          "Cream",
          "Monoeci",
          "Draftcoin",
          "Vechain",
          "Stakecoin",
          "CoinonatX",
          "Ethereum Dark",
          "Obsidian",
          "Cardano",
          "Regalcoin",
          "TrezarCoin",
          "TerraNovaCoin",
          "Rupee",
          "WomenCoin",
          "Theresa May Coin",
          "NamoCoin",
          "LUXCoin",
          "Xios",
          "Bitcloud 2.0",
          "KekCoin",
          "BlackholeCoin",
          "Infinity Economics",
          "Magnet",
          "Lamden Tau",
          "Electra",
          "Bitcoin Diamond",
          "Cash & Back Coin",
          "Bulwark",
          "Kalkulus",
          "GermanCoin",
          "LiteCoin Ultra",
          "PhantomX",
          "Digiwage",
          "Trollcoin",
          "Litecoin Plus",
          "Monkey Project",
          "TokenPay",
          "My Big Coin",
          "Unified Society USDEX",
          "Tokyo Coin",
          "Stipend",
          "Pushi",
          "Ellerium",
          "Velox",
          "Ontology",
          "Bitspace",
          "Briacoin",
          "Ignition",
          "MedicCoin",
          "Bitcoin Green",
          "Deviant Coin",
          "Abjcoin",
          "Semux",
          "Carebit",
          "Zealium",
          "Proton",
          "iDealCash",
          "Bitcoin Incognito",
          "HollyWoodCoin",
          "Swisscoin",
          "Xt3ch",
          "TheVig",
          "EmaratCoin",
          "Dekado",
          "Lynx",
          "Poseidon Quark",
          "BitcoinWSpectrum",
          "Muse",
          "Trivechain",
          "Dystem",
          "Giant",
          "Peony Coin",
          "Absolute Coin",
          "Vitae",
          "TPCash",
          "ARENON",
          "EUNO",
          "MMOCoin",
          "Ketan",
          "XDNA",
          "PAXEX",
          "ThunderStake",
          "Kcash",
          "Bettex coin",
          "BitMoney",
          "Junson Ming Chan Coin",
          "HerbCoin",
          "PirateCash",
          "Oduwa",
          "Galilel",
          "Crypto Sports",
          "Credit",
          "Dash Platinum",
          "Nasdacoin",
          "Beetle Coin",
          "Titan Coin",
          "Award",
          "Insane Coin",
          "ALAX",
          "LiteDoge",
          "TruckCoin",
          "OrangeCoin",
          "BitstarCoin",
          "NeosCoin",
          "HyperCoin",
          "PinkCoin",
          "AudioCoin",
          "IncaKoin",
          "Piggy Coin",
          "Genstake",
          "XiaoMiCoin",
          "CapriCoin",
          " ClubCoin",
          "Radium",
          "Creditbit ",
          "OKCash",
          "Lisk",
          "HiCoin",
          "WhiteCoin",
          "FriendshipCoin",
          "Triangles Coin",
          "EOS",
          "Oxycoin",
          "TigerCash",
          "Particl",
          "Nxt",
          "ZEPHYR",
          "Gapcoin",
          "BitcoinPlus"
         ],
         "legendgroup": "1",
         "marker": {
          "color": [
           1,
           1,
           1,
           1,
           1,
           1,
           1,
           1,
           1,
           1,
           1,
           1,
           1,
           1,
           1,
           1,
           1,
           1,
           1,
           1,
           1,
           1,
           1,
           1,
           1,
           1,
           1,
           1,
           1,
           1,
           1,
           1,
           1,
           1,
           1,
           1,
           1,
           1,
           1,
           1,
           1,
           1,
           1,
           1,
           1,
           1,
           1,
           1,
           1,
           1,
           1,
           1,
           1,
           1,
           1,
           1,
           1,
           1,
           1,
           1,
           1,
           1,
           1,
           1,
           1,
           1,
           1,
           1,
           1,
           1,
           1,
           1,
           1,
           1,
           1,
           1,
           1,
           1,
           1,
           1,
           1,
           1,
           1,
           1,
           1,
           1,
           1,
           1,
           1,
           1,
           1,
           1,
           1,
           1,
           1,
           1,
           1,
           1,
           1,
           1,
           1,
           1,
           1,
           1,
           1,
           1,
           1,
           1,
           1,
           1,
           1,
           1,
           1,
           1,
           1,
           1,
           1,
           1,
           1,
           1,
           1,
           1,
           1,
           1,
           1,
           1,
           1,
           1,
           1,
           1,
           1,
           1,
           1,
           1,
           1,
           1,
           1,
           1,
           1,
           1,
           1,
           1,
           1,
           1,
           1,
           1,
           1,
           1,
           1,
           1,
           1,
           1,
           1,
           1,
           1,
           1,
           1,
           1,
           1,
           1,
           1,
           1,
           1,
           1,
           1,
           1,
           1,
           1,
           1,
           1,
           1,
           1,
           1,
           1,
           1,
           1,
           1,
           1,
           1,
           1,
           1,
           1,
           1,
           1,
           1,
           1,
           1,
           1,
           1,
           1,
           1,
           1,
           1,
           1,
           1,
           1,
           1,
           1,
           1,
           1,
           1,
           1,
           1,
           1,
           1,
           1,
           1,
           1,
           1,
           1,
           1,
           1,
           1,
           1,
           1,
           1,
           1,
           1,
           1,
           1,
           1,
           1,
           1,
           1,
           1,
           1,
           1,
           1,
           1,
           1,
           1,
           1,
           1,
           1,
           1,
           1,
           1,
           1,
           1,
           1,
           1,
           1,
           1,
           1,
           1,
           1,
           1,
           1,
           1,
           1,
           1,
           1,
           1,
           1,
           1,
           1,
           1,
           1,
           1,
           1,
           1,
           1,
           1,
           1,
           1,
           1,
           1,
           1,
           1,
           1,
           1,
           1,
           1,
           1,
           1,
           1,
           1,
           1,
           1,
           1,
           1,
           1,
           1,
           1,
           1,
           1,
           1
          ],
          "coloraxis": "coloraxis",
          "symbol": "circle"
         },
         "mode": "markers",
         "name": "1",
         "scene": "scene",
         "showlegend": true,
         "type": "scatter3d",
         "x": [
          -0.33701255045531037,
          -0.320358001432616,
          2.31396781078984,
          -0.38639381174481074,
          -0.3564469491461954,
          -0.3145211042968327,
          -0.26984860986375014,
          -0.23931579369240238,
          -0.3366722982348941,
          -0.329252767698645,
          -0.33550971087537956,
          -0.3370084893184107,
          -0.3369927776593452,
          0.6669022342853803,
          -0.36455514008812695,
          -0.3371173601102289,
          -0.29534320494853517,
          -0.3350723530796747,
          -0.32155285096481984,
          -0.386288549127971,
          -0.39341643503295387,
          -0.032362528122441406,
          -0.2778471010447808,
          -0.292091298774673,
          -0.2682687645955236,
          -0.26889072964323363,
          -0.34247544349833253,
          -0.3313179687595765,
          -0.33541513647243826,
          0.020988550642349498,
          -0.3414316627895497,
          -0.38665992684400935,
          -0.24141143055447495,
          -0.3124863835086225,
          -0.3865716232138668,
          -0.31225786843115977,
          -0.3356906863760687,
          -0.29572065386246243,
          -0.3865361032514072,
          -0.24187876527136715,
          -0.26867167895949523,
          -0.32812136226208105,
          0.02733939163887433,
          -0.34143310789254844,
          -0.31373322951005317,
          -0.3639769200933047,
          -0.2920715302375156,
          -0.2689661133292549,
          -0.28672876429664057,
          -0.33699462602170754,
          -0.26891831310879494,
          -0.3418763770753994,
          -0.33672915593454655,
          -0.3866414629794024,
          -0.3684601422554888,
          -0.4176038787653313,
          -0.36469583385613935,
          -0.2904739152084844,
          -0.26844022628355263,
          -0.307082909834074,
          -0.24175556774864018,
          -0.07021053917239271,
          -0.3144920296518488,
          -0.06429465699750252,
          -0.31455567369536264,
          -0.23152842591445644,
          -0.3366051335175205,
          -0.2903432793353171,
          -0.38381262379428305,
          0.8603980573125182,
          -0.3143558801877959,
          -0.06349665767764537,
          -0.336800802257544,
          -0.38448547098892066,
          -0.3131003212196054,
          -0.31077013839868245,
          -0.35283968112842296,
          -0.3853774589103011,
          -0.33542492186341394,
          -0.3129152138527411,
          -0.3366432214291604,
          -0.3350829598004698,
          -0.22298892730939615,
          -0.32937348778264014,
          -0.38611568584180894,
          -0.3358478608954708,
          -0.3145366564216015,
          -0.38663066545414554,
          -0.3368322576606919,
          -0.3369888613812631,
          -0.2903323718715551,
          -0.2524916246836706,
          0.04220696283339044,
          -0.33575841001841544,
          -0.336603169605954,
          -0.37280179752277215,
          -0.3350872371713322,
          -0.2244185320806701,
          -0.4146993577343878,
          -0.33483685465555363,
          -0.27216791101140725,
          3.7440093913121477,
          -0.3862234281891865,
          0.8628023766002083,
          -0.38658559483682503,
          -0.3362219248179632,
          -0.3365308385576094,
          -0.3366851117955705,
          -0.336800802257544,
          -0.3861607917953408,
          -0.31439938102207077,
          -0.3365315618025261,
          -0.35365520479236384,
          -0.33667888352499337,
          -0.33227003247941894,
          -0.3866145798796453,
          -0.3358901541747308,
          0.350855475159435,
          -0.33687804811045197,
          -0.3369485700841886,
          -0.348406251032915,
          -0.3504767703666951,
          -0.3331779190027437,
          -0.31451307937001155,
          -0.38652457639556764,
          -0.33672650586174846,
          -0.3368534134789521,
          -0.2919781993325126,
          -0.3117970953806749,
          -0.22418650396544199,
          -0.31771663661304705,
          -0.29171938580752277,
          -0.3857908115541288,
          -0.4089059555856748,
          -0.384529699406214,
          -0.3350482445683833,
          -0.3856887368338973,
          -0.3294509965698122,
          -0.38163220467999326,
          -0.336796720662346,
          -0.33679592740804853,
          -0.3299225100076586,
          0.26243936185730704,
          -0.3861668943277249,
          -0.2746314479061892,
          -0.3368351052877657,
          -0.3360079052769159,
          0.8919741922265705,
          -0.2685399524331724,
          -0.33420390017750673,
          0.5885263292523819,
          -0.3543745497199538,
          -0.35287761034911386,
          -0.3973565412090151,
          -0.26860357529288154,
          0.12764072236499835,
          -0.26867429514159574,
          -0.3474180573644617,
          -0.39686162094140626,
          -0.38643910383413654,
          -0.2920522886647559,
          4.350810456468616,
          -0.3367015024684655,
          -0.33643212017533475,
          -0.33693150842419767,
          -0.41448046096993957,
          0.659797230216009,
          -0.3863799937451725,
          -0.3374775295509635,
          -0.336887166721924,
          -0.3208414085187058,
          0.4318719090264557,
          -0.31286017443016306,
          -0.33915002109532094,
          -0.3926738308009947,
          -0.33683753667956395,
          -0.39145816160218283,
          -0.34329863722682,
          -0.3367079730137706,
          -0.09642041408481648,
          -0.38517338117017164,
          3.748862661489694,
          0.2048315650198653,
          -0.26534687871734647,
          -0.3341696763005383,
          -0.3095291718291938,
          -0.3482922107290033,
          0.07716335218970738,
          -0.33584714340790855,
          -0.3857540849666376,
          -0.3474574975242355,
          -0.32341945190995913,
          -0.3369536307904841,
          -0.3418483197982573,
          -0.3357067088215135,
          -0.3004893669957721,
          -0.33250114052726043,
          -0.21598722032095727,
          -0.3630995178327977,
          -0.38645637645988073,
          -0.3301486475506772,
          -0.29121283822721483,
          -0.3282731219947345,
          -0.353973756143738,
          -0.33698097254838916,
          -0.3369626951552258,
          -0.2855973053269588,
          -0.35780405549206407,
          -0.33629617781933135,
          -0.33667937271641657,
          3.934421952721139,
          -0.39012671335239735,
          -0.33648475495446706,
          -0.31648241921057,
          -0.28358143757333365,
          -0.3083367757624796,
          -0.29174663759753805,
          -0.14019422180828012,
          -0.29199863611905413,
          -0.33744097939033785,
          -0.3361537300123955,
          -0.1964906672064936,
          2.2192455576867998,
          -0.3440032239897392,
          -0.26866740811443046,
          1.032567514901504,
          -0.3604283611006188,
          -0.34840570021704675,
          -0.3931412194402041,
          -0.17281395430877597,
          -0.3653788308053268,
          -0.34712591076714416,
          -0.3298626248726739,
          -0.3414259684115646,
          -0.38592997518197325,
          -0.2892456733705891,
          -0.33558519140545795,
          -0.3474488403700635,
          -0.3412874996240183,
          -0.1965575790561785,
          -0.5549734626512902,
          -0.28553267484153977,
          0.4648060522414038,
          -0.131883669933692,
          -0.3924362332889755,
          -0.271699709643546,
          -0.3366833254965518,
          -0.3928920957522787,
          -0.34852261413428903,
          0.5693087418365871,
          -0.34190261056631505,
          -0.3361665869243237,
          -0.32460740769716584,
          -0.2921892564851211,
          -0.38349638390243074,
          -0.3861570787061137,
          3.7610984524371442,
          0.09799911635167645,
          -0.383697638329285,
          -0.33555256860918203,
          -0.3363769242462446,
          -0.2698812450291324,
          -0.3368949352499771,
          -0.3777892392007083,
          -0.2506545455222466,
          -0.0942671903142179,
          -0.3735403562086306,
          -0.3361735734736548,
          -0.32924147269428794,
          -0.3827274327503406,
          -0.334613693407282,
          -0.33707630015896467,
          -0.355675757414308,
          -0.3130369346600733,
          3.744400975157823,
          -0.09937878108140738,
          -0.3318098839305728,
          -0.3421015706709181,
          -0.2690732496047266,
          3.7542654064609753,
          3.7555090470902757,
          -0.25078773118423303,
          -0.3370121913772856,
          -0.29901861231274873,
          2.47809349282065,
          -0.33505922982081526,
          -0.2923948556118514
         ],
         "y": [
          1.030016963701282,
          1.0301724306051945,
          1.6287555189507779,
          1.1793097550760145,
          2.1436142095302433,
          0.7969030066714899,
          0.5916615487022425,
          1.8168524800778292,
          1.0300161320070096,
          1.0302577859902866,
          1.0300636038531397,
          1.0300167501027913,
          1.0300168980458273,
          0.3888205371706074,
          0.8998609172080944,
          1.5454354571804556,
          0.45050852573281425,
          1.0299956579753622,
          0.9747027102850963,
          1.179313021866095,
          1.8469032066669258,
          0.8328373677206353,
          0.7964126915883717,
          0.8247657807645343,
          1.762033255946954,
          1.7620139534698844,
          0.505533729481842,
          1.0299083762096253,
          1.029999964981444,
          1.0411274080711697,
          0.9740857780140116,
          1.179316440777599,
          0.06835874957451026,
          1.5602181160653632,
          1.1793123886696482,
          1.029698295259496,
          1.0299900547302414,
          0.4847964239988445,
          1.1793165479871903,
          0.06841217860681024,
          1.762020751634533,
          1.0296135726911941,
          0.5747793848109835,
          1.4505468702219189,
          0.7968962091017247,
          0.8998818375203558,
          0.8247773857705741,
          1.7620034620493639,
          0.824603533679148,
          1.0300175200086086,
          1.7620063041653822,
          0.9740583899332443,
          1.0300121722621418,
          1.1793170144767828,
          1.8733156729105922,
          1.7788781962288318,
          0.8916877547973706,
          0.8247590346094303,
          1.761993968386453,
          0.7964694676327371,
          1.8169966617200146,
          0.9513119831654623,
          0.7969039089933648,
          1.171284832064266,
          0.7969097460717909,
          1.4558873756390456,
          1.0300010760824032,
          0.8246808546390756,
          1.1791439453361818,
          0.7932906109393899,
          0.7968959064768237,
          0.3918670538989858,
          1.5454316949256925,
          1.1793329755099393,
          0.7968107424696873,
          0.7966777156202858,
          1.4520613820912194,
          1.1792618160937292,
          1.4728703485962715,
          1.0294061643291228,
          1.029998308942835,
          1.0300089153210952,
          1.5566683278444011,
          0.9740136821993153,
          1.1792993654898531,
          1.0299919701325226,
          0.7969032033425916,
          1.1793153115961008,
          1.030008293208494,
          1.0300176989122949,
          0.8248313599683249,
          0.42682361149861187,
          1.8454751651440542,
          1.5454273616111633,
          1.030029668727442,
          1.178727534729613,
          1.5454712883921022,
          1.5567581273570112,
          1.8652259245302418,
          1.5453017547513834,
          1.844206146307609,
          1.7041960495292616,
          1.1793096082639283,
          1.7965582430435303,
          1.1793161306604818,
          1.5454292804106227,
          1.0300057322698801,
          1.0299985939833147,
          1.5454316949256925,
          1.179291172380802,
          0.7969081429647545,
          1.030009473290745,
          0.7436372464394296,
          1.0300082978408407,
          1.0297221359887223,
          1.179314452154345,
          1.029953973965999,
          0.8226421788791239,
          1.0300123067259173,
          1.0300166968372428,
          1.3976926341808138,
          0.5133573279546377,
          1.0297963071893477,
          0.7969039350484955,
          1.1793142875965594,
          1.0300122545062642,
          1.0300070026072998,
          0.8247429193291245,
          0.4255197400839078,
          1.556757159560821,
          1.0299364798690112,
          0.8247649276878234,
          1.1792754815502229,
          1.9101408111019642,
          1.179307826482729,
          1.5454247485940789,
          1.1792786494049985,
          1.5454016497715808,
          1.1791328120873363,
          1.0300092519880135,
          1.0300042578274546,
          1.029557674673796,
          0.5572399627035626,
          1.1793045695125144,
          0.8239599807119133,
          1.5454238370817501,
          1.0299768133173934,
          1.7910601023231363,
          0.5915747316067858,
          1.4728630674107306,
          1.8010367121041133,
          1.4520680940452857,
          1.4520398251879076,
          1.9167572836978999,
          1.7620024854263874,
          1.0104710181162386,
          1.7620078324103279,
          1.434231764719107,
          1.916772643382744,
          1.1793168360879052,
          0.8247661586503665,
          4.145080267666507,
          1.5454065167199191,
          1.0300021983468637,
          1.03001662567255,
          2.1441970374948434,
          1.4629138276804947,
          1.1793067872825687,
          0.5054196686923906,
          1.030010166908448,
          0.5805620706650881,
          1.0368958833638011,
          0.7969015656390782,
          1.4517321841503026,
          1.765885523395493,
          1.0300081293759107,
          1.6028651646993648,
          1.4441472202661667,
          1.0300163701270815,
          0.5909383914909617,
          1.1792647529476437,
          1.7040919218616808,
          1.449049879254717,
          1.761981277218658,
          1.0299625328991266,
          1.2468135128352669,
          1.3976927767530332,
          1.0089044698287857,
          1.0299512328342226,
          1.179310587651978,
          1.3976507491891352,
          1.0298274275139458,
          1.0300160749775351,
          0.9740585813553607,
          1.4728673777040966,
          0.4429321384445971,
          1.0299993701744143,
          1.5564780278242896,
          0.9053164044977231,
          1.1793057754227607,
          1.5737750948404443,
          0.824719798554764,
          1.4445067149373478,
          1.4520533594962444,
          1.0300159057613179,
          1.0300151143419212,
          0.8246386481295467,
          1.374894370615653,
          1.545401161602232,
          1.0300069240067722,
          1.7204465023939202,
          1.6029064857501307,
          1.545400743782669,
          0.6134851595709091,
          1.0281957053477166,
          1.2861681777643463,
          0.8247698062266154,
          1.029196028581044,
          0.8247497576672643,
          1.8472115074873963,
          1.0299865535433887,
          1.6117238608477686,
          0.35536926475855607,
          1.3973979085853563,
          0.5916385877477509,
          1.578202820318952,
          0.8187301130925283,
          1.3976885753186716,
          1.6029452975716616,
          0.8170114803540013,
          0.785794813357515,
          1.3976746263949138,
          1.029559533188916,
          0.9740485918022804,
          1.179305128958019,
          0.8246884605096513,
          1.5453403490448534,
          0.8495192675811519,
          0.9740223194607883,
          1.022148067167725,
          3.385580317329952,
          1.3685322224014573,
          1.559967336381744,
          0.9805890298317576,
          1.6029339921808117,
          -0.09555275907042664,
          1.0300129152683573,
          1.602943596599875,
          1.3976901301924363,
          1.007330750279007,
          0.9740577795834612,
          1.0299861545334315,
          1.5736481618857499,
          1.8452871817292371,
          1.1791293039962012,
          1.1793116673979263,
          1.7041319924940797,
          1.0197409921169651,
          1.1794083750894333,
          1.0299264085600948,
          1.0299998325793747,
          0.5916547616090599,
          1.03002061387834,
          1.1792520772346573,
          1.0255641315817614,
          0.8036243863850843,
          1.179044276852064,
          1.0300328112082902,
          1.0299864060917225,
          1.1792971852684997,
          1.0299827192812467,
          1.5454306175275059,
          0.5126133686784594,
          0.796892683314068,
          1.7041844812227647,
          0.8239582775834938,
          1.0299746289175216,
          0.5055070197686774,
          1.7620082075048422,
          1.7045992572874955,
          1.7046378532581499,
          0.5915822621799398,
          1.5454328556603303,
          1.8616298017271948,
          0.717510021935856,
          1.0299077528598544,
          0.8247666721497174
         ],
         "z": [
          -0.5105972404355621,
          -0.510779635079076,
          -0.5601511532835859,
          -0.4449191105476207,
          -0.45533523400448017,
          -0.3324387797217216,
          -0.09852965122117027,
          -0.595200542868957,
          -0.5106006926853813,
          -0.5106937375258969,
          -0.510615929059134,
          -0.510597267712816,
          -0.5105974398686485,
          -0.4329499364138185,
          -0.34659720618982537,
          -0.17609702956545276,
          -0.35609232581598993,
          -0.510615793327903,
          -0.21126136849409904,
          -0.44492041954509554,
          -0.5526742904552343,
          -0.2799206315526117,
          -0.3327834805944462,
          -0.2766900124221779,
          -0.5426336843757944,
          -0.542625949904604,
          -0.21943689488699342,
          -0.5106485448451408,
          -0.5106125526251195,
          -0.515049177428016,
          -0.21101416473573553,
          -0.4449168232100084,
          0.03971013231151647,
          -0.32730089512892613,
          -0.4449174568171513,
          -0.5108307514535887,
          -0.5106090331047617,
          -0.2783003676607751,
          -0.44491810757124683,
          0.03971129844474746,
          -0.54262867391813,
          -0.5106613529003337,
          -0.5831548397881224,
          -0.13089272049504302,
          -0.33244644047399813,
          -0.3466046001373358,
          -0.27669100988458745,
          -0.5426244550166092,
          -0.27673422293229605,
          -0.5105974633375275,
          -0.5426251423466857,
          -0.21100770538821173,
          -0.5105998355161375,
          -0.4449170528645883,
          -0.3824281445115856,
          -0.6296086793759353,
          -0.3433707053537953,
          -0.2767062316637809,
          -0.5426292294439722,
          -0.33248584541676013,
          -0.5951852402991008,
          -0.34732663978975176,
          -0.3324391412806304,
          -0.44769224876008595,
          -0.33243888405661065,
          -0.5459719527041381,
          -0.5106003558080705,
          -0.2767022327805884,
          -0.4449343925702392,
          -0.2864236194252083,
          -0.3324399981959933,
          -0.4256254425742305,
          -0.17610003704801092,
          -0.4449403797193625,
          -0.33244712339446963,
          -0.33246205851363636,
          -0.5444592008613379,
          -0.44492631429510643,
          -0.15781334469387565,
          -0.5108039953031231,
          -0.5105997737710591,
          -0.5106165905128641,
          -0.3087223763434378,
          -0.2111335942017839,
          -0.4449212684740286,
          -0.5106075430973792,
          -0.33243863277691593,
          -0.4449170477748556,
          -0.5105985069362413,
          -0.5105975350239441,
          -0.2767126372579057,
          -0.3174799250177862,
          -0.699112028096555,
          -0.17611049122812703,
          -0.5106023313094197,
          -0.445019475182517,
          -0.17612041707455425,
          -0.3087137731474028,
          -0.7332775620502031,
          -0.17611140614893278,
          -0.6957830063600172,
          0.4466973874384052,
          -0.444920857725026,
          -0.5566596786010996,
          -0.44491756861165077,
          -0.17610584207363864,
          -0.5106014404377618,
          -0.5105993612349997,
          -0.17610003704801092,
          -0.44492024301451133,
          -0.3324403863248923,
          -0.5106016888004381,
          -0.13153428335500794,
          -0.51060008904659,
          -0.5106259902861707,
          -0.4449171548991339,
          -0.5106045086274107,
          -0.2831756978345127,
          -0.5105983091413789,
          -0.5105978820354433,
          -0.23710878762083432,
          -0.33172546610643894,
          -0.5106216990185649,
          -0.33243892597028246,
          -0.444918071879193,
          -0.5105998684712235,
          -0.510598200494922,
          -0.2766896155203161,
          -0.27125295635277535,
          -0.3087160999424428,
          -0.5107907412816847,
          -0.27669378973660047,
          -0.4449229857480551,
          -0.5885643652662775,
          -0.4449382038159061,
          -0.17611763669234315,
          -0.4449242551023152,
          -0.17617378323021524,
          -0.4449561185647018,
          -0.5105989390040787,
          -0.51059860567015,
          -0.5106389546556096,
          -0.10166545050105086,
          -0.4449210962114875,
          -0.2768149781988267,
          -0.17609914592867856,
          -0.5106048560451361,
          -0.6051041199871989,
          -0.09853721099714148,
          -0.1578254395493225,
          -0.5736517690951168,
          -0.5444438302827126,
          -0.5444573355631074,
          -0.6506779089752059,
          -0.5426281271961043,
          -0.5140527416161407,
          -0.5426277634831143,
          -0.15639542333200332,
          -0.65068406357596,
          -0.44491912765655317,
          -0.2766904405860858,
          -5.582431284369771,
          -0.17609933939878722,
          -0.5106022168903446,
          -0.5105980531310272,
          -0.45477657239357483,
          -0.10397943631158511,
          -0.44491905011059063,
          -0.2194806400728415,
          -0.5105980687715517,
          -0.07618855210111952,
          -0.5189973772646082,
          -0.3324558108488942,
          -0.5445778749434231,
          -0.5608728748795487,
          -0.5105984412887914,
          -0.4710299162335808,
          -0.21510667337609066,
          -0.5106003410439929,
          -0.10026881678691615,
          -0.4449286198406788,
          0.4466544547519292,
          -0.5500046969070116,
          -0.5426602642090849,
          -0.5106228377173658,
          -0.31053558737646014,
          -0.23710997350227314,
          -0.5134250282633674,
          -0.510604764763941,
          -0.4449257651761535,
          -0.2371157081853616,
          -0.5107244691206072,
          -0.5105977873183103,
          -0.2110080078413392,
          -0.1578102353821402,
          -0.38869079406223894,
          -0.5106425648668248,
          -0.3087815737924925,
          -0.36979098210699496,
          -0.44491819315881737,
          -0.637329658573366,
          -0.2766959278547572,
          -0.18050667458629133,
          -0.5444469561967146,
          -0.5105974937630509,
          -0.5105976281437777,
          -0.2767482932355015,
          -0.19539231064065976,
          -0.17610315343547855,
          -0.5105999900547042,
          0.5720757049770755,
          -0.47104647351146584,
          -0.1761011800110877,
          -0.10889449374945541,
          -0.5110237487063527,
          -0.5357834594341494,
          -0.2766938422891481,
          -0.5125709491407413,
          -0.2766898723747344,
          -0.6953153407835165,
          -0.5106040181753382,
          -0.3612800781434143,
          -0.4186469538292596,
          -0.23713404318243678,
          -0.09854026317414143,
          0.11705298169822614,
          -0.34281135444071076,
          -0.23710851574494876,
          -0.4710180380673203,
          -0.27738989427255933,
          -0.3100984776657441,
          -0.23712076073098382,
          -0.5106396993595974,
          -0.21101168056393216,
          -0.44492357788635584,
          -0.27671407283212024,
          -0.17610632751533084,
          -0.44422141240388313,
          -0.2110113120562324,
          -0.5115076971088173,
          -0.8886741267489545,
          -0.403419850421791,
          -0.8021024687820127,
          -0.21362000716979332,
          -0.4710245357064636,
          -0.05286399579881407,
          -0.5106003589881164,
          -0.4710204910374949,
          -0.23710741630328866,
          -0.5183930561877705,
          -0.21100739309686692,
          -0.5106038582926966,
          -0.637378127007125,
          -0.6956504445019875,
          -0.4449366528305744,
          -0.4449216828166726,
          0.44652552321645894,
          -0.514380946186577,
          -0.4449536609135949,
          -0.5106061052474625,
          -0.5106026243646015,
          -0.0985288505240318,
          -0.5105987030461007,
          -0.44500390791539923,
          -0.5111833790947304,
          -0.3351699517493293,
          -0.4450335179380107,
          -0.510606976755334,
          -0.5106752962801526,
          -0.4449560634571042,
          -0.5106196388380545,
          -0.17609712207974923,
          -0.16057760227873752,
          -0.33245338046868045,
          0.4466941399903923,
          -0.27862229517898374,
          -0.5106480021259525,
          -0.21943892426320674,
          -0.5426236745958218,
          0.44656404156953794,
          0.44654857622682326,
          -0.09872080995447266,
          -0.17609793630282058,
          -0.09117854563719682,
          0.23074821553935654,
          -0.510609917468515,
          -0.27668694270471894
         ]
        },
        {
         "customdata": [
          [
           "SHA-256"
          ],
          [
           "Ethash"
          ],
          [
           "Scrypt"
          ],
          [
           "CryptoNight-V7"
          ],
          [
           "Ethash"
          ],
          [
           "Equihash"
          ],
          [
           "Multiple"
          ],
          [
           "Scrypt"
          ],
          [
           "X11"
          ],
          [
           "Scrypt"
          ],
          [
           "Multiple"
          ],
          [
           "Scrypt"
          ],
          [
           "SHA-256"
          ],
          [
           "Scrypt"
          ],
          [
           "Scrypt"
          ],
          [
           "Quark"
          ],
          [
           "Groestl"
          ],
          [
           "Scrypt"
          ],
          [
           "Scrypt"
          ],
          [
           "Scrypt"
          ],
          [
           "X11"
          ],
          [
           "Multiple"
          ],
          [
           "SHA-256"
          ],
          [
           "Scrypt"
          ],
          [
           "Scrypt"
          ],
          [
           "Scrypt"
          ],
          [
           "Scrypt"
          ],
          [
           "Scrypt"
          ],
          [
           "NeoScrypt"
          ],
          [
           "Scrypt"
          ],
          [
           "Scrypt"
          ],
          [
           "Scrypt"
          ],
          [
           "Scrypt"
          ],
          [
           "SHA-256"
          ],
          [
           "Scrypt"
          ],
          [
           "Scrypt"
          ],
          [
           "Scrypt"
          ],
          [
           "Scrypt"
          ],
          [
           "HybridScryptHash256"
          ],
          [
           "Scrypt"
          ],
          [
           "Scrypt"
          ],
          [
           "SHA-256"
          ],
          [
           "Scrypt"
          ],
          [
           "Scrypt"
          ],
          [
           "Scrypt"
          ],
          [
           "Scrypt"
          ],
          [
           "SHA-256"
          ],
          [
           "SHA-256"
          ],
          [
           "SHA-256"
          ],
          [
           "SHA-256"
          ],
          [
           "SHA-256"
          ],
          [
           "X11"
          ],
          [
           "Scrypt"
          ],
          [
           "Lyra2REv2"
          ],
          [
           "Scrypt"
          ],
          [
           "SHA-256"
          ],
          [
           "CryptoNight"
          ],
          [
           "CryptoNight"
          ],
          [
           "Scrypt"
          ],
          [
           "Scrypt"
          ],
          [
           "Scrypt"
          ],
          [
           "Scrypt"
          ],
          [
           "Scrypt"
          ],
          [
           "Scrypt"
          ],
          [
           "Stanford Folding"
          ],
          [
           "Multiple"
          ],
          [
           "QuBit"
          ],
          [
           "Scrypt"
          ],
          [
           "Scrypt"
          ],
          [
           "M7 POW"
          ],
          [
           "Scrypt"
          ],
          [
           "SHA-256"
          ],
          [
           "Scrypt"
          ],
          [
           "X11"
          ],
          [
           "Lyra2RE"
          ],
          [
           "SHA-256"
          ],
          [
           "X11"
          ],
          [
           "Scrypt"
          ],
          [
           "Scrypt"
          ],
          [
           "Ethash"
          ],
          [
           "Blake2b"
          ],
          [
           "X11"
          ],
          [
           "SHA-256"
          ],
          [
           "Scrypt"
          ],
          [
           "1GB AES Pattern Search"
          ],
          [
           "Scrypt"
          ],
          [
           "SHA-256"
          ],
          [
           "X11"
          ],
          [
           "Dagger"
          ],
          [
           "Scrypt"
          ],
          [
           "X11GOST"
          ],
          [
           "Scrypt"
          ],
          [
           "X11"
          ],
          [
           "Scrypt"
          ],
          [
           "X11"
          ],
          [
           "Equihash"
          ],
          [
           "CryptoNight"
          ],
          [
           "SHA-256"
          ],
          [
           "Multiple"
          ],
          [
           "Scrypt"
          ],
          [
           "SHA-256"
          ],
          [
           "Scrypt"
          ],
          [
           "Lyra2Z"
          ],
          [
           "Ethash"
          ],
          [
           "Equihash"
          ],
          [
           "Scrypt"
          ],
          [
           "X11"
          ],
          [
           "X11"
          ],
          [
           "CryptoNight"
          ],
          [
           "Scrypt"
          ],
          [
           "CryptoNight"
          ],
          [
           "Lyra2RE"
          ],
          [
           "X11"
          ],
          [
           "CryptoNight-V7"
          ],
          [
           "Scrypt"
          ],
          [
           "X11"
          ],
          [
           "Equihash"
          ],
          [
           "Scrypt"
          ],
          [
           "Lyra2RE"
          ],
          [
           "Dagger-Hashimoto"
          ],
          [
           "Scrypt"
          ],
          [
           "NIST5"
          ],
          [
           "Scrypt"
          ],
          [
           "SHA-256"
          ],
          [
           "Scrypt"
          ],
          [
           "CryptoNight-V7"
          ],
          [
           "Argon2d"
          ],
          [
           "Blake2b"
          ],
          [
           "Cloverhash"
          ],
          [
           "CryptoNight"
          ],
          [
           "X11"
          ],
          [
           "Scrypt"
          ],
          [
           "Scrypt"
          ],
          [
           "X11"
          ],
          [
           "X11"
          ],
          [
           "CryptoNight"
          ],
          [
           "Time Travel"
          ],
          [
           "Scrypt"
          ],
          [
           "Keccak"
          ],
          [
           "X11"
          ],
          [
           "SHA-256"
          ],
          [
           "Scrypt"
          ],
          [
           "Scrypt"
          ],
          [
           "Scrypt"
          ],
          [
           "Scrypt"
          ],
          [
           "Scrypt"
          ],
          [
           "Scrypt"
          ],
          [
           "CryptoNight"
          ],
          [
           "Equihash"
          ],
          [
           "X11"
          ],
          [
           "NeoScrypt"
          ],
          [
           "Equihash"
          ],
          [
           "Dagger"
          ],
          [
           "Scrypt"
          ],
          [
           "X11"
          ],
          [
           "NeoScrypt"
          ],
          [
           "Ethash"
          ],
          [
           "NeoScrypt"
          ],
          [
           "Multiple"
          ],
          [
           "CryptoNight"
          ],
          [
           "CryptoNight"
          ],
          [
           "Ethash"
          ],
          [
           "X11"
          ],
          [
           "CryptoNight-V7"
          ],
          [
           "Scrypt"
          ],
          [
           "BLAKE256"
          ],
          [
           "X11"
          ],
          [
           "NeoScrypt"
          ],
          [
           "NeoScrypt"
          ],
          [
           "Scrypt"
          ],
          [
           "X11"
          ],
          [
           "SHA-256"
          ],
          [
           "C11"
          ],
          [
           "Ethash"
          ],
          [
           "CryptoNight"
          ],
          [
           "SkunkHash"
          ],
          [
           "CryptoNight"
          ],
          [
           "Scrypt"
          ],
          [
           "Dagger"
          ],
          [
           "Lyra2REv2"
          ],
          [
           "Scrypt"
          ],
          [
           "Scrypt"
          ],
          [
           "X11"
          ],
          [
           "Ethash"
          ],
          [
           "CryptoNight"
          ],
          [
           "Scrypt"
          ],
          [
           "IMesh"
          ],
          [
           "Equihash"
          ],
          [
           "Lyra2Z"
          ],
          [
           "X11"
          ],
          [
           "CryptoNight"
          ],
          [
           "NIST5"
          ],
          [
           "Lyra2RE"
          ],
          [
           "Tribus"
          ],
          [
           "Lyra2Z"
          ],
          [
           "CryptoNight"
          ],
          [
           "CryptoNight Heavy"
          ],
          [
           "CryptoNight"
          ],
          [
           "Jump Consistent Hash"
          ],
          [
           "CryptoNight"
          ],
          [
           "X16R"
          ],
          [
           "HMQ1725"
          ],
          [
           "X11"
          ],
          [
           "Scrypt"
          ],
          [
           "CryptoNight-V7"
          ],
          [
           "Cryptonight-GPU"
          ],
          [
           "XEVAN"
          ],
          [
           "CryptoNight Heavy"
          ],
          [
           "SHA-256"
          ],
          [
           "X11"
          ],
          [
           "X16R"
          ],
          [
           "Equihash"
          ],
          [
           "Lyra2Z"
          ],
          [
           "SHA-256"
          ],
          [
           "CryptoNight"
          ],
          [
           "Blake"
          ],
          [
           "Blake"
          ],
          [
           "Exosis"
          ],
          [
           "Scrypt"
          ],
          [
           "Equihash"
          ],
          [
           "Equihash"
          ],
          [
           "QuBit"
          ],
          [
           "SHA-256"
          ],
          [
           "X13"
          ],
          [
           "SHA-256"
          ],
          [
           "Scrypt"
          ],
          [
           "NeoScrypt"
          ],
          [
           "Blake"
          ],
          [
           "Scrypt"
          ],
          [
           "SHA-256"
          ],
          [
           "Scrypt"
          ],
          [
           "Groestl"
          ],
          [
           "Scrypt"
          ],
          [
           "Scrypt"
          ],
          [
           "Multiple"
          ],
          [
           "Equihash+Scrypt"
          ],
          [
           "Ethash"
          ],
          [
           "CryptoNight"
          ],
          [
           "Equihash"
          ]
         ],
         "hovertemplate": "<b>%{hovertext}</b><br><br>Class=%{marker.color}<br>PC1=%{x}<br>PC2=%{y}<br>PC3=%{z}<br>Algorithm=%{customdata[0]}<extra></extra>",
         "hovertext": [
          "Bitcoin",
          "Ethereum",
          "Litecoin",
          "Monero",
          "Ethereum Classic",
          "ZCash",
          "DigiByte",
          "ProsperCoin",
          "Spreadcoin",
          "Argentum",
          "MyriadCoin",
          "MoonCoin",
          "ZetaCoin",
          "SexCoin",
          "Quatloo",
          "QuarkCoin",
          "Riecoin",
          "Digitalcoin ",
          "Catcoin",
          "CannaCoin",
          "CryptCoin",
          "Verge",
          "DevCoin",
          "EarthCoin",
          "E-Gulden",
          "Einsteinium",
          "Emerald",
          "Franko",
          "FeatherCoin",
          "GrandCoin",
          "GlobalCoin",
          "GoldCoin",
          "Infinite Coin",
          "IXcoin",
          "KrugerCoin",
          "LuckyCoin",
          "Litebar ",
          "MegaCoin",
          "MediterraneanCoin",
          "MinCoin",
          "NobleCoin",
          "Namecoin",
          "NyanCoin",
          "RonPaulCoin",
          "StableCoin",
          "SmartCoin",
          "SysCoin",
          "TigerCoin",
          "TerraCoin",
          "UnbreakableCoin",
          "Unobtanium",
          "UroCoin",
          "ViaCoin",
          "Vertcoin",
          "WorldCoin",
          "JouleCoin",
          "ByteCoin",
          "DigitalNote ",
          "MonaCoin",
          "Gulden",
          "PesetaCoin",
          "Wild Beast Coin",
          "Flo",
          "ArtByte",
          "Folding Coin",
          "Unitus",
          "CypherPunkCoin",
          "OmniCron",
          "GreenCoin",
          "Cryptonite",
          "MasterCoin",
          "SoonCoin",
          "1Credit",
          "MarsCoin ",
          "Crypto",
          "Anarchists Prime",
          "BowsCoin",
          "Song Coin",
          "BitZeny",
          "Expanse",
          "Siacoin",
          "MindCoin",
          "I0coin",
          "Revolution VR",
          "HOdlcoin",
          "Gamecredits",
          "CarpeDiemCoin",
          "Adzcoin",
          "SoilCoin",
          "YoCoin",
          "SibCoin",
          "Francs",
          "BolivarCoin",
          "Omni",
          "PizzaCoin",
          "Komodo",
          "Karbo",
          "ZayedCoin",
          "Circuits of Value",
          "DopeCoin",
          "DollarCoin",
          "Shilling",
          "ZCoin",
          "Elementrem",
          "ZClassic",
          "KiloCoin",
          "ArtexCoin",
          "Kurrent",
          "Cannabis Industry Coin",
          "OsmiumCoin",
          "Bikercoins",
          "HexxCoin",
          "PacCoin",
          "Citadel",
          "BeaverCoin",
          "VaultCoin",
          "Zero",
          "Canada eCoin",
          "Zoin",
          "DubaiCoin",
          "EB3coin",
          "Coinonat",
          "BenjiRolls",
          "ILCoin",
          "EquiTrader",
          "Quantum Resistant Ledger",
          "Dynamic",
          "Nano",
          "ChanCoin",
          "Dinastycoin",
          "DigitalPrice",
          "Unify",
          "SocialCoin",
          "ArcticCoin",
          "DAS",
          "LeviarCoin",
          "Bitcore",
          "gCn Coin",
          "SmartCash",
          "Onix",
          "Bitcoin Cash",
          "Sojourn Coin",
          "NewYorkCoin",
          "FrazCoin",
          "Kronecoin",
          "AdCoin",
          "Linx",
          "Sumokoin",
          "BitcoinZ",
          "Elements",
          "VIVO Coin",
          "Bitcoin Gold",
          "Pirl",
          "eBoost",
          "Pura",
          "Innova",
          "Ellaism",
          "GoByte",
          "SHIELD",
          "UltraNote",
          "BitCoal",
          "DaxxCoin",
          "AC3",
          "Lethean",
          "PopularCoin",
          "Photon",
          "Sucre",
          "SparksPay",
          "GunCoin",
          "IrishCoin",
          "Pioneer Coin",
          "UnitedBitcoin",
          "Interzone",
          "1717 Masonic Commemorative Token",
          "TurtleCoin",
          "MUNcoin",
          "Niobio Cash",
          "ShareChain",
          "Travelflex",
          "KREDS",
          "BitFlip",
          "LottoCoin",
          "Crypto Improvement Fund",
          "Callisto Network",
          "BitTube",
          "Poseidon",
          "Aidos Kuneen",
          "Bitrolium",
          "Alpenschillling",
          "FuturoCoin",
          "Monero Classic",
          "Jumpcoin",
          "Infinex",
          "KEYCO",
          "GINcoin",
          "PlatinCoin",
          "Loki",
          "Newton Coin",
          "MassGrid",
          "PluraCoin",
          "Motion",
          "PlusOneCoin",
          "Axe",
          "HexCoin",
          "Webchain",
          "Ryo",
          "Urals Coin",
          "Qwertycoin",
          "Project Pai",
          "Azart",
          "Xchange",
          "CrypticCoin",
          "Actinium",
          "Bitcoin SV",
          "FREDEnergy",
          "Universal Molecule",
          "Lithium",
          "Exosis",
          "Block-Logic",
          "Beam",
          "Bithereum",
          "SLICE",
          "BLAST",
          "Bitcoin Rhodium",
          "GlobalToken",
          "SolarCoin",
          "UFO Coin",
          "BlakeCoin",
          "Crypto Escudo",
          "Crown Coin",
          "SmileyCoin",
          "Groestlcoin",
          "Bata",
          "Pakcoin",
          "JoinCoin",
          "Vollar",
          "Reality Clash",
          "Beldex",
          "Horizen"
         ],
         "legendgroup": "0",
         "marker": {
          "color": [
           0,
           0,
           0,
           0,
           0,
           0,
           0,
           0,
           0,
           0,
           0,
           0,
           0,
           0,
           0,
           0,
           0,
           0,
           0,
           0,
           0,
           0,
           0,
           0,
           0,
           0,
           0,
           0,
           0,
           0,
           0,
           0,
           0,
           0,
           0,
           0,
           0,
           0,
           0,
           0,
           0,
           0,
           0,
           0,
           0,
           0,
           0,
           0,
           0,
           0,
           0,
           0,
           0,
           0,
           0,
           0,
           0,
           0,
           0,
           0,
           0,
           0,
           0,
           0,
           0,
           0,
           0,
           0,
           0,
           0,
           0,
           0,
           0,
           0,
           0,
           0,
           0,
           0,
           0,
           0,
           0,
           0,
           0,
           0,
           0,
           0,
           0,
           0,
           0,
           0,
           0,
           0,
           0,
           0,
           0,
           0,
           0,
           0,
           0,
           0,
           0,
           0,
           0,
           0,
           0,
           0,
           0,
           0,
           0,
           0,
           0,
           0,
           0,
           0,
           0,
           0,
           0,
           0,
           0,
           0,
           0,
           0,
           0,
           0,
           0,
           0,
           0,
           0,
           0,
           0,
           0,
           0,
           0,
           0,
           0,
           0,
           0,
           0,
           0,
           0,
           0,
           0,
           0,
           0,
           0,
           0,
           0,
           0,
           0,
           0,
           0,
           0,
           0,
           0,
           0,
           0,
           0,
           0,
           0,
           0,
           0,
           0,
           0,
           0,
           0,
           0,
           0,
           0,
           0,
           0,
           0,
           0,
           0,
           0,
           0,
           0,
           0,
           0,
           0,
           0,
           0,
           0,
           0,
           0,
           0,
           0,
           0,
           0,
           0,
           0,
           0,
           0,
           0,
           0,
           0,
           0,
           0,
           0,
           0,
           0,
           0,
           0,
           0,
           0,
           0,
           0,
           0,
           0,
           0,
           0,
           0,
           0,
           0,
           0,
           0,
           0,
           0,
           0,
           0,
           0,
           0,
           0,
           0,
           0,
           0,
           0,
           0,
           0,
           0,
           0,
           0,
           0,
           0,
           0,
           0,
           0,
           0,
           0,
           0
          ],
          "coloraxis": "coloraxis",
          "symbol": "diamond"
         },
         "mode": "markers",
         "name": "0",
         "scene": "scene",
         "showlegend": true,
         "type": "scatter3d",
         "x": [
          -0.14983776843665658,
          -0.15189049648604303,
          -0.17116043370351397,
          -0.1520693425658202,
          -0.15033356123109662,
          -0.15249097766448358,
          0.16483337889721192,
          -0.17230611308220162,
          -0.22189487621425819,
          -0.1719228894261203,
          -0.08843697810844442,
          2.547705825930072,
          -0.1469241039157575,
          -0.169179710150903,
          -0.17172707144048113,
          -0.22384332565940718,
          -0.19893915213793853,
          -0.17177570829529581,
          -0.17228838560328413,
          -0.17237479161651031,
          -0.22198418131398612,
          0.1885838737594195,
          0.227823144021199,
          0.07623400287854365,
          -0.17212119722890598,
          -0.16772874875135554,
          -0.17206053792457063,
          -0.17243176941221333,
          -0.17312578206167178,
          -0.15166488559125918,
          -0.17122744882835142,
          -0.17150479979286698,
          1.5756326852793427,
          -0.1497991520329713,
          -0.1687956188623973,
          -0.17214762688931434,
          -0.1725022686640653,
          -0.171761881486982,
          -0.1557778901979587,
          -0.17238359802252218,
          -0.037371936231921705,
          -0.14987673411517657,
          -0.16605056988328074,
          -0.17236307161733302,
          -0.17045861908853005,
          -0.17185007052963247,
          -0.1370354686217027,
          -0.14934075712660144,
          -0.14962784550441655,
          -0.14961092182650618,
          -0.15020123285433845,
          -0.22215797159651487,
          -0.17207966947658365,
          -0.2002063389794455,
          -0.1691844569418446,
          -0.14940802272069184,
          3.858329162200429,
          0.45893589229546033,
          -0.17094786296658102,
          -0.15555593959789032,
          -0.16966728779139278,
          -0.17250448002970228,
          -0.1695323623425854,
          -0.1557629343789591,
          -0.1350128071257984,
          -0.12242661244001612,
          -0.1868394086909052,
          -0.17237760585886983,
          -0.045384580660591506,
          -0.12210767453875192,
          -0.1725133648110227,
          -0.14990450146966103,
          0.4791978037414089,
          -0.22154545617004465,
          -0.15434495435971526,
          -0.14964453250640444,
          -0.22183022374420333,
          -0.17063830488257034,
          -0.1698309316733885,
          -0.1529576020529667,
          0.37162942573625185,
          -0.22186559631283467,
          -0.14980027397357742,
          -0.16847317612857463,
          -0.15164860132998761,
          -0.17107743062961517,
          0.2684817992595195,
          -0.22102677833209358,
          -0.15092138000306782,
          -0.17132495602643133,
          -0.15821637874734473,
          -0.17230339693262944,
          -0.22182887348564873,
          -0.17251342327764416,
          -0.22197878976563834,
          -0.26321359735142213,
          0.30391980083754294,
          -0.15006023852967973,
          -0.10250907303531445,
          -0.16968161963647202,
          -0.15001888535078703,
          -0.17217701270641844,
          -0.14416616082547848,
          -0.15269987414953312,
          -0.15251258683832894,
          -0.0992887787467258,
          -0.20856807659448492,
          -0.2198081921688752,
          0.30391414182490467,
          -0.17249517255223504,
          0.30404480104515635,
          -0.1548850753113295,
          0.4927784256149,
          -0.15083491745497826,
          -0.17246347271666543,
          -0.2147177123848962,
          -0.1525249480415455,
          -0.17059763903478942,
          -0.15460358306972813,
          -0.15897902341393322,
          -0.14340683746644825,
          -0.1895436584892533,
          -0.17202608268656128,
          -0.11640331389412344,
          -0.17184829550884886,
          -0.15069252295375998,
          -0.15181228651651682,
          -0.02852852542692582,
          -0.14829148926444893,
          0.3400184800813614,
          -0.22103520527622098,
          -0.17216732039874677,
          -0.17193091429874813,
          -0.22142965030839365,
          -0.22200679823501343,
          0.3043089102484672,
          -0.14155926521034157,
          3.2354872246476547,
          -0.12282455438865118,
          -0.21288471647502338,
          -0.14983693295839903,
          -0.09813807246419953,
          1.5738691844977986,
          -0.17226513393942378,
          -0.17171712281519175,
          -0.17141824347209447,
          -0.17140517915837883,
          0.3044923735683593,
          0.059676119547396156,
          -0.1764144140514665,
          -0.17781210601141398,
          -0.15237106451622154,
          -0.14968121627811823,
          -0.17059584884192644,
          -0.21755360543949845,
          -0.17765761535475852,
          -0.15106625162753365,
          -0.1777577538209468,
          -0.11266349371685268,
          1.1413571375040859,
          0.3038969371957779,
          -0.07600506163081006,
          -0.2172957309796224,
          -0.13981060145667865,
          -0.08869489794433587,
          1.0990099760738208,
          -0.2219808083675818,
          -0.17780965183446834,
          -0.1708511529181154,
          -0.17151650828759002,
          -0.22190625029475805,
          -0.14981633595392546,
          -0.19857823780817455,
          -0.2730525010349451,
          8.03663127460172,
          -0.15781624207941844,
          0.3077692168832185,
          0.020433828321280358,
          -0.14918448389075864,
          -0.18577197080760316,
          -0.1720899692782555,
          0.13483250483434822,
          -0.2160503852018313,
          -0.10413611657764896,
          0.31181492711625897,
          -0.17232685021814678,
          -0.15865159978180252,
          -0.1513626349529695,
          -0.1419511185117754,
          -0.22107596292610282,
          0.30407937611960123,
          -0.18960303578081722,
          -0.15473040741811178,
          -0.1501952646973235,
          -0.1442504816453387,
          0.30800482839806714,
          0.5761749370527341,
          2.1114853506134454,
          -0.1350612652083754,
          0.31767712747028554,
          -0.19672117121842653,
          -0.15740628111732258,
          -0.22196297781276778,
          -0.17235142569330078,
          -0.13969225077885117,
          -0.15300784878318227,
          -0.16442386466500727,
          3.0973925153839823,
          -0.1096840365981585,
          -0.22193436301971267,
          -0.19614928077944002,
          -0.047172899619011645,
          -0.14364862166516354,
          -0.14983697051023548,
          0.3837920666881779,
          -0.13809367122439012,
          -0.13848536942957407,
          -0.136700908917475,
          -0.1712443497347242,
          -0.15043242858878858,
          -0.15220396671268946,
          -0.1860508984070939,
          -0.14911347425681004,
          -0.10455941793993473,
          -0.14798206281088042,
          0.5230872911905567,
          -0.10301153138224939,
          -0.08898482893036067,
          -0.1559134659534387,
          -0.14962721618343974,
          0.5429505129307497,
          -0.19850035964279023,
          -0.17242819682056715,
          -0.1703850568535695,
          -0.12316123814207311,
          -0.1427443220202474,
          -0.15273301671489084,
          0.32564297855043617,
          -0.15249203422967497
         ],
         "y": [
          -1.3265787940602105,
          -2.0593421252899,
          -1.0934863069956207,
          -2.2081855596038062,
          -2.059436464803906,
          -2.0137551573679615,
          -1.8551905587691035,
          -1.0934790652281032,
          -0.9441770891321,
          -1.0934963830319986,
          -1.8501435238493023,
          -1.269911357137125,
          -1.3265894501817952,
          -1.0935376040337859,
          -1.0935147616255314,
          -0.5205582655607385,
          -1.2236467062473928,
          -1.0934810588655897,
          -1.093478515061729,
          -1.0934758571403742,
          -0.9441785020338017,
          -1.8514338656492522,
          -1.329109796056297,
          -1.0949223422629677,
          -1.0934733264264918,
          -1.0935263992481319,
          -1.0934789164722551,
          -1.0934763318632865,
          -1.6180296252298558,
          -1.0937892629659725,
          -1.093478876222356,
          -1.0934890092793006,
          -1.1007650474310418,
          -1.3265775956130441,
          -1.0935361596409512,
          -1.0934734673360678,
          -1.0934718040932971,
          -1.0934764410305626,
          -2.2697160977673057,
          -1.093473997360321,
          -1.099467053688901,
          -1.3265800033469972,
          -1.0934995935826408,
          -1.093480832917176,
          -1.093577294544585,
          -1.0934854277479928,
          -1.3267704546890644,
          -1.3265810400890263,
          -1.3265865450201213,
          -1.3266118341907902,
          -1.3265759780404218,
          -0.9441716676874623,
          -1.0934733962787748,
          -1.3376938846803816,
          -1.0935482271005934,
          -1.3265817608718722,
          -2.3070497660158416,
          -2.2940285142754373,
          -1.093494057300934,
          -1.0940862311808572,
          -1.0934959346711242,
          -1.09347274090103,
          -1.093487409128584,
          -1.0936307134546888,
          -2.2599244783463335,
          -1.849839728597454,
          -1.6101040587538271,
          -1.093469308371822,
          -1.0963190929861872,
          -2.2179614494254434,
          -1.0934716521958514,
          -1.3265808650975495,
          -1.1357435935009348,
          -0.9441750762371324,
          -2.18842448911864,
          -1.3265950517704386,
          -0.9441757619904209,
          -1.0935558610277951,
          -1.0935578144757578,
          -2.0593867275105193,
          -2.098488990890877,
          -0.9441734631358081,
          -1.3265776304320958,
          -1.0934885039433722,
          -2.2162283747751705,
          -1.0934837310230063,
          -1.3282734166428232,
          -0.9441936248745384,
          -2.210046311712861,
          -1.0935487149294998,
          -2.2296604806015075,
          -1.0934783016072223,
          -0.9441784373899512,
          -1.0934716519519851,
          -0.9441830899915198,
          -1.3508903285911817,
          -2.2920529191661805,
          -1.3265780464160224,
          -1.8500367857346176,
          -1.0935192143222647,
          -1.326577375988527,
          -1.0934811725759466,
          -2.1533144010643537,
          -2.059385046161062,
          -2.0137558280014383,
          -1.097991991730815,
          -0.944089572888979,
          -0.9442536294175397,
          -2.2920605673787127,
          -1.093472510662913,
          -2.292059229717899,
          -2.188403352599842,
          -0.989916464716485,
          -2.208272924959984,
          -1.0934719655194927,
          -0.944620087821364,
          -2.01375349432289,
          -1.0934797100688676,
          -2.1884020891699945,
          -2.093945657602292,
          -1.0952852243872035,
          -0.671435792262488,
          -1.0934802386650366,
          -1.3272252163271807,
          -1.0934995026434498,
          -2.208214159707253,
          -2.1900221138168594,
          -2.111138921652377,
          -2.3059430969274466,
          -2.2922844676542424,
          -0.9442047556193386,
          -1.093473587228914,
          -1.0935041046682044,
          -0.9441898240453576,
          -0.9441798153358546,
          -2.2920707336337327,
          -2.282884249521611,
          -1.1235702914322894,
          -1.275250962245529,
          -0.9446311340156575,
          -1.3265787681314187,
          -1.0982959429905585,
          -1.0392728335049155,
          -1.0934771141280353,
          -1.0935035836558662,
          -1.093505177252904,
          -1.093504771806301,
          -2.292088740842812,
          -2.0214222045256216,
          -0.9439748186490681,
          -1.6179651519637908,
          -2.0137514359035427,
          -2.2100936271054024,
          -1.0934796545108312,
          -0.9442665368558046,
          -1.6179725852675582,
          -2.0595067564312775,
          -1.6179667259269743,
          -1.8499850886939717,
          -2.3237992559605933,
          -2.292055327046869,
          -2.063780307100848,
          -0.9443943990258806,
          -2.2084840875451692,
          -1.0942665837449084,
          -1.202120103853671,
          -0.9441796201424976,
          -1.617960999842701,
          -1.6180704423542056,
          -1.0934837711293897,
          -0.9441794801011457,
          -1.3265775623523222,
          -1.218173590838637,
          -0.14114438193338932,
          -2.7313901017416526,
          -2.088608616374502,
          -2.2921549141324133,
          -1.094276440694371,
          -2.2100399605495618,
          -1.3379361142012014,
          -1.0934852644731698,
          -1.0964371967881688,
          -0.9443217838321072,
          -2.062275703666633,
          -2.2924804293920276,
          -1.0934797087981762,
          -2.108116583094455,
          -2.0137534266079093,
          -2.15343491821572,
          -0.9442060205193602,
          -2.292053673139855,
          -0.6714191220223034,
          -2.1884096119629404,
          -2.1971775519949146,
          -2.153309613278413,
          -2.2923269444470664,
          -2.2489804487869747,
          -2.360944934313689,
          -2.256070965732441,
          -2.2922984979662537,
          -1.3047415818934593,
          -2.22287567903368,
          -0.944179881968503,
          -1.0934812223238113,
          -2.208990261357286,
          -2.137008858537992,
          -0.5497769631707172,
          -2.295948689713102,
          -1.3267449553701545,
          -0.9441817112223312,
          -1.3047767694749974,
          -2.015635258489976,
          -2.15334086522286,
          -1.3265787692968278,
          -2.295056271661624,
          -2.1917003466895624,
          -2.1916582307349013,
          -2.1155947563196786,
          -1.0935133670407335,
          -2.0138555320345457,
          -2.013752965896849,
          -1.6101475202099127,
          -1.3265855268545623,
          -0.36148087812456436,
          -1.3266210637922102,
          -1.138525387086232,
          -1.6183427037157014,
          -2.194860142064224,
          -1.0936353851517164,
          -1.3265865254893556,
          -1.1052333538102013,
          -1.2236473543170303,
          -1.0934719848386492,
          -1.0935288173912545,
          -1.849864429573268,
          -2.2023461016457704,
          -2.059384907922392,
          -2.2923231621043585,
          -2.0137551901581086
         ],
         "z": [
          0.1923624099932559,
          0.3764538484633577,
          0.01419336346835994,
          0.43856995885601796,
          0.3764442425280559,
          0.23803374306035377,
          0.32801321882162965,
          0.014204683991459006,
          0.07988432583075676,
          0.014201915931689986,
          0.330280141463189,
          -0.001782671633669084,
          0.19233308919112568,
          0.01417644350918488,
          0.014201153182779178,
          0.05373704849966711,
          0.1781961306355248,
          0.014199350098058323,
          0.014204463540686895,
          0.014205172915607625,
          0.07988534347936488,
          0.32751137939494374,
          0.18864055661806411,
          0.011740110464998262,
          0.014202384462980295,
          0.014160713092694692,
          0.014202141128672238,
          0.01420579300765784,
          0.3053217465039912,
          0.014013017015813124,
          0.014193546477940364,
          0.014197099809274973,
          -0.0033240980511685535,
          0.19236192977742417,
          0.014172383488526528,
          0.014202666675814662,
          0.014206210465762264,
          0.014198891717245405,
          0.23439689854624915,
          0.01420513656163535,
          0.013222543052568354,
          0.19236289455250583,
          0.014141572481301474,
          0.014205392301597506,
          0.01419234743235557,
          0.014200415774827446,
          0.19224348232867847,
          0.19235743775606254,
          0.1923607750277709,
          0.19236232983469428,
          0.19236596594357802,
          0.07988666847862913,
          0.014201960951483775,
          0.21469813889423373,
          0.014177218899992895,
          0.19235818077555375,
          0.40821182813484386,
          0.44238036252066115,
          0.014191701150508865,
          0.014073454162538388,
          0.014178622573654818,
          0.014206297333836044,
          0.014176648045923664,
          0.014044439355527355,
          0.4046392942426004,
          0.3306099123922811,
          0.19308511508542503,
          0.014204754116190132,
          0.013089913297089783,
          0.389903460378201,
          0.014206314516479655,
          0.1923632398545515,
          0.010375697675739197,
          0.07988058450926161,
          0.3852627134430003,
          0.19236152884178404,
          0.0798835682966463,
          0.014192734900724415,
          0.014184541800436027,
          0.37646790387146756,
          0.3795509376008833,
          0.07988377590232099,
          0.1923619437293615,
          0.01416579920661039,
          0.3689810303873157,
          0.014192331280321456,
          0.18816403766289466,
          0.0798765036377087,
          0.41259075994276334,
          0.014199327869758471,
          0.34680843128846656,
          0.014204603760409296,
          0.07988373732250435,
          0.014206315102787425,
          0.07988560161239158,
          -0.21090773834724255,
          0.4438439932290695,
          0.19236465326816213,
          0.3304179721512171,
          0.014180362311484949,
          0.19236418093464294,
          0.014203496646947523,
          0.4207474645838301,
          0.37646513087062006,
          0.23803401178209843,
          0.01376024110520827,
          0.07974089792810804,
          0.07986803927468825,
          0.44384457459884086,
          0.014206185598680886,
          0.44384313559794136,
          0.3852668384970918,
          0.07564147466366,
          0.438563202151914,
          0.01420582139027773,
          0.07984059910111092,
          0.23803397968328263,
          0.014187108080991015,
          0.3852638489860191,
          0.28898760837782883,
          0.014030147408063366,
          -0.019642652075706684,
          0.014201876196771454,
          0.19206179461660558,
          0.01420135995015711,
          0.43855771505836283,
          0.4656713703718418,
          0.38454292535061546,
          0.4024235139329417,
          0.44348753064511026,
          0.0798773516995177,
          0.014202877979514797,
          0.014202526722207752,
          0.07988039866594653,
          0.07988566654182636,
          0.4438411984310244,
          0.4634080739257628,
          -0.01888318908821459,
          0.08004969474121071,
          0.07982245023357332,
          0.1923623996036311,
          0.013769158582803136,
          -0.007510924199628634,
          0.014204127939429365,
          0.014200286198043123,
          0.014197312740244236,
          0.014197150278449307,
          0.4438405377031639,
          0.23636989463412406,
          0.07940144031537838,
          0.30536566910534557,
          0.2380322518756096,
          0.4125812053234192,
          0.014187085818976155,
          0.07984566969146463,
          0.3053645841073497,
          0.37645660572715783,
          0.30536521618697293,
          0.3305191625530978,
          0.43737815560061266,
          0.4438443936864575,
          0.3759747147380729,
          0.07985175373593095,
          0.4384639449686284,
          0.01339622916206748,
          0.16916254230166738,
          0.0798853851526287,
          0.3053653598607519,
          0.3053010787615736,
          0.014196862362811799,
          0.07988460663637818,
          0.19236210472590418,
          0.1550124393090681,
          0.08557657260967681,
          0.39413734938232625,
          0.3058061224608781,
          0.44381126775185264,
          0.012271425843549337,
          0.41257241250020454,
          0.2145658372636195,
          0.01420287875755067,
          0.011239356585924943,
          0.07983394447562199,
          0.3761619496746629,
          0.44379180279134156,
          0.014204941868941206,
          0.41681134022316885,
          0.23802198776839098,
          0.42073286149436123,
          0.0798778585429008,
          0.4438423990400857,
          -0.019643179658602773,
          0.38526567139377776,
          0.38685399889774735,
          0.4207480068072857,
          0.44382060174496013,
          0.4090362161316602,
          0.4299130595041731,
          0.4696331677505777,
          0.4437189031647152,
          0.1819992115013993,
          0.4215456283937487,
          0.07988521916516791,
          0.014205298822422203,
          0.43849733799713136,
          0.43793953239096983,
          -0.11253440522074713,
          0.3862459640107361,
          0.1919596550702155,
          0.07988504914181835,
          0.18199571965093578,
          0.2370761327543412,
          0.42074393674179994,
          0.1923624000706084,
          0.4432256243800171,
          0.45352096474206083,
          0.45352212443384704,
          0.45083299998781673,
          0.014196079362989484,
          0.23801937653191615,
          0.2380306331710452,
          0.19307995496060495,
          0.19235540053736544,
          -0.017820238570950355,
          0.1923461620685013,
          0.010113279206353696,
          0.3046200463592907,
          0.4532305663416027,
          0.014046311296933638,
          0.19236076720182457,
          0.007631819266122727,
          0.1781916495534513,
          0.014205458900454274,
          0.014188273756357131,
          0.3306191779314751,
          0.30288505788903525,
          0.3764654632267051,
          0.4436384355518747,
          0.23803375619931266
         ]
        },
        {
         "customdata": [
          [
           "Proof-of-BibleHash"
          ],
          [
           "SHA-256 + Hive"
          ],
          [
           "Proof-of-Authority"
          ],
          [
           "ECC 256K1"
          ],
          [
           "Leased POS"
          ]
         ],
         "hovertemplate": "<b>%{hovertext}</b><br><br>Class=%{marker.color}<br>PC1=%{x}<br>PC2=%{y}<br>PC3=%{z}<br>Algorithm=%{customdata[0]}<extra></extra>",
         "hovertext": [
          "BiblePay",
          "LitecoinCash",
          "Poa Network",
          "Acute Angle Cloud",
          "Waves"
         ],
         "legendgroup": "3",
         "marker": {
          "color": [
           3,
           3,
           3,
           3,
           3
          ],
          "coloraxis": "coloraxis",
          "symbol": "square"
         },
         "mode": "markers",
         "name": "3",
         "scene": "scene",
         "showlegend": true,
         "type": "scatter3d",
         "x": [
          -0.21790723712826351,
          -0.3749844985554481,
          -0.43681695281993577,
          -0.3266475740594355,
          -0.429505290521258
         ],
         "y": [
          3.633342960454933,
          3.271468234436895,
          4.055317313054874,
          2.895803698621535,
          3.5416953499759014
         ],
         "z": [
          14.692286358937332,
          13.160276072350987,
          14.560492517909356,
          17.01247646149117,
          8.897330194348799
         ]
        },
        {
         "customdata": [
          [
           "TRC10"
          ]
         ],
         "hovertemplate": "<b>%{hovertext}</b><br><br>Class=%{marker.color}<br>PC1=%{x}<br>PC2=%{y}<br>PC3=%{z}<br>Algorithm=%{customdata[0]}<extra></extra>",
         "hovertext": [
          "BitTorrent"
         ],
         "legendgroup": "2",
         "marker": {
          "color": [
           2
          ],
          "coloraxis": "coloraxis",
          "symbol": "x"
         },
         "mode": "markers",
         "name": "2",
         "scene": "scene",
         "showlegend": true,
         "type": "scatter3d",
         "x": [
          34.05893340338394
         ],
         "y": [
          1.5652201394332717
         ],
         "z": [
          0.06594042930555015
         ]
        }
       ],
       "layout": {
        "coloraxis": {
         "colorbar": {
          "title": {
           "text": "Class"
          }
         },
         "colorscale": [
          [
           0,
           "#0d0887"
          ],
          [
           0.1111111111111111,
           "#46039f"
          ],
          [
           0.2222222222222222,
           "#7201a8"
          ],
          [
           0.3333333333333333,
           "#9c179e"
          ],
          [
           0.4444444444444444,
           "#bd3786"
          ],
          [
           0.5555555555555556,
           "#d8576b"
          ],
          [
           0.6666666666666666,
           "#ed7953"
          ],
          [
           0.7777777777777778,
           "#fb9f3a"
          ],
          [
           0.8888888888888888,
           "#fdca26"
          ],
          [
           1,
           "#f0f921"
          ]
         ]
        },
        "legend": {
         "title": {
          "text": "Class"
         },
         "tracegroupgap": 0,
         "x": 0,
         "y": 1
        },
        "margin": {
         "t": 60
        },
        "scene": {
         "domain": {
          "x": [
           0,
           1
          ],
          "y": [
           0,
           1
          ]
         },
         "xaxis": {
          "title": {
           "text": "PC1"
          }
         },
         "yaxis": {
          "title": {
           "text": "PC2"
          }
         },
         "zaxis": {
          "title": {
           "text": "PC3"
          }
         }
        },
        "template": {
         "data": {
          "bar": [
           {
            "error_x": {
             "color": "#2a3f5f"
            },
            "error_y": {
             "color": "#2a3f5f"
            },
            "marker": {
             "line": {
              "color": "#E5ECF6",
              "width": 0.5
             }
            },
            "type": "bar"
           }
          ],
          "barpolar": [
           {
            "marker": {
             "line": {
              "color": "#E5ECF6",
              "width": 0.5
             }
            },
            "type": "barpolar"
           }
          ],
          "carpet": [
           {
            "aaxis": {
             "endlinecolor": "#2a3f5f",
             "gridcolor": "white",
             "linecolor": "white",
             "minorgridcolor": "white",
             "startlinecolor": "#2a3f5f"
            },
            "baxis": {
             "endlinecolor": "#2a3f5f",
             "gridcolor": "white",
             "linecolor": "white",
             "minorgridcolor": "white",
             "startlinecolor": "#2a3f5f"
            },
            "type": "carpet"
           }
          ],
          "choropleth": [
           {
            "colorbar": {
             "outlinewidth": 0,
             "ticks": ""
            },
            "type": "choropleth"
           }
          ],
          "contour": [
           {
            "colorbar": {
             "outlinewidth": 0,
             "ticks": ""
            },
            "colorscale": [
             [
              0,
              "#0d0887"
             ],
             [
              0.1111111111111111,
              "#46039f"
             ],
             [
              0.2222222222222222,
              "#7201a8"
             ],
             [
              0.3333333333333333,
              "#9c179e"
             ],
             [
              0.4444444444444444,
              "#bd3786"
             ],
             [
              0.5555555555555556,
              "#d8576b"
             ],
             [
              0.6666666666666666,
              "#ed7953"
             ],
             [
              0.7777777777777778,
              "#fb9f3a"
             ],
             [
              0.8888888888888888,
              "#fdca26"
             ],
             [
              1,
              "#f0f921"
             ]
            ],
            "type": "contour"
           }
          ],
          "contourcarpet": [
           {
            "colorbar": {
             "outlinewidth": 0,
             "ticks": ""
            },
            "type": "contourcarpet"
           }
          ],
          "heatmap": [
           {
            "colorbar": {
             "outlinewidth": 0,
             "ticks": ""
            },
            "colorscale": [
             [
              0,
              "#0d0887"
             ],
             [
              0.1111111111111111,
              "#46039f"
             ],
             [
              0.2222222222222222,
              "#7201a8"
             ],
             [
              0.3333333333333333,
              "#9c179e"
             ],
             [
              0.4444444444444444,
              "#bd3786"
             ],
             [
              0.5555555555555556,
              "#d8576b"
             ],
             [
              0.6666666666666666,
              "#ed7953"
             ],
             [
              0.7777777777777778,
              "#fb9f3a"
             ],
             [
              0.8888888888888888,
              "#fdca26"
             ],
             [
              1,
              "#f0f921"
             ]
            ],
            "type": "heatmap"
           }
          ],
          "heatmapgl": [
           {
            "colorbar": {
             "outlinewidth": 0,
             "ticks": ""
            },
            "colorscale": [
             [
              0,
              "#0d0887"
             ],
             [
              0.1111111111111111,
              "#46039f"
             ],
             [
              0.2222222222222222,
              "#7201a8"
             ],
             [
              0.3333333333333333,
              "#9c179e"
             ],
             [
              0.4444444444444444,
              "#bd3786"
             ],
             [
              0.5555555555555556,
              "#d8576b"
             ],
             [
              0.6666666666666666,
              "#ed7953"
             ],
             [
              0.7777777777777778,
              "#fb9f3a"
             ],
             [
              0.8888888888888888,
              "#fdca26"
             ],
             [
              1,
              "#f0f921"
             ]
            ],
            "type": "heatmapgl"
           }
          ],
          "histogram": [
           {
            "marker": {
             "colorbar": {
              "outlinewidth": 0,
              "ticks": ""
             }
            },
            "type": "histogram"
           }
          ],
          "histogram2d": [
           {
            "colorbar": {
             "outlinewidth": 0,
             "ticks": ""
            },
            "colorscale": [
             [
              0,
              "#0d0887"
             ],
             [
              0.1111111111111111,
              "#46039f"
             ],
             [
              0.2222222222222222,
              "#7201a8"
             ],
             [
              0.3333333333333333,
              "#9c179e"
             ],
             [
              0.4444444444444444,
              "#bd3786"
             ],
             [
              0.5555555555555556,
              "#d8576b"
             ],
             [
              0.6666666666666666,
              "#ed7953"
             ],
             [
              0.7777777777777778,
              "#fb9f3a"
             ],
             [
              0.8888888888888888,
              "#fdca26"
             ],
             [
              1,
              "#f0f921"
             ]
            ],
            "type": "histogram2d"
           }
          ],
          "histogram2dcontour": [
           {
            "colorbar": {
             "outlinewidth": 0,
             "ticks": ""
            },
            "colorscale": [
             [
              0,
              "#0d0887"
             ],
             [
              0.1111111111111111,
              "#46039f"
             ],
             [
              0.2222222222222222,
              "#7201a8"
             ],
             [
              0.3333333333333333,
              "#9c179e"
             ],
             [
              0.4444444444444444,
              "#bd3786"
             ],
             [
              0.5555555555555556,
              "#d8576b"
             ],
             [
              0.6666666666666666,
              "#ed7953"
             ],
             [
              0.7777777777777778,
              "#fb9f3a"
             ],
             [
              0.8888888888888888,
              "#fdca26"
             ],
             [
              1,
              "#f0f921"
             ]
            ],
            "type": "histogram2dcontour"
           }
          ],
          "mesh3d": [
           {
            "colorbar": {
             "outlinewidth": 0,
             "ticks": ""
            },
            "type": "mesh3d"
           }
          ],
          "parcoords": [
           {
            "line": {
             "colorbar": {
              "outlinewidth": 0,
              "ticks": ""
             }
            },
            "type": "parcoords"
           }
          ],
          "pie": [
           {
            "automargin": true,
            "type": "pie"
           }
          ],
          "scatter": [
           {
            "marker": {
             "colorbar": {
              "outlinewidth": 0,
              "ticks": ""
             }
            },
            "type": "scatter"
           }
          ],
          "scatter3d": [
           {
            "line": {
             "colorbar": {
              "outlinewidth": 0,
              "ticks": ""
             }
            },
            "marker": {
             "colorbar": {
              "outlinewidth": 0,
              "ticks": ""
             }
            },
            "type": "scatter3d"
           }
          ],
          "scattercarpet": [
           {
            "marker": {
             "colorbar": {
              "outlinewidth": 0,
              "ticks": ""
             }
            },
            "type": "scattercarpet"
           }
          ],
          "scattergeo": [
           {
            "marker": {
             "colorbar": {
              "outlinewidth": 0,
              "ticks": ""
             }
            },
            "type": "scattergeo"
           }
          ],
          "scattergl": [
           {
            "marker": {
             "colorbar": {
              "outlinewidth": 0,
              "ticks": ""
             }
            },
            "type": "scattergl"
           }
          ],
          "scattermapbox": [
           {
            "marker": {
             "colorbar": {
              "outlinewidth": 0,
              "ticks": ""
             }
            },
            "type": "scattermapbox"
           }
          ],
          "scatterpolar": [
           {
            "marker": {
             "colorbar": {
              "outlinewidth": 0,
              "ticks": ""
             }
            },
            "type": "scatterpolar"
           }
          ],
          "scatterpolargl": [
           {
            "marker": {
             "colorbar": {
              "outlinewidth": 0,
              "ticks": ""
             }
            },
            "type": "scatterpolargl"
           }
          ],
          "scatterternary": [
           {
            "marker": {
             "colorbar": {
              "outlinewidth": 0,
              "ticks": ""
             }
            },
            "type": "scatterternary"
           }
          ],
          "surface": [
           {
            "colorbar": {
             "outlinewidth": 0,
             "ticks": ""
            },
            "colorscale": [
             [
              0,
              "#0d0887"
             ],
             [
              0.1111111111111111,
              "#46039f"
             ],
             [
              0.2222222222222222,
              "#7201a8"
             ],
             [
              0.3333333333333333,
              "#9c179e"
             ],
             [
              0.4444444444444444,
              "#bd3786"
             ],
             [
              0.5555555555555556,
              "#d8576b"
             ],
             [
              0.6666666666666666,
              "#ed7953"
             ],
             [
              0.7777777777777778,
              "#fb9f3a"
             ],
             [
              0.8888888888888888,
              "#fdca26"
             ],
             [
              1,
              "#f0f921"
             ]
            ],
            "type": "surface"
           }
          ],
          "table": [
           {
            "cells": {
             "fill": {
              "color": "#EBF0F8"
             },
             "line": {
              "color": "white"
             }
            },
            "header": {
             "fill": {
              "color": "#C8D4E3"
             },
             "line": {
              "color": "white"
             }
            },
            "type": "table"
           }
          ]
         },
         "layout": {
          "annotationdefaults": {
           "arrowcolor": "#2a3f5f",
           "arrowhead": 0,
           "arrowwidth": 1
          },
          "coloraxis": {
           "colorbar": {
            "outlinewidth": 0,
            "ticks": ""
           }
          },
          "colorscale": {
           "diverging": [
            [
             0,
             "#8e0152"
            ],
            [
             0.1,
             "#c51b7d"
            ],
            [
             0.2,
             "#de77ae"
            ],
            [
             0.3,
             "#f1b6da"
            ],
            [
             0.4,
             "#fde0ef"
            ],
            [
             0.5,
             "#f7f7f7"
            ],
            [
             0.6,
             "#e6f5d0"
            ],
            [
             0.7,
             "#b8e186"
            ],
            [
             0.8,
             "#7fbc41"
            ],
            [
             0.9,
             "#4d9221"
            ],
            [
             1,
             "#276419"
            ]
           ],
           "sequential": [
            [
             0,
             "#0d0887"
            ],
            [
             0.1111111111111111,
             "#46039f"
            ],
            [
             0.2222222222222222,
             "#7201a8"
            ],
            [
             0.3333333333333333,
             "#9c179e"
            ],
            [
             0.4444444444444444,
             "#bd3786"
            ],
            [
             0.5555555555555556,
             "#d8576b"
            ],
            [
             0.6666666666666666,
             "#ed7953"
            ],
            [
             0.7777777777777778,
             "#fb9f3a"
            ],
            [
             0.8888888888888888,
             "#fdca26"
            ],
            [
             1,
             "#f0f921"
            ]
           ],
           "sequentialminus": [
            [
             0,
             "#0d0887"
            ],
            [
             0.1111111111111111,
             "#46039f"
            ],
            [
             0.2222222222222222,
             "#7201a8"
            ],
            [
             0.3333333333333333,
             "#9c179e"
            ],
            [
             0.4444444444444444,
             "#bd3786"
            ],
            [
             0.5555555555555556,
             "#d8576b"
            ],
            [
             0.6666666666666666,
             "#ed7953"
            ],
            [
             0.7777777777777778,
             "#fb9f3a"
            ],
            [
             0.8888888888888888,
             "#fdca26"
            ],
            [
             1,
             "#f0f921"
            ]
           ]
          },
          "colorway": [
           "#636efa",
           "#EF553B",
           "#00cc96",
           "#ab63fa",
           "#FFA15A",
           "#19d3f3",
           "#FF6692",
           "#B6E880",
           "#FF97FF",
           "#FECB52"
          ],
          "font": {
           "color": "#2a3f5f"
          },
          "geo": {
           "bgcolor": "white",
           "lakecolor": "white",
           "landcolor": "#E5ECF6",
           "showlakes": true,
           "showland": true,
           "subunitcolor": "white"
          },
          "hoverlabel": {
           "align": "left"
          },
          "hovermode": "closest",
          "mapbox": {
           "style": "light"
          },
          "paper_bgcolor": "white",
          "plot_bgcolor": "#E5ECF6",
          "polar": {
           "angularaxis": {
            "gridcolor": "white",
            "linecolor": "white",
            "ticks": ""
           },
           "bgcolor": "#E5ECF6",
           "radialaxis": {
            "gridcolor": "white",
            "linecolor": "white",
            "ticks": ""
           }
          },
          "scene": {
           "xaxis": {
            "backgroundcolor": "#E5ECF6",
            "gridcolor": "white",
            "gridwidth": 2,
            "linecolor": "white",
            "showbackground": true,
            "ticks": "",
            "zerolinecolor": "white"
           },
           "yaxis": {
            "backgroundcolor": "#E5ECF6",
            "gridcolor": "white",
            "gridwidth": 2,
            "linecolor": "white",
            "showbackground": true,
            "ticks": "",
            "zerolinecolor": "white"
           },
           "zaxis": {
            "backgroundcolor": "#E5ECF6",
            "gridcolor": "white",
            "gridwidth": 2,
            "linecolor": "white",
            "showbackground": true,
            "ticks": "",
            "zerolinecolor": "white"
           }
          },
          "shapedefaults": {
           "line": {
            "color": "#2a3f5f"
           }
          },
          "ternary": {
           "aaxis": {
            "gridcolor": "white",
            "linecolor": "white",
            "ticks": ""
           },
           "baxis": {
            "gridcolor": "white",
            "linecolor": "white",
            "ticks": ""
           },
           "bgcolor": "#E5ECF6",
           "caxis": {
            "gridcolor": "white",
            "linecolor": "white",
            "ticks": ""
           }
          },
          "title": {
           "x": 0.05
          },
          "xaxis": {
           "automargin": true,
           "gridcolor": "white",
           "linecolor": "white",
           "ticks": "",
           "title": {
            "standoff": 15
           },
           "zerolinecolor": "white",
           "zerolinewidth": 2
          },
          "yaxis": {
           "automargin": true,
           "gridcolor": "white",
           "linecolor": "white",
           "ticks": "",
           "title": {
            "standoff": 15
           },
           "zerolinecolor": "white",
           "zerolinewidth": 2
          }
         }
        },
        "width": 800
       }
      },
      "text/html": [
       "<div>                            <div id=\"35a92b76-1b27-4d0a-ad4a-c61ece4e3e2f\" class=\"plotly-graph-div\" style=\"height:525px; width:800px;\"></div>            <script type=\"text/javascript\">                require([\"plotly\"], function(Plotly) {                    window.PLOTLYENV=window.PLOTLYENV || {};                                    if (document.getElementById(\"35a92b76-1b27-4d0a-ad4a-c61ece4e3e2f\")) {                    Plotly.newPlot(                        \"35a92b76-1b27-4d0a-ad4a-c61ece4e3e2f\",                        [{\"customdata\": [[\"Scrypt\"], [\"Scrypt\"], [\"X13\"], [\"X11\"], [\"SHA-512\"], [\"SHA-256\"], [\"SHA-256\"], [\"X15\"], [\"Scrypt\"], [\"Scrypt\"], [\"Scrypt\"], [\"Scrypt\"], [\"Scrypt\"], [\"Scrypt\"], [\"Groestl\"], [\"PoS\"], [\"Scrypt\"], [\"Scrypt\"], [\"X11\"], [\"X11\"], [\"SHA3\"], [\"Scrypt\"], [\"SHA-256\"], [\"Scrypt\"], [\"X13\"], [\"X13\"], [\"NeoScrypt\"], [\"Scrypt\"], [\"Scrypt\"], [\"Scrypt\"], [\"X11\"], [\"X11\"], [\"Multiple\"], [\"PHI1612\"], [\"X11\"], [\"Scrypt\"], [\"Scrypt\"], [\"Scrypt\"], [\"X11\"], [\"Multiple\"], [\"X13\"], [\"Scrypt\"], [\"Shabal256\"], [\"Counterparty\"], [\"SHA-256\"], [\"Groestl\"], [\"Scrypt\"], [\"X13\"], [\"Scrypt\"], [\"Scrypt\"], [\"X13\"], [\"X11\"], [\"Scrypt\"], [\"X11\"], [\"SHA3\"], [\"QUAIT\"], [\"X11\"], [\"Scrypt\"], [\"X13\"], [\"SHA-256\"], [\"X15\"], [\"BLAKE256\"], [\"SHA-256\"], [\"X11\"], [\"SHA-256\"], [\"NIST5\"], [\"Scrypt\"], [\"Scrypt\"], [\"X11\"], [\"Scrypt\"], [\"SHA-256\"], [\"Scrypt\"], [\"PoS\"], [\"X11\"], [\"SHA-256\"], [\"SHA-256\"], [\"NIST5\"], [\"X11\"], [\"POS 3.0\"], [\"Scrypt\"], [\"Scrypt\"], [\"Scrypt\"], [\"X13\"], [\"X11\"], [\"X11\"], [\"Scrypt\"], [\"SHA-256\"], [\"X11\"], [\"Scrypt\"], [\"Scrypt\"], [\"Scrypt\"], [\"Scrypt\"], [\"SHA-256D\"], [\"PoS\"], [\"Scrypt\"], [\"X11\"], [\"PoS\"], [\"X13\"], [\"X14\"], [\"PoS\"], [\"SHA-256D\"], [\"DPoS\"], [\"X11\"], [\"X13\"], [\"X11\"], [\"PoS\"], [\"Scrypt\"], [\"Scrypt\"], [\"PoS\"], [\"X11\"], [\"SHA-256\"], [\"Scrypt\"], [\"X11\"], [\"Scrypt\"], [\"Scrypt\"], [\"X11\"], [\"Scrypt\"], [\"Scrypt\"], [\"Scrypt\"], [\"Scrypt\"], [\"Quark\"], [\"QuBit\"], [\"Scrypt\"], [\"SHA-256\"], [\"X11\"], [\"Scrypt\"], [\"Scrypt\"], [\"Scrypt\"], [\"Scrypt\"], [\"X13\"], [\"Scrypt\"], [\"Scrypt\"], [\"X11\"], [\"Blake2S\"], [\"X11\"], [\"PoS\"], [\"X11\"], [\"PoS\"], [\"X11\"], [\"Scrypt\"], [\"Scrypt\"], [\"Scrypt\"], [\"SHA-256\"], [\"X11\"], [\"Scrypt\"], [\"PoS\"], [\"Scrypt\"], [\"X15\"], [\"SHA-256\"], [\"POS 3.0\"], [\"536\"], [\"NIST5\"], [\"NIST5\"], [\"Skein\"], [\"X13\"], [\"Scrypt\"], [\"X13\"], [\"SkunkHash v2 Raptor\"], [\"Skein\"], [\"X11\"], [\"Scrypt\"], [\"VeChainThor Authority\"], [\"PoS\"], [\"Scrypt\"], [\"Scrypt\"], [\"SHA-512\"], [\"Ouroboros\"], [\"X11\"], [\"NeoScrypt\"], [\"Scrypt\"], [\"Lyra2REv2\"], [\"Scrypt\"], [\"SHA-256\"], [\"NIST5\"], [\"PHI1612\"], [\"Scrypt\"], [\"Quark\"], [\"POS 2.0\"], [\"Scrypt\"], [\"SHA-256\"], [\"X11\"], [\"DPoS\"], [\"NIST5\"], [\"X13\"], [\"Scrypt\"], [\"NIST5\"], [\"Quark\"], [\"Scrypt\"], [\"Scrypt\"], [\"X11\"], [\"Quark\"], [\"Scrypt\"], [\"Scrypt\"], [\"X11\"], [\"POS 3.0\"], [\"Scrypt\"], [\"Scrypt\"], [\"X13\"], [\"C11\"], [\"X11\"], [\"XEVAN\"], [\"Scrypt\"], [\"VBFT\"], [\"NIST5\"], [\"Scrypt\"], [\"Scrypt\"], [\"Scrypt\"], [\"Green Protocol\"], [\"PoS\"], [\"Scrypt\"], [\"Semux BFT consensus\"], [\"Quark\"], [\"PoS\"], [\"X16R\"], [\"Scrypt\"], [\"XEVAN\"], [\"Scrypt\"], [\"Scrypt\"], [\"Scrypt\"], [\"SHA-256D\"], [\"Scrypt\"], [\"X15\"], [\"Scrypt\"], [\"Quark\"], [\"SHA-256\"], [\"DPoS\"], [\"X16R\"], [\"Quark\"], [\"Quark\"], [\"Scrypt\"], [\"Lyra2REv2\"], [\"Quark\"], [\"Scrypt\"], [\"X11\"], [\"X11\"], [\"Scrypt\"], [\"PoS\"], [\"Keccak\"], [\"X11\"], [\"Scrypt\"], [\"SHA-512\"], [\"XEVAN\"], [\"XEVAN\"], [\"X11\"], [\"Quark\"], [\"Equihash\"], [\"Scrypt\"], [\"Quark\"], [\"Quark\"], [\"Scrypt\"], [\"X11\"], [\"Scrypt\"], [\"XEVAN\"], [\"SHA-256D\"], [\"X11\"], [\"X11\"], [\"DPoS\"], [\"Scrypt\"], [\"X11\"], [\"Scrypt\"], [\"Scrypt\"], [\"SHA-256\"], [\"Scrypt\"], [\"X11\"], [\"Scrypt\"], [\"SHA-256\"], [\"X11\"], [\"Scrypt\"], [\"Scrypt\"], [\"X11\"], [\"Scrypt\"], [\"PoS\"], [\"X11\"], [\"SHA-256\"], [\"DPoS\"], [\"Scrypt\"], [\"Scrypt\"], [\"NeoScrypt\"], [\"X13\"], [\"DPoS\"], [\"DPoS\"], [\"SHA-256\"], [\"PoS\"], [\"PoS\"], [\"SHA-256\"], [\"Scrypt\"], [\"Scrypt\"]], \"hovertemplate\": \"<b>%{hovertext}</b><br><br>Class=%{marker.color}<br>PC1=%{x}<br>PC2=%{y}<br>PC3=%{z}<br>Algorithm=%{customdata[0]}<extra></extra>\", \"hovertext\": [\"42 Coin\", \"404Coin\", \"EliteCoin\", \"Dash\", \"Bitshares\", \"BitcoinDark\", \"PayCoin\", \"KoboCoin\", \"Aurora Coin\", \"BlueCoin\", \"EnergyCoin\", \"BitBar\", \"CryptoBullion\", \"CasinoCoin\", \"Diamond\", \"Exclusive Coin\", \"FlutterCoin\", \"HoboNickels\", \"HyperStake\", \"IOCoin\", \"MaxCoin\", \"MintCoin\", \"MazaCoin\", \"Nautilus Coin\", \"NavCoin\", \"OpalCoin\", \"Orbitcoin\", \"PotCoin\", \"PhoenixCoin\", \"Reddcoin\", \"SuperCoin\", \"SyncCoin\", \"TeslaCoin\", \"TittieCoin\", \"TorCoin\", \"UnitaryStatus Dollar\", \"UltraCoin\", \"VeriCoin\", \"X11 Coin\", \"Crypti\", \"StealthCoin\", \"ZCC Coin\", \"BurstCoin\", \"StorjCoin\", \"Neutron\", \"FairCoin\", \"RubyCoin\", \"Kore\", \"Dnotes\", \"8BIT Coin\", \"Sativa Coin\", \"Ucoin\", \"Vtorrent\", \"IslaCoin\", \"Nexus\", \"Droidz\", \"Squall Coin\", \"Diggits\", \"Paycon\", \"Emercoin\", \"EverGreenCoin\", \"Decred\", \"EDRCoin\", \"Hitcoin\", \"DubaiCoin\", \"PWR Coin\", \"BillaryCoin\", \"GPU Coin\", \"EuropeCoin\", \"ZeitCoin\", \"SwingCoin\", \"SafeExchangeCoin\", \"Nebuchadnezzar\", \"Ratecoin\", \"Revenu\", \"Clockcoin\", \"VIP Tokens\", \"BitSend\", \"Let it Ride\", \"PutinCoin\", \"iBankCoin\", \"Frankywillcoin\", \"MudraCoin\", \"Lutetium Coin\", \"GoldBlocks\", \"CarterCoin\", \"BitTokens\", \"MustangCoin\", \"ZoneCoin\", \"RootCoin\", \"BitCurrency\", \"Swiscoin\", \"BuzzCoin\", \"Opair\", \"PesoBit\", \"Halloween Coin\", \"CoffeeCoin\", \"RoyalCoin\", \"GanjaCoin V2\", \"TeamUP\", \"LanaCoin\", \"ARK\", \"InsaneCoin\", \"EmberCoin\", \"XenixCoin\", \"FreeCoin\", \"PLNCoin\", \"AquariusCoin\", \"Creatio\", \"Eternity\", \"Eurocoin\", \"BitcoinFast\", \"Stakenet\", \"BitConnect Coin\", \"MoneyCoin\", \"Enigma\", \"Russiacoin\", \"PandaCoin\", \"GameUnits\", \"GAKHcoin\", \"Allsafe\", \"LiteCreed\", \"Klingon Empire Darsek\", \"Internet of People\", \"KushCoin\", \"Printerium\", \"Impeach\", \"Zilbercoin\", \"FirstCoin\", \"FindCoin\", \"OpenChat\", \"RenosCoin\", \"VirtacoinPlus\", \"TajCoin\", \"Impact\", \"Atmos\", \"HappyCoin\", \"MacronCoin\", \"Condensate\", \"Independent Money System\", \"ArgusCoin\", \"LomoCoin\", \"ProCurrency\", \"GoldReserve\", \"GrowthCoin\", \"Phreak\", \"Degas Coin\", \"HTML5 Coin\", \"Ultimate Secure Cash\", \"QTUM\", \"Espers\", \"Denarius\", \"Virta Unique Coin\", \"Bitcoin Planet\", \"BritCoin\", \"Linda\", \"DeepOnion\", \"Signatum\", \"Cream\", \"Monoeci\", \"Draftcoin\", \"Vechain\", \"Stakecoin\", \"CoinonatX\", \"Ethereum Dark\", \"Obsidian\", \"Cardano\", \"Regalcoin\", \"TrezarCoin\", \"TerraNovaCoin\", \"Rupee\", \"WomenCoin\", \"Theresa May Coin\", \"NamoCoin\", \"LUXCoin\", \"Xios\", \"Bitcloud 2.0\", \"KekCoin\", \"BlackholeCoin\", \"Infinity Economics\", \"Magnet\", \"Lamden Tau\", \"Electra\", \"Bitcoin Diamond\", \"Cash & Back Coin\", \"Bulwark\", \"Kalkulus\", \"GermanCoin\", \"LiteCoin Ultra\", \"PhantomX\", \"Digiwage\", \"Trollcoin\", \"Litecoin Plus\", \"Monkey Project\", \"TokenPay\", \"My Big Coin\", \"Unified Society USDEX\", \"Tokyo Coin\", \"Stipend\", \"Pushi\", \"Ellerium\", \"Velox\", \"Ontology\", \"Bitspace\", \"Briacoin\", \"Ignition\", \"MedicCoin\", \"Bitcoin Green\", \"Deviant Coin\", \"Abjcoin\", \"Semux\", \"Carebit\", \"Zealium\", \"Proton\", \"iDealCash\", \"Bitcoin Incognito\", \"HollyWoodCoin\", \"Swisscoin\", \"Xt3ch\", \"TheVig\", \"EmaratCoin\", \"Dekado\", \"Lynx\", \"Poseidon Quark\", \"BitcoinWSpectrum\", \"Muse\", \"Trivechain\", \"Dystem\", \"Giant\", \"Peony Coin\", \"Absolute Coin\", \"Vitae\", \"TPCash\", \"ARENON\", \"EUNO\", \"MMOCoin\", \"Ketan\", \"XDNA\", \"PAXEX\", \"ThunderStake\", \"Kcash\", \"Bettex coin\", \"BitMoney\", \"Junson Ming Chan Coin\", \"HerbCoin\", \"PirateCash\", \"Oduwa\", \"Galilel\", \"Crypto Sports\", \"Credit\", \"Dash Platinum\", \"Nasdacoin\", \"Beetle Coin\", \"Titan Coin\", \"Award\", \"Insane Coin\", \"ALAX\", \"LiteDoge\", \"TruckCoin\", \"OrangeCoin\", \"BitstarCoin\", \"NeosCoin\", \"HyperCoin\", \"PinkCoin\", \"AudioCoin\", \"IncaKoin\", \"Piggy Coin\", \"Genstake\", \"XiaoMiCoin\", \"CapriCoin\", \" ClubCoin\", \"Radium\", \"Creditbit \", \"OKCash\", \"Lisk\", \"HiCoin\", \"WhiteCoin\", \"FriendshipCoin\", \"Triangles Coin\", \"EOS\", \"Oxycoin\", \"TigerCash\", \"Particl\", \"Nxt\", \"ZEPHYR\", \"Gapcoin\", \"BitcoinPlus\"], \"legendgroup\": \"1\", \"marker\": {\"color\": [1, 1, 1, 1, 1, 1, 1, 1, 1, 1, 1, 1, 1, 1, 1, 1, 1, 1, 1, 1, 1, 1, 1, 1, 1, 1, 1, 1, 1, 1, 1, 1, 1, 1, 1, 1, 1, 1, 1, 1, 1, 1, 1, 1, 1, 1, 1, 1, 1, 1, 1, 1, 1, 1, 1, 1, 1, 1, 1, 1, 1, 1, 1, 1, 1, 1, 1, 1, 1, 1, 1, 1, 1, 1, 1, 1, 1, 1, 1, 1, 1, 1, 1, 1, 1, 1, 1, 1, 1, 1, 1, 1, 1, 1, 1, 1, 1, 1, 1, 1, 1, 1, 1, 1, 1, 1, 1, 1, 1, 1, 1, 1, 1, 1, 1, 1, 1, 1, 1, 1, 1, 1, 1, 1, 1, 1, 1, 1, 1, 1, 1, 1, 1, 1, 1, 1, 1, 1, 1, 1, 1, 1, 1, 1, 1, 1, 1, 1, 1, 1, 1, 1, 1, 1, 1, 1, 1, 1, 1, 1, 1, 1, 1, 1, 1, 1, 1, 1, 1, 1, 1, 1, 1, 1, 1, 1, 1, 1, 1, 1, 1, 1, 1, 1, 1, 1, 1, 1, 1, 1, 1, 1, 1, 1, 1, 1, 1, 1, 1, 1, 1, 1, 1, 1, 1, 1, 1, 1, 1, 1, 1, 1, 1, 1, 1, 1, 1, 1, 1, 1, 1, 1, 1, 1, 1, 1, 1, 1, 1, 1, 1, 1, 1, 1, 1, 1, 1, 1, 1, 1, 1, 1, 1, 1, 1, 1, 1, 1, 1, 1, 1, 1, 1, 1, 1, 1, 1, 1, 1, 1, 1, 1, 1, 1, 1, 1, 1, 1, 1, 1, 1, 1, 1, 1, 1, 1, 1, 1, 1, 1, 1, 1, 1, 1, 1, 1, 1], \"coloraxis\": \"coloraxis\", \"symbol\": \"circle\"}, \"mode\": \"markers\", \"name\": \"1\", \"scene\": \"scene\", \"showlegend\": true, \"type\": \"scatter3d\", \"x\": [-0.33701255045531037, -0.320358001432616, 2.31396781078984, -0.38639381174481074, -0.3564469491461954, -0.3145211042968327, -0.26984860986375014, -0.23931579369240238, -0.3366722982348941, -0.329252767698645, -0.33550971087537956, -0.3370084893184107, -0.3369927776593452, 0.6669022342853803, -0.36455514008812695, -0.3371173601102289, -0.29534320494853517, -0.3350723530796747, -0.32155285096481984, -0.386288549127971, -0.39341643503295387, -0.032362528122441406, -0.2778471010447808, -0.292091298774673, -0.2682687645955236, -0.26889072964323363, -0.34247544349833253, -0.3313179687595765, -0.33541513647243826, 0.020988550642349498, -0.3414316627895497, -0.38665992684400935, -0.24141143055447495, -0.3124863835086225, -0.3865716232138668, -0.31225786843115977, -0.3356906863760687, -0.29572065386246243, -0.3865361032514072, -0.24187876527136715, -0.26867167895949523, -0.32812136226208105, 0.02733939163887433, -0.34143310789254844, -0.31373322951005317, -0.3639769200933047, -0.2920715302375156, -0.2689661133292549, -0.28672876429664057, -0.33699462602170754, -0.26891831310879494, -0.3418763770753994, -0.33672915593454655, -0.3866414629794024, -0.3684601422554888, -0.4176038787653313, -0.36469583385613935, -0.2904739152084844, -0.26844022628355263, -0.307082909834074, -0.24175556774864018, -0.07021053917239271, -0.3144920296518488, -0.06429465699750252, -0.31455567369536264, -0.23152842591445644, -0.3366051335175205, -0.2903432793353171, -0.38381262379428305, 0.8603980573125182, -0.3143558801877959, -0.06349665767764537, -0.336800802257544, -0.38448547098892066, -0.3131003212196054, -0.31077013839868245, -0.35283968112842296, -0.3853774589103011, -0.33542492186341394, -0.3129152138527411, -0.3366432214291604, -0.3350829598004698, -0.22298892730939615, -0.32937348778264014, -0.38611568584180894, -0.3358478608954708, -0.3145366564216015, -0.38663066545414554, -0.3368322576606919, -0.3369888613812631, -0.2903323718715551, -0.2524916246836706, 0.04220696283339044, -0.33575841001841544, -0.336603169605954, -0.37280179752277215, -0.3350872371713322, -0.2244185320806701, -0.4146993577343878, -0.33483685465555363, -0.27216791101140725, 3.7440093913121477, -0.3862234281891865, 0.8628023766002083, -0.38658559483682503, -0.3362219248179632, -0.3365308385576094, -0.3366851117955705, -0.336800802257544, -0.3861607917953408, -0.31439938102207077, -0.3365315618025261, -0.35365520479236384, -0.33667888352499337, -0.33227003247941894, -0.3866145798796453, -0.3358901541747308, 0.350855475159435, -0.33687804811045197, -0.3369485700841886, -0.348406251032915, -0.3504767703666951, -0.3331779190027437, -0.31451307937001155, -0.38652457639556764, -0.33672650586174846, -0.3368534134789521, -0.2919781993325126, -0.3117970953806749, -0.22418650396544199, -0.31771663661304705, -0.29171938580752277, -0.3857908115541288, -0.4089059555856748, -0.384529699406214, -0.3350482445683833, -0.3856887368338973, -0.3294509965698122, -0.38163220467999326, -0.336796720662346, -0.33679592740804853, -0.3299225100076586, 0.26243936185730704, -0.3861668943277249, -0.2746314479061892, -0.3368351052877657, -0.3360079052769159, 0.8919741922265705, -0.2685399524331724, -0.33420390017750673, 0.5885263292523819, -0.3543745497199538, -0.35287761034911386, -0.3973565412090151, -0.26860357529288154, 0.12764072236499835, -0.26867429514159574, -0.3474180573644617, -0.39686162094140626, -0.38643910383413654, -0.2920522886647559, 4.350810456468616, -0.3367015024684655, -0.33643212017533475, -0.33693150842419767, -0.41448046096993957, 0.659797230216009, -0.3863799937451725, -0.3374775295509635, -0.336887166721924, -0.3208414085187058, 0.4318719090264557, -0.31286017443016306, -0.33915002109532094, -0.3926738308009947, -0.33683753667956395, -0.39145816160218283, -0.34329863722682, -0.3367079730137706, -0.09642041408481648, -0.38517338117017164, 3.748862661489694, 0.2048315650198653, -0.26534687871734647, -0.3341696763005383, -0.3095291718291938, -0.3482922107290033, 0.07716335218970738, -0.33584714340790855, -0.3857540849666376, -0.3474574975242355, -0.32341945190995913, -0.3369536307904841, -0.3418483197982573, -0.3357067088215135, -0.3004893669957721, -0.33250114052726043, -0.21598722032095727, -0.3630995178327977, -0.38645637645988073, -0.3301486475506772, -0.29121283822721483, -0.3282731219947345, -0.353973756143738, -0.33698097254838916, -0.3369626951552258, -0.2855973053269588, -0.35780405549206407, -0.33629617781933135, -0.33667937271641657, 3.934421952721139, -0.39012671335239735, -0.33648475495446706, -0.31648241921057, -0.28358143757333365, -0.3083367757624796, -0.29174663759753805, -0.14019422180828012, -0.29199863611905413, -0.33744097939033785, -0.3361537300123955, -0.1964906672064936, 2.2192455576867998, -0.3440032239897392, -0.26866740811443046, 1.032567514901504, -0.3604283611006188, -0.34840570021704675, -0.3931412194402041, -0.17281395430877597, -0.3653788308053268, -0.34712591076714416, -0.3298626248726739, -0.3414259684115646, -0.38592997518197325, -0.2892456733705891, -0.33558519140545795, -0.3474488403700635, -0.3412874996240183, -0.1965575790561785, -0.5549734626512902, -0.28553267484153977, 0.4648060522414038, -0.131883669933692, -0.3924362332889755, -0.271699709643546, -0.3366833254965518, -0.3928920957522787, -0.34852261413428903, 0.5693087418365871, -0.34190261056631505, -0.3361665869243237, -0.32460740769716584, -0.2921892564851211, -0.38349638390243074, -0.3861570787061137, 3.7610984524371442, 0.09799911635167645, -0.383697638329285, -0.33555256860918203, -0.3363769242462446, -0.2698812450291324, -0.3368949352499771, -0.3777892392007083, -0.2506545455222466, -0.0942671903142179, -0.3735403562086306, -0.3361735734736548, -0.32924147269428794, -0.3827274327503406, -0.334613693407282, -0.33707630015896467, -0.355675757414308, -0.3130369346600733, 3.744400975157823, -0.09937878108140738, -0.3318098839305728, -0.3421015706709181, -0.2690732496047266, 3.7542654064609753, 3.7555090470902757, -0.25078773118423303, -0.3370121913772856, -0.29901861231274873, 2.47809349282065, -0.33505922982081526, -0.2923948556118514], \"y\": [1.030016963701282, 1.0301724306051945, 1.6287555189507779, 1.1793097550760145, 2.1436142095302433, 0.7969030066714899, 0.5916615487022425, 1.8168524800778292, 1.0300161320070096, 1.0302577859902866, 1.0300636038531397, 1.0300167501027913, 1.0300168980458273, 0.3888205371706074, 0.8998609172080944, 1.5454354571804556, 0.45050852573281425, 1.0299956579753622, 0.9747027102850963, 1.179313021866095, 1.8469032066669258, 0.8328373677206353, 0.7964126915883717, 0.8247657807645343, 1.762033255946954, 1.7620139534698844, 0.505533729481842, 1.0299083762096253, 1.029999964981444, 1.0411274080711697, 0.9740857780140116, 1.179316440777599, 0.06835874957451026, 1.5602181160653632, 1.1793123886696482, 1.029698295259496, 1.0299900547302414, 0.4847964239988445, 1.1793165479871903, 0.06841217860681024, 1.762020751634533, 1.0296135726911941, 0.5747793848109835, 1.4505468702219189, 0.7968962091017247, 0.8998818375203558, 0.8247773857705741, 1.7620034620493639, 0.824603533679148, 1.0300175200086086, 1.7620063041653822, 0.9740583899332443, 1.0300121722621418, 1.1793170144767828, 1.8733156729105922, 1.7788781962288318, 0.8916877547973706, 0.8247590346094303, 1.761993968386453, 0.7964694676327371, 1.8169966617200146, 0.9513119831654623, 0.7969039089933648, 1.171284832064266, 0.7969097460717909, 1.4558873756390456, 1.0300010760824032, 0.8246808546390756, 1.1791439453361818, 0.7932906109393899, 0.7968959064768237, 0.3918670538989858, 1.5454316949256925, 1.1793329755099393, 0.7968107424696873, 0.7966777156202858, 1.4520613820912194, 1.1792618160937292, 1.4728703485962715, 1.0294061643291228, 1.029998308942835, 1.0300089153210952, 1.5566683278444011, 0.9740136821993153, 1.1792993654898531, 1.0299919701325226, 0.7969032033425916, 1.1793153115961008, 1.030008293208494, 1.0300176989122949, 0.8248313599683249, 0.42682361149861187, 1.8454751651440542, 1.5454273616111633, 1.030029668727442, 1.178727534729613, 1.5454712883921022, 1.5567581273570112, 1.8652259245302418, 1.5453017547513834, 1.844206146307609, 1.7041960495292616, 1.1793096082639283, 1.7965582430435303, 1.1793161306604818, 1.5454292804106227, 1.0300057322698801, 1.0299985939833147, 1.5454316949256925, 1.179291172380802, 0.7969081429647545, 1.030009473290745, 0.7436372464394296, 1.0300082978408407, 1.0297221359887223, 1.179314452154345, 1.029953973965999, 0.8226421788791239, 1.0300123067259173, 1.0300166968372428, 1.3976926341808138, 0.5133573279546377, 1.0297963071893477, 0.7969039350484955, 1.1793142875965594, 1.0300122545062642, 1.0300070026072998, 0.8247429193291245, 0.4255197400839078, 1.556757159560821, 1.0299364798690112, 0.8247649276878234, 1.1792754815502229, 1.9101408111019642, 1.179307826482729, 1.5454247485940789, 1.1792786494049985, 1.5454016497715808, 1.1791328120873363, 1.0300092519880135, 1.0300042578274546, 1.029557674673796, 0.5572399627035626, 1.1793045695125144, 0.8239599807119133, 1.5454238370817501, 1.0299768133173934, 1.7910601023231363, 0.5915747316067858, 1.4728630674107306, 1.8010367121041133, 1.4520680940452857, 1.4520398251879076, 1.9167572836978999, 1.7620024854263874, 1.0104710181162386, 1.7620078324103279, 1.434231764719107, 1.916772643382744, 1.1793168360879052, 0.8247661586503665, 4.145080267666507, 1.5454065167199191, 1.0300021983468637, 1.03001662567255, 2.1441970374948434, 1.4629138276804947, 1.1793067872825687, 0.5054196686923906, 1.030010166908448, 0.5805620706650881, 1.0368958833638011, 0.7969015656390782, 1.4517321841503026, 1.765885523395493, 1.0300081293759107, 1.6028651646993648, 1.4441472202661667, 1.0300163701270815, 0.5909383914909617, 1.1792647529476437, 1.7040919218616808, 1.449049879254717, 1.761981277218658, 1.0299625328991266, 1.2468135128352669, 1.3976927767530332, 1.0089044698287857, 1.0299512328342226, 1.179310587651978, 1.3976507491891352, 1.0298274275139458, 1.0300160749775351, 0.9740585813553607, 1.4728673777040966, 0.4429321384445971, 1.0299993701744143, 1.5564780278242896, 0.9053164044977231, 1.1793057754227607, 1.5737750948404443, 0.824719798554764, 1.4445067149373478, 1.4520533594962444, 1.0300159057613179, 1.0300151143419212, 0.8246386481295467, 1.374894370615653, 1.545401161602232, 1.0300069240067722, 1.7204465023939202, 1.6029064857501307, 1.545400743782669, 0.6134851595709091, 1.0281957053477166, 1.2861681777643463, 0.8247698062266154, 1.029196028581044, 0.8247497576672643, 1.8472115074873963, 1.0299865535433887, 1.6117238608477686, 0.35536926475855607, 1.3973979085853563, 0.5916385877477509, 1.578202820318952, 0.8187301130925283, 1.3976885753186716, 1.6029452975716616, 0.8170114803540013, 0.785794813357515, 1.3976746263949138, 1.029559533188916, 0.9740485918022804, 1.179305128958019, 0.8246884605096513, 1.5453403490448534, 0.8495192675811519, 0.9740223194607883, 1.022148067167725, 3.385580317329952, 1.3685322224014573, 1.559967336381744, 0.9805890298317576, 1.6029339921808117, -0.09555275907042664, 1.0300129152683573, 1.602943596599875, 1.3976901301924363, 1.007330750279007, 0.9740577795834612, 1.0299861545334315, 1.5736481618857499, 1.8452871817292371, 1.1791293039962012, 1.1793116673979263, 1.7041319924940797, 1.0197409921169651, 1.1794083750894333, 1.0299264085600948, 1.0299998325793747, 0.5916547616090599, 1.03002061387834, 1.1792520772346573, 1.0255641315817614, 0.8036243863850843, 1.179044276852064, 1.0300328112082902, 1.0299864060917225, 1.1792971852684997, 1.0299827192812467, 1.5454306175275059, 0.5126133686784594, 0.796892683314068, 1.7041844812227647, 0.8239582775834938, 1.0299746289175216, 0.5055070197686774, 1.7620082075048422, 1.7045992572874955, 1.7046378532581499, 0.5915822621799398, 1.5454328556603303, 1.8616298017271948, 0.717510021935856, 1.0299077528598544, 0.8247666721497174], \"z\": [-0.5105972404355621, -0.510779635079076, -0.5601511532835859, -0.4449191105476207, -0.45533523400448017, -0.3324387797217216, -0.09852965122117027, -0.595200542868957, -0.5106006926853813, -0.5106937375258969, -0.510615929059134, -0.510597267712816, -0.5105974398686485, -0.4329499364138185, -0.34659720618982537, -0.17609702956545276, -0.35609232581598993, -0.510615793327903, -0.21126136849409904, -0.44492041954509554, -0.5526742904552343, -0.2799206315526117, -0.3327834805944462, -0.2766900124221779, -0.5426336843757944, -0.542625949904604, -0.21943689488699342, -0.5106485448451408, -0.5106125526251195, -0.515049177428016, -0.21101416473573553, -0.4449168232100084, 0.03971013231151647, -0.32730089512892613, -0.4449174568171513, -0.5108307514535887, -0.5106090331047617, -0.2783003676607751, -0.44491810757124683, 0.03971129844474746, -0.54262867391813, -0.5106613529003337, -0.5831548397881224, -0.13089272049504302, -0.33244644047399813, -0.3466046001373358, -0.27669100988458745, -0.5426244550166092, -0.27673422293229605, -0.5105974633375275, -0.5426251423466857, -0.21100770538821173, -0.5105998355161375, -0.4449170528645883, -0.3824281445115856, -0.6296086793759353, -0.3433707053537953, -0.2767062316637809, -0.5426292294439722, -0.33248584541676013, -0.5951852402991008, -0.34732663978975176, -0.3324391412806304, -0.44769224876008595, -0.33243888405661065, -0.5459719527041381, -0.5106003558080705, -0.2767022327805884, -0.4449343925702392, -0.2864236194252083, -0.3324399981959933, -0.4256254425742305, -0.17610003704801092, -0.4449403797193625, -0.33244712339446963, -0.33246205851363636, -0.5444592008613379, -0.44492631429510643, -0.15781334469387565, -0.5108039953031231, -0.5105997737710591, -0.5106165905128641, -0.3087223763434378, -0.2111335942017839, -0.4449212684740286, -0.5106075430973792, -0.33243863277691593, -0.4449170477748556, -0.5105985069362413, -0.5105975350239441, -0.2767126372579057, -0.3174799250177862, -0.699112028096555, -0.17611049122812703, -0.5106023313094197, -0.445019475182517, -0.17612041707455425, -0.3087137731474028, -0.7332775620502031, -0.17611140614893278, -0.6957830063600172, 0.4466973874384052, -0.444920857725026, -0.5566596786010996, -0.44491756861165077, -0.17610584207363864, -0.5106014404377618, -0.5105993612349997, -0.17610003704801092, -0.44492024301451133, -0.3324403863248923, -0.5106016888004381, -0.13153428335500794, -0.51060008904659, -0.5106259902861707, -0.4449171548991339, -0.5106045086274107, -0.2831756978345127, -0.5105983091413789, -0.5105978820354433, -0.23710878762083432, -0.33172546610643894, -0.5106216990185649, -0.33243892597028246, -0.444918071879193, -0.5105998684712235, -0.510598200494922, -0.2766896155203161, -0.27125295635277535, -0.3087160999424428, -0.5107907412816847, -0.27669378973660047, -0.4449229857480551, -0.5885643652662775, -0.4449382038159061, -0.17611763669234315, -0.4449242551023152, -0.17617378323021524, -0.4449561185647018, -0.5105989390040787, -0.51059860567015, -0.5106389546556096, -0.10166545050105086, -0.4449210962114875, -0.2768149781988267, -0.17609914592867856, -0.5106048560451361, -0.6051041199871989, -0.09853721099714148, -0.1578254395493225, -0.5736517690951168, -0.5444438302827126, -0.5444573355631074, -0.6506779089752059, -0.5426281271961043, -0.5140527416161407, -0.5426277634831143, -0.15639542333200332, -0.65068406357596, -0.44491912765655317, -0.2766904405860858, -5.582431284369771, -0.17609933939878722, -0.5106022168903446, -0.5105980531310272, -0.45477657239357483, -0.10397943631158511, -0.44491905011059063, -0.2194806400728415, -0.5105980687715517, -0.07618855210111952, -0.5189973772646082, -0.3324558108488942, -0.5445778749434231, -0.5608728748795487, -0.5105984412887914, -0.4710299162335808, -0.21510667337609066, -0.5106003410439929, -0.10026881678691615, -0.4449286198406788, 0.4466544547519292, -0.5500046969070116, -0.5426602642090849, -0.5106228377173658, -0.31053558737646014, -0.23710997350227314, -0.5134250282633674, -0.510604764763941, -0.4449257651761535, -0.2371157081853616, -0.5107244691206072, -0.5105977873183103, -0.2110080078413392, -0.1578102353821402, -0.38869079406223894, -0.5106425648668248, -0.3087815737924925, -0.36979098210699496, -0.44491819315881737, -0.637329658573366, -0.2766959278547572, -0.18050667458629133, -0.5444469561967146, -0.5105974937630509, -0.5105976281437777, -0.2767482932355015, -0.19539231064065976, -0.17610315343547855, -0.5105999900547042, 0.5720757049770755, -0.47104647351146584, -0.1761011800110877, -0.10889449374945541, -0.5110237487063527, -0.5357834594341494, -0.2766938422891481, -0.5125709491407413, -0.2766898723747344, -0.6953153407835165, -0.5106040181753382, -0.3612800781434143, -0.4186469538292596, -0.23713404318243678, -0.09854026317414143, 0.11705298169822614, -0.34281135444071076, -0.23710851574494876, -0.4710180380673203, -0.27738989427255933, -0.3100984776657441, -0.23712076073098382, -0.5106396993595974, -0.21101168056393216, -0.44492357788635584, -0.27671407283212024, -0.17610632751533084, -0.44422141240388313, -0.2110113120562324, -0.5115076971088173, -0.8886741267489545, -0.403419850421791, -0.8021024687820127, -0.21362000716979332, -0.4710245357064636, -0.05286399579881407, -0.5106003589881164, -0.4710204910374949, -0.23710741630328866, -0.5183930561877705, -0.21100739309686692, -0.5106038582926966, -0.637378127007125, -0.6956504445019875, -0.4449366528305744, -0.4449216828166726, 0.44652552321645894, -0.514380946186577, -0.4449536609135949, -0.5106061052474625, -0.5106026243646015, -0.0985288505240318, -0.5105987030461007, -0.44500390791539923, -0.5111833790947304, -0.3351699517493293, -0.4450335179380107, -0.510606976755334, -0.5106752962801526, -0.4449560634571042, -0.5106196388380545, -0.17609712207974923, -0.16057760227873752, -0.33245338046868045, 0.4466941399903923, -0.27862229517898374, -0.5106480021259525, -0.21943892426320674, -0.5426236745958218, 0.44656404156953794, 0.44654857622682326, -0.09872080995447266, -0.17609793630282058, -0.09117854563719682, 0.23074821553935654, -0.510609917468515, -0.27668694270471894]}, {\"customdata\": [[\"SHA-256\"], [\"Ethash\"], [\"Scrypt\"], [\"CryptoNight-V7\"], [\"Ethash\"], [\"Equihash\"], [\"Multiple\"], [\"Scrypt\"], [\"X11\"], [\"Scrypt\"], [\"Multiple\"], [\"Scrypt\"], [\"SHA-256\"], [\"Scrypt\"], [\"Scrypt\"], [\"Quark\"], [\"Groestl\"], [\"Scrypt\"], [\"Scrypt\"], [\"Scrypt\"], [\"X11\"], [\"Multiple\"], [\"SHA-256\"], [\"Scrypt\"], [\"Scrypt\"], [\"Scrypt\"], [\"Scrypt\"], [\"Scrypt\"], [\"NeoScrypt\"], [\"Scrypt\"], [\"Scrypt\"], [\"Scrypt\"], [\"Scrypt\"], [\"SHA-256\"], [\"Scrypt\"], [\"Scrypt\"], [\"Scrypt\"], [\"Scrypt\"], [\"HybridScryptHash256\"], [\"Scrypt\"], [\"Scrypt\"], [\"SHA-256\"], [\"Scrypt\"], [\"Scrypt\"], [\"Scrypt\"], [\"Scrypt\"], [\"SHA-256\"], [\"SHA-256\"], [\"SHA-256\"], [\"SHA-256\"], [\"SHA-256\"], [\"X11\"], [\"Scrypt\"], [\"Lyra2REv2\"], [\"Scrypt\"], [\"SHA-256\"], [\"CryptoNight\"], [\"CryptoNight\"], [\"Scrypt\"], [\"Scrypt\"], [\"Scrypt\"], [\"Scrypt\"], [\"Scrypt\"], [\"Scrypt\"], [\"Stanford Folding\"], [\"Multiple\"], [\"QuBit\"], [\"Scrypt\"], [\"Scrypt\"], [\"M7 POW\"], [\"Scrypt\"], [\"SHA-256\"], [\"Scrypt\"], [\"X11\"], [\"Lyra2RE\"], [\"SHA-256\"], [\"X11\"], [\"Scrypt\"], [\"Scrypt\"], [\"Ethash\"], [\"Blake2b\"], [\"X11\"], [\"SHA-256\"], [\"Scrypt\"], [\"1GB AES Pattern Search\"], [\"Scrypt\"], [\"SHA-256\"], [\"X11\"], [\"Dagger\"], [\"Scrypt\"], [\"X11GOST\"], [\"Scrypt\"], [\"X11\"], [\"Scrypt\"], [\"X11\"], [\"Equihash\"], [\"CryptoNight\"], [\"SHA-256\"], [\"Multiple\"], [\"Scrypt\"], [\"SHA-256\"], [\"Scrypt\"], [\"Lyra2Z\"], [\"Ethash\"], [\"Equihash\"], [\"Scrypt\"], [\"X11\"], [\"X11\"], [\"CryptoNight\"], [\"Scrypt\"], [\"CryptoNight\"], [\"Lyra2RE\"], [\"X11\"], [\"CryptoNight-V7\"], [\"Scrypt\"], [\"X11\"], [\"Equihash\"], [\"Scrypt\"], [\"Lyra2RE\"], [\"Dagger-Hashimoto\"], [\"Scrypt\"], [\"NIST5\"], [\"Scrypt\"], [\"SHA-256\"], [\"Scrypt\"], [\"CryptoNight-V7\"], [\"Argon2d\"], [\"Blake2b\"], [\"Cloverhash\"], [\"CryptoNight\"], [\"X11\"], [\"Scrypt\"], [\"Scrypt\"], [\"X11\"], [\"X11\"], [\"CryptoNight\"], [\"Time Travel\"], [\"Scrypt\"], [\"Keccak\"], [\"X11\"], [\"SHA-256\"], [\"Scrypt\"], [\"Scrypt\"], [\"Scrypt\"], [\"Scrypt\"], [\"Scrypt\"], [\"Scrypt\"], [\"CryptoNight\"], [\"Equihash\"], [\"X11\"], [\"NeoScrypt\"], [\"Equihash\"], [\"Dagger\"], [\"Scrypt\"], [\"X11\"], [\"NeoScrypt\"], [\"Ethash\"], [\"NeoScrypt\"], [\"Multiple\"], [\"CryptoNight\"], [\"CryptoNight\"], [\"Ethash\"], [\"X11\"], [\"CryptoNight-V7\"], [\"Scrypt\"], [\"BLAKE256\"], [\"X11\"], [\"NeoScrypt\"], [\"NeoScrypt\"], [\"Scrypt\"], [\"X11\"], [\"SHA-256\"], [\"C11\"], [\"Ethash\"], [\"CryptoNight\"], [\"SkunkHash\"], [\"CryptoNight\"], [\"Scrypt\"], [\"Dagger\"], [\"Lyra2REv2\"], [\"Scrypt\"], [\"Scrypt\"], [\"X11\"], [\"Ethash\"], [\"CryptoNight\"], [\"Scrypt\"], [\"IMesh\"], [\"Equihash\"], [\"Lyra2Z\"], [\"X11\"], [\"CryptoNight\"], [\"NIST5\"], [\"Lyra2RE\"], [\"Tribus\"], [\"Lyra2Z\"], [\"CryptoNight\"], [\"CryptoNight Heavy\"], [\"CryptoNight\"], [\"Jump Consistent Hash\"], [\"CryptoNight\"], [\"X16R\"], [\"HMQ1725\"], [\"X11\"], [\"Scrypt\"], [\"CryptoNight-V7\"], [\"Cryptonight-GPU\"], [\"XEVAN\"], [\"CryptoNight Heavy\"], [\"SHA-256\"], [\"X11\"], [\"X16R\"], [\"Equihash\"], [\"Lyra2Z\"], [\"SHA-256\"], [\"CryptoNight\"], [\"Blake\"], [\"Blake\"], [\"Exosis\"], [\"Scrypt\"], [\"Equihash\"], [\"Equihash\"], [\"QuBit\"], [\"SHA-256\"], [\"X13\"], [\"SHA-256\"], [\"Scrypt\"], [\"NeoScrypt\"], [\"Blake\"], [\"Scrypt\"], [\"SHA-256\"], [\"Scrypt\"], [\"Groestl\"], [\"Scrypt\"], [\"Scrypt\"], [\"Multiple\"], [\"Equihash+Scrypt\"], [\"Ethash\"], [\"CryptoNight\"], [\"Equihash\"]], \"hovertemplate\": \"<b>%{hovertext}</b><br><br>Class=%{marker.color}<br>PC1=%{x}<br>PC2=%{y}<br>PC3=%{z}<br>Algorithm=%{customdata[0]}<extra></extra>\", \"hovertext\": [\"Bitcoin\", \"Ethereum\", \"Litecoin\", \"Monero\", \"Ethereum Classic\", \"ZCash\", \"DigiByte\", \"ProsperCoin\", \"Spreadcoin\", \"Argentum\", \"MyriadCoin\", \"MoonCoin\", \"ZetaCoin\", \"SexCoin\", \"Quatloo\", \"QuarkCoin\", \"Riecoin\", \"Digitalcoin \", \"Catcoin\", \"CannaCoin\", \"CryptCoin\", \"Verge\", \"DevCoin\", \"EarthCoin\", \"E-Gulden\", \"Einsteinium\", \"Emerald\", \"Franko\", \"FeatherCoin\", \"GrandCoin\", \"GlobalCoin\", \"GoldCoin\", \"Infinite Coin\", \"IXcoin\", \"KrugerCoin\", \"LuckyCoin\", \"Litebar \", \"MegaCoin\", \"MediterraneanCoin\", \"MinCoin\", \"NobleCoin\", \"Namecoin\", \"NyanCoin\", \"RonPaulCoin\", \"StableCoin\", \"SmartCoin\", \"SysCoin\", \"TigerCoin\", \"TerraCoin\", \"UnbreakableCoin\", \"Unobtanium\", \"UroCoin\", \"ViaCoin\", \"Vertcoin\", \"WorldCoin\", \"JouleCoin\", \"ByteCoin\", \"DigitalNote \", \"MonaCoin\", \"Gulden\", \"PesetaCoin\", \"Wild Beast Coin\", \"Flo\", \"ArtByte\", \"Folding Coin\", \"Unitus\", \"CypherPunkCoin\", \"OmniCron\", \"GreenCoin\", \"Cryptonite\", \"MasterCoin\", \"SoonCoin\", \"1Credit\", \"MarsCoin \", \"Crypto\", \"Anarchists Prime\", \"BowsCoin\", \"Song Coin\", \"BitZeny\", \"Expanse\", \"Siacoin\", \"MindCoin\", \"I0coin\", \"Revolution VR\", \"HOdlcoin\", \"Gamecredits\", \"CarpeDiemCoin\", \"Adzcoin\", \"SoilCoin\", \"YoCoin\", \"SibCoin\", \"Francs\", \"BolivarCoin\", \"Omni\", \"PizzaCoin\", \"Komodo\", \"Karbo\", \"ZayedCoin\", \"Circuits of Value\", \"DopeCoin\", \"DollarCoin\", \"Shilling\", \"ZCoin\", \"Elementrem\", \"ZClassic\", \"KiloCoin\", \"ArtexCoin\", \"Kurrent\", \"Cannabis Industry Coin\", \"OsmiumCoin\", \"Bikercoins\", \"HexxCoin\", \"PacCoin\", \"Citadel\", \"BeaverCoin\", \"VaultCoin\", \"Zero\", \"Canada eCoin\", \"Zoin\", \"DubaiCoin\", \"EB3coin\", \"Coinonat\", \"BenjiRolls\", \"ILCoin\", \"EquiTrader\", \"Quantum Resistant Ledger\", \"Dynamic\", \"Nano\", \"ChanCoin\", \"Dinastycoin\", \"DigitalPrice\", \"Unify\", \"SocialCoin\", \"ArcticCoin\", \"DAS\", \"LeviarCoin\", \"Bitcore\", \"gCn Coin\", \"SmartCash\", \"Onix\", \"Bitcoin Cash\", \"Sojourn Coin\", \"NewYorkCoin\", \"FrazCoin\", \"Kronecoin\", \"AdCoin\", \"Linx\", \"Sumokoin\", \"BitcoinZ\", \"Elements\", \"VIVO Coin\", \"Bitcoin Gold\", \"Pirl\", \"eBoost\", \"Pura\", \"Innova\", \"Ellaism\", \"GoByte\", \"SHIELD\", \"UltraNote\", \"BitCoal\", \"DaxxCoin\", \"AC3\", \"Lethean\", \"PopularCoin\", \"Photon\", \"Sucre\", \"SparksPay\", \"GunCoin\", \"IrishCoin\", \"Pioneer Coin\", \"UnitedBitcoin\", \"Interzone\", \"1717 Masonic Commemorative Token\", \"TurtleCoin\", \"MUNcoin\", \"Niobio Cash\", \"ShareChain\", \"Travelflex\", \"KREDS\", \"BitFlip\", \"LottoCoin\", \"Crypto Improvement Fund\", \"Callisto Network\", \"BitTube\", \"Poseidon\", \"Aidos Kuneen\", \"Bitrolium\", \"Alpenschillling\", \"FuturoCoin\", \"Monero Classic\", \"Jumpcoin\", \"Infinex\", \"KEYCO\", \"GINcoin\", \"PlatinCoin\", \"Loki\", \"Newton Coin\", \"MassGrid\", \"PluraCoin\", \"Motion\", \"PlusOneCoin\", \"Axe\", \"HexCoin\", \"Webchain\", \"Ryo\", \"Urals Coin\", \"Qwertycoin\", \"Project Pai\", \"Azart\", \"Xchange\", \"CrypticCoin\", \"Actinium\", \"Bitcoin SV\", \"FREDEnergy\", \"Universal Molecule\", \"Lithium\", \"Exosis\", \"Block-Logic\", \"Beam\", \"Bithereum\", \"SLICE\", \"BLAST\", \"Bitcoin Rhodium\", \"GlobalToken\", \"SolarCoin\", \"UFO Coin\", \"BlakeCoin\", \"Crypto Escudo\", \"Crown Coin\", \"SmileyCoin\", \"Groestlcoin\", \"Bata\", \"Pakcoin\", \"JoinCoin\", \"Vollar\", \"Reality Clash\", \"Beldex\", \"Horizen\"], \"legendgroup\": \"0\", \"marker\": {\"color\": [0, 0, 0, 0, 0, 0, 0, 0, 0, 0, 0, 0, 0, 0, 0, 0, 0, 0, 0, 0, 0, 0, 0, 0, 0, 0, 0, 0, 0, 0, 0, 0, 0, 0, 0, 0, 0, 0, 0, 0, 0, 0, 0, 0, 0, 0, 0, 0, 0, 0, 0, 0, 0, 0, 0, 0, 0, 0, 0, 0, 0, 0, 0, 0, 0, 0, 0, 0, 0, 0, 0, 0, 0, 0, 0, 0, 0, 0, 0, 0, 0, 0, 0, 0, 0, 0, 0, 0, 0, 0, 0, 0, 0, 0, 0, 0, 0, 0, 0, 0, 0, 0, 0, 0, 0, 0, 0, 0, 0, 0, 0, 0, 0, 0, 0, 0, 0, 0, 0, 0, 0, 0, 0, 0, 0, 0, 0, 0, 0, 0, 0, 0, 0, 0, 0, 0, 0, 0, 0, 0, 0, 0, 0, 0, 0, 0, 0, 0, 0, 0, 0, 0, 0, 0, 0, 0, 0, 0, 0, 0, 0, 0, 0, 0, 0, 0, 0, 0, 0, 0, 0, 0, 0, 0, 0, 0, 0, 0, 0, 0, 0, 0, 0, 0, 0, 0, 0, 0, 0, 0, 0, 0, 0, 0, 0, 0, 0, 0, 0, 0, 0, 0, 0, 0, 0, 0, 0, 0, 0, 0, 0, 0, 0, 0, 0, 0, 0, 0, 0, 0, 0, 0, 0, 0, 0, 0, 0, 0, 0, 0, 0, 0, 0, 0, 0, 0, 0, 0, 0], \"coloraxis\": \"coloraxis\", \"symbol\": \"diamond\"}, \"mode\": \"markers\", \"name\": \"0\", \"scene\": \"scene\", \"showlegend\": true, \"type\": \"scatter3d\", \"x\": [-0.14983776843665658, -0.15189049648604303, -0.17116043370351397, -0.1520693425658202, -0.15033356123109662, -0.15249097766448358, 0.16483337889721192, -0.17230611308220162, -0.22189487621425819, -0.1719228894261203, -0.08843697810844442, 2.547705825930072, -0.1469241039157575, -0.169179710150903, -0.17172707144048113, -0.22384332565940718, -0.19893915213793853, -0.17177570829529581, -0.17228838560328413, -0.17237479161651031, -0.22198418131398612, 0.1885838737594195, 0.227823144021199, 0.07623400287854365, -0.17212119722890598, -0.16772874875135554, -0.17206053792457063, -0.17243176941221333, -0.17312578206167178, -0.15166488559125918, -0.17122744882835142, -0.17150479979286698, 1.5756326852793427, -0.1497991520329713, -0.1687956188623973, -0.17214762688931434, -0.1725022686640653, -0.171761881486982, -0.1557778901979587, -0.17238359802252218, -0.037371936231921705, -0.14987673411517657, -0.16605056988328074, -0.17236307161733302, -0.17045861908853005, -0.17185007052963247, -0.1370354686217027, -0.14934075712660144, -0.14962784550441655, -0.14961092182650618, -0.15020123285433845, -0.22215797159651487, -0.17207966947658365, -0.2002063389794455, -0.1691844569418446, -0.14940802272069184, 3.858329162200429, 0.45893589229546033, -0.17094786296658102, -0.15555593959789032, -0.16966728779139278, -0.17250448002970228, -0.1695323623425854, -0.1557629343789591, -0.1350128071257984, -0.12242661244001612, -0.1868394086909052, -0.17237760585886983, -0.045384580660591506, -0.12210767453875192, -0.1725133648110227, -0.14990450146966103, 0.4791978037414089, -0.22154545617004465, -0.15434495435971526, -0.14964453250640444, -0.22183022374420333, -0.17063830488257034, -0.1698309316733885, -0.1529576020529667, 0.37162942573625185, -0.22186559631283467, -0.14980027397357742, -0.16847317612857463, -0.15164860132998761, -0.17107743062961517, 0.2684817992595195, -0.22102677833209358, -0.15092138000306782, -0.17132495602643133, -0.15821637874734473, -0.17230339693262944, -0.22182887348564873, -0.17251342327764416, -0.22197878976563834, -0.26321359735142213, 0.30391980083754294, -0.15006023852967973, -0.10250907303531445, -0.16968161963647202, -0.15001888535078703, -0.17217701270641844, -0.14416616082547848, -0.15269987414953312, -0.15251258683832894, -0.0992887787467258, -0.20856807659448492, -0.2198081921688752, 0.30391414182490467, -0.17249517255223504, 0.30404480104515635, -0.1548850753113295, 0.4927784256149, -0.15083491745497826, -0.17246347271666543, -0.2147177123848962, -0.1525249480415455, -0.17059763903478942, -0.15460358306972813, -0.15897902341393322, -0.14340683746644825, -0.1895436584892533, -0.17202608268656128, -0.11640331389412344, -0.17184829550884886, -0.15069252295375998, -0.15181228651651682, -0.02852852542692582, -0.14829148926444893, 0.3400184800813614, -0.22103520527622098, -0.17216732039874677, -0.17193091429874813, -0.22142965030839365, -0.22200679823501343, 0.3043089102484672, -0.14155926521034157, 3.2354872246476547, -0.12282455438865118, -0.21288471647502338, -0.14983693295839903, -0.09813807246419953, 1.5738691844977986, -0.17226513393942378, -0.17171712281519175, -0.17141824347209447, -0.17140517915837883, 0.3044923735683593, 0.059676119547396156, -0.1764144140514665, -0.17781210601141398, -0.15237106451622154, -0.14968121627811823, -0.17059584884192644, -0.21755360543949845, -0.17765761535475852, -0.15106625162753365, -0.1777577538209468, -0.11266349371685268, 1.1413571375040859, 0.3038969371957779, -0.07600506163081006, -0.2172957309796224, -0.13981060145667865, -0.08869489794433587, 1.0990099760738208, -0.2219808083675818, -0.17780965183446834, -0.1708511529181154, -0.17151650828759002, -0.22190625029475805, -0.14981633595392546, -0.19857823780817455, -0.2730525010349451, 8.03663127460172, -0.15781624207941844, 0.3077692168832185, 0.020433828321280358, -0.14918448389075864, -0.18577197080760316, -0.1720899692782555, 0.13483250483434822, -0.2160503852018313, -0.10413611657764896, 0.31181492711625897, -0.17232685021814678, -0.15865159978180252, -0.1513626349529695, -0.1419511185117754, -0.22107596292610282, 0.30407937611960123, -0.18960303578081722, -0.15473040741811178, -0.1501952646973235, -0.1442504816453387, 0.30800482839806714, 0.5761749370527341, 2.1114853506134454, -0.1350612652083754, 0.31767712747028554, -0.19672117121842653, -0.15740628111732258, -0.22196297781276778, -0.17235142569330078, -0.13969225077885117, -0.15300784878318227, -0.16442386466500727, 3.0973925153839823, -0.1096840365981585, -0.22193436301971267, -0.19614928077944002, -0.047172899619011645, -0.14364862166516354, -0.14983697051023548, 0.3837920666881779, -0.13809367122439012, -0.13848536942957407, -0.136700908917475, -0.1712443497347242, -0.15043242858878858, -0.15220396671268946, -0.1860508984070939, -0.14911347425681004, -0.10455941793993473, -0.14798206281088042, 0.5230872911905567, -0.10301153138224939, -0.08898482893036067, -0.1559134659534387, -0.14962721618343974, 0.5429505129307497, -0.19850035964279023, -0.17242819682056715, -0.1703850568535695, -0.12316123814207311, -0.1427443220202474, -0.15273301671489084, 0.32564297855043617, -0.15249203422967497], \"y\": [-1.3265787940602105, -2.0593421252899, -1.0934863069956207, -2.2081855596038062, -2.059436464803906, -2.0137551573679615, -1.8551905587691035, -1.0934790652281032, -0.9441770891321, -1.0934963830319986, -1.8501435238493023, -1.269911357137125, -1.3265894501817952, -1.0935376040337859, -1.0935147616255314, -0.5205582655607385, -1.2236467062473928, -1.0934810588655897, -1.093478515061729, -1.0934758571403742, -0.9441785020338017, -1.8514338656492522, -1.329109796056297, -1.0949223422629677, -1.0934733264264918, -1.0935263992481319, -1.0934789164722551, -1.0934763318632865, -1.6180296252298558, -1.0937892629659725, -1.093478876222356, -1.0934890092793006, -1.1007650474310418, -1.3265775956130441, -1.0935361596409512, -1.0934734673360678, -1.0934718040932971, -1.0934764410305626, -2.2697160977673057, -1.093473997360321, -1.099467053688901, -1.3265800033469972, -1.0934995935826408, -1.093480832917176, -1.093577294544585, -1.0934854277479928, -1.3267704546890644, -1.3265810400890263, -1.3265865450201213, -1.3266118341907902, -1.3265759780404218, -0.9441716676874623, -1.0934733962787748, -1.3376938846803816, -1.0935482271005934, -1.3265817608718722, -2.3070497660158416, -2.2940285142754373, -1.093494057300934, -1.0940862311808572, -1.0934959346711242, -1.09347274090103, -1.093487409128584, -1.0936307134546888, -2.2599244783463335, -1.849839728597454, -1.6101040587538271, -1.093469308371822, -1.0963190929861872, -2.2179614494254434, -1.0934716521958514, -1.3265808650975495, -1.1357435935009348, -0.9441750762371324, -2.18842448911864, -1.3265950517704386, -0.9441757619904209, -1.0935558610277951, -1.0935578144757578, -2.0593867275105193, -2.098488990890877, -0.9441734631358081, -1.3265776304320958, -1.0934885039433722, -2.2162283747751705, -1.0934837310230063, -1.3282734166428232, -0.9441936248745384, -2.210046311712861, -1.0935487149294998, -2.2296604806015075, -1.0934783016072223, -0.9441784373899512, -1.0934716519519851, -0.9441830899915198, -1.3508903285911817, -2.2920529191661805, -1.3265780464160224, -1.8500367857346176, -1.0935192143222647, -1.326577375988527, -1.0934811725759466, -2.1533144010643537, -2.059385046161062, -2.0137558280014383, -1.097991991730815, -0.944089572888979, -0.9442536294175397, -2.2920605673787127, -1.093472510662913, -2.292059229717899, -2.188403352599842, -0.989916464716485, -2.208272924959984, -1.0934719655194927, -0.944620087821364, -2.01375349432289, -1.0934797100688676, -2.1884020891699945, -2.093945657602292, -1.0952852243872035, -0.671435792262488, -1.0934802386650366, -1.3272252163271807, -1.0934995026434498, -2.208214159707253, -2.1900221138168594, -2.111138921652377, -2.3059430969274466, -2.2922844676542424, -0.9442047556193386, -1.093473587228914, -1.0935041046682044, -0.9441898240453576, -0.9441798153358546, -2.2920707336337327, -2.282884249521611, -1.1235702914322894, -1.275250962245529, -0.9446311340156575, -1.3265787681314187, -1.0982959429905585, -1.0392728335049155, -1.0934771141280353, -1.0935035836558662, -1.093505177252904, -1.093504771806301, -2.292088740842812, -2.0214222045256216, -0.9439748186490681, -1.6179651519637908, -2.0137514359035427, -2.2100936271054024, -1.0934796545108312, -0.9442665368558046, -1.6179725852675582, -2.0595067564312775, -1.6179667259269743, -1.8499850886939717, -2.3237992559605933, -2.292055327046869, -2.063780307100848, -0.9443943990258806, -2.2084840875451692, -1.0942665837449084, -1.202120103853671, -0.9441796201424976, -1.617960999842701, -1.6180704423542056, -1.0934837711293897, -0.9441794801011457, -1.3265775623523222, -1.218173590838637, -0.14114438193338932, -2.7313901017416526, -2.088608616374502, -2.2921549141324133, -1.094276440694371, -2.2100399605495618, -1.3379361142012014, -1.0934852644731698, -1.0964371967881688, -0.9443217838321072, -2.062275703666633, -2.2924804293920276, -1.0934797087981762, -2.108116583094455, -2.0137534266079093, -2.15343491821572, -0.9442060205193602, -2.292053673139855, -0.6714191220223034, -2.1884096119629404, -2.1971775519949146, -2.153309613278413, -2.2923269444470664, -2.2489804487869747, -2.360944934313689, -2.256070965732441, -2.2922984979662537, -1.3047415818934593, -2.22287567903368, -0.944179881968503, -1.0934812223238113, -2.208990261357286, -2.137008858537992, -0.5497769631707172, -2.295948689713102, -1.3267449553701545, -0.9441817112223312, -1.3047767694749974, -2.015635258489976, -2.15334086522286, -1.3265787692968278, -2.295056271661624, -2.1917003466895624, -2.1916582307349013, -2.1155947563196786, -1.0935133670407335, -2.0138555320345457, -2.013752965896849, -1.6101475202099127, -1.3265855268545623, -0.36148087812456436, -1.3266210637922102, -1.138525387086232, -1.6183427037157014, -2.194860142064224, -1.0936353851517164, -1.3265865254893556, -1.1052333538102013, -1.2236473543170303, -1.0934719848386492, -1.0935288173912545, -1.849864429573268, -2.2023461016457704, -2.059384907922392, -2.2923231621043585, -2.0137551901581086], \"z\": [0.1923624099932559, 0.3764538484633577, 0.01419336346835994, 0.43856995885601796, 0.3764442425280559, 0.23803374306035377, 0.32801321882162965, 0.014204683991459006, 0.07988432583075676, 0.014201915931689986, 0.330280141463189, -0.001782671633669084, 0.19233308919112568, 0.01417644350918488, 0.014201153182779178, 0.05373704849966711, 0.1781961306355248, 0.014199350098058323, 0.014204463540686895, 0.014205172915607625, 0.07988534347936488, 0.32751137939494374, 0.18864055661806411, 0.011740110464998262, 0.014202384462980295, 0.014160713092694692, 0.014202141128672238, 0.01420579300765784, 0.3053217465039912, 0.014013017015813124, 0.014193546477940364, 0.014197099809274973, -0.0033240980511685535, 0.19236192977742417, 0.014172383488526528, 0.014202666675814662, 0.014206210465762264, 0.014198891717245405, 0.23439689854624915, 0.01420513656163535, 0.013222543052568354, 0.19236289455250583, 0.014141572481301474, 0.014205392301597506, 0.01419234743235557, 0.014200415774827446, 0.19224348232867847, 0.19235743775606254, 0.1923607750277709, 0.19236232983469428, 0.19236596594357802, 0.07988666847862913, 0.014201960951483775, 0.21469813889423373, 0.014177218899992895, 0.19235818077555375, 0.40821182813484386, 0.44238036252066115, 0.014191701150508865, 0.014073454162538388, 0.014178622573654818, 0.014206297333836044, 0.014176648045923664, 0.014044439355527355, 0.4046392942426004, 0.3306099123922811, 0.19308511508542503, 0.014204754116190132, 0.013089913297089783, 0.389903460378201, 0.014206314516479655, 0.1923632398545515, 0.010375697675739197, 0.07988058450926161, 0.3852627134430003, 0.19236152884178404, 0.0798835682966463, 0.014192734900724415, 0.014184541800436027, 0.37646790387146756, 0.3795509376008833, 0.07988377590232099, 0.1923619437293615, 0.01416579920661039, 0.3689810303873157, 0.014192331280321456, 0.18816403766289466, 0.0798765036377087, 0.41259075994276334, 0.014199327869758471, 0.34680843128846656, 0.014204603760409296, 0.07988373732250435, 0.014206315102787425, 0.07988560161239158, -0.21090773834724255, 0.4438439932290695, 0.19236465326816213, 0.3304179721512171, 0.014180362311484949, 0.19236418093464294, 0.014203496646947523, 0.4207474645838301, 0.37646513087062006, 0.23803401178209843, 0.01376024110520827, 0.07974089792810804, 0.07986803927468825, 0.44384457459884086, 0.014206185598680886, 0.44384313559794136, 0.3852668384970918, 0.07564147466366, 0.438563202151914, 0.01420582139027773, 0.07984059910111092, 0.23803397968328263, 0.014187108080991015, 0.3852638489860191, 0.28898760837782883, 0.014030147408063366, -0.019642652075706684, 0.014201876196771454, 0.19206179461660558, 0.01420135995015711, 0.43855771505836283, 0.4656713703718418, 0.38454292535061546, 0.4024235139329417, 0.44348753064511026, 0.0798773516995177, 0.014202877979514797, 0.014202526722207752, 0.07988039866594653, 0.07988566654182636, 0.4438411984310244, 0.4634080739257628, -0.01888318908821459, 0.08004969474121071, 0.07982245023357332, 0.1923623996036311, 0.013769158582803136, -0.007510924199628634, 0.014204127939429365, 0.014200286198043123, 0.014197312740244236, 0.014197150278449307, 0.4438405377031639, 0.23636989463412406, 0.07940144031537838, 0.30536566910534557, 0.2380322518756096, 0.4125812053234192, 0.014187085818976155, 0.07984566969146463, 0.3053645841073497, 0.37645660572715783, 0.30536521618697293, 0.3305191625530978, 0.43737815560061266, 0.4438443936864575, 0.3759747147380729, 0.07985175373593095, 0.4384639449686284, 0.01339622916206748, 0.16916254230166738, 0.0798853851526287, 0.3053653598607519, 0.3053010787615736, 0.014196862362811799, 0.07988460663637818, 0.19236210472590418, 0.1550124393090681, 0.08557657260967681, 0.39413734938232625, 0.3058061224608781, 0.44381126775185264, 0.012271425843549337, 0.41257241250020454, 0.2145658372636195, 0.01420287875755067, 0.011239356585924943, 0.07983394447562199, 0.3761619496746629, 0.44379180279134156, 0.014204941868941206, 0.41681134022316885, 0.23802198776839098, 0.42073286149436123, 0.0798778585429008, 0.4438423990400857, -0.019643179658602773, 0.38526567139377776, 0.38685399889774735, 0.4207480068072857, 0.44382060174496013, 0.4090362161316602, 0.4299130595041731, 0.4696331677505777, 0.4437189031647152, 0.1819992115013993, 0.4215456283937487, 0.07988521916516791, 0.014205298822422203, 0.43849733799713136, 0.43793953239096983, -0.11253440522074713, 0.3862459640107361, 0.1919596550702155, 0.07988504914181835, 0.18199571965093578, 0.2370761327543412, 0.42074393674179994, 0.1923624000706084, 0.4432256243800171, 0.45352096474206083, 0.45352212443384704, 0.45083299998781673, 0.014196079362989484, 0.23801937653191615, 0.2380306331710452, 0.19307995496060495, 0.19235540053736544, -0.017820238570950355, 0.1923461620685013, 0.010113279206353696, 0.3046200463592907, 0.4532305663416027, 0.014046311296933638, 0.19236076720182457, 0.007631819266122727, 0.1781916495534513, 0.014205458900454274, 0.014188273756357131, 0.3306191779314751, 0.30288505788903525, 0.3764654632267051, 0.4436384355518747, 0.23803375619931266]}, {\"customdata\": [[\"Proof-of-BibleHash\"], [\"SHA-256 + Hive\"], [\"Proof-of-Authority\"], [\"ECC 256K1\"], [\"Leased POS\"]], \"hovertemplate\": \"<b>%{hovertext}</b><br><br>Class=%{marker.color}<br>PC1=%{x}<br>PC2=%{y}<br>PC3=%{z}<br>Algorithm=%{customdata[0]}<extra></extra>\", \"hovertext\": [\"BiblePay\", \"LitecoinCash\", \"Poa Network\", \"Acute Angle Cloud\", \"Waves\"], \"legendgroup\": \"3\", \"marker\": {\"color\": [3, 3, 3, 3, 3], \"coloraxis\": \"coloraxis\", \"symbol\": \"square\"}, \"mode\": \"markers\", \"name\": \"3\", \"scene\": \"scene\", \"showlegend\": true, \"type\": \"scatter3d\", \"x\": [-0.21790723712826351, -0.3749844985554481, -0.43681695281993577, -0.3266475740594355, -0.429505290521258], \"y\": [3.633342960454933, 3.271468234436895, 4.055317313054874, 2.895803698621535, 3.5416953499759014], \"z\": [14.692286358937332, 13.160276072350987, 14.560492517909356, 17.01247646149117, 8.897330194348799]}, {\"customdata\": [[\"TRC10\"]], \"hovertemplate\": \"<b>%{hovertext}</b><br><br>Class=%{marker.color}<br>PC1=%{x}<br>PC2=%{y}<br>PC3=%{z}<br>Algorithm=%{customdata[0]}<extra></extra>\", \"hovertext\": [\"BitTorrent\"], \"legendgroup\": \"2\", \"marker\": {\"color\": [2], \"coloraxis\": \"coloraxis\", \"symbol\": \"x\"}, \"mode\": \"markers\", \"name\": \"2\", \"scene\": \"scene\", \"showlegend\": true, \"type\": \"scatter3d\", \"x\": [34.05893340338394], \"y\": [1.5652201394332717], \"z\": [0.06594042930555015]}],                        {\"coloraxis\": {\"colorbar\": {\"title\": {\"text\": \"Class\"}}, \"colorscale\": [[0.0, \"#0d0887\"], [0.1111111111111111, \"#46039f\"], [0.2222222222222222, \"#7201a8\"], [0.3333333333333333, \"#9c179e\"], [0.4444444444444444, \"#bd3786\"], [0.5555555555555556, \"#d8576b\"], [0.6666666666666666, \"#ed7953\"], [0.7777777777777778, \"#fb9f3a\"], [0.8888888888888888, \"#fdca26\"], [1.0, \"#f0f921\"]]}, \"legend\": {\"title\": {\"text\": \"Class\"}, \"tracegroupgap\": 0, \"x\": 0, \"y\": 1}, \"margin\": {\"t\": 60}, \"scene\": {\"domain\": {\"x\": [0.0, 1.0], \"y\": [0.0, 1.0]}, \"xaxis\": {\"title\": {\"text\": \"PC1\"}}, \"yaxis\": {\"title\": {\"text\": \"PC2\"}}, \"zaxis\": {\"title\": {\"text\": \"PC3\"}}}, \"template\": {\"data\": {\"bar\": [{\"error_x\": {\"color\": \"#2a3f5f\"}, \"error_y\": {\"color\": \"#2a3f5f\"}, \"marker\": {\"line\": {\"color\": \"#E5ECF6\", \"width\": 0.5}}, \"type\": \"bar\"}], \"barpolar\": [{\"marker\": {\"line\": {\"color\": \"#E5ECF6\", \"width\": 0.5}}, \"type\": \"barpolar\"}], \"carpet\": [{\"aaxis\": {\"endlinecolor\": \"#2a3f5f\", \"gridcolor\": \"white\", \"linecolor\": \"white\", \"minorgridcolor\": \"white\", \"startlinecolor\": \"#2a3f5f\"}, \"baxis\": {\"endlinecolor\": \"#2a3f5f\", \"gridcolor\": \"white\", \"linecolor\": \"white\", \"minorgridcolor\": \"white\", \"startlinecolor\": \"#2a3f5f\"}, \"type\": \"carpet\"}], \"choropleth\": [{\"colorbar\": {\"outlinewidth\": 0, \"ticks\": \"\"}, \"type\": \"choropleth\"}], \"contour\": [{\"colorbar\": {\"outlinewidth\": 0, \"ticks\": \"\"}, \"colorscale\": [[0.0, \"#0d0887\"], [0.1111111111111111, \"#46039f\"], [0.2222222222222222, \"#7201a8\"], [0.3333333333333333, \"#9c179e\"], [0.4444444444444444, \"#bd3786\"], [0.5555555555555556, \"#d8576b\"], [0.6666666666666666, \"#ed7953\"], [0.7777777777777778, \"#fb9f3a\"], [0.8888888888888888, \"#fdca26\"], [1.0, \"#f0f921\"]], \"type\": \"contour\"}], \"contourcarpet\": [{\"colorbar\": {\"outlinewidth\": 0, \"ticks\": \"\"}, \"type\": \"contourcarpet\"}], \"heatmap\": [{\"colorbar\": {\"outlinewidth\": 0, \"ticks\": \"\"}, \"colorscale\": [[0.0, \"#0d0887\"], [0.1111111111111111, \"#46039f\"], [0.2222222222222222, \"#7201a8\"], [0.3333333333333333, \"#9c179e\"], [0.4444444444444444, \"#bd3786\"], [0.5555555555555556, \"#d8576b\"], [0.6666666666666666, \"#ed7953\"], [0.7777777777777778, \"#fb9f3a\"], [0.8888888888888888, \"#fdca26\"], [1.0, \"#f0f921\"]], \"type\": \"heatmap\"}], \"heatmapgl\": [{\"colorbar\": {\"outlinewidth\": 0, \"ticks\": \"\"}, \"colorscale\": [[0.0, \"#0d0887\"], [0.1111111111111111, \"#46039f\"], [0.2222222222222222, \"#7201a8\"], [0.3333333333333333, \"#9c179e\"], [0.4444444444444444, \"#bd3786\"], [0.5555555555555556, \"#d8576b\"], [0.6666666666666666, \"#ed7953\"], [0.7777777777777778, \"#fb9f3a\"], [0.8888888888888888, \"#fdca26\"], [1.0, \"#f0f921\"]], \"type\": \"heatmapgl\"}], \"histogram\": [{\"marker\": {\"colorbar\": {\"outlinewidth\": 0, \"ticks\": \"\"}}, \"type\": \"histogram\"}], \"histogram2d\": [{\"colorbar\": {\"outlinewidth\": 0, \"ticks\": \"\"}, \"colorscale\": [[0.0, \"#0d0887\"], [0.1111111111111111, \"#46039f\"], [0.2222222222222222, \"#7201a8\"], [0.3333333333333333, \"#9c179e\"], [0.4444444444444444, \"#bd3786\"], [0.5555555555555556, \"#d8576b\"], [0.6666666666666666, \"#ed7953\"], [0.7777777777777778, \"#fb9f3a\"], [0.8888888888888888, \"#fdca26\"], [1.0, \"#f0f921\"]], \"type\": \"histogram2d\"}], \"histogram2dcontour\": [{\"colorbar\": {\"outlinewidth\": 0, \"ticks\": \"\"}, \"colorscale\": [[0.0, \"#0d0887\"], [0.1111111111111111, \"#46039f\"], [0.2222222222222222, \"#7201a8\"], [0.3333333333333333, \"#9c179e\"], [0.4444444444444444, \"#bd3786\"], [0.5555555555555556, \"#d8576b\"], [0.6666666666666666, \"#ed7953\"], [0.7777777777777778, \"#fb9f3a\"], [0.8888888888888888, \"#fdca26\"], [1.0, \"#f0f921\"]], \"type\": \"histogram2dcontour\"}], \"mesh3d\": [{\"colorbar\": {\"outlinewidth\": 0, \"ticks\": \"\"}, \"type\": \"mesh3d\"}], \"parcoords\": [{\"line\": {\"colorbar\": {\"outlinewidth\": 0, \"ticks\": \"\"}}, \"type\": \"parcoords\"}], \"pie\": [{\"automargin\": true, \"type\": \"pie\"}], \"scatter\": [{\"marker\": {\"colorbar\": {\"outlinewidth\": 0, \"ticks\": \"\"}}, \"type\": \"scatter\"}], \"scatter3d\": [{\"line\": {\"colorbar\": {\"outlinewidth\": 0, \"ticks\": \"\"}}, \"marker\": {\"colorbar\": {\"outlinewidth\": 0, \"ticks\": \"\"}}, \"type\": \"scatter3d\"}], \"scattercarpet\": [{\"marker\": {\"colorbar\": {\"outlinewidth\": 0, \"ticks\": \"\"}}, \"type\": \"scattercarpet\"}], \"scattergeo\": [{\"marker\": {\"colorbar\": {\"outlinewidth\": 0, \"ticks\": \"\"}}, \"type\": \"scattergeo\"}], \"scattergl\": [{\"marker\": {\"colorbar\": {\"outlinewidth\": 0, \"ticks\": \"\"}}, \"type\": \"scattergl\"}], \"scattermapbox\": [{\"marker\": {\"colorbar\": {\"outlinewidth\": 0, \"ticks\": \"\"}}, \"type\": \"scattermapbox\"}], \"scatterpolar\": [{\"marker\": {\"colorbar\": {\"outlinewidth\": 0, \"ticks\": \"\"}}, \"type\": \"scatterpolar\"}], \"scatterpolargl\": [{\"marker\": {\"colorbar\": {\"outlinewidth\": 0, \"ticks\": \"\"}}, \"type\": \"scatterpolargl\"}], \"scatterternary\": [{\"marker\": {\"colorbar\": {\"outlinewidth\": 0, \"ticks\": \"\"}}, \"type\": \"scatterternary\"}], \"surface\": [{\"colorbar\": {\"outlinewidth\": 0, \"ticks\": \"\"}, \"colorscale\": [[0.0, \"#0d0887\"], [0.1111111111111111, \"#46039f\"], [0.2222222222222222, \"#7201a8\"], [0.3333333333333333, \"#9c179e\"], [0.4444444444444444, \"#bd3786\"], [0.5555555555555556, \"#d8576b\"], [0.6666666666666666, \"#ed7953\"], [0.7777777777777778, \"#fb9f3a\"], [0.8888888888888888, \"#fdca26\"], [1.0, \"#f0f921\"]], \"type\": \"surface\"}], \"table\": [{\"cells\": {\"fill\": {\"color\": \"#EBF0F8\"}, \"line\": {\"color\": \"white\"}}, \"header\": {\"fill\": {\"color\": \"#C8D4E3\"}, \"line\": {\"color\": \"white\"}}, \"type\": \"table\"}]}, \"layout\": {\"annotationdefaults\": {\"arrowcolor\": \"#2a3f5f\", \"arrowhead\": 0, \"arrowwidth\": 1}, \"coloraxis\": {\"colorbar\": {\"outlinewidth\": 0, \"ticks\": \"\"}}, \"colorscale\": {\"diverging\": [[0, \"#8e0152\"], [0.1, \"#c51b7d\"], [0.2, \"#de77ae\"], [0.3, \"#f1b6da\"], [0.4, \"#fde0ef\"], [0.5, \"#f7f7f7\"], [0.6, \"#e6f5d0\"], [0.7, \"#b8e186\"], [0.8, \"#7fbc41\"], [0.9, \"#4d9221\"], [1, \"#276419\"]], \"sequential\": [[0.0, \"#0d0887\"], [0.1111111111111111, \"#46039f\"], [0.2222222222222222, \"#7201a8\"], [0.3333333333333333, \"#9c179e\"], [0.4444444444444444, \"#bd3786\"], [0.5555555555555556, \"#d8576b\"], [0.6666666666666666, \"#ed7953\"], [0.7777777777777778, \"#fb9f3a\"], [0.8888888888888888, \"#fdca26\"], [1.0, \"#f0f921\"]], \"sequentialminus\": [[0.0, \"#0d0887\"], [0.1111111111111111, \"#46039f\"], [0.2222222222222222, \"#7201a8\"], [0.3333333333333333, \"#9c179e\"], [0.4444444444444444, \"#bd3786\"], [0.5555555555555556, \"#d8576b\"], [0.6666666666666666, \"#ed7953\"], [0.7777777777777778, \"#fb9f3a\"], [0.8888888888888888, \"#fdca26\"], [1.0, \"#f0f921\"]]}, \"colorway\": [\"#636efa\", \"#EF553B\", \"#00cc96\", \"#ab63fa\", \"#FFA15A\", \"#19d3f3\", \"#FF6692\", \"#B6E880\", \"#FF97FF\", \"#FECB52\"], \"font\": {\"color\": \"#2a3f5f\"}, \"geo\": {\"bgcolor\": \"white\", \"lakecolor\": \"white\", \"landcolor\": \"#E5ECF6\", \"showlakes\": true, \"showland\": true, \"subunitcolor\": \"white\"}, \"hoverlabel\": {\"align\": \"left\"}, \"hovermode\": \"closest\", \"mapbox\": {\"style\": \"light\"}, \"paper_bgcolor\": \"white\", \"plot_bgcolor\": \"#E5ECF6\", \"polar\": {\"angularaxis\": {\"gridcolor\": \"white\", \"linecolor\": \"white\", \"ticks\": \"\"}, \"bgcolor\": \"#E5ECF6\", \"radialaxis\": {\"gridcolor\": \"white\", \"linecolor\": \"white\", \"ticks\": \"\"}}, \"scene\": {\"xaxis\": {\"backgroundcolor\": \"#E5ECF6\", \"gridcolor\": \"white\", \"gridwidth\": 2, \"linecolor\": \"white\", \"showbackground\": true, \"ticks\": \"\", \"zerolinecolor\": \"white\"}, \"yaxis\": {\"backgroundcolor\": \"#E5ECF6\", \"gridcolor\": \"white\", \"gridwidth\": 2, \"linecolor\": \"white\", \"showbackground\": true, \"ticks\": \"\", \"zerolinecolor\": \"white\"}, \"zaxis\": {\"backgroundcolor\": \"#E5ECF6\", \"gridcolor\": \"white\", \"gridwidth\": 2, \"linecolor\": \"white\", \"showbackground\": true, \"ticks\": \"\", \"zerolinecolor\": \"white\"}}, \"shapedefaults\": {\"line\": {\"color\": \"#2a3f5f\"}}, \"ternary\": {\"aaxis\": {\"gridcolor\": \"white\", \"linecolor\": \"white\", \"ticks\": \"\"}, \"baxis\": {\"gridcolor\": \"white\", \"linecolor\": \"white\", \"ticks\": \"\"}, \"bgcolor\": \"#E5ECF6\", \"caxis\": {\"gridcolor\": \"white\", \"linecolor\": \"white\", \"ticks\": \"\"}}, \"title\": {\"x\": 0.05}, \"xaxis\": {\"automargin\": true, \"gridcolor\": \"white\", \"linecolor\": \"white\", \"ticks\": \"\", \"title\": {\"standoff\": 15}, \"zerolinecolor\": \"white\", \"zerolinewidth\": 2}, \"yaxis\": {\"automargin\": true, \"gridcolor\": \"white\", \"linecolor\": \"white\", \"ticks\": \"\", \"title\": {\"standoff\": 15}, \"zerolinecolor\": \"white\", \"zerolinewidth\": 2}}}, \"width\": 800},                        {\"responsive\": true}                    ).then(function(){\n",
       "                            \n",
       "var gd = document.getElementById('35a92b76-1b27-4d0a-ad4a-c61ece4e3e2f');\n",
       "var x = new MutationObserver(function (mutations, observer) {{\n",
       "        var display = window.getComputedStyle(gd).display;\n",
       "        if (!display || display === 'none') {{\n",
       "            console.log([gd, 'removed!']);\n",
       "            Plotly.purge(gd);\n",
       "            observer.disconnect();\n",
       "        }}\n",
       "}});\n",
       "\n",
       "// Listen for the removal of the full notebook cells\n",
       "var notebookContainer = gd.closest('#notebook-container');\n",
       "if (notebookContainer) {{\n",
       "    x.observe(notebookContainer, {childList: true});\n",
       "}}\n",
       "\n",
       "// Listen for the clearing of the current output cell\n",
       "var outputEl = gd.closest('.output');\n",
       "if (outputEl) {{\n",
       "    x.observe(outputEl, {childList: true});\n",
       "}}\n",
       "\n",
       "                        })                };                });            </script>        </div>"
      ]
     },
     "metadata": {},
     "output_type": "display_data"
    }
   ],
   "source": [
    "# Creating a 3D-Scatter with the PCA data and the clusters\n",
    "fig = px.scatter_3d(\n",
    "    clustered_df,\n",
    "    x=\"PC1\",\n",
    "    y=\"PC2\",\n",
    "    z=\"PC3\",\n",
    "    color=\"Class\",\n",
    "    symbol=\"Class\",\n",
    "    width=800,\n",
    "    hover_name=\"CoinName\",\n",
    "    hover_data=[\"Algorithm\"],\n",
    ")\n",
    "fig.update_layout(legend=dict(x=0, y=1))\n",
    "fig.show()"
   ]
  },
  {
   "cell_type": "code",
   "execution_count": 64,
   "metadata": {},
   "outputs": [
    {
     "data": {},
     "metadata": {},
     "output_type": "display_data"
    },
    {
     "data": {
      "application/vnd.holoviews_exec.v0+json": "",
      "text/html": [
       "<div id='1270'>\n",
       "\n",
       "\n",
       "\n",
       "\n",
       "\n",
       "  <div class=\"bk-root\" id=\"42c66ef9-3278-4a7d-89b1-719ac1897eda\" data-root-id=\"1270\"></div>\n",
       "</div>\n",
       "<script type=\"application/javascript\">(function(root) {\n",
       "  function embed_document(root) {\n",
       "    var docs_json = {\"60adfb06-524d-4ad0-a55a-e719b0c2a5d5\":{\"roots\":{\"references\":[{\"attributes\":{},\"id\":\"1305\",\"type\":\"NumberEditor\"},{\"attributes\":{},\"id\":\"1309\",\"type\":\"StringFormatter\"},{\"attributes\":{\"margin\":[5,5,5,5],\"name\":\"HSpacer01993\",\"sizing_mode\":\"stretch_width\"},\"id\":\"1271\",\"type\":\"Spacer\"},{\"attributes\":{},\"id\":\"1290\",\"type\":\"StringEditor\"},{\"attributes\":{\"columns\":[{\"id\":\"1276\"},{\"id\":\"1281\"},{\"id\":\"1286\"},{\"id\":\"1291\"},{\"id\":\"1296\"},{\"id\":\"1301\"},{\"id\":\"1306\"},{\"id\":\"1311\"},{\"id\":\"1316\"}],\"height\":300,\"reorderable\":false,\"source\":{\"id\":\"1272\"},\"view\":{\"id\":\"1320\"},\"width\":700},\"id\":\"1319\",\"type\":\"DataTable\"},{\"attributes\":{\"editor\":{\"id\":\"1280\"},\"field\":\"ProofType\",\"formatter\":{\"id\":\"1279\"},\"title\":\"ProofType\"},\"id\":\"1281\",\"type\":\"TableColumn\"},{\"attributes\":{},\"id\":\"1285\",\"type\":\"NumberEditor\"},{\"attributes\":{},\"id\":\"1315\",\"type\":\"IntEditor\"},{\"attributes\":{\"editor\":{\"id\":\"1310\"},\"field\":\"CoinName\",\"formatter\":{\"id\":\"1309\"},\"title\":\"CoinName\"},\"id\":\"1311\",\"type\":\"TableColumn\"},{\"attributes\":{},\"id\":\"1314\",\"type\":\"NumberFormatter\"},{\"attributes\":{},\"id\":\"1273\",\"type\":\"Selection\"},{\"attributes\":{\"editor\":{\"id\":\"1295\"},\"field\":\"PC1\",\"formatter\":{\"id\":\"1294\"},\"title\":\"PC1\"},\"id\":\"1296\",\"type\":\"TableColumn\"},{\"attributes\":{\"margin\":[5,5,5,5],\"name\":\"HSpacer01994\",\"sizing_mode\":\"stretch_width\"},\"id\":\"1325\",\"type\":\"Spacer\"},{\"attributes\":{},\"id\":\"1279\",\"type\":\"StringFormatter\"},{\"attributes\":{\"editor\":{\"id\":\"1315\"},\"field\":\"Class\",\"formatter\":{\"id\":\"1314\"},\"title\":\"Class\"},\"id\":\"1316\",\"type\":\"TableColumn\"},{\"attributes\":{},\"id\":\"1275\",\"type\":\"StringEditor\"},{\"attributes\":{\"format\":\"0,0.0[00000]\"},\"id\":\"1294\",\"type\":\"NumberFormatter\"},{\"attributes\":{\"data\":{\"Algorithm\":[\"Scrypt\",\"Scrypt\",\"X13\",\"SHA-256\",\"Ethash\",\"Scrypt\",\"X11\",\"CryptoNight-V7\",\"Ethash\",\"Equihash\",\"SHA-512\",\"Multiple\",\"SHA-256\",\"SHA-256\",\"Scrypt\",\"X15\",\"X11\",\"Scrypt\",\"Scrypt\",\"Scrypt\",\"Multiple\",\"Scrypt\",\"SHA-256\",\"Scrypt\",\"Scrypt\",\"Scrypt\",\"Quark\",\"Groestl\",\"Scrypt\",\"Scrypt\",\"Scrypt\",\"Scrypt\",\"Scrypt\",\"X11\",\"Scrypt\",\"Groestl\",\"Multiple\",\"SHA-256\",\"Scrypt\",\"Scrypt\",\"Scrypt\",\"Scrypt\",\"PoS\",\"Scrypt\",\"Scrypt\",\"NeoScrypt\",\"Scrypt\",\"Scrypt\",\"Scrypt\",\"Scrypt\",\"X11\",\"Scrypt\",\"X11\",\"SHA-256\",\"Scrypt\",\"Scrypt\",\"Scrypt\",\"SHA3\",\"Scrypt\",\"HybridScryptHash256\",\"Scrypt\",\"Scrypt\",\"SHA-256\",\"Scrypt\",\"X13\",\"Scrypt\",\"SHA-256\",\"Scrypt\",\"X13\",\"NeoScrypt\",\"Scrypt\",\"Scrypt\",\"Scrypt\",\"Scrypt\",\"Scrypt\",\"Scrypt\",\"X11\",\"X11\",\"SHA-256\",\"Multiple\",\"SHA-256\",\"PHI1612\",\"X11\",\"SHA-256\",\"SHA-256\",\"SHA-256\",\"X11\",\"Scrypt\",\"Scrypt\",\"Scrypt\",\"Scrypt\",\"Lyra2REv2\",\"Scrypt\",\"X11\",\"Multiple\",\"SHA-256\",\"X13\",\"Scrypt\",\"CryptoNight\",\"CryptoNight\",\"Shabal256\",\"Counterparty\",\"Scrypt\",\"SHA-256\",\"Groestl\",\"Scrypt\",\"Scrypt\",\"Scrypt\",\"X13\",\"Scrypt\",\"Scrypt\",\"Scrypt\",\"Scrypt\",\"X13\",\"Scrypt\",\"Stanford Folding\",\"X11\",\"Multiple\",\"QuBit\",\"Scrypt\",\"Scrypt\",\"Scrypt\",\"M7 POW\",\"Scrypt\",\"SHA-256\",\"Scrypt\",\"X11\",\"SHA3\",\"X11\",\"Lyra2RE\",\"SHA-256\",\"QUAIT\",\"X11\",\"X11\",\"Scrypt\",\"Scrypt\",\"Scrypt\",\"Ethash\",\"X13\",\"Blake2b\",\"SHA-256\",\"X15\",\"X11\",\"SHA-256\",\"BLAKE256\",\"Scrypt\",\"1GB AES Pattern Search\",\"SHA-256\",\"X11\",\"Scrypt\",\"SHA-256\",\"SHA-256\",\"NIST5\",\"Scrypt\",\"Scrypt\",\"X11\",\"Dagger\",\"Scrypt\",\"X11GOST\",\"X11\",\"Scrypt\",\"SHA-256\",\"Scrypt\",\"PoS\",\"Scrypt\",\"X11\",\"X11\",\"SHA-256\",\"SHA-256\",\"NIST5\",\"X11\",\"Scrypt\",\"POS 3.0\",\"Scrypt\",\"Scrypt\",\"Scrypt\",\"X13\",\"X11\",\"X11\",\"Equihash\",\"X11\",\"Scrypt\",\"CryptoNight\",\"SHA-256\",\"SHA-256\",\"X11\",\"Scrypt\",\"Multiple\",\"Scrypt\",\"Scrypt\",\"Scrypt\",\"SHA-256\",\"Scrypt\",\"Scrypt\",\"SHA-256D\",\"PoS\",\"Scrypt\",\"X11\",\"Lyra2Z\",\"PoS\",\"X13\",\"X14\",\"PoS\",\"SHA-256D\",\"Ethash\",\"Equihash\",\"DPoS\",\"X11\",\"Scrypt\",\"X11\",\"X13\",\"X11\",\"PoS\",\"Scrypt\",\"Scrypt\",\"X11\",\"PoS\",\"X11\",\"SHA-256\",\"Scrypt\",\"X11\",\"Scrypt\",\"Scrypt\",\"X11\",\"CryptoNight\",\"Scrypt\",\"Scrypt\",\"Scrypt\",\"Scrypt\",\"Quark\",\"QuBit\",\"Scrypt\",\"CryptoNight\",\"Lyra2RE\",\"Scrypt\",\"SHA-256\",\"X11\",\"Scrypt\",\"X11\",\"Scrypt\",\"CryptoNight-V7\",\"Scrypt\",\"Scrypt\",\"Scrypt\",\"X13\",\"X11\",\"Equihash\",\"Scrypt\",\"Scrypt\",\"Lyra2RE\",\"Scrypt\",\"Dagger-Hashimoto\",\"X11\",\"Blake2S\",\"X11\",\"Scrypt\",\"PoS\",\"X11\",\"NIST5\",\"PoS\",\"X11\",\"Scrypt\",\"Scrypt\",\"Scrypt\",\"SHA-256\",\"X11\",\"Scrypt\",\"Scrypt\",\"SHA-256\",\"PoS\",\"Scrypt\",\"X15\",\"SHA-256\",\"Scrypt\",\"POS 3.0\",\"CryptoNight-V7\",\"536\",\"Argon2d\",\"Blake2b\",\"Cloverhash\",\"CryptoNight\",\"NIST5\",\"X11\",\"NIST5\",\"Skein\",\"Scrypt\",\"X13\",\"Scrypt\",\"X11\",\"X11\",\"Scrypt\",\"CryptoNight\",\"X13\",\"Time Travel\",\"Scrypt\",\"Keccak\",\"SkunkHash v2 Raptor\",\"X11\",\"Skein\",\"SHA-256\",\"X11\",\"Scrypt\",\"VeChainThor Authority\",\"Scrypt\",\"PoS\",\"Scrypt\",\"Scrypt\",\"Scrypt\",\"Scrypt\",\"Scrypt\",\"Scrypt\",\"Scrypt\",\"CryptoNight\",\"SHA-512\",\"Ouroboros\",\"X11\",\"Equihash\",\"NeoScrypt\",\"X11\",\"Scrypt\",\"NeoScrypt\",\"Lyra2REv2\",\"Equihash\",\"Scrypt\",\"SHA-256\",\"NIST5\",\"PHI1612\",\"Dagger\",\"Scrypt\",\"Quark\",\"Scrypt\",\"POS 2.0\",\"Scrypt\",\"SHA-256\",\"X11\",\"NeoScrypt\",\"Ethash\",\"NeoScrypt\",\"X11\",\"DPoS\",\"NIST5\",\"X13\",\"Multiple\",\"Scrypt\",\"CryptoNight\",\"CryptoNight\",\"Ethash\",\"NIST5\",\"Quark\",\"X11\",\"CryptoNight-V7\",\"Scrypt\",\"Scrypt\",\"Scrypt\",\"X11\",\"BLAKE256\",\"X11\",\"NeoScrypt\",\"Quark\",\"NeoScrypt\",\"Scrypt\",\"Scrypt\",\"Scrypt\",\"X11\",\"X11\",\"SHA-256\",\"C11\",\"POS 3.0\",\"Ethash\",\"Scrypt\",\"CryptoNight\",\"SkunkHash\",\"Scrypt\",\"CryptoNight\",\"Scrypt\",\"Dagger\",\"Lyra2REv2\",\"X13\",\"Proof-of-BibleHash\",\"SHA-256 + Hive\",\"Scrypt\",\"Scrypt\",\"X11\",\"C11\",\"Proof-of-Authority\",\"X11\",\"XEVAN\",\"Scrypt\",\"VBFT\",\"Ethash\",\"CryptoNight\",\"Scrypt\",\"IMesh\",\"NIST5\",\"Scrypt\",\"Scrypt\",\"Equihash\",\"Scrypt\",\"Lyra2Z\",\"Green Protocol\",\"PoS\",\"Scrypt\",\"Semux BFT consensus\",\"X11\",\"Quark\",\"PoS\",\"CryptoNight\",\"X16R\",\"Scrypt\",\"NIST5\",\"Lyra2RE\",\"XEVAN\",\"Tribus\",\"Scrypt\",\"Lyra2Z\",\"CryptoNight\",\"CryptoNight Heavy\",\"CryptoNight\",\"Scrypt\",\"Scrypt\",\"Jump Consistent Hash\",\"SHA-256D\",\"CryptoNight\",\"Scrypt\",\"X15\",\"Scrypt\",\"Quark\",\"SHA-256\",\"DPoS\",\"X16R\",\"HMQ1725\",\"X11\",\"X16R\",\"Quark\",\"Quark\",\"Scrypt\",\"Lyra2REv2\",\"Quark\",\"Scrypt\",\"Scrypt\",\"CryptoNight-V7\",\"Cryptonight-GPU\",\"XEVAN\",\"CryptoNight Heavy\",\"X11\",\"X11\",\"Scrypt\",\"PoS\",\"SHA-256\",\"Keccak\",\"X11\",\"X11\",\"Scrypt\",\"SHA-512\",\"X16R\",\"ECC 256K1\",\"Equihash\",\"XEVAN\",\"Lyra2Z\",\"SHA-256\",\"XEVAN\",\"X11\",\"CryptoNight\",\"Quark\",\"Blake\",\"Blake\",\"Equihash\",\"Exosis\",\"Scrypt\",\"Scrypt\",\"Equihash\",\"Quark\",\"Equihash\",\"Quark\",\"Scrypt\",\"QuBit\",\"X11\",\"Scrypt\",\"XEVAN\",\"SHA-256D\",\"X11\",\"SHA-256\",\"X13\",\"SHA-256\",\"X11\",\"DPoS\",\"Scrypt\",\"Scrypt\",\"X11\",\"NeoScrypt\",\"Scrypt\",\"Blake\",\"Scrypt\",\"SHA-256\",\"Scrypt\",\"X11\",\"Scrypt\",\"Scrypt\",\"SHA-256\",\"X11\",\"SHA-256\",\"Scrypt\",\"Scrypt\",\"Scrypt\",\"Groestl\",\"X11\",\"Scrypt\",\"PoS\",\"Scrypt\",\"Scrypt\",\"X11\",\"SHA-256\",\"DPoS\",\"Scrypt\",\"Scrypt\",\"NeoScrypt\",\"Multiple\",\"X13\",\"Equihash+Scrypt\",\"DPoS\",\"Ethash\",\"DPoS\",\"SHA-256\",\"Leased POS\",\"PoS\",\"TRC10\",\"PoS\",\"SHA-256\",\"Scrypt\",\"CryptoNight\",\"Equihash\",\"Scrypt\"],\"Class\":{\"__ndarray__\":\"AQAAAAEAAAABAAAAAAAAAAAAAAAAAAAAAQAAAAAAAAAAAAAAAAAAAAEAAAAAAAAAAQAAAAEAAAAAAAAAAQAAAAAAAAAAAAAAAQAAAAEAAAAAAAAAAAAAAAAAAAAAAAAAAAAAAAEAAAAAAAAAAAAAAAAAAAABAAAAAAAAAAEAAAAAAAAAAAAAAAEAAAABAAAAAAAAAAAAAAAAAAAAAAAAAAAAAAAAAAAAAQAAAAEAAAAAAAAAAAAAAAAAAAAAAAAAAAAAAAEAAAABAAAAAAAAAAEAAAAAAAAAAAAAAAAAAAAAAAAAAQAAAAAAAAAAAAAAAQAAAAAAAAABAAAAAQAAAAEAAAAAAAAAAAAAAAAAAAABAAAAAQAAAAEAAAABAAAAAQAAAAAAAAAAAAAAAAAAAAEAAAABAAAAAAAAAAEAAAAAAAAAAQAAAAEAAAAAAAAAAAAAAAAAAAAAAAAAAQAAAAEAAAAAAAAAAQAAAAAAAAAAAAAAAQAAAAEAAAAAAAAAAQAAAAEAAAAAAAAAAAAAAAEAAAABAAAAAAAAAAEAAAABAAAAAAAAAAEAAAAAAAAAAQAAAAAAAAABAAAAAAAAAAEAAAABAAAAAAAAAAAAAAABAAAAAAAAAAAAAAAAAAAAAQAAAAAAAAAAAAAAAAAAAAAAAAAAAAAAAQAAAAEAAAAAAAAAAAAAAAAAAAABAAAAAAAAAAEAAAAAAAAAAAAAAAEAAAAAAAAAAQAAAAAAAAABAAAAAQAAAAAAAAAAAAAAAQAAAAAAAAAAAAAAAQAAAAEAAAAAAAAAAQAAAAAAAAABAAAAAQAAAAEAAAAAAAAAAAAAAAAAAAAAAAAAAQAAAAEAAAABAAAAAQAAAAEAAAAAAAAAAAAAAAEAAAABAAAAAQAAAAEAAAABAAAAAAAAAAEAAAABAAAAAQAAAAEAAAABAAAAAAAAAAEAAAAAAAAAAQAAAAEAAAAAAAAAAQAAAAAAAAABAAAAAQAAAAAAAAABAAAAAAAAAAEAAAAAAAAAAQAAAAAAAAABAAAAAQAAAAEAAAABAAAAAAAAAAEAAAABAAAAAQAAAAEAAAABAAAAAAAAAAAAAAABAAAAAQAAAAAAAAAAAAAAAQAAAAEAAAABAAAAAQAAAAEAAAAAAAAAAQAAAAEAAAABAAAAAQAAAAEAAAABAAAAAQAAAAEAAAAAAAAAAQAAAAEAAAABAAAAAQAAAAEAAAABAAAAAAAAAAAAAAAAAAAAAQAAAAEAAAABAAAAAQAAAAAAAAABAAAAAAAAAAEAAAABAAAAAAAAAAEAAAAAAAAAAAAAAAEAAAAAAAAAAAAAAAEAAAAAAAAAAQAAAAEAAAABAAAAAAAAAAEAAAABAAAAAAAAAAEAAAABAAAAAQAAAAEAAAABAAAAAQAAAAEAAAAAAAAAAQAAAAAAAAABAAAAAQAAAAEAAAABAAAAAAAAAAEAAAAAAAAAAQAAAAAAAAAAAAAAAAAAAAAAAAABAAAAAAAAAAEAAAABAAAAAAAAAAEAAAAAAAAAAAAAAAAAAAABAAAAAAAAAAEAAAAAAAAAAAAAAAAAAAABAAAAAAAAAAEAAAAAAAAAAQAAAAEAAAABAAAAAAAAAAEAAAAAAAAAAAAAAAAAAAAAAAAAAAAAAAEAAAABAAAAAAAAAAEAAAABAAAAAQAAAAAAAAABAAAAAAAAAAEAAAAAAAAAAQAAAAAAAAABAAAAAQAAAAEAAAABAAAAAAAAAAEAAAABAAAAAAAAAAEAAAABAAAAAQAAAAAAAAAAAAAAAAAAAAAAAAABAAAAAQAAAAEAAAABAAAAAAAAAAEAAAAAAAAAAAAAAAAAAAABAAAAAQAAAAAAAAAAAAAAAQAAAAEAAAAAAAAAAQAAAAAAAAAAAAAAAAAAAAEAAAAAAAAAAAAAAAEAAAABAAAAAQAAAAAAAAAAAAAAAAAAAAEAAAAAAAAAAQAAAAAAAAAAAAAAAQAAAAAAAAAAAAAAAAAAAAAAAAABAAAAAwAAAAMAAAAAAAAAAAAAAAAAAAABAAAAAwAAAAEAAAABAAAAAQAAAAEAAAAAAAAAAAAAAAAAAAAAAAAAAQAAAAEAAAABAAAAAAAAAAEAAAAAAAAAAQAAAAEAAAABAAAAAQAAAAAAAAABAAAAAQAAAAAAAAABAAAAAQAAAAAAAAAAAAAAAQAAAAAAAAABAAAAAAAAAAAAAAAAAAAAAAAAAAEAAAABAAAAAAAAAAEAAAAAAAAAAQAAAAEAAAABAAAAAQAAAAEAAAABAAAAAAAAAAAAAAAAAAAAAQAAAAEAAAABAAAAAQAAAAEAAAABAAAAAAAAAAEAAAAAAAAAAAAAAAAAAAAAAAAAAQAAAAEAAAABAAAAAQAAAAAAAAABAAAAAQAAAAAAAAABAAAAAQAAAAAAAAADAAAAAAAAAAEAAAAAAAAAAAAAAAEAAAABAAAAAAAAAAEAAAAAAAAAAAAAAAEAAAAAAAAAAAAAAAEAAAAAAAAAAQAAAAAAAAABAAAAAQAAAAAAAAABAAAAAQAAAAEAAAABAAAAAQAAAAAAAAAAAAAAAAAAAAEAAAABAAAAAQAAAAAAAAABAAAAAAAAAAEAAAAAAAAAAQAAAAEAAAABAAAAAQAAAAAAAAABAAAAAQAAAAEAAAAAAAAAAQAAAAAAAAABAAAAAAAAAAEAAAABAAAAAQAAAAAAAAAAAAAAAQAAAAEAAAABAAAAAQAAAAEAAAABAAAAAAAAAAEAAAAAAAAAAQAAAAAAAAABAAAAAQAAAAMAAAABAAAAAgAAAAEAAAABAAAAAQAAAAAAAAAAAAAAAQAAAA==\",\"dtype\":\"int32\",\"order\":\"little\",\"shape\":[532]},\"CoinName\":[\"42 Coin\",\"404Coin\",\"EliteCoin\",\"Bitcoin\",\"Ethereum\",\"Litecoin\",\"Dash\",\"Monero\",\"Ethereum Classic\",\"ZCash\",\"Bitshares\",\"DigiByte\",\"BitcoinDark\",\"PayCoin\",\"ProsperCoin\",\"KoboCoin\",\"Spreadcoin\",\"Argentum\",\"Aurora Coin\",\"BlueCoin\",\"MyriadCoin\",\"MoonCoin\",\"ZetaCoin\",\"SexCoin\",\"Quatloo\",\"EnergyCoin\",\"QuarkCoin\",\"Riecoin\",\"Digitalcoin \",\"BitBar\",\"Catcoin\",\"CryptoBullion\",\"CannaCoin\",\"CryptCoin\",\"CasinoCoin\",\"Diamond\",\"Verge\",\"DevCoin\",\"EarthCoin\",\"E-Gulden\",\"Einsteinium\",\"Emerald\",\"Exclusive Coin\",\"FlutterCoin\",\"Franko\",\"FeatherCoin\",\"GrandCoin\",\"GlobalCoin\",\"GoldCoin\",\"HoboNickels\",\"HyperStake\",\"Infinite Coin\",\"IOCoin\",\"IXcoin\",\"KrugerCoin\",\"LuckyCoin\",\"Litebar \",\"MaxCoin\",\"MegaCoin\",\"MediterraneanCoin\",\"MintCoin\",\"MinCoin\",\"MazaCoin\",\"Nautilus Coin\",\"NavCoin\",\"NobleCoin\",\"Namecoin\",\"NyanCoin\",\"OpalCoin\",\"Orbitcoin\",\"PotCoin\",\"PhoenixCoin\",\"Reddcoin\",\"RonPaulCoin\",\"StableCoin\",\"SmartCoin\",\"SuperCoin\",\"SyncCoin\",\"SysCoin\",\"TeslaCoin\",\"TigerCoin\",\"TittieCoin\",\"TorCoin\",\"TerraCoin\",\"UnbreakableCoin\",\"Unobtanium\",\"UroCoin\",\"UnitaryStatus Dollar\",\"UltraCoin\",\"ViaCoin\",\"VeriCoin\",\"Vertcoin\",\"WorldCoin\",\"X11 Coin\",\"Crypti\",\"JouleCoin\",\"StealthCoin\",\"ZCC Coin\",\"ByteCoin\",\"DigitalNote \",\"BurstCoin\",\"StorjCoin\",\"MonaCoin\",\"Neutron\",\"FairCoin\",\"Gulden\",\"RubyCoin\",\"PesetaCoin\",\"Kore\",\"Wild Beast Coin\",\"Dnotes\",\"Flo\",\"8BIT Coin\",\"Sativa Coin\",\"ArtByte\",\"Folding Coin\",\"Ucoin\",\"Unitus\",\"CypherPunkCoin\",\"OmniCron\",\"Vtorrent\",\"GreenCoin\",\"Cryptonite\",\"MasterCoin\",\"SoonCoin\",\"1Credit\",\"IslaCoin\",\"Nexus\",\"MarsCoin \",\"Crypto\",\"Anarchists Prime\",\"Droidz\",\"BowsCoin\",\"Squall Coin\",\"Song Coin\",\"BitZeny\",\"Diggits\",\"Expanse\",\"Paycon\",\"Siacoin\",\"Emercoin\",\"EverGreenCoin\",\"MindCoin\",\"I0coin\",\"Decred\",\"Revolution VR\",\"HOdlcoin\",\"EDRCoin\",\"Hitcoin\",\"Gamecredits\",\"DubaiCoin\",\"CarpeDiemCoin\",\"PWR Coin\",\"BillaryCoin\",\"GPU Coin\",\"Adzcoin\",\"SoilCoin\",\"YoCoin\",\"SibCoin\",\"EuropeCoin\",\"ZeitCoin\",\"SwingCoin\",\"SafeExchangeCoin\",\"Nebuchadnezzar\",\"Francs\",\"BolivarCoin\",\"Ratecoin\",\"Revenu\",\"Clockcoin\",\"VIP Tokens\",\"BitSend\",\"Omni\",\"Let it Ride\",\"PutinCoin\",\"iBankCoin\",\"Frankywillcoin\",\"MudraCoin\",\"PizzaCoin\",\"Lutetium Coin\",\"Komodo\",\"GoldBlocks\",\"CarterCoin\",\"Karbo\",\"BitTokens\",\"ZayedCoin\",\"MustangCoin\",\"ZoneCoin\",\"Circuits of Value\",\"RootCoin\",\"DopeCoin\",\"BitCurrency\",\"DollarCoin\",\"Swiscoin\",\"Shilling\",\"BuzzCoin\",\"Opair\",\"PesoBit\",\"Halloween Coin\",\"ZCoin\",\"CoffeeCoin\",\"RoyalCoin\",\"GanjaCoin V2\",\"TeamUP\",\"LanaCoin\",\"Elementrem\",\"ZClassic\",\"ARK\",\"InsaneCoin\",\"KiloCoin\",\"ArtexCoin\",\"EmberCoin\",\"XenixCoin\",\"FreeCoin\",\"PLNCoin\",\"AquariusCoin\",\"Kurrent\",\"Creatio\",\"Eternity\",\"Eurocoin\",\"BitcoinFast\",\"Stakenet\",\"BitConnect Coin\",\"MoneyCoin\",\"Enigma\",\"Cannabis Industry Coin\",\"Russiacoin\",\"PandaCoin\",\"GameUnits\",\"GAKHcoin\",\"Allsafe\",\"LiteCreed\",\"OsmiumCoin\",\"Bikercoins\",\"HexxCoin\",\"Klingon Empire Darsek\",\"Internet of People\",\"KushCoin\",\"Printerium\",\"PacCoin\",\"Impeach\",\"Citadel\",\"Zilbercoin\",\"FirstCoin\",\"BeaverCoin\",\"FindCoin\",\"VaultCoin\",\"Zero\",\"OpenChat\",\"Canada eCoin\",\"Zoin\",\"RenosCoin\",\"DubaiCoin\",\"VirtacoinPlus\",\"TajCoin\",\"Impact\",\"EB3coin\",\"Atmos\",\"HappyCoin\",\"Coinonat\",\"MacronCoin\",\"Condensate\",\"Independent Money System\",\"ArgusCoin\",\"LomoCoin\",\"ProCurrency\",\"GoldReserve\",\"BenjiRolls\",\"GrowthCoin\",\"ILCoin\",\"Phreak\",\"Degas Coin\",\"HTML5 Coin\",\"Ultimate Secure Cash\",\"EquiTrader\",\"QTUM\",\"Quantum Resistant Ledger\",\"Espers\",\"Dynamic\",\"Nano\",\"ChanCoin\",\"Dinastycoin\",\"Denarius\",\"DigitalPrice\",\"Virta Unique Coin\",\"Bitcoin Planet\",\"Unify\",\"BritCoin\",\"SocialCoin\",\"ArcticCoin\",\"DAS\",\"Linda\",\"LeviarCoin\",\"DeepOnion\",\"Bitcore\",\"gCn Coin\",\"SmartCash\",\"Signatum\",\"Onix\",\"Cream\",\"Bitcoin Cash\",\"Monoeci\",\"Draftcoin\",\"Vechain\",\"Sojourn Coin\",\"Stakecoin\",\"NewYorkCoin\",\"FrazCoin\",\"Kronecoin\",\"AdCoin\",\"Linx\",\"CoinonatX\",\"Ethereum Dark\",\"Sumokoin\",\"Obsidian\",\"Cardano\",\"Regalcoin\",\"BitcoinZ\",\"TrezarCoin\",\"Elements\",\"TerraNovaCoin\",\"VIVO Coin\",\"Rupee\",\"Bitcoin Gold\",\"WomenCoin\",\"Theresa May Coin\",\"NamoCoin\",\"LUXCoin\",\"Pirl\",\"Xios\",\"Bitcloud 2.0\",\"eBoost\",\"KekCoin\",\"BlackholeCoin\",\"Infinity Economics\",\"Pura\",\"Innova\",\"Ellaism\",\"GoByte\",\"Magnet\",\"Lamden Tau\",\"Electra\",\"Bitcoin Diamond\",\"SHIELD\",\"Cash & Back Coin\",\"UltraNote\",\"BitCoal\",\"DaxxCoin\",\"Bulwark\",\"Kalkulus\",\"AC3\",\"Lethean\",\"GermanCoin\",\"LiteCoin Ultra\",\"PopularCoin\",\"PhantomX\",\"Photon\",\"Sucre\",\"SparksPay\",\"Digiwage\",\"GunCoin\",\"IrishCoin\",\"Trollcoin\",\"Litecoin Plus\",\"Monkey Project\",\"Pioneer Coin\",\"UnitedBitcoin\",\"Interzone\",\"TokenPay\",\"1717 Masonic Commemorative Token\",\"My Big Coin\",\"TurtleCoin\",\"MUNcoin\",\"Unified Society USDEX\",\"Niobio Cash\",\"ShareChain\",\"Travelflex\",\"KREDS\",\"Tokyo Coin\",\"BiblePay\",\"LitecoinCash\",\"BitFlip\",\"LottoCoin\",\"Crypto Improvement Fund\",\"Stipend\",\"Poa Network\",\"Pushi\",\"Ellerium\",\"Velox\",\"Ontology\",\"Callisto Network\",\"BitTube\",\"Poseidon\",\"Aidos Kuneen\",\"Bitspace\",\"Briacoin\",\"Ignition\",\"Bitrolium\",\"MedicCoin\",\"Alpenschillling\",\"Bitcoin Green\",\"Deviant Coin\",\"Abjcoin\",\"Semux\",\"FuturoCoin\",\"Carebit\",\"Zealium\",\"Monero Classic\",\"Proton\",\"iDealCash\",\"Jumpcoin\",\"Infinex\",\"Bitcoin Incognito\",\"KEYCO\",\"HollyWoodCoin\",\"GINcoin\",\"PlatinCoin\",\"Loki\",\"Newton Coin\",\"Swisscoin\",\"Xt3ch\",\"MassGrid\",\"TheVig\",\"PluraCoin\",\"EmaratCoin\",\"Dekado\",\"Lynx\",\"Poseidon Quark\",\"BitcoinWSpectrum\",\"Muse\",\"Motion\",\"PlusOneCoin\",\"Axe\",\"Trivechain\",\"Dystem\",\"Giant\",\"Peony Coin\",\"Absolute Coin\",\"Vitae\",\"HexCoin\",\"TPCash\",\"Webchain\",\"Ryo\",\"Urals Coin\",\"Qwertycoin\",\"ARENON\",\"EUNO\",\"MMOCoin\",\"Ketan\",\"Project Pai\",\"XDNA\",\"PAXEX\",\"Azart\",\"ThunderStake\",\"Kcash\",\"Xchange\",\"Acute Angle Cloud\",\"CrypticCoin\",\"Bettex coin\",\"Actinium\",\"Bitcoin SV\",\"BitMoney\",\"Junson Ming Chan Coin\",\"FREDEnergy\",\"HerbCoin\",\"Universal Molecule\",\"Lithium\",\"PirateCash\",\"Exosis\",\"Block-Logic\",\"Oduwa\",\"Beam\",\"Galilel\",\"Bithereum\",\"Crypto Sports\",\"Credit\",\"SLICE\",\"Dash Platinum\",\"Nasdacoin\",\"Beetle Coin\",\"Titan Coin\",\"Award\",\"BLAST\",\"Bitcoin Rhodium\",\"GlobalToken\",\"Insane Coin\",\"ALAX\",\"LiteDoge\",\"SolarCoin\",\"TruckCoin\",\"UFO Coin\",\"OrangeCoin\",\"BlakeCoin\",\"BitstarCoin\",\"NeosCoin\",\"HyperCoin\",\"PinkCoin\",\"Crypto Escudo\",\"AudioCoin\",\"IncaKoin\",\"Piggy Coin\",\"Crown Coin\",\"Genstake\",\"SmileyCoin\",\"XiaoMiCoin\",\"Groestlcoin\",\"CapriCoin\",\" ClubCoin\",\"Radium\",\"Bata\",\"Pakcoin\",\"Creditbit \",\"OKCash\",\"Lisk\",\"HiCoin\",\"WhiteCoin\",\"FriendshipCoin\",\"JoinCoin\",\"Triangles Coin\",\"Vollar\",\"EOS\",\"Reality Clash\",\"Oxycoin\",\"TigerCash\",\"Waves\",\"Particl\",\"BitTorrent\",\"Nxt\",\"ZEPHYR\",\"Gapcoin\",\"Beldex\",\"Horizen\",\"BitcoinPlus\"],\"PC1\":{\"__ndarray__\":\"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\",\"dtype\":\"float64\",\"order\":\"little\",\"shape\":[532]},\"PC2\":{\"__ndarray__\":\"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\",\"dtype\":\"float64\",\"order\":\"little\",\"shape\":[532]},\"PC3\":{\"__ndarray__\":\"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\",\"dtype\":\"float64\",\"order\":\"little\",\"shape\":[532]},\"ProofType\":[\"PoW/PoS\",\"PoW/PoS\",\"PoW/PoS\",\"PoW\",\"PoW\",\"PoW\",\"PoW/PoS\",\"PoW\",\"PoW\",\"PoW\",\"PoS\",\"PoW\",\"PoW/PoS\",\"PoS\",\"PoW\",\"PoW/PoS\",\"PoW\",\"PoW\",\"PoW/PoS\",\"PoW/PoS\",\"PoW\",\"PoW\",\"PoW\",\"PoW\",\"PoW\",\"PoW/PoS\",\"PoW\",\"PoW\",\"PoW\",\"PoW/PoS\",\"PoW\",\"PoW/PoS\",\"PoW\",\"PoW\",\"PoC\",\"PoW/PoS\",\"PoW\",\"PoW\",\"PoW\",\"PoW\",\"PoW\",\"PoW\",\"PoS\",\"PoS/PoW/PoT\",\"PoW\",\"PoW\",\"PoW\",\"PoW\",\"PoW\",\"PoW/PoS\",\"PoS\",\"PoW\",\"PoW/PoS\",\"PoW\",\"PoW\",\"PoW\",\"PoW\",\"PoW/PoS\",\"PoW\",\"PoW\",\"PoS\",\"PoW\",\"PoW/PoS\",\"PoS\",\"PoW/PoS\",\"PoW\",\"PoW\",\"PoW\",\"PoW/PoS\",\"PoW/PoS\",\"PoW/PoS\",\"PoW/PoS\",\"PoW/PoS\",\"PoW\",\"PoW\",\"PoW\",\"PoS\",\"PoW/PoS\",\"PoW\",\"PoS\",\"PoW\",\"PoS\",\"PoW/PoS\",\"PoW\",\"PoW\",\"PoW\",\"PoW\",\"PoW/PoS\",\"PoW/PoS\",\"PoW\",\"PoST\",\"PoW\",\"PoW\",\"PoW/PoS\",\"PoS\",\"PoW\",\"PoW/PoS\",\"PoW/PoS\",\"PoW\",\"PoW\",\"PoC\",\"PoS\",\"PoW\",\"PoW/PoS\",\"PoW/PoS\",\"PoW\",\"PoS\",\"PoW\",\"PoW/PoS\",\"PoW\",\"PoS\",\"PoW\",\"PoW/PoS\",\"PoW/PoS\",\"PoW\",\"PoW\",\"PoS\",\"PoW\",\"PoW\",\"PoW\",\"PoW/PoS\",\"PoW\",\"PoW\",\"PoW\",\"PoW\",\"PoW\",\"PoW/PoS\",\"PoW/nPoS\",\"PoW\",\"PoW\",\"PoW\",\"PoW/PoS\",\"PoW\",\"PoS/PoW\",\"PoW\",\"PoW\",\"PoS\",\"PoW\",\"PoW/PoS\",\"PoW\",\"PoW/PoS\",\"PoW/PoS\",\"PoW\",\"PoW\",\"PoW/PoS\",\"PoW\",\"PoW\",\"PoW/PoS\",\"PoW/PoS\",\"PoW\",\"PoW/PoS\",\"PoW\",\"PoW/PoS\",\"PoW/PoS\",\"PoS\",\"PoW\",\"PoW\",\"PoW\",\"PoW\",\"PoW/PoS\",\"PoS\",\"PoW/PoS\",\"PoC\",\"PoS\",\"PoW\",\"PoW\",\"PoW/PoS\",\"PoW/PoS\",\"PoW/PoS\",\"PoW/PoS\",\"PoW/PoS\",\"PoW\",\"PoS\",\"PoW/PoS\",\"PoW/PoS\",\"PoW/PoS\",\"PoS\",\"PoW\",\"PoS\",\"dPoW/PoW\",\"PoW/PoS\",\"PoW/PoS\",\"PoW\",\"PoW/PoS\",\"PoW\",\"PoW/PoS\",\"PoW/PoS\",\"PoW\",\"PoW/PoS\",\"PoW\",\"PoS\",\"PoW\",\"PoW/PoW\",\"PoW\",\"PoW/PoS\",\"PoS\",\"PoW/PoS\",\"PoW/PoS\",\"PoW\",\"PoS\",\"PoS\",\"PoW/PoS\",\"PoS\",\"PoW/PoS\",\"PoW\",\"PoW\",\"DPoS\",\"PoW/PoS\",\"PoW\",\"PoW\",\"PoW/PoS\",\"PoW/PoS\",\"PoS\",\"PoW/PoS\",\"PoW/PoS\",\"PoW\",\"PoS\",\"PoW/PoS\",\"PoW/PoS\",\"PoW/PoS\",\"TPoS\",\"PoW/PoS\",\"PoW/PoS\",\"PoW/PoS\",\"PoW\",\"PoW/PoS\",\"PoS\",\"PoW/PoS\",\"PoW/PoS\",\"PoS\",\"PoW/PoS\",\"PoW\",\"PoW\",\"PoW\",\"PoW/PoS\",\"PoW/PoS\",\"PoW/PoS\",\"PoW/PoS\",\"PoW\",\"PoW/PoS\",\"PoW\",\"PoS\",\"PoW/PoS \",\"PoW\",\"PoS\",\"PoW\",\"PoW\",\"PoW/PoS\",\"PoW\",\"PoW\",\"PoS\",\"PoW\",\"PoW/PoS\",\"PoW/PoS\",\"PoW/PoS\",\"PoW\",\"PoS\",\"PoW/PoS\",\"PoW\",\"PoS\",\"PoW/PoS\",\"PoW/PoS\",\"PoW/PoS\",\"PoW/PoS\",\"PoS\",\"PoW/PoS\",\"PoW\",\"PoS\",\"PoW\",\"PoS\",\"PoW/PoS\",\"PoW/PoS\",\"PoS\",\"PoW\",\"PoS\",\"PoW\",\"PoW/PoS\",\"PoW\",\"PoW\",\"PoW\",\"PoW\",\"PoW/PoS\",\"PoW\",\"PoW/PoS\",\"PoW/PoS\",\"PoW\",\"PoW/PoS\",\"PoW\",\"PoW\",\"PoW\",\"PoW/PoS\",\"PoW\",\"PoW/PoS\",\"PoW\",\"PoW\",\"PoW\",\"PoS\",\"PoW\",\"PoW/PoS\",\"PoW\",\"PoW/PoS\",\"PoS\",\"Proof of Authority\",\"PoW\",\"PoS\",\"PoW\",\"PoW\",\"PoW\",\"PoW\",\"PoW\",\"PoW/PoS\",\"PoW/PoS\",\"PoW\",\"PoS\",\"PoS\",\"PoW/PoS\",\"PoW\",\"PoW/PoS\",\"PoW\",\"PoW/PoS\",\"PoW\",\"PoS\",\"PoW\",\"PoW/PoS\",\"PoW/PoS\",\"PoW/PoS\",\"PoW/PoS\",\"PoW\",\"PoW/PoS\",\"PoW/PoS\",\"PoW\",\"PoS\",\"PoW/PoS\",\"PoS\",\"PoW\",\"PoW\",\"PoW\",\"PoW\",\"PoW/PoS\",\"DPoS\",\"PoW/PoS\",\"PoW/PoS\",\"PoW\",\"PoW/PoS\",\"PoW\",\"PoW\",\"PoW\",\"PoS\",\"PoS\",\"PoW\",\"PoW\",\"PoW/PoS\",\"PoW/PoS\",\"PoW\",\"PoW/PoS\",\"PoW\",\"PoW\",\"PoW\",\"PoS\",\"PoW\",\"PoW\",\"PoW/PoS\",\"PoW/PoS\",\"PoS\",\"PoW\",\"PoW\",\"PoW\",\"PoS\",\"PoS\",\"PoW and PoS\",\"PoW\",\"PoW\",\"PoW/PoS\",\"PoW\",\"PoW\",\"PoW\",\"PoW\",\"PoS\",\"POBh\",\"PoW + Hive\",\"PoW\",\"PoW\",\"PoW\",\"PoW/PoS\",\"PoA\",\"PoW/PoS\",\"PoW/PoS\",\"PoS\",\"PoS\",\"PoW\",\"PoW\",\"PoW\",\"PoW\",\"PoW/PoS\",\"PoW/PoS\",\"PoW/PoS\",\"PoW\",\"PoS\",\"PoW\",\"PoS\",\"PoS\",\"PoW/PoS\",\"DPoS\",\"PoW\",\"PoW/PoS\",\"PoS\",\"PoW\",\"PoS\",\"PoW/PoS\",\"PoW\",\"PoW\",\"PoS/PoW\",\"PoW\",\"PoS\",\"PoW\",\"PoW\",\"PoW\",\"PoW\",\"PoW/PoS\",\"PoS\",\"PoW\",\"PoW/PoS\",\"PoW\",\"PoW/PoS\",\"PoS\",\"HPoW\",\"PoS\",\"PoS\",\"PoS\",\"PoW\",\"PoW\",\"PoW\",\"PoW/PoS\",\"PoS\",\"PoW/PoS\",\"PoS\",\"PoW/PoS\",\"PoS\",\"PoW\",\"PoW/PoS\",\"PoW\",\"PoW\",\"PoW\",\"PoW\",\"PoS\",\"PoW/PoS\",\"PoS\",\"PoS\",\"PoW\",\"PoW/PoS\",\"PoS\",\"PoW\",\"PoW/PoS\",\"Zero-Knowledge Proof\",\"PoW\",\"DPOS\",\"PoW\",\"PoS\",\"PoW\",\"PoW\",\"Pos\",\"PoS\",\"PoW\",\"PoW/PoS\",\"PoW\",\"PoW\",\"PoS\",\"PoW\",\"PoW\",\"PoW/PoS\",\"PoW\",\"PoW/PoS\",\"PoW\",\"PoS\",\"PoW/PoS\",\"PoW\",\"PoS\",\"PoW/PoS\",\"PoW/PoS\",\"PoW/PoS\",\"PoW/PoS\",\"PoW\",\"PoW\",\"PoW\",\"PoW/PoS\",\"DPoS\",\"PoW/PoS\",\"PoW\",\"PoW/PoS\",\"PoW\",\"PoW/PoS\",\"PoW\",\"PoW/PoS\",\"PoS\",\"PoW/PoS\",\"PoW/PoS\",\"PoW\",\"PoW/PoS\",\"PoW/PoS\",\"PoW/PoS\",\"PoW\",\"PoW/PoS\",\"PoW\",\"PoW/PoS\",\"PoW\",\"PoW/PoS\",\"PoW/PoS\",\"PoS\",\"PoW\",\"PoW\",\"Proof of Trust\",\"PoW/PoS\",\"DPoS\",\"PoS\",\"PoW/PoS\",\"PoW/PoS\",\"PoW\",\"PoW/PoS\",\"PoW\",\"DPoS\",\"PoW\",\"DPoS\",\"PoS\",\"LPoS\",\"PoS\",\"DPoS\",\"PoS/LPoS\",\"DPoS\",\"PoW/PoS\",\"PoW\",\"PoW\",\"PoS\"],\"TotalCoinSupply\":[\"42\",\"532000000\",\"314159265359\",\"21000000\",\"0\",\"84000000\",\"22000000\",\"0\",\"210000000\",\"21000000\",\"3600570502\",\"21000000000\",\"22000000\",\"12500000\",\"21000000\",\"350000000\",\"20000000\",\"64000000\",\"16768584\",\"0\",\"2000000000\",\"384000000000\",\"169795588\",\"250000000\",\"100000000\",\"0\",\"247000000\",\"84000000\",\"48166000\",\"500000\",\"21000000 \",\"1000000\",\"13140000\",\"18000000\",\"40000000000\",\"4380000\",\"16555000000\",\"21000000000\",\"13500000000\",\"21000000 \",\"299792458\",\"32000000\",\"0\",\"0\",\"11235813\",\"336000000\",\"1420609614\",\"70000000\",\"72245700\",\"120000000\",\"0\",\"90600000000\",\"22000000\",\"21000000\",\"265420800\",\"20000000\",\"1350000\",\"100000000\",\"42000000\",\"200000000\",\"0\",\"10000000\",\"2419200000\",\"16180000\",\"0\",\"15000000000\",\"21000000\",\"337000000\",\"0\",\"3770000\",\"420000000\",\"98000000\",\"0\",\"21000000\",\"250000000\",\"51200000\",\"0\",\"1000\",\"888000000\",\"100000000\",\"47011968\",\"2300000000\",\"10000000\",\"42000000\",\"80000000\",\"250000\",\"0\",\"1600000000\",\"100000000\",\"23000000\",\"0\",\"84000000\",\"265420800\",\"5500000\",\"0\",\"45000000\",\"0\",\"1000000000\",\"184467440735\",\"10000000000\",\"2158812800\",\"500000000\",\"105120000\",\"68000000\",\"0\",\"1680000000\",\"0\",\"166386000\",\"12000000\",\"2628000\",\"500000000\",\"160000000\",\"0\",\"10000000\",\"1000000000\",\"1000000000\",\"20000000\",\"0\",\"0\",\"3371337\",\"20000000\",\"10000000000\",\"1840000000\",\"619478\",\"21000000\",\"92000000000\",\"0\",\"78000000\",\"33000000\",\"65789100\",\"53760000\",\"5060000\",\"21000000\",\"0\",\"210240000\",\"250000000\",\"100000000\",\"16906397\",\"50000000\",\"0\",\"1000000000\",\"26298000\",\"16000000\",\"21000000\",\"21000000\",\"210000000\",\"81962100\",\"22000000\",\"26550000000\",\"84000000\",\"10500000\",\"21626280000 \",\"0\",\"42000000\",\"221052632\",\"84000000\",\"30000000\",\"168351300\",\"24000000\",\"384000000\",\" 99000000000\",\"40000000\",\"2147483647\",\"20000000\",\"20000000\",\"25000000\",\"75000000\",\"222725000\",\"525000000\",\"90000000\",\"139000000\",\"616448\",\"33500000\",\"2000000000\",\"44333333\",\"100000000\",\"200000000\",\"25000000\",\"657000000\",\"200000000\",\"50000000\",\"90000000\",\"10000000\",\"21000000\",\"9736000\",\"3000000\",\"21000000\",\"1200000000\",\"0\",\"200000000\",\"0\",\"10638298\",\"3100000000\",\"30000000\",\"20000000000\",\"74000000\",\"0\",\"1500000000\",\"21400000\",\"39999898\",\"2500124\",\"100000000\",\"301000000\",\"7506000000\",\"26205539\",\"21000000\",\"125000000\",\"30000000\",\"10000000000\",\"500000000\",\"850000000\",\"3853326.77707314\",\"50000000\",\"38540000 \",\"42000000\",\"228000000\",\"20000000\",\"60000000\",\"20000000\",\"33000000\",\"76500000\",\"28000000\",\"650659833\",\"5000000\",\"21000000\",\"144000000\",\"32514916898\",\"13000000\",\"3315789\",\"15000000\",\"78835200\",\"2714286\",\"25000000\",\"9999999\",\"500000000\",\"21000000\",\"9354000\",\"20000000\",\"100000000000\",\"21933333\",\"185000000\",\"55000000\",\"110000000\",\"3360000\",\"14524851.4827\",\"1000000000\",\"17000000\",\"1000000000\",\"100000000 \",\"21000000\",\"34426423\",\"2232901\",\"100000000\",\"36900000\",\"110000000\",\"4000000000\",\"110290030\",\"100000000\",\"48252000\",\"400000000\",\"500000000\",\"21212121\",\"28600000\",\"1000000000\",\"75000000000\",\"40000000\",\"35520400\",\"2000000000\",\"2500000000\",\"30000000\",\"105000000\",\"90000000000\",\"200084200\",\"72000000\",\"100000000\",\"105000000\",\"50000000000\",\"0\",\"340282367\",\"30000000\",\"2000000000\",\"10000000\",\"100000000\",\"120000000\",\"100000000\",\"19276800\",\"30000000\",\" 75000000\",\"60000000\",\"18900000\",\"50000000000\",\"54000000\",\"18898187.6216583\",\"21000000\",\"200000000000\",\"5000000000\",\"137500000\",\"1100000000\",\"100000000\",\"21000000\",\"9507271\",\"17405891.19707116\",\"86712634466\",\"10500000000\",\"61599965\",\"0\",\"20000000\",\"84000000\",\"100000000\",\"100000000\",\"48252000\",\"4200000\",\"88888888\",\"91388946\",\"45000000000\",\"27000000\",\"21000000000\",\"400000000\",\"1800000000\",\"15733333\",\"27000000\",\"24000000\",\"21000000\",\"25000000000\",\"100000000\",\"1200000000\",\"60000000\",\"156306732.71\",\"21000000\",\"200000000\",\"100000000\",\"21000000\",\"14788275.991\",\"9000000000\",\"350000000\",\"45000000\",\"280000000\",\"31800000\",\"144000000\",\"500000000\",\"30000000000\",\"210000000\",\"660000000\",\"210000000\",\"85000000000\",\"12500000\",\"10000000000\",\"27716121\",\"20000000\",\"550000000\",\"999481516\",\"50000000000\",\"150000000\",\"4999999999\",\"50000000\",\" 90000000000\",\"19800000\",\"21000000\",\"120000000\",\"500000000\",\"64000000\",\"900000000\",\"4000000\",\"21000000\",\"23000000\",\"20166000\",\"23000000\",\"25000000\",\"1618033\",\"30000000\",\"1000000000000\",\"16600000\",\"232000000\",\"336000000\",\"10000000000\",\"100000000\",\"1100000000\",\"800000000\",\"5200000000\",\"840000000\",\"40000000\",\"18406979840\",\"500000000\",\"19340594\",\"252460800\",\"25000000\",\"60000000\",\"124000000\",\"1000000000\",\"6500000000\",\"1000000000\",\"21000000\",\"25000000\",\"50000000\",\"3000000\",\"5000000\",\"70000000\",\"500000000\",\"300000000\",\"21000000\",\"88000000\",\"30000000\",\"100000000\",\"100000000\",\"200000000\",\"80000000\",\"18400000\",\"45000000\",\"5121951220\",\"21000000\",\"26280000\",\"21000000\",\"18000000\",\"26000000\",\"10500000\",\"600000518\",\"150000000\",\"184000000000\",\"10200000000\",\"44000000\",\"168000000\",\"100000000\",\"1000000000\",\"84000000\",\"90000000\",\"92000000000\",\"650000000 \",\"100262205\",\"18081806 \",\"22075700\",\"21000000\",\"21000000\",\"82546564\",\"21000000\",\"5151000\",\"16880000000\",\"52500000\",\"100000000\",\"22105263\",\"1000000000\",\"1750000000\",\"88188888\",\"210000000\",\"184470000000\",\"55000000\",\"50000000\",\"260000000\",\"210000000\",\"2100000000\",\"366000000\",\"100000000\",\"25000000\",\"18000000000\",\"1000000000\",\"100000000\",\"1000000000\",\"7600000000\",\"50000000\",\"84000000\",\"21000000\",\"70000000000\",\"0\",\"8080000000\",\"54000000\",\"105120001.44\",\"25228800\",\"105000000\",\"21000000\",\"120000000\",\"21000000\",\"262800000\",\"19035999\",\"30886000\",\"13370000\",\"74800000000\",\"100000000\",\"19700000\",\"84000000\",\"500000000\",\"5000000000\",\"420000000\",\"64000000\",\"2100000\",\"168000000\",\"30000000\",\"1000000000\",\"35000000000\",\"98100000000\",\"0\",\"4000000000\",\"200000000\",\"7000000000\",\"54256119\",\"21000000\",\"0\",\"500000000\",\"1000000000\",\"10500000000\",\"190000000\",\"1000000000\",\"42000000\",\"15000000\",\"50000000000\",\"400000000\",\"105000000\",\"208000000\",\"160000000\",\"9000000\",\"5000000\",\"182000000\",\"16504333\",\"105000000\",\"159918400\",\"10008835635\",\"300000000\",\"60168145\",\"2800000\",\"120000\",\"2100000000\",\"0\",\"24487944\",\"0\",\"1000000000\",\"100000000\",\"8634140\",\"990000000000\",\"1000000000\",\"2000000000\",\"250000000\",\"1400222610\",\"21000000\",\"1000000\"],\"TotalCoinsMined\":{\"__ndarray__\":\"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\",\"dtype\":\"float64\",\"order\":\"little\",\"shape\":[532]}},\"selected\":{\"id\":\"1273\"},\"selection_policy\":{\"id\":\"1322\"}},\"id\":\"1272\",\"type\":\"ColumnDataSource\"},{\"attributes\":{\"source\":{\"id\":\"1272\"}},\"id\":\"1320\",\"type\":\"CDSView\"},{\"attributes\":{\"editor\":{\"id\":\"1285\"},\"field\":\"TotalCoinsMined\",\"formatter\":{\"id\":\"1284\"},\"title\":\"TotalCoinsMined\"},\"id\":\"1286\",\"type\":\"TableColumn\"},{\"attributes\":{\"editor\":{\"id\":\"1275\"},\"field\":\"Algorithm\",\"formatter\":{\"id\":\"1274\"},\"title\":\"Algorithm\"},\"id\":\"1276\",\"type\":\"TableColumn\"},{\"attributes\":{\"format\":\"0,0.0[00000]\"},\"id\":\"1284\",\"type\":\"NumberFormatter\"},{\"attributes\":{},\"id\":\"1289\",\"type\":\"StringFormatter\"},{\"attributes\":{},\"id\":\"1274\",\"type\":\"StringFormatter\"},{\"attributes\":{},\"id\":\"1310\",\"type\":\"StringEditor\"},{\"attributes\":{\"editor\":{\"id\":\"1290\"},\"field\":\"TotalCoinSupply\",\"formatter\":{\"id\":\"1289\"},\"title\":\"TotalCoinSupply\"},\"id\":\"1291\",\"type\":\"TableColumn\"},{\"attributes\":{},\"id\":\"1280\",\"type\":\"StringEditor\"},{\"attributes\":{},\"id\":\"1295\",\"type\":\"NumberEditor\"},{\"attributes\":{\"format\":\"0,0.0[00000]\"},\"id\":\"1299\",\"type\":\"NumberFormatter\"},{\"attributes\":{\"format\":\"0,0.0[00000]\"},\"id\":\"1304\",\"type\":\"NumberFormatter\"},{\"attributes\":{\"children\":[{\"id\":\"1271\"},{\"id\":\"1319\"},{\"id\":\"1325\"}],\"margin\":[0,0,0,0],\"name\":\"Row01989\",\"tags\":[\"embedded\"]},\"id\":\"1270\",\"type\":\"Row\"},{\"attributes\":{\"editor\":{\"id\":\"1305\"},\"field\":\"PC3\",\"formatter\":{\"id\":\"1304\"},\"title\":\"PC3\"},\"id\":\"1306\",\"type\":\"TableColumn\"},{\"attributes\":{},\"id\":\"1300\",\"type\":\"NumberEditor\"},{\"attributes\":{},\"id\":\"1322\",\"type\":\"UnionRenderers\"},{\"attributes\":{\"editor\":{\"id\":\"1300\"},\"field\":\"PC2\",\"formatter\":{\"id\":\"1299\"},\"title\":\"PC2\"},\"id\":\"1301\",\"type\":\"TableColumn\"}],\"root_ids\":[\"1270\"]},\"title\":\"Bokeh Application\",\"version\":\"2.2.3\"}};\n",
       "    var render_items = [{\"docid\":\"60adfb06-524d-4ad0-a55a-e719b0c2a5d5\",\"root_ids\":[\"1270\"],\"roots\":{\"1270\":\"42c66ef9-3278-4a7d-89b1-719ac1897eda\"}}];\n",
       "    root.Bokeh.embed.embed_items_notebook(docs_json, render_items);\n",
       "  }\n",
       "  if (root.Bokeh !== undefined && root.Bokeh.Panel !== undefined) {\n",
       "    embed_document(root);\n",
       "  } else {\n",
       "    var attempts = 0;\n",
       "    var timer = setInterval(function(root) {\n",
       "      if (root.Bokeh !== undefined && root.Bokeh.Panel !== undefined) {\n",
       "        clearInterval(timer);\n",
       "        embed_document(root);\n",
       "      } else if (document.readyState == \"complete\") {\n",
       "        attempts++;\n",
       "        if (attempts > 100) {\n",
       "          clearInterval(timer);\n",
       "          console.log(\"Bokeh: ERROR: Unable to run BokehJS code because BokehJS library is missing\");\n",
       "        }\n",
       "      }\n",
       "    }, 10, root)\n",
       "  }\n",
       "})(window);</script>"
      ],
      "text/plain": [
       ":Table   [Algorithm,ProofType,TotalCoinsMined,TotalCoinSupply,PC1,PC2,PC3,CoinName,Class]"
      ]
     },
     "execution_count": 64,
     "metadata": {
      "application/vnd.holoviews_exec.v0+json": {
       "id": "1270"
      }
     },
     "output_type": "execute_result"
    }
   ],
   "source": [
    "# Create a table with tradable cryptocurrencies.\n",
    "clustered_df.hvplot.table(sortable=True)"
   ]
  },
  {
   "cell_type": "code",
   "execution_count": 65,
   "metadata": {},
   "outputs": [
    {
     "name": "stdout",
     "output_type": "stream",
     "text": [
      "<bound method DataFrame.count of         Algorithm ProofType  TotalCoinsMined TotalCoinSupply       PC1  \\\n",
      "42         Scrypt   PoW/PoS     4.199995e+01              42 -0.337013   \n",
      "404        Scrypt   PoW/PoS     1.055185e+09       532000000 -0.320358   \n",
      "1337          X13   PoW/PoS     2.927942e+10    314159265359  2.313968   \n",
      "BTC       SHA-256       PoW     1.792718e+07        21000000 -0.149838   \n",
      "ETH        Ethash       PoW     1.076842e+08               0 -0.151890   \n",
      "...           ...       ...              ...             ...       ...   \n",
      "ZEPH      SHA-256      DPoS     2.000000e+09      2000000000  2.478093   \n",
      "GAP        Scrypt   PoW/PoS     1.493105e+07       250000000 -0.335059   \n",
      "BDX   CryptoNight       PoW     9.802226e+08      1400222610  0.325643   \n",
      "ZEN      Equihash       PoW     7.296538e+06        21000000 -0.152492   \n",
      "XBC        Scrypt       PoS     1.283270e+05         1000000 -0.292395   \n",
      "\n",
      "           PC2       PC3     CoinName  Class  \n",
      "42    1.030017 -0.510597      42 Coin      1  \n",
      "404   1.030172 -0.510780      404Coin      1  \n",
      "1337  1.628756 -0.560151    EliteCoin      1  \n",
      "BTC  -1.326579  0.192362      Bitcoin      0  \n",
      "ETH  -2.059342  0.376454     Ethereum      0  \n",
      "...        ...       ...          ...    ...  \n",
      "ZEPH  0.717510  0.230748       ZEPHYR      1  \n",
      "GAP   1.029908 -0.510610      Gapcoin      1  \n",
      "BDX  -2.292323  0.443638       Beldex      0  \n",
      "ZEN  -2.013755  0.238034      Horizen      0  \n",
      "XBC   0.824767 -0.276687  BitcoinPlus      1  \n",
      "\n",
      "[532 rows x 9 columns]>\n"
     ]
    }
   ],
   "source": [
    "# Print the total number of tradable cryptocurrencies.\n",
    "print(clustered_df.count) "
   ]
  },
  {
   "cell_type": "code",
   "execution_count": 66,
   "metadata": {},
   "outputs": [
    {
     "name": "stdout",
     "output_type": "stream",
     "text": [
      "[[4.20000000e-11 0.00000000e+00]\n",
      " [5.32000000e-04 1.06585544e-03]\n",
      " [3.14159265e-01 2.95755135e-02]\n",
      " ...\n",
      " [1.40022261e-03 9.90135079e-04]\n",
      " [2.10000000e-05 7.37028150e-06]\n",
      " [1.00000000e-06 1.29582282e-07]]\n"
     ]
    }
   ],
   "source": [
    "# Scaling data to create the scatter plot with tradable cryptocurrencies.\n",
    "scaled = MinMaxScaler().fit_transform(clustered_df[[\"TotalCoinSupply\",\"TotalCoinsMined\"]])\n",
    "print(scaled)"
   ]
  },
  {
   "cell_type": "code",
   "execution_count": 67,
   "metadata": {},
   "outputs": [
    {
     "data": {
      "text/html": [
       "<div>\n",
       "<style scoped>\n",
       "    .dataframe tbody tr th:only-of-type {\n",
       "        vertical-align: middle;\n",
       "    }\n",
       "\n",
       "    .dataframe tbody tr th {\n",
       "        vertical-align: top;\n",
       "    }\n",
       "\n",
       "    .dataframe thead th {\n",
       "        text-align: right;\n",
       "    }\n",
       "</style>\n",
       "<table border=\"1\" class=\"dataframe\">\n",
       "  <thead>\n",
       "    <tr style=\"text-align: right;\">\n",
       "      <th></th>\n",
       "      <th>TotalCoinSuppy</th>\n",
       "      <th>TotalCoinsMined</th>\n",
       "      <th>CoinName</th>\n",
       "      <th>Class</th>\n",
       "    </tr>\n",
       "  </thead>\n",
       "  <tbody>\n",
       "    <tr>\n",
       "      <th>42</th>\n",
       "      <td>4.200000e-11</td>\n",
       "      <td>0.000000</td>\n",
       "      <td>42 Coin</td>\n",
       "      <td>1</td>\n",
       "    </tr>\n",
       "    <tr>\n",
       "      <th>404</th>\n",
       "      <td>5.320000e-04</td>\n",
       "      <td>0.001066</td>\n",
       "      <td>404Coin</td>\n",
       "      <td>1</td>\n",
       "    </tr>\n",
       "    <tr>\n",
       "      <th>1337</th>\n",
       "      <td>3.141593e-01</td>\n",
       "      <td>0.029576</td>\n",
       "      <td>EliteCoin</td>\n",
       "      <td>1</td>\n",
       "    </tr>\n",
       "    <tr>\n",
       "      <th>BTC</th>\n",
       "      <td>2.100000e-05</td>\n",
       "      <td>0.000018</td>\n",
       "      <td>Bitcoin</td>\n",
       "      <td>0</td>\n",
       "    </tr>\n",
       "    <tr>\n",
       "      <th>ETH</th>\n",
       "      <td>0.000000e+00</td>\n",
       "      <td>0.000109</td>\n",
       "      <td>Ethereum</td>\n",
       "      <td>0</td>\n",
       "    </tr>\n",
       "    <tr>\n",
       "      <th>LTC</th>\n",
       "      <td>8.400000e-05</td>\n",
       "      <td>0.000064</td>\n",
       "      <td>Litecoin</td>\n",
       "      <td>0</td>\n",
       "    </tr>\n",
       "    <tr>\n",
       "      <th>DASH</th>\n",
       "      <td>2.200000e-05</td>\n",
       "      <td>0.000009</td>\n",
       "      <td>Dash</td>\n",
       "      <td>1</td>\n",
       "    </tr>\n",
       "    <tr>\n",
       "      <th>XMR</th>\n",
       "      <td>0.000000e+00</td>\n",
       "      <td>0.000017</td>\n",
       "      <td>Monero</td>\n",
       "      <td>0</td>\n",
       "    </tr>\n",
       "    <tr>\n",
       "      <th>ETC</th>\n",
       "      <td>2.100000e-04</td>\n",
       "      <td>0.000115</td>\n",
       "      <td>Ethereum Classic</td>\n",
       "      <td>0</td>\n",
       "    </tr>\n",
       "    <tr>\n",
       "      <th>ZEC</th>\n",
       "      <td>2.100000e-05</td>\n",
       "      <td>0.000007</td>\n",
       "      <td>ZCash</td>\n",
       "      <td>0</td>\n",
       "    </tr>\n",
       "  </tbody>\n",
       "</table>\n",
       "</div>"
      ],
      "text/plain": [
       "      TotalCoinSuppy  TotalCoinsMined          CoinName  Class\n",
       "42      4.200000e-11         0.000000           42 Coin      1\n",
       "404     5.320000e-04         0.001066           404Coin      1\n",
       "1337    3.141593e-01         0.029576         EliteCoin      1\n",
       "BTC     2.100000e-05         0.000018           Bitcoin      0\n",
       "ETH     0.000000e+00         0.000109          Ethereum      0\n",
       "LTC     8.400000e-05         0.000064          Litecoin      0\n",
       "DASH    2.200000e-05         0.000009              Dash      1\n",
       "XMR     0.000000e+00         0.000017            Monero      0\n",
       "ETC     2.100000e-04         0.000115  Ethereum Classic      0\n",
       "ZEC     2.100000e-05         0.000007             ZCash      0"
      ]
     },
     "execution_count": 67,
     "metadata": {},
     "output_type": "execute_result"
    }
   ],
   "source": [
    "# Create a new DataFrame that has the scaled data with the clustered_df DataFrame index.\n",
    "new_df = pd.DataFrame(    \n",
    "    data = scaled,columns = [\"TotalCoinSuppy\",\"TotalCoinsMined\"], index = clustered_df.index\n",
    ")\n",
    "\n",
    "# Add the \"CoinName\" column from the clustered_df DataFrame to the new DataFrame.\n",
    "new_df = pd.concat([new_df,clustered_df['CoinName']],axis =1)\n",
    "\n",
    "# Add the \"Class\" column from the clustered_df DataFrame to the new DataFrame. \n",
    "plot_df = pd.concat([new_df,clustered_df[\"Class\"]],axis = 1)\n",
    "\n",
    "plot_df.head(10)"
   ]
  },
  {
   "cell_type": "code",
   "execution_count": 82,
   "metadata": {},
   "outputs": [
    {
     "data": {},
     "metadata": {},
     "output_type": "display_data"
    },
    {
     "data": {
      "application/vnd.holoviews_exec.v0+json": "",
      "text/html": [
       "<div id='5512'>\n",
       "\n",
       "\n",
       "\n",
       "\n",
       "\n",
       "  <div class=\"bk-root\" id=\"ea1a13ff-0c7d-4562-8397-7d3929e6cd41\" data-root-id=\"5512\"></div>\n",
       "</div>\n",
       "<script type=\"application/javascript\">(function(root) {\n",
       "  function embed_document(root) {\n",
       "    var docs_json = {\"b69e1c06-fea4-4eaa-adb1-c54a9f38f051\":{\"roots\":{\"references\":[{\"attributes\":{\"fill_alpha\":{\"value\":0.1},\"fill_color\":{\"value\":\"#1f77b3\"},\"line_alpha\":{\"value\":0.1},\"line_color\":{\"value\":\"#1f77b3\"},\"size\":{\"units\":\"screen\",\"value\":5.477225575051661},\"x\":{\"field\":\"TotalCoinsMined\"},\"y\":{\"field\":\"TotalCoinSupply\"}},\"id\":\"5558\",\"type\":\"Scatter\"},{\"attributes\":{\"bottom_units\":\"screen\",\"fill_alpha\":0.5,\"fill_color\":\"lightgrey\",\"left_units\":\"screen\",\"level\":\"overlay\",\"line_alpha\":1.0,\"line_color\":\"black\",\"line_dash\":[4,4],\"line_width\":2,\"right_units\":\"screen\",\"top_units\":\"screen\"},\"id\":\"5542\",\"type\":\"BoxAnnotation\"},{\"attributes\":{\"margin\":[5,5,5,5],\"name\":\"HSpacer13129\",\"sizing_mode\":\"stretch_width\"},\"id\":\"5761\",\"type\":\"Spacer\"},{\"attributes\":{\"callback\":null,\"renderers\":[{\"id\":\"5560\"},{\"id\":\"5578\"},{\"id\":\"5597\"},{\"id\":\"5618\"}],\"tags\":[\"hv_created\"],\"tooltips\":[[\"Class\",\"@{Class}\"],[\"TotalCoinsMined\",\"@{TotalCoinsMined}\"],[\"TotalCoinSupply\",\"@{TotalCoinSupply}\"],[\"CoinName\",\"@{CoinName}\"]]},\"id\":\"5516\",\"type\":\"HoverTool\"},{\"attributes\":{\"axis\":{\"id\":\"5533\"},\"dimension\":1,\"grid_line_color\":null,\"ticker\":null},\"id\":\"5536\",\"type\":\"Grid\"},{\"attributes\":{\"ticker\":null},\"id\":\"5550\",\"type\":\"LogTickFormatter\"},{\"attributes\":{\"margin\":[5,5,5,5],\"name\":\"HSpacer13128\",\"sizing_mode\":\"stretch_width\"},\"id\":\"5513\",\"type\":\"Spacer\"},{\"attributes\":{\"active_drag\":\"auto\",\"active_inspect\":\"auto\",\"active_multi\":null,\"active_scroll\":\"auto\",\"active_tap\":\"auto\",\"tools\":[{\"id\":\"5516\"},{\"id\":\"5537\"},{\"id\":\"5538\"},{\"id\":\"5539\"},{\"id\":\"5540\"},{\"id\":\"5541\"}]},\"id\":\"5543\",\"type\":\"Toolbar\"},{\"attributes\":{\"data\":{\"Class\":[2],\"CoinName\":[\"BitTorrent\"],\"TotalCoinSupply\":[\"990000000000\"],\"TotalCoinsMined\":{\"__ndarray__\":\"xfR7nv3PbEI=\",\"dtype\":\"float64\",\"order\":\"little\",\"shape\":[1]}},\"selected\":{\"id\":\"5592\"},\"selection_policy\":{\"id\":\"5610\"}},\"id\":\"5591\",\"type\":\"ColumnDataSource\"},{\"attributes\":{},\"id\":\"5555\",\"type\":\"Selection\"},{\"attributes\":{},\"id\":\"5589\",\"type\":\"UnionRenderers\"},{\"attributes\":{\"end\":2755249143753.4316,\"reset_end\":2755249143753.4316,\"reset_start\":15.091005599603621,\"start\":15.091005599603621,\"tags\":[[[\"TotalCoinsMined\",\"TotalCoinsMined\",null]]]},\"id\":\"5514\",\"type\":\"Range1d\"},{\"attributes\":{\"source\":{\"id\":\"5591\"}},\"id\":\"5598\",\"type\":\"CDSView\"},{\"attributes\":{},\"id\":\"5569\",\"type\":\"UnionRenderers\"},{\"attributes\":{\"fill_alpha\":{\"value\":0.1},\"fill_color\":{\"value\":\"#2ba02b\"},\"line_alpha\":{\"value\":0.1},\"line_color\":{\"value\":\"#2ba02b\"},\"size\":{\"units\":\"screen\",\"value\":5.477225575051661},\"x\":{\"field\":\"TotalCoinsMined\"},\"y\":{\"field\":\"TotalCoinSupply\"}},\"id\":\"5595\",\"type\":\"Scatter\"},{\"attributes\":{\"fill_alpha\":{\"value\":0.1},\"fill_color\":{\"value\":\"#d62628\"},\"line_alpha\":{\"value\":0.1},\"line_color\":{\"value\":\"#d62628\"},\"size\":{\"units\":\"screen\",\"value\":5.477225575051661},\"x\":{\"field\":\"TotalCoinsMined\"},\"y\":{\"field\":\"TotalCoinSupply\"}},\"id\":\"5616\",\"type\":\"Scatter\"},{\"attributes\":{},\"id\":\"5633\",\"type\":\"UnionRenderers\"},{\"attributes\":{\"data_source\":{\"id\":\"5554\"},\"glyph\":{\"id\":\"5557\"},\"hover_glyph\":null,\"muted_glyph\":{\"id\":\"5559\"},\"nonselection_glyph\":{\"id\":\"5558\"},\"selection_glyph\":null,\"view\":{\"id\":\"5561\"}},\"id\":\"5560\",\"type\":\"GlyphRenderer\"},{\"attributes\":{\"fill_alpha\":{\"value\":0.2},\"fill_color\":{\"value\":\"#1f77b3\"},\"line_alpha\":{\"value\":0.2},\"line_color\":{\"value\":\"#1f77b3\"},\"size\":{\"units\":\"screen\",\"value\":5.477225575051661},\"x\":{\"field\":\"TotalCoinsMined\"},\"y\":{\"field\":\"TotalCoinSupply\"}},\"id\":\"5559\",\"type\":\"Scatter\"},{\"attributes\":{\"source\":{\"id\":\"5612\"}},\"id\":\"5619\",\"type\":\"CDSView\"},{\"attributes\":{},\"id\":\"5537\",\"type\":\"SaveTool\"},{\"attributes\":{\"label\":{\"value\":\"0\"},\"renderers\":[{\"id\":\"5560\"}]},\"id\":\"5571\",\"type\":\"LegendItem\"},{\"attributes\":{\"text\":\"\",\"text_color\":{\"value\":\"black\"},\"text_font_size\":{\"value\":\"12pt\"}},\"id\":\"5521\",\"type\":\"Title\"},{\"attributes\":{\"children\":[{\"id\":\"5513\"},{\"id\":\"5520\"},{\"id\":\"5761\"}],\"margin\":[0,0,0,0],\"name\":\"Row13124\",\"tags\":[\"embedded\"]},\"id\":\"5512\",\"type\":\"Row\"},{\"attributes\":{},\"id\":\"5538\",\"type\":\"PanTool\"},{\"attributes\":{},\"id\":\"5541\",\"type\":\"ResetTool\"},{\"attributes\":{\"fill_color\":{\"value\":\"#d62628\"},\"line_color\":{\"value\":\"#d62628\"},\"size\":{\"units\":\"screen\",\"value\":5.477225575051661},\"x\":{\"field\":\"TotalCoinsMined\"},\"y\":{\"field\":\"TotalCoinSupply\"}},\"id\":\"5615\",\"type\":\"Scatter\"},{\"attributes\":{},\"id\":\"5539\",\"type\":\"WheelZoomTool\"},{\"attributes\":{\"overlay\":{\"id\":\"5542\"}},\"id\":\"5540\",\"type\":\"BoxZoomTool\"},{\"attributes\":{\"num_minor_ticks\":10},\"id\":\"5534\",\"type\":\"LogTicker\"},{\"attributes\":{\"fill_alpha\":{\"value\":0.2},\"fill_color\":{\"value\":\"#d62628\"},\"line_alpha\":{\"value\":0.2},\"line_color\":{\"value\":\"#d62628\"},\"size\":{\"units\":\"screen\",\"value\":5.477225575051661},\"x\":{\"field\":\"TotalCoinsMined\"},\"y\":{\"field\":\"TotalCoinSupply\"}},\"id\":\"5617\",\"type\":\"Scatter\"},{\"attributes\":{\"fill_alpha\":{\"value\":0.2},\"fill_color\":{\"value\":\"#2ba02b\"},\"line_alpha\":{\"value\":0.2},\"line_color\":{\"value\":\"#2ba02b\"},\"size\":{\"units\":\"screen\",\"value\":5.477225575051661},\"x\":{\"field\":\"TotalCoinsMined\"},\"y\":{\"field\":\"TotalCoinSupply\"}},\"id\":\"5596\",\"type\":\"Scatter\"},{\"attributes\":{\"data\":{\"Class\":[0,0,0,0,0,0,0,0,0,0,0,0,0,0,0,0,0,0,0,0,0,0,0,0,0,0,0,0,0,0,0,0,0,0,0,0,0,0,0,0,0,0,0,0,0,0,0,0,0,0,0,0,0,0,0,0,0,0,0,0,0,0,0,0,0,0,0,0,0,0,0,0,0,0,0,0,0,0,0,0,0,0,0,0,0,0,0,0,0,0,0,0,0,0,0,0,0,0,0,0,0,0,0,0,0,0,0,0,0,0,0,0,0,0,0,0,0,0,0,0,0,0,0,0,0,0,0,0,0,0,0,0,0,0,0,0,0,0,0,0,0,0,0,0,0,0,0,0,0,0,0,0,0,0,0,0,0,0,0,0,0,0,0,0,0,0,0,0,0,0,0,0,0,0,0,0,0,0,0,0,0,0,0,0,0,0,0,0,0,0,0,0,0,0,0,0,0,0,0,0,0,0,0,0,0,0,0,0,0,0,0,0,0,0,0,0,0,0,0,0,0,0,0,0,0,0,0,0,0,0,0,0,0,0,0,0,0,0,0],\"CoinName\":[\"Bitcoin\",\"Ethereum\",\"Litecoin\",\"Monero\",\"Ethereum Classic\",\"ZCash\",\"DigiByte\",\"ProsperCoin\",\"Spreadcoin\",\"Argentum\",\"MyriadCoin\",\"MoonCoin\",\"ZetaCoin\",\"SexCoin\",\"Quatloo\",\"QuarkCoin\",\"Riecoin\",\"Digitalcoin \",\"Catcoin\",\"CannaCoin\",\"CryptCoin\",\"Verge\",\"DevCoin\",\"EarthCoin\",\"E-Gulden\",\"Einsteinium\",\"Emerald\",\"Franko\",\"FeatherCoin\",\"GrandCoin\",\"GlobalCoin\",\"GoldCoin\",\"Infinite Coin\",\"IXcoin\",\"KrugerCoin\",\"LuckyCoin\",\"Litebar \",\"MegaCoin\",\"MediterraneanCoin\",\"MinCoin\",\"NobleCoin\",\"Namecoin\",\"NyanCoin\",\"RonPaulCoin\",\"StableCoin\",\"SmartCoin\",\"SysCoin\",\"TigerCoin\",\"TerraCoin\",\"UnbreakableCoin\",\"Unobtanium\",\"UroCoin\",\"ViaCoin\",\"Vertcoin\",\"WorldCoin\",\"JouleCoin\",\"ByteCoin\",\"DigitalNote \",\"MonaCoin\",\"Gulden\",\"PesetaCoin\",\"Wild Beast Coin\",\"Flo\",\"ArtByte\",\"Folding Coin\",\"Unitus\",\"CypherPunkCoin\",\"OmniCron\",\"GreenCoin\",\"Cryptonite\",\"MasterCoin\",\"SoonCoin\",\"1Credit\",\"MarsCoin \",\"Crypto\",\"Anarchists Prime\",\"BowsCoin\",\"Song Coin\",\"BitZeny\",\"Expanse\",\"Siacoin\",\"MindCoin\",\"I0coin\",\"Revolution VR\",\"HOdlcoin\",\"Gamecredits\",\"CarpeDiemCoin\",\"Adzcoin\",\"SoilCoin\",\"YoCoin\",\"SibCoin\",\"Francs\",\"BolivarCoin\",\"Omni\",\"PizzaCoin\",\"Komodo\",\"Karbo\",\"ZayedCoin\",\"Circuits of Value\",\"DopeCoin\",\"DollarCoin\",\"Shilling\",\"ZCoin\",\"Elementrem\",\"ZClassic\",\"KiloCoin\",\"ArtexCoin\",\"Kurrent\",\"Cannabis Industry Coin\",\"OsmiumCoin\",\"Bikercoins\",\"HexxCoin\",\"PacCoin\",\"Citadel\",\"BeaverCoin\",\"VaultCoin\",\"Zero\",\"Canada eCoin\",\"Zoin\",\"DubaiCoin\",\"EB3coin\",\"Coinonat\",\"BenjiRolls\",\"ILCoin\",\"EquiTrader\",\"Quantum Resistant Ledger\",\"Dynamic\",\"Nano\",\"ChanCoin\",\"Dinastycoin\",\"DigitalPrice\",\"Unify\",\"SocialCoin\",\"ArcticCoin\",\"DAS\",\"LeviarCoin\",\"Bitcore\",\"gCn Coin\",\"SmartCash\",\"Onix\",\"Bitcoin Cash\",\"Sojourn Coin\",\"NewYorkCoin\",\"FrazCoin\",\"Kronecoin\",\"AdCoin\",\"Linx\",\"Sumokoin\",\"BitcoinZ\",\"Elements\",\"VIVO Coin\",\"Bitcoin Gold\",\"Pirl\",\"eBoost\",\"Pura\",\"Innova\",\"Ellaism\",\"GoByte\",\"SHIELD\",\"UltraNote\",\"BitCoal\",\"DaxxCoin\",\"AC3\",\"Lethean\",\"PopularCoin\",\"Photon\",\"Sucre\",\"SparksPay\",\"GunCoin\",\"IrishCoin\",\"Pioneer Coin\",\"UnitedBitcoin\",\"Interzone\",\"1717 Masonic Commemorative Token\",\"TurtleCoin\",\"MUNcoin\",\"Niobio Cash\",\"ShareChain\",\"Travelflex\",\"KREDS\",\"BitFlip\",\"LottoCoin\",\"Crypto Improvement Fund\",\"Callisto Network\",\"BitTube\",\"Poseidon\",\"Aidos Kuneen\",\"Bitrolium\",\"Alpenschillling\",\"FuturoCoin\",\"Monero Classic\",\"Jumpcoin\",\"Infinex\",\"KEYCO\",\"GINcoin\",\"PlatinCoin\",\"Loki\",\"Newton Coin\",\"MassGrid\",\"PluraCoin\",\"Motion\",\"PlusOneCoin\",\"Axe\",\"HexCoin\",\"Webchain\",\"Ryo\",\"Urals Coin\",\"Qwertycoin\",\"Project Pai\",\"Azart\",\"Xchange\",\"CrypticCoin\",\"Actinium\",\"Bitcoin SV\",\"FREDEnergy\",\"Universal Molecule\",\"Lithium\",\"Exosis\",\"Block-Logic\",\"Beam\",\"Bithereum\",\"SLICE\",\"BLAST\",\"Bitcoin Rhodium\",\"GlobalToken\",\"SolarCoin\",\"UFO Coin\",\"BlakeCoin\",\"Crypto Escudo\",\"Crown Coin\",\"SmileyCoin\",\"Groestlcoin\",\"Bata\",\"Pakcoin\",\"JoinCoin\",\"Vollar\",\"Reality Clash\",\"Beldex\",\"Horizen\"],\"TotalCoinSupply\":[\"21000000\",\"0\",\"84000000\",\"0\",\"210000000\",\"21000000\",\"21000000000\",\"21000000\",\"20000000\",\"64000000\",\"2000000000\",\"384000000000\",\"169795588\",\"250000000\",\"100000000\",\"247000000\",\"84000000\",\"48166000\",\"21000000 \",\"13140000\",\"18000000\",\"16555000000\",\"21000000000\",\"13500000000\",\"21000000 \",\"299792458\",\"32000000\",\"11235813\",\"336000000\",\"1420609614\",\"70000000\",\"72245700\",\"90600000000\",\"21000000\",\"265420800\",\"20000000\",\"1350000\",\"42000000\",\"200000000\",\"10000000\",\"15000000000\",\"21000000\",\"337000000\",\"21000000\",\"250000000\",\"51200000\",\"888000000\",\"47011968\",\"42000000\",\"80000000\",\"250000\",\"0\",\"23000000\",\"84000000\",\"265420800\",\"45000000\",\"184467440735\",\"10000000000\",\"105120000\",\"1680000000\",\"166386000\",\"2628000\",\"160000000\",\"1000000000\",\"1000000000\",\"0\",\"0\",\"3371337\",\"10000000000\",\"1840000000\",\"619478\",\"21000000\",\"92000000000\",\"33000000\",\"65789100\",\"53760000\",\"21000000\",\"210240000\",\"250000000\",\"16906397\",\"0\",\"16000000\",\"21000000\",\"210000000\",\"81962100\",\"84000000\",\"21626280000 \",\"84000000\",\"30000000\",\"168351300\",\"24000000\",\"20000000\",\"25000000\",\"616448\",\"25000000\",\"200000000\",\"10000000\",\"9736000\",\"1200000000\",\"200000000\",\"10638298\",\"30000000\",\"21400000\",\"26205539\",\"21000000\",\"10000000000\",\"500000000\",\"228000000\",\"21000000\",\"2714286\",\"25000000\",\"9999999\",\"100000000000\",\"185000000\",\"3360000\",\"1000000000\",\"17000000\",\"100000000 \",\"21000000\",\"2232901\",\"4000000000\",\"48252000\",\"35520400\",\"2500000000\",\"72000000\",\"105000000\",\"0\",\"340282367\",\"30000000\",\"2000000000\",\"100000000\",\"19276800\",\" 75000000\",\"60000000\",\"18900000\",\"54000000\",\"21000000\",\"200000000000\",\"5000000000\",\"1100000000\",\"21000000\",\"10500000000\",\"0\",\"20000000\",\"84000000\",\"100000000\",\"100000000\",\"88888888\",\"21000000000\",\"1800000000\",\"27000000\",\"21000000\",\"156306732.71\",\"100000000\",\"350000000\",\"45000000\",\"280000000\",\"31800000\",\"660000000\",\"85000000000\",\"12500000\",\"10000000000\",\"550000000\",\"999481516\",\"4999999999\",\" 90000000000\",\"19800000\",\"21000000\",\"500000000\",\"64000000\",\"23000000\",\"20166000\",\"23000000\",\"1618033\",\"1000000000000\",\"16600000\",\"336000000\",\"10000000000\",\"100000000\",\"1100000000\",\"40000000\",\"18406979840\",\"500000000\",\"6500000000\",\"1000000000\",\"21000000\",\"25000000\",\"70000000\",\"300000000\",\"100000000\",\"18400000\",\"21000000\",\"26280000\",\"18000000\",\"10500000\",\"600000518\",\"150000000\",\"184000000000\",\"168000000\",\"1000000000\",\"22075700\",\"21000000\",\"21000000\",\"22105263\",\"1750000000\",\"88188888\",\"210000000\",\"184470000000\",\"2100000000\",\"25000000\",\"100000000\",\"7600000000\",\"84000000\",\"21000000\",\"8080000000\",\"105120001.44\",\"25228800\",\"21000000\",\"120000000\",\"262800000\",\"30886000\",\"100000000\",\"64000000\",\"2100000\",\"168000000\",\"98100000000\",\"4000000000\",\"7000000000\",\"1000000000\",\"42000000\",\"50000000000\",\"105000000\",\"5000000\",\"182000000\",\"2800000\",\"2100000000\",\"24487944\",\"1400222610\",\"21000000\"],\"TotalCoinsMined\":{\"__ndarray__\":\"AAAAcMAYcUHb+b76hayZQfdoZlo4D45BZpBRcn9ncEEAAABc7QabQQAAABAEKlxBAAAovOg+BUIAAACAHQFWQWiB7L80RGVBEBI9btxHZ0EAAIDKLSjZQQAAAAAAAFZAkXuCyzlKpEFpcLtc7r2eQexRuLJYEVxBvFzUWQ7xrkGMXSFJaaCHQVAsgcXK5H9BZlhcKb2KW0HQ6irhofFRQUEOK43eD1NB/fZoycqrDUIAAHBTCXwRQnSTloARWwdCS2bm7Bjxc0He//+wcBeqQbTI9iT1l3JBpDwtJsxvMUEw9QNKE+CoQQAAADVYWcpBAVrEg7BQj0EP8f+/SN2DQaOhOnztFzVCbef7T8QcdEGamZnD0A2iQc3MTPJWbnJB67a4OtjZMEFC3vH/OTGCQTMzM4eHR4NBtyjUOCskVkFoeTjQ6aDhQQAAAACCG2xB7q5750Hzs0GzdfRrHdkwQZqZmdvoF3dBqQYrknhoeEFJZaau6snAQQAAAACNwoRBAAAAQHbfdUEAAAAAg2FBQXvkB1V+hghBAAAAAA5sMkHy/6/CEhR2Qcd3iN7KZohBAAAAdDqEnEFljuXaorCCQQAAB3WebUVCcSCmnaK6+UFwE3zLRUKQQQAAAGTkvLhB4PPTrLRkoEGTMePy+TQGQdumuJHuJqJBAAAAUZSex0EAAABPt3DFQQAAALBmDI9BAAAAQBlIWEHJSy2OMVdjQXE9DnLDLPFBAAAAzHkdxUEAAAAArOciQQAAAIBDxWdBAAAAAFCJ9UC0zCJtmLp+QQAAAEBSNmpBbqMBAMggbEEAAACwA0JuQQAAAECDDn9BAAAAkCQHkkEAAADApQRkQQAASLM/0x5CAAAA4OVDbkF3ItdNVgZ0QQAAAACxCKlBAAAAoE7WZUEAAAAQdaaQQQAAZJU2PxRCAAAAoKGChUEAAAAAaMBVQRV7oh5dbCNBAAAAsK92cEH1ngjqzRBZQQAr9k8IC2pBAAAAAADQIkEAAAAAfQY1QQAAAEzcoZtBKodcLhjXXUEAAAAAgNFXQQAAAABlzc1BAAAAsKrbm0EAAABAo15hQQAAAABMNWVBUc34T+beXEEAAAAw1v14QQAAAID7aVVBAAAA5olmp0EAAAAAn47IQQAAAGjSQo1BAAAAAMLZLUEAAAAAlEgrQQAAAADk2GFB6IGPcbKgPEEAAAAd2QDAQQcKvNAc7GRBAAAAAH3ER0EAAABAWPp8QRx4lnltZ1pBom1DQfXNl0EAAADYxa9xQQAAAIAiCUFBAAAAoDmQjkEAAAAA+E5jQYwpWDI4VnNBAAAAy86i00FyQtfNdxRqQWUIVsOfdZBBqJ1rCiLeckEAAACk1MSfQZHbarH1jXFBAADAwZH22kEAAAD4bMGAQQAAALAMS3FBAAAAwKe2U0EgFfrF/9V4QQAAAADTAkRBAAAAYPECa0GSmpGSKPpwQQAATqtr+0JCSx+nv2Ky4EHKGI/ZUTOdQWq8WVp0KXFBAAAAAHidHUHv19ZN7qVAQgAAAEBNgmJBcNl3ViulcEEJMgKxZCJ/QQAAAHDJE4BBAAAAoHsQYUEDPqDeH2rzQctKm75JI+RBUXuZyafIT0H5hGyRy2dwQQAAACDNNIBBJ0/5xefWl0EAAADmKeOkQSlcj8LWUVhBAAAA4LFUaEEAAAC4nD9WQenwkAagtrxBOPiV+yT1EUIAAAAAiCpRQQAAAIQtDL9BAAAAvBwmk0ESg2C58Uy6QUjhGyQdie1BWReqze8FHEL+dkAg7CFQQakEWVV+711BAAAAwY3esUGb8rdKIbCFQWzR3gqzK2BBAAAAAFc7c0FE3QeDpbpmQQAAAABxsDhBPYqbEsO+KEIj91O/aGFSQcWvGM+W7p9BAAAAIF+gAkIlcxxInZaZQdUhxePFL8NBFcYWgDK9Z0EAAKio2v0KQk8/AM1KMKlBAAAASoiErUF1dZ/rzhWTQZhQHBOiDU9BAAAAAITXd0EAAABUMQORQYN0bFrtEnpBiRH9UgdUfkEAAAAAvIxuQZNBCSTiF3RBRFF9bTZyU0EAAAAAbkYoQQRTE+2nplpBAAAAAMCU9EAAAAAALkRyQQAAor2wOiNCg20UIDEyoEElyzPgHbHAQaatV0Fq/15BOFBexWN9YEGipaGsAQxTQUhk5RDXnTVB10bh6YS3bUEAAABARKhSQWnLFCNFIGxBXc0A6tMtN0IAAABA3UrfQdrA4VdSIlNBUVevM5OaYkEAAACK1Y3vQQAAAECkAWpBP8xZKrQocUGQLFLGP9LbQZO4O1ApFThBx93xJ6g5bkEzMzOzL8kYQc09ZGk304BBAAAAAGMEgUEAAAA4VPx3QY25hs1rp2hBzbkFZYbviEEAAACAdNsxQdL+/69fLJRB+z8Xo9h+ikEAAID6AX/sQUgFZGJXRnZBAAAABolAx0FK5l0RC+x1QWmvK2lfjRtCuqmMb8R5kUGfQd76IkZTQZk6wZ0znZBBAAAAQJ1tSUEAAAAAhNeXQfh6iIGAWndBAACAQYE2zUEAAABghtVbQQ==\",\"dtype\":\"float64\",\"order\":\"little\",\"shape\":[239]}},\"selected\":{\"id\":\"5555\"},\"selection_policy\":{\"id\":\"5569\"}},\"id\":\"5554\",\"type\":\"ColumnDataSource\"},{\"attributes\":{\"data_source\":{\"id\":\"5591\"},\"glyph\":{\"id\":\"5594\"},\"hover_glyph\":null,\"muted_glyph\":{\"id\":\"5596\"},\"nonselection_glyph\":{\"id\":\"5595\"},\"selection_glyph\":null,\"view\":{\"id\":\"5598\"}},\"id\":\"5597\",\"type\":\"GlyphRenderer\"},{\"attributes\":{\"label\":{\"value\":\"2\"},\"renderers\":[{\"id\":\"5597\"}]},\"id\":\"5611\",\"type\":\"LegendItem\"},{\"attributes\":{\"label\":{\"value\":\"3\"},\"renderers\":[{\"id\":\"5618\"}]},\"id\":\"5634\",\"type\":\"LegendItem\"},{\"attributes\":{\"axis_label\":\"TotalCoinSupply\",\"bounds\":\"auto\",\"formatter\":{\"id\":\"5552\"},\"major_label_orientation\":\"horizontal\",\"ticker\":{\"id\":\"5534\"}},\"id\":\"5533\",\"type\":\"LogAxis\"},{\"attributes\":{\"fill_alpha\":{\"value\":0.2},\"fill_color\":{\"value\":\"#ff7e0e\"},\"line_alpha\":{\"value\":0.2},\"line_color\":{\"value\":\"#ff7e0e\"},\"size\":{\"units\":\"screen\",\"value\":5.477225575051661},\"x\":{\"field\":\"TotalCoinsMined\"},\"y\":{\"field\":\"TotalCoinSupply\"}},\"id\":\"5577\",\"type\":\"Scatter\"},{\"attributes\":{},\"id\":\"5527\",\"type\":\"LogScale\"},{\"attributes\":{},\"id\":\"5525\",\"type\":\"LogScale\"},{\"attributes\":{},\"id\":\"5592\",\"type\":\"Selection\"},{\"attributes\":{\"fill_color\":{\"value\":\"#ff7e0e\"},\"line_color\":{\"value\":\"#ff7e0e\"},\"size\":{\"units\":\"screen\",\"value\":5.477225575051661},\"x\":{\"field\":\"TotalCoinsMined\"},\"y\":{\"field\":\"TotalCoinSupply\"}},\"id\":\"5575\",\"type\":\"Scatter\"},{\"attributes\":{\"ticker\":null},\"id\":\"5552\",\"type\":\"LogTickFormatter\"},{\"attributes\":{\"source\":{\"id\":\"5554\"}},\"id\":\"5561\",\"type\":\"CDSView\"},{\"attributes\":{\"data\":{\"Class\":[3,3,3,3,3],\"CoinName\":[\"BiblePay\",\"LitecoinCash\",\"Poa Network\",\"Acute Angle Cloud\",\"Waves\"],\"TotalCoinSupply\":[\"5200000000\",\"840000000\",\"252460800\",\"1000000000\",\"100000000\"],\"TotalCoinsMined\":{\"__ndarray__\":\"8dd4J/5n2kGWsBp+eAbDQQAAAH40YKhBAAAAAGXNzUEAAAAAhNeXQQ==\",\"dtype\":\"float64\",\"order\":\"little\",\"shape\":[5]}},\"selected\":{\"id\":\"5613\"},\"selection_policy\":{\"id\":\"5633\"}},\"id\":\"5612\",\"type\":\"ColumnDataSource\"},{\"attributes\":{\"data_source\":{\"id\":\"5612\"},\"glyph\":{\"id\":\"5615\"},\"hover_glyph\":null,\"muted_glyph\":{\"id\":\"5617\"},\"nonselection_glyph\":{\"id\":\"5616\"},\"selection_glyph\":null,\"view\":{\"id\":\"5619\"}},\"id\":\"5618\",\"type\":\"GlyphRenderer\"},{\"attributes\":{\"fill_color\":{\"value\":\"#1f77b3\"},\"line_color\":{\"value\":\"#1f77b3\"},\"size\":{\"units\":\"screen\",\"value\":5.477225575051661},\"x\":{\"field\":\"TotalCoinsMined\"},\"y\":{\"field\":\"TotalCoinSupply\"}},\"id\":\"5557\",\"type\":\"Scatter\"},{\"attributes\":{\"source\":{\"id\":\"5572\"}},\"id\":\"5579\",\"type\":\"CDSView\"},{\"attributes\":{\"fill_color\":{\"value\":\"#2ba02b\"},\"line_color\":{\"value\":\"#2ba02b\"},\"size\":{\"units\":\"screen\",\"value\":5.477225575051661},\"x\":{\"field\":\"TotalCoinsMined\"},\"y\":{\"field\":\"TotalCoinSupply\"}},\"id\":\"5594\",\"type\":\"Scatter\"},{\"attributes\":{\"below\":[{\"id\":\"5529\"}],\"center\":[{\"id\":\"5532\"},{\"id\":\"5536\"}],\"left\":[{\"id\":\"5533\"}],\"margin\":[5,5,5,5],\"min_border_bottom\":10,\"min_border_left\":10,\"min_border_right\":10,\"min_border_top\":10,\"plot_height\":300,\"plot_width\":700,\"renderers\":[{\"id\":\"5560\"},{\"id\":\"5578\"},{\"id\":\"5597\"},{\"id\":\"5618\"}],\"right\":[{\"id\":\"5570\"}],\"sizing_mode\":\"fixed\",\"title\":{\"id\":\"5521\"},\"toolbar\":{\"id\":\"5543\"},\"x_range\":{\"id\":\"5514\"},\"x_scale\":{\"id\":\"5525\"},\"y_range\":{\"id\":\"5515\"},\"y_scale\":{\"id\":\"5527\"}},\"id\":\"5520\",\"subtype\":\"Figure\",\"type\":\"Plot\"},{\"attributes\":{\"axis\":{\"id\":\"5529\"},\"grid_line_color\":null,\"ticker\":null},\"id\":\"5532\",\"type\":\"Grid\"},{\"attributes\":{\"data\":{\"Class\":[1,1,1,1,1,1,1,1,1,1,1,1,1,1,1,1,1,1,1,1,1,1,1,1,1,1,1,1,1,1,1,1,1,1,1,1,1,1,1,1,1,1,1,1,1,1,1,1,1,1,1,1,1,1,1,1,1,1,1,1,1,1,1,1,1,1,1,1,1,1,1,1,1,1,1,1,1,1,1,1,1,1,1,1,1,1,1,1,1,1,1,1,1,1,1,1,1,1,1,1,1,1,1,1,1,1,1,1,1,1,1,1,1,1,1,1,1,1,1,1,1,1,1,1,1,1,1,1,1,1,1,1,1,1,1,1,1,1,1,1,1,1,1,1,1,1,1,1,1,1,1,1,1,1,1,1,1,1,1,1,1,1,1,1,1,1,1,1,1,1,1,1,1,1,1,1,1,1,1,1,1,1,1,1,1,1,1,1,1,1,1,1,1,1,1,1,1,1,1,1,1,1,1,1,1,1,1,1,1,1,1,1,1,1,1,1,1,1,1,1,1,1,1,1,1,1,1,1,1,1,1,1,1,1,1,1,1,1,1,1,1,1,1,1,1,1,1,1,1,1,1,1,1,1,1,1,1,1,1,1,1,1,1,1,1,1,1,1,1,1,1,1,1,1,1,1,1,1,1,1,1,1,1,1,1,1,1],\"CoinName\":[\"42 Coin\",\"404Coin\",\"EliteCoin\",\"Dash\",\"Bitshares\",\"BitcoinDark\",\"PayCoin\",\"KoboCoin\",\"Aurora Coin\",\"BlueCoin\",\"EnergyCoin\",\"BitBar\",\"CryptoBullion\",\"CasinoCoin\",\"Diamond\",\"Exclusive Coin\",\"FlutterCoin\",\"HoboNickels\",\"HyperStake\",\"IOCoin\",\"MaxCoin\",\"MintCoin\",\"MazaCoin\",\"Nautilus Coin\",\"NavCoin\",\"OpalCoin\",\"Orbitcoin\",\"PotCoin\",\"PhoenixCoin\",\"Reddcoin\",\"SuperCoin\",\"SyncCoin\",\"TeslaCoin\",\"TittieCoin\",\"TorCoin\",\"UnitaryStatus Dollar\",\"UltraCoin\",\"VeriCoin\",\"X11 Coin\",\"Crypti\",\"StealthCoin\",\"ZCC Coin\",\"BurstCoin\",\"StorjCoin\",\"Neutron\",\"FairCoin\",\"RubyCoin\",\"Kore\",\"Dnotes\",\"8BIT Coin\",\"Sativa Coin\",\"Ucoin\",\"Vtorrent\",\"IslaCoin\",\"Nexus\",\"Droidz\",\"Squall Coin\",\"Diggits\",\"Paycon\",\"Emercoin\",\"EverGreenCoin\",\"Decred\",\"EDRCoin\",\"Hitcoin\",\"DubaiCoin\",\"PWR Coin\",\"BillaryCoin\",\"GPU Coin\",\"EuropeCoin\",\"ZeitCoin\",\"SwingCoin\",\"SafeExchangeCoin\",\"Nebuchadnezzar\",\"Ratecoin\",\"Revenu\",\"Clockcoin\",\"VIP Tokens\",\"BitSend\",\"Let it Ride\",\"PutinCoin\",\"iBankCoin\",\"Frankywillcoin\",\"MudraCoin\",\"Lutetium Coin\",\"GoldBlocks\",\"CarterCoin\",\"BitTokens\",\"MustangCoin\",\"ZoneCoin\",\"RootCoin\",\"BitCurrency\",\"Swiscoin\",\"BuzzCoin\",\"Opair\",\"PesoBit\",\"Halloween Coin\",\"CoffeeCoin\",\"RoyalCoin\",\"GanjaCoin V2\",\"TeamUP\",\"LanaCoin\",\"ARK\",\"InsaneCoin\",\"EmberCoin\",\"XenixCoin\",\"FreeCoin\",\"PLNCoin\",\"AquariusCoin\",\"Creatio\",\"Eternity\",\"Eurocoin\",\"BitcoinFast\",\"Stakenet\",\"BitConnect Coin\",\"MoneyCoin\",\"Enigma\",\"Russiacoin\",\"PandaCoin\",\"GameUnits\",\"GAKHcoin\",\"Allsafe\",\"LiteCreed\",\"Klingon Empire Darsek\",\"Internet of People\",\"KushCoin\",\"Printerium\",\"Impeach\",\"Zilbercoin\",\"FirstCoin\",\"FindCoin\",\"OpenChat\",\"RenosCoin\",\"VirtacoinPlus\",\"TajCoin\",\"Impact\",\"Atmos\",\"HappyCoin\",\"MacronCoin\",\"Condensate\",\"Independent Money System\",\"ArgusCoin\",\"LomoCoin\",\"ProCurrency\",\"GoldReserve\",\"GrowthCoin\",\"Phreak\",\"Degas Coin\",\"HTML5 Coin\",\"Ultimate Secure Cash\",\"QTUM\",\"Espers\",\"Denarius\",\"Virta Unique Coin\",\"Bitcoin Planet\",\"BritCoin\",\"Linda\",\"DeepOnion\",\"Signatum\",\"Cream\",\"Monoeci\",\"Draftcoin\",\"Vechain\",\"Stakecoin\",\"CoinonatX\",\"Ethereum Dark\",\"Obsidian\",\"Cardano\",\"Regalcoin\",\"TrezarCoin\",\"TerraNovaCoin\",\"Rupee\",\"WomenCoin\",\"Theresa May Coin\",\"NamoCoin\",\"LUXCoin\",\"Xios\",\"Bitcloud 2.0\",\"KekCoin\",\"BlackholeCoin\",\"Infinity Economics\",\"Magnet\",\"Lamden Tau\",\"Electra\",\"Bitcoin Diamond\",\"Cash & Back Coin\",\"Bulwark\",\"Kalkulus\",\"GermanCoin\",\"LiteCoin Ultra\",\"PhantomX\",\"Digiwage\",\"Trollcoin\",\"Litecoin Plus\",\"Monkey Project\",\"TokenPay\",\"My Big Coin\",\"Unified Society USDEX\",\"Tokyo Coin\",\"Stipend\",\"Pushi\",\"Ellerium\",\"Velox\",\"Ontology\",\"Bitspace\",\"Briacoin\",\"Ignition\",\"MedicCoin\",\"Bitcoin Green\",\"Deviant Coin\",\"Abjcoin\",\"Semux\",\"Carebit\",\"Zealium\",\"Proton\",\"iDealCash\",\"Bitcoin Incognito\",\"HollyWoodCoin\",\"Swisscoin\",\"Xt3ch\",\"TheVig\",\"EmaratCoin\",\"Dekado\",\"Lynx\",\"Poseidon Quark\",\"BitcoinWSpectrum\",\"Muse\",\"Trivechain\",\"Dystem\",\"Giant\",\"Peony Coin\",\"Absolute Coin\",\"Vitae\",\"TPCash\",\"ARENON\",\"EUNO\",\"MMOCoin\",\"Ketan\",\"XDNA\",\"PAXEX\",\"ThunderStake\",\"Kcash\",\"Bettex coin\",\"BitMoney\",\"Junson Ming Chan Coin\",\"HerbCoin\",\"PirateCash\",\"Oduwa\",\"Galilel\",\"Crypto Sports\",\"Credit\",\"Dash Platinum\",\"Nasdacoin\",\"Beetle Coin\",\"Titan Coin\",\"Award\",\"Insane Coin\",\"ALAX\",\"LiteDoge\",\"TruckCoin\",\"OrangeCoin\",\"BitstarCoin\",\"NeosCoin\",\"HyperCoin\",\"PinkCoin\",\"AudioCoin\",\"IncaKoin\",\"Piggy Coin\",\"Genstake\",\"XiaoMiCoin\",\"CapriCoin\",\" ClubCoin\",\"Radium\",\"Creditbit \",\"OKCash\",\"Lisk\",\"HiCoin\",\"WhiteCoin\",\"FriendshipCoin\",\"Triangles Coin\",\"EOS\",\"Oxycoin\",\"TigerCash\",\"Particl\",\"Nxt\",\"ZEPHYR\",\"Gapcoin\",\"BitcoinPlus\"],\"TotalCoinSupply\":[\"42\",\"532000000\",\"314159265359\",\"22000000\",\"3600570502\",\"22000000\",\"12500000\",\"350000000\",\"16768584\",\"0\",\"0\",\"500000\",\"1000000\",\"40000000000\",\"4380000\",\"0\",\"0\",\"120000000\",\"0\",\"22000000\",\"100000000\",\"0\",\"2419200000\",\"16180000\",\"0\",\"0\",\"3770000\",\"420000000\",\"98000000\",\"0\",\"0\",\"1000\",\"100000000\",\"2300000000\",\"10000000\",\"1600000000\",\"100000000\",\"0\",\"5500000\",\"0\",\"0\",\"1000000000\",\"2158812800\",\"500000000\",\"68000000\",\"0\",\"0\",\"12000000\",\"500000000\",\"0\",\"10000000\",\"20000000\",\"20000000\",\"0\",\"78000000\",\"5060000\",\"0\",\"100000000\",\"50000000\",\"1000000000\",\"26298000\",\"21000000\",\"22000000\",\"26550000000\",\"10500000\",\"0\",\"42000000\",\"221052632\",\"384000000\",\" 99000000000\",\"40000000\",\"2147483647\",\"20000000\",\"75000000\",\"222725000\",\"525000000\",\"90000000\",\"139000000\",\"33500000\",\"2000000000\",\"44333333\",\"100000000\",\"200000000\",\"657000000\",\"50000000\",\"90000000\",\"21000000\",\"3000000\",\"21000000\",\"0\",\"0\",\"3100000000\",\"20000000000\",\"74000000\",\"0\",\"1500000000\",\"39999898\",\"2500124\",\"100000000\",\"301000000\",\"7506000000\",\"125000000\",\"30000000\",\"850000000\",\"3853326.77707314\",\"50000000\",\"38540000 \",\"42000000\",\"20000000\",\"60000000\",\"20000000\",\"33000000\",\"76500000\",\"28000000\",\"650659833\",\"5000000\",\"144000000\",\"32514916898\",\"13000000\",\"3315789\",\"15000000\",\"78835200\",\"500000000\",\"21000000\",\"9354000\",\"20000000\",\"21933333\",\"55000000\",\"110000000\",\"14524851.4827\",\"1000000000\",\"34426423\",\"100000000\",\"36900000\",\"110000000\",\"110290030\",\"100000000\",\"400000000\",\"500000000\",\"21212121\",\"28600000\",\"1000000000\",\"75000000000\",\"40000000\",\"2000000000\",\"30000000\",\"105000000\",\"90000000000\",\"200084200\",\"100000000\",\"50000000000\",\"10000000\",\"120000000\",\"100000000\",\"30000000\",\"50000000000\",\"18898187.6216583\",\"137500000\",\"100000000\",\"9507271\",\"17405891.19707116\",\"86712634466\",\"61599965\",\"48252000\",\"4200000\",\"91388946\",\"45000000000\",\"27000000\",\"400000000\",\"15733333\",\"24000000\",\"25000000000\",\"100000000\",\"1200000000\",\"60000000\",\"21000000\",\"200000000\",\"21000000\",\"14788275.991\",\"9000000000\",\"144000000\",\"500000000\",\"30000000000\",\"210000000\",\"210000000\",\"27716121\",\"20000000\",\"50000000000\",\"150000000\",\"50000000\",\"120000000\",\"900000000\",\"4000000\",\"21000000\",\"25000000\",\"30000000\",\"232000000\",\"800000000\",\"19340594\",\"25000000\",\"60000000\",\"124000000\",\"1000000000\",\"50000000\",\"3000000\",\"5000000\",\"500000000\",\"21000000\",\"88000000\",\"30000000\",\"100000000\",\"200000000\",\"80000000\",\"45000000\",\"5121951220\",\"21000000\",\"26000000\",\"10200000000\",\"44000000\",\"100000000\",\"84000000\",\"90000000\",\"92000000000\",\"650000000 \",\"100262205\",\"18081806 \",\"82546564\",\"21000000\",\"5151000\",\"16880000000\",\"52500000\",\"100000000\",\"1000000000\",\"55000000\",\"50000000\",\"260000000\",\"210000000\",\"366000000\",\"100000000\",\"18000000000\",\"1000000000\",\"50000000\",\"70000000000\",\"0\",\"54000000\",\"105000000\",\"21000000\",\"19035999\",\"13370000\",\"74800000000\",\"19700000\",\"84000000\",\"500000000\",\"5000000000\",\"420000000\",\"30000000\",\"1000000000\",\"35000000000\",\"0\",\"200000000\",\"54256119\",\"21000000\",\"0\",\"500000000\",\"10500000000\",\"190000000\",\"1000000000\",\"15000000\",\"400000000\",\"208000000\",\"160000000\",\"9000000\",\"16504333\",\"105000000\",\"159918400\",\"10008835635\",\"300000000\",\"60168145\",\"120000\",\"0\",\"0\",\"1000000000\",\"8634140\",\"1000000000\",\"2000000000\",\"250000000\",\"1000000\"],\"TotalCoinsMined\":{\"__ndarray__\":\"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\",\"dtype\":\"float64\",\"order\":\"little\",\"shape\":[287]}},\"selected\":{\"id\":\"5573\"},\"selection_policy\":{\"id\":\"5589\"}},\"id\":\"5572\",\"type\":\"ColumnDataSource\"},{\"attributes\":{},\"id\":\"5610\",\"type\":\"UnionRenderers\"},{\"attributes\":{\"click_policy\":\"mute\",\"items\":[{\"id\":\"5571\"},{\"id\":\"5590\"},{\"id\":\"5611\"},{\"id\":\"5634\"}],\"location\":[0,0],\"title\":\"Class\"},\"id\":\"5570\",\"type\":\"Legend\"},{\"attributes\":{\"axis_label\":\"TotalCoinsMined\",\"bounds\":\"auto\",\"formatter\":{\"id\":\"5550\"},\"major_label_orientation\":\"horizontal\",\"ticker\":{\"id\":\"5530\"}},\"id\":\"5529\",\"type\":\"LogAxis\"},{\"attributes\":{\"num_minor_ticks\":10},\"id\":\"5530\",\"type\":\"LogTicker\"},{\"attributes\":{},\"id\":\"5573\",\"type\":\"Selection\"},{\"attributes\":{\"label\":{\"value\":\"1\"},\"renderers\":[{\"id\":\"5578\"}]},\"id\":\"5590\",\"type\":\"LegendItem\"},{\"attributes\":{\"fill_alpha\":{\"value\":0.1},\"fill_color\":{\"value\":\"#ff7e0e\"},\"line_alpha\":{\"value\":0.1},\"line_color\":{\"value\":\"#ff7e0e\"},\"size\":{\"units\":\"screen\",\"value\":5.477225575051661},\"x\":{\"field\":\"TotalCoinsMined\"},\"y\":{\"field\":\"TotalCoinSupply\"}},\"id\":\"5576\",\"type\":\"Scatter\"},{\"attributes\":{},\"id\":\"5613\",\"type\":\"Selection\"},{\"attributes\":{\"data_source\":{\"id\":\"5572\"},\"glyph\":{\"id\":\"5575\"},\"hover_glyph\":null,\"muted_glyph\":{\"id\":\"5577\"},\"nonselection_glyph\":{\"id\":\"5576\"},\"selection_glyph\":null,\"view\":{\"id\":\"5579\"}},\"id\":\"5578\",\"type\":\"GlyphRenderer\"},{\"attributes\":{\"end\":10000000000000000,\"reset_end\":10000000000000000,\"reset_start\":80,\"start\":80,\"tags\":[[[\"TotalCoinSupply\",\"TotalCoinSupply\",null]]]},\"id\":\"5515\",\"type\":\"Range1d\"}],\"root_ids\":[\"5512\"]},\"title\":\"Bokeh Application\",\"version\":\"2.2.3\"}};\n",
       "    var render_items = [{\"docid\":\"b69e1c06-fea4-4eaa-adb1-c54a9f38f051\",\"root_ids\":[\"5512\"],\"roots\":{\"5512\":\"ea1a13ff-0c7d-4562-8397-7d3929e6cd41\"}}];\n",
       "    root.Bokeh.embed.embed_items_notebook(docs_json, render_items);\n",
       "  }\n",
       "  if (root.Bokeh !== undefined && root.Bokeh.Panel !== undefined) {\n",
       "    embed_document(root);\n",
       "  } else {\n",
       "    var attempts = 0;\n",
       "    var timer = setInterval(function(root) {\n",
       "      if (root.Bokeh !== undefined && root.Bokeh.Panel !== undefined) {\n",
       "        clearInterval(timer);\n",
       "        embed_document(root);\n",
       "      } else if (document.readyState == \"complete\") {\n",
       "        attempts++;\n",
       "        if (attempts > 100) {\n",
       "          clearInterval(timer);\n",
       "          console.log(\"Bokeh: ERROR: Unable to run BokehJS code because BokehJS library is missing\");\n",
       "        }\n",
       "      }\n",
       "    }, 10, root)\n",
       "  }\n",
       "})(window);</script>"
      ],
      "text/plain": [
       ":NdOverlay   [Class]\n",
       "   :Scatter   [TotalCoinsMined]   (TotalCoinSupply,CoinName)"
      ]
     },
     "execution_count": 82,
     "metadata": {
      "application/vnd.holoviews_exec.v0+json": {
       "id": "5512"
      }
     },
     "output_type": "execute_result"
    }
   ],
   "source": [
    "# Create a hvplot.scatter plot using x=\"TotalCoinsMined\" and y=\"TotalCoinSupply\".\n",
    "clustered_df.hvplot.scatter(\n",
    "    x=\"TotalCoinsMined\", \n",
    "    y=\"TotalCoinSupply\",\n",
    "    hover_cols=['CoinName'],\n",
    "    loglog=True,\n",
    "    ylim=(80,10000000000000000),\n",
    "    by='Class') "
   ]
  },
  {
   "cell_type": "code",
   "execution_count": null,
   "metadata": {},
   "outputs": [],
   "source": []
  }
 ],
 "metadata": {
  "file_extension": ".py",
  "kernelspec": {
   "display_name": "PythonData",
   "language": "python",
   "name": "pythondata"
  },
  "language_info": {
   "codemirror_mode": {
    "name": "ipython",
    "version": 3
   },
   "file_extension": ".py",
   "mimetype": "text/x-python",
   "name": "python",
   "nbconvert_exporter": "python",
   "pygments_lexer": "ipython3",
   "version": "3.7.7"
  },
  "latex_envs": {
   "LaTeX_envs_menu_present": true,
   "autoclose": false,
   "autocomplete": true,
   "bibliofile": "biblio.bib",
   "cite_by": "apalike",
   "current_citInitial": 1,
   "eqLabelWithNumbers": true,
   "eqNumInitial": 1,
   "hotkeys": {
    "equation": "Ctrl-E",
    "itemize": "Ctrl-I"
   },
   "labels_anchors": false,
   "latex_user_defs": false,
   "report_style_numbering": false,
   "user_envs_cfg": false
  },
  "mimetype": "text/x-python",
  "name": "python",
  "npconvert_exporter": "python",
  "pygments_lexer": "ipython3",
  "version": 3
 },
 "nbformat": 4,
 "nbformat_minor": 2
}
