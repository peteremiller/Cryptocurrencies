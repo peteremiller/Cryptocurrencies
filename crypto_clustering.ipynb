{
 "cells": [
  {
   "cell_type": "markdown",
   "metadata": {},
   "source": [
    "# Clustering Crypto"
   ]
  },
  {
   "cell_type": "code",
   "execution_count": 87,
   "metadata": {},
   "outputs": [],
   "source": [
    "# Initial imports\n",
    "import pandas as pd\n",
    "import hvplot\n",
    "import hvplot.pandas\n",
    "from path import Path\n",
    "import plotly.express as px\n",
    "from sklearn.preprocessing import StandardScaler, MinMaxScaler\n",
    "from sklearn.decomposition import PCA\n",
    "from sklearn.cluster import KMeans\n"
   ]
  },
  {
   "cell_type": "markdown",
   "metadata": {},
   "source": [
    "### Deliverable 1: Preprocessing the Data for PCA"
   ]
  },
  {
   "cell_type": "code",
   "execution_count": 88,
   "metadata": {},
   "outputs": [
    {
     "data": {
      "text/html": [
       "<div>\n",
       "<style scoped>\n",
       "    .dataframe tbody tr th:only-of-type {\n",
       "        vertical-align: middle;\n",
       "    }\n",
       "\n",
       "    .dataframe tbody tr th {\n",
       "        vertical-align: top;\n",
       "    }\n",
       "\n",
       "    .dataframe thead th {\n",
       "        text-align: right;\n",
       "    }\n",
       "</style>\n",
       "<table border=\"1\" class=\"dataframe\">\n",
       "  <thead>\n",
       "    <tr style=\"text-align: right;\">\n",
       "      <th></th>\n",
       "      <th>CoinName</th>\n",
       "      <th>Algorithm</th>\n",
       "      <th>IsTrading</th>\n",
       "      <th>ProofType</th>\n",
       "      <th>TotalCoinsMined</th>\n",
       "      <th>TotalCoinSupply</th>\n",
       "    </tr>\n",
       "  </thead>\n",
       "  <tbody>\n",
       "    <tr>\n",
       "      <th>42</th>\n",
       "      <td>42 Coin</td>\n",
       "      <td>Scrypt</td>\n",
       "      <td>True</td>\n",
       "      <td>PoW/PoS</td>\n",
       "      <td>4.199995e+01</td>\n",
       "      <td>42</td>\n",
       "    </tr>\n",
       "    <tr>\n",
       "      <th>365</th>\n",
       "      <td>365Coin</td>\n",
       "      <td>X11</td>\n",
       "      <td>True</td>\n",
       "      <td>PoW/PoS</td>\n",
       "      <td>NaN</td>\n",
       "      <td>2300000000</td>\n",
       "    </tr>\n",
       "    <tr>\n",
       "      <th>404</th>\n",
       "      <td>404Coin</td>\n",
       "      <td>Scrypt</td>\n",
       "      <td>True</td>\n",
       "      <td>PoW/PoS</td>\n",
       "      <td>1.055185e+09</td>\n",
       "      <td>532000000</td>\n",
       "    </tr>\n",
       "    <tr>\n",
       "      <th>611</th>\n",
       "      <td>SixEleven</td>\n",
       "      <td>SHA-256</td>\n",
       "      <td>True</td>\n",
       "      <td>PoW</td>\n",
       "      <td>NaN</td>\n",
       "      <td>611000</td>\n",
       "    </tr>\n",
       "    <tr>\n",
       "      <th>808</th>\n",
       "      <td>808</td>\n",
       "      <td>SHA-256</td>\n",
       "      <td>True</td>\n",
       "      <td>PoW/PoS</td>\n",
       "      <td>0.000000e+00</td>\n",
       "      <td>0</td>\n",
       "    </tr>\n",
       "  </tbody>\n",
       "</table>\n",
       "</div>"
      ],
      "text/plain": [
       "      CoinName Algorithm  IsTrading ProofType  TotalCoinsMined TotalCoinSupply\n",
       "42     42 Coin    Scrypt       True   PoW/PoS     4.199995e+01              42\n",
       "365    365Coin       X11       True   PoW/PoS              NaN      2300000000\n",
       "404    404Coin    Scrypt       True   PoW/PoS     1.055185e+09       532000000\n",
       "611  SixEleven   SHA-256       True       PoW              NaN          611000\n",
       "808        808   SHA-256       True   PoW/PoS     0.000000e+00               0"
      ]
     },
     "execution_count": 88,
     "metadata": {},
     "output_type": "execute_result"
    }
   ],
   "source": [
    "# Load the crypto_data.csv dataset.\n",
    "file_path = \"crypto_data.csv\"\n",
    "df_crypto = pd.read_csv(file_path, index_col = 0)\n",
    "df_crypto.head()"
   ]
  },
  {
   "cell_type": "code",
   "execution_count": 89,
   "metadata": {},
   "outputs": [
    {
     "data": {
      "text/plain": [
       "(1144, 6)"
      ]
     },
     "execution_count": 89,
     "metadata": {},
     "output_type": "execute_result"
    }
   ],
   "source": [
    "# Keep all the cryptocurrencies that are being traded.\n",
    "df_crypto = df_crypto[df_crypto.IsTrading.eq(True)]\n",
    "df_crypto.shape"
   ]
  },
  {
   "cell_type": "code",
   "execution_count": 90,
   "metadata": {},
   "outputs": [
    {
     "data": {
      "text/plain": [
       "42      False\n",
       "365     False\n",
       "404     False\n",
       "611     False\n",
       "808     False\n",
       "        ...  \n",
       "SERO    False\n",
       "UOS     False\n",
       "BDX     False\n",
       "ZEN     False\n",
       "XBC     False\n",
       "Name: Algorithm, Length: 1144, dtype: bool"
      ]
     },
     "execution_count": 90,
     "metadata": {},
     "output_type": "execute_result"
    }
   ],
   "source": [
    "# Keep all the cryptocurrencies that have a working algorithm.\n",
    "pd.isna(df_crypto['Algorithm'])"
   ]
  },
  {
   "cell_type": "code",
   "execution_count": 91,
   "metadata": {},
   "outputs": [],
   "source": [
    "# Remove the \"IsTrading\" column. \n",
    "df_crypto = df_crypto.drop([\"IsTrading\"],axis = 1)"
   ]
  },
  {
   "cell_type": "code",
   "execution_count": 92,
   "metadata": {},
   "outputs": [
    {
     "data": {
      "text/html": [
       "<div>\n",
       "<style scoped>\n",
       "    .dataframe tbody tr th:only-of-type {\n",
       "        vertical-align: middle;\n",
       "    }\n",
       "\n",
       "    .dataframe tbody tr th {\n",
       "        vertical-align: top;\n",
       "    }\n",
       "\n",
       "    .dataframe thead th {\n",
       "        text-align: right;\n",
       "    }\n",
       "</style>\n",
       "<table border=\"1\" class=\"dataframe\">\n",
       "  <thead>\n",
       "    <tr style=\"text-align: right;\">\n",
       "      <th></th>\n",
       "      <th>CoinName</th>\n",
       "      <th>Algorithm</th>\n",
       "      <th>ProofType</th>\n",
       "      <th>TotalCoinsMined</th>\n",
       "      <th>TotalCoinSupply</th>\n",
       "    </tr>\n",
       "  </thead>\n",
       "  <tbody>\n",
       "    <tr>\n",
       "      <th>42</th>\n",
       "      <td>42 Coin</td>\n",
       "      <td>Scrypt</td>\n",
       "      <td>PoW/PoS</td>\n",
       "      <td>4.199995e+01</td>\n",
       "      <td>42</td>\n",
       "    </tr>\n",
       "    <tr>\n",
       "      <th>404</th>\n",
       "      <td>404Coin</td>\n",
       "      <td>Scrypt</td>\n",
       "      <td>PoW/PoS</td>\n",
       "      <td>1.055185e+09</td>\n",
       "      <td>532000000</td>\n",
       "    </tr>\n",
       "    <tr>\n",
       "      <th>808</th>\n",
       "      <td>808</td>\n",
       "      <td>SHA-256</td>\n",
       "      <td>PoW/PoS</td>\n",
       "      <td>0.000000e+00</td>\n",
       "      <td>0</td>\n",
       "    </tr>\n",
       "    <tr>\n",
       "      <th>1337</th>\n",
       "      <td>EliteCoin</td>\n",
       "      <td>X13</td>\n",
       "      <td>PoW/PoS</td>\n",
       "      <td>2.927942e+10</td>\n",
       "      <td>314159265359</td>\n",
       "    </tr>\n",
       "    <tr>\n",
       "      <th>BTC</th>\n",
       "      <td>Bitcoin</td>\n",
       "      <td>SHA-256</td>\n",
       "      <td>PoW</td>\n",
       "      <td>1.792718e+07</td>\n",
       "      <td>21000000</td>\n",
       "    </tr>\n",
       "    <tr>\n",
       "      <th>...</th>\n",
       "      <td>...</td>\n",
       "      <td>...</td>\n",
       "      <td>...</td>\n",
       "      <td>...</td>\n",
       "      <td>...</td>\n",
       "    </tr>\n",
       "    <tr>\n",
       "      <th>ZEPH</th>\n",
       "      <td>ZEPHYR</td>\n",
       "      <td>SHA-256</td>\n",
       "      <td>DPoS</td>\n",
       "      <td>2.000000e+09</td>\n",
       "      <td>2000000000</td>\n",
       "    </tr>\n",
       "    <tr>\n",
       "      <th>GAP</th>\n",
       "      <td>Gapcoin</td>\n",
       "      <td>Scrypt</td>\n",
       "      <td>PoW/PoS</td>\n",
       "      <td>1.493105e+07</td>\n",
       "      <td>250000000</td>\n",
       "    </tr>\n",
       "    <tr>\n",
       "      <th>BDX</th>\n",
       "      <td>Beldex</td>\n",
       "      <td>CryptoNight</td>\n",
       "      <td>PoW</td>\n",
       "      <td>9.802226e+08</td>\n",
       "      <td>1400222610</td>\n",
       "    </tr>\n",
       "    <tr>\n",
       "      <th>ZEN</th>\n",
       "      <td>Horizen</td>\n",
       "      <td>Equihash</td>\n",
       "      <td>PoW</td>\n",
       "      <td>7.296538e+06</td>\n",
       "      <td>21000000</td>\n",
       "    </tr>\n",
       "    <tr>\n",
       "      <th>XBC</th>\n",
       "      <td>BitcoinPlus</td>\n",
       "      <td>Scrypt</td>\n",
       "      <td>PoS</td>\n",
       "      <td>1.283270e+05</td>\n",
       "      <td>1000000</td>\n",
       "    </tr>\n",
       "  </tbody>\n",
       "</table>\n",
       "<p>685 rows × 5 columns</p>\n",
       "</div>"
      ],
      "text/plain": [
       "         CoinName    Algorithm ProofType  TotalCoinsMined TotalCoinSupply\n",
       "42        42 Coin       Scrypt   PoW/PoS     4.199995e+01              42\n",
       "404       404Coin       Scrypt   PoW/PoS     1.055185e+09       532000000\n",
       "808           808      SHA-256   PoW/PoS     0.000000e+00               0\n",
       "1337    EliteCoin          X13   PoW/PoS     2.927942e+10    314159265359\n",
       "BTC       Bitcoin      SHA-256       PoW     1.792718e+07        21000000\n",
       "...           ...          ...       ...              ...             ...\n",
       "ZEPH       ZEPHYR      SHA-256      DPoS     2.000000e+09      2000000000\n",
       "GAP       Gapcoin       Scrypt   PoW/PoS     1.493105e+07       250000000\n",
       "BDX        Beldex  CryptoNight       PoW     9.802226e+08      1400222610\n",
       "ZEN       Horizen     Equihash       PoW     7.296538e+06        21000000\n",
       "XBC   BitcoinPlus       Scrypt       PoS     1.283270e+05         1000000\n",
       "\n",
       "[685 rows x 5 columns]"
      ]
     },
     "execution_count": 92,
     "metadata": {},
     "output_type": "execute_result"
    }
   ],
   "source": [
    "# Remove rows that have at least 1 null value.\n",
    "df_crypto = df_crypto.dropna(how='any', axis=0)\n",
    "df_crypto"
   ]
  },
  {
   "cell_type": "code",
   "execution_count": 93,
   "metadata": {},
   "outputs": [
    {
     "data": {
      "text/html": [
       "<div>\n",
       "<style scoped>\n",
       "    .dataframe tbody tr th:only-of-type {\n",
       "        vertical-align: middle;\n",
       "    }\n",
       "\n",
       "    .dataframe tbody tr th {\n",
       "        vertical-align: top;\n",
       "    }\n",
       "\n",
       "    .dataframe thead th {\n",
       "        text-align: right;\n",
       "    }\n",
       "</style>\n",
       "<table border=\"1\" class=\"dataframe\">\n",
       "  <thead>\n",
       "    <tr style=\"text-align: right;\">\n",
       "      <th></th>\n",
       "      <th>CoinName</th>\n",
       "      <th>Algorithm</th>\n",
       "      <th>ProofType</th>\n",
       "      <th>TotalCoinsMined</th>\n",
       "      <th>TotalCoinSupply</th>\n",
       "    </tr>\n",
       "  </thead>\n",
       "  <tbody>\n",
       "    <tr>\n",
       "      <th>42</th>\n",
       "      <td>42 Coin</td>\n",
       "      <td>Scrypt</td>\n",
       "      <td>PoW/PoS</td>\n",
       "      <td>4.199995e+01</td>\n",
       "      <td>42</td>\n",
       "    </tr>\n",
       "    <tr>\n",
       "      <th>404</th>\n",
       "      <td>404Coin</td>\n",
       "      <td>Scrypt</td>\n",
       "      <td>PoW/PoS</td>\n",
       "      <td>1.055185e+09</td>\n",
       "      <td>532000000</td>\n",
       "    </tr>\n",
       "    <tr>\n",
       "      <th>1337</th>\n",
       "      <td>EliteCoin</td>\n",
       "      <td>X13</td>\n",
       "      <td>PoW/PoS</td>\n",
       "      <td>2.927942e+10</td>\n",
       "      <td>314159265359</td>\n",
       "    </tr>\n",
       "    <tr>\n",
       "      <th>BTC</th>\n",
       "      <td>Bitcoin</td>\n",
       "      <td>SHA-256</td>\n",
       "      <td>PoW</td>\n",
       "      <td>1.792718e+07</td>\n",
       "      <td>21000000</td>\n",
       "    </tr>\n",
       "    <tr>\n",
       "      <th>ETH</th>\n",
       "      <td>Ethereum</td>\n",
       "      <td>Ethash</td>\n",
       "      <td>PoW</td>\n",
       "      <td>1.076842e+08</td>\n",
       "      <td>0</td>\n",
       "    </tr>\n",
       "    <tr>\n",
       "      <th>...</th>\n",
       "      <td>...</td>\n",
       "      <td>...</td>\n",
       "      <td>...</td>\n",
       "      <td>...</td>\n",
       "      <td>...</td>\n",
       "    </tr>\n",
       "    <tr>\n",
       "      <th>ZEPH</th>\n",
       "      <td>ZEPHYR</td>\n",
       "      <td>SHA-256</td>\n",
       "      <td>DPoS</td>\n",
       "      <td>2.000000e+09</td>\n",
       "      <td>2000000000</td>\n",
       "    </tr>\n",
       "    <tr>\n",
       "      <th>GAP</th>\n",
       "      <td>Gapcoin</td>\n",
       "      <td>Scrypt</td>\n",
       "      <td>PoW/PoS</td>\n",
       "      <td>1.493105e+07</td>\n",
       "      <td>250000000</td>\n",
       "    </tr>\n",
       "    <tr>\n",
       "      <th>BDX</th>\n",
       "      <td>Beldex</td>\n",
       "      <td>CryptoNight</td>\n",
       "      <td>PoW</td>\n",
       "      <td>9.802226e+08</td>\n",
       "      <td>1400222610</td>\n",
       "    </tr>\n",
       "    <tr>\n",
       "      <th>ZEN</th>\n",
       "      <td>Horizen</td>\n",
       "      <td>Equihash</td>\n",
       "      <td>PoW</td>\n",
       "      <td>7.296538e+06</td>\n",
       "      <td>21000000</td>\n",
       "    </tr>\n",
       "    <tr>\n",
       "      <th>XBC</th>\n",
       "      <td>BitcoinPlus</td>\n",
       "      <td>Scrypt</td>\n",
       "      <td>PoS</td>\n",
       "      <td>1.283270e+05</td>\n",
       "      <td>1000000</td>\n",
       "    </tr>\n",
       "  </tbody>\n",
       "</table>\n",
       "<p>532 rows × 5 columns</p>\n",
       "</div>"
      ],
      "text/plain": [
       "         CoinName    Algorithm ProofType  TotalCoinsMined TotalCoinSupply\n",
       "42        42 Coin       Scrypt   PoW/PoS     4.199995e+01              42\n",
       "404       404Coin       Scrypt   PoW/PoS     1.055185e+09       532000000\n",
       "1337    EliteCoin          X13   PoW/PoS     2.927942e+10    314159265359\n",
       "BTC       Bitcoin      SHA-256       PoW     1.792718e+07        21000000\n",
       "ETH      Ethereum       Ethash       PoW     1.076842e+08               0\n",
       "...           ...          ...       ...              ...             ...\n",
       "ZEPH       ZEPHYR      SHA-256      DPoS     2.000000e+09      2000000000\n",
       "GAP       Gapcoin       Scrypt   PoW/PoS     1.493105e+07       250000000\n",
       "BDX        Beldex  CryptoNight       PoW     9.802226e+08      1400222610\n",
       "ZEN       Horizen     Equihash       PoW     7.296538e+06        21000000\n",
       "XBC   BitcoinPlus       Scrypt       PoS     1.283270e+05         1000000\n",
       "\n",
       "[532 rows x 5 columns]"
      ]
     },
     "execution_count": 93,
     "metadata": {},
     "output_type": "execute_result"
    }
   ],
   "source": [
    "# Keep the rows where coins are mined.\n",
    "df_crypto = df_crypto[df_crypto.TotalCoinsMined > 0]\n",
    "df_crypto"
   ]
  },
  {
   "cell_type": "code",
   "execution_count": 94,
   "metadata": {},
   "outputs": [
    {
     "data": {
      "text/html": [
       "<div>\n",
       "<style scoped>\n",
       "    .dataframe tbody tr th:only-of-type {\n",
       "        vertical-align: middle;\n",
       "    }\n",
       "\n",
       "    .dataframe tbody tr th {\n",
       "        vertical-align: top;\n",
       "    }\n",
       "\n",
       "    .dataframe thead th {\n",
       "        text-align: right;\n",
       "    }\n",
       "</style>\n",
       "<table border=\"1\" class=\"dataframe\">\n",
       "  <thead>\n",
       "    <tr style=\"text-align: right;\">\n",
       "      <th></th>\n",
       "      <th>CoinName</th>\n",
       "    </tr>\n",
       "  </thead>\n",
       "  <tbody>\n",
       "    <tr>\n",
       "      <th>42</th>\n",
       "      <td>42 Coin</td>\n",
       "    </tr>\n",
       "    <tr>\n",
       "      <th>404</th>\n",
       "      <td>404Coin</td>\n",
       "    </tr>\n",
       "    <tr>\n",
       "      <th>1337</th>\n",
       "      <td>EliteCoin</td>\n",
       "    </tr>\n",
       "    <tr>\n",
       "      <th>BTC</th>\n",
       "      <td>Bitcoin</td>\n",
       "    </tr>\n",
       "    <tr>\n",
       "      <th>ETH</th>\n",
       "      <td>Ethereum</td>\n",
       "    </tr>\n",
       "    <tr>\n",
       "      <th>...</th>\n",
       "      <td>...</td>\n",
       "    </tr>\n",
       "    <tr>\n",
       "      <th>ZEPH</th>\n",
       "      <td>ZEPHYR</td>\n",
       "    </tr>\n",
       "    <tr>\n",
       "      <th>GAP</th>\n",
       "      <td>Gapcoin</td>\n",
       "    </tr>\n",
       "    <tr>\n",
       "      <th>BDX</th>\n",
       "      <td>Beldex</td>\n",
       "    </tr>\n",
       "    <tr>\n",
       "      <th>ZEN</th>\n",
       "      <td>Horizen</td>\n",
       "    </tr>\n",
       "    <tr>\n",
       "      <th>XBC</th>\n",
       "      <td>BitcoinPlus</td>\n",
       "    </tr>\n",
       "  </tbody>\n",
       "</table>\n",
       "<p>532 rows × 1 columns</p>\n",
       "</div>"
      ],
      "text/plain": [
       "         CoinName\n",
       "42        42 Coin\n",
       "404       404Coin\n",
       "1337    EliteCoin\n",
       "BTC       Bitcoin\n",
       "ETH      Ethereum\n",
       "...           ...\n",
       "ZEPH       ZEPHYR\n",
       "GAP       Gapcoin\n",
       "BDX        Beldex\n",
       "ZEN       Horizen\n",
       "XBC   BitcoinPlus\n",
       "\n",
       "[532 rows x 1 columns]"
      ]
     },
     "execution_count": 94,
     "metadata": {},
     "output_type": "execute_result"
    }
   ],
   "source": [
    "# Create a new DataFrame that holds only the cryptocurrencies names.\n",
    "CoinName = df_crypto.filter(['CoinName'], axis=1)\n",
    "CoinName"
   ]
  },
  {
   "cell_type": "code",
   "execution_count": 95,
   "metadata": {},
   "outputs": [
    {
     "data": {
      "text/html": [
       "<div>\n",
       "<style scoped>\n",
       "    .dataframe tbody tr th:only-of-type {\n",
       "        vertical-align: middle;\n",
       "    }\n",
       "\n",
       "    .dataframe tbody tr th {\n",
       "        vertical-align: top;\n",
       "    }\n",
       "\n",
       "    .dataframe thead th {\n",
       "        text-align: right;\n",
       "    }\n",
       "</style>\n",
       "<table border=\"1\" class=\"dataframe\">\n",
       "  <thead>\n",
       "    <tr style=\"text-align: right;\">\n",
       "      <th></th>\n",
       "      <th>Algorithm</th>\n",
       "      <th>ProofType</th>\n",
       "      <th>TotalCoinsMined</th>\n",
       "      <th>TotalCoinSupply</th>\n",
       "    </tr>\n",
       "  </thead>\n",
       "  <tbody>\n",
       "    <tr>\n",
       "      <th>42</th>\n",
       "      <td>Scrypt</td>\n",
       "      <td>PoW/PoS</td>\n",
       "      <td>4.199995e+01</td>\n",
       "      <td>42</td>\n",
       "    </tr>\n",
       "    <tr>\n",
       "      <th>404</th>\n",
       "      <td>Scrypt</td>\n",
       "      <td>PoW/PoS</td>\n",
       "      <td>1.055185e+09</td>\n",
       "      <td>532000000</td>\n",
       "    </tr>\n",
       "    <tr>\n",
       "      <th>1337</th>\n",
       "      <td>X13</td>\n",
       "      <td>PoW/PoS</td>\n",
       "      <td>2.927942e+10</td>\n",
       "      <td>314159265359</td>\n",
       "    </tr>\n",
       "    <tr>\n",
       "      <th>BTC</th>\n",
       "      <td>SHA-256</td>\n",
       "      <td>PoW</td>\n",
       "      <td>1.792718e+07</td>\n",
       "      <td>21000000</td>\n",
       "    </tr>\n",
       "    <tr>\n",
       "      <th>ETH</th>\n",
       "      <td>Ethash</td>\n",
       "      <td>PoW</td>\n",
       "      <td>1.076842e+08</td>\n",
       "      <td>0</td>\n",
       "    </tr>\n",
       "    <tr>\n",
       "      <th>...</th>\n",
       "      <td>...</td>\n",
       "      <td>...</td>\n",
       "      <td>...</td>\n",
       "      <td>...</td>\n",
       "    </tr>\n",
       "    <tr>\n",
       "      <th>ZEPH</th>\n",
       "      <td>SHA-256</td>\n",
       "      <td>DPoS</td>\n",
       "      <td>2.000000e+09</td>\n",
       "      <td>2000000000</td>\n",
       "    </tr>\n",
       "    <tr>\n",
       "      <th>GAP</th>\n",
       "      <td>Scrypt</td>\n",
       "      <td>PoW/PoS</td>\n",
       "      <td>1.493105e+07</td>\n",
       "      <td>250000000</td>\n",
       "    </tr>\n",
       "    <tr>\n",
       "      <th>BDX</th>\n",
       "      <td>CryptoNight</td>\n",
       "      <td>PoW</td>\n",
       "      <td>9.802226e+08</td>\n",
       "      <td>1400222610</td>\n",
       "    </tr>\n",
       "    <tr>\n",
       "      <th>ZEN</th>\n",
       "      <td>Equihash</td>\n",
       "      <td>PoW</td>\n",
       "      <td>7.296538e+06</td>\n",
       "      <td>21000000</td>\n",
       "    </tr>\n",
       "    <tr>\n",
       "      <th>XBC</th>\n",
       "      <td>Scrypt</td>\n",
       "      <td>PoS</td>\n",
       "      <td>1.283270e+05</td>\n",
       "      <td>1000000</td>\n",
       "    </tr>\n",
       "  </tbody>\n",
       "</table>\n",
       "<p>532 rows × 4 columns</p>\n",
       "</div>"
      ],
      "text/plain": [
       "        Algorithm ProofType  TotalCoinsMined TotalCoinSupply\n",
       "42         Scrypt   PoW/PoS     4.199995e+01              42\n",
       "404        Scrypt   PoW/PoS     1.055185e+09       532000000\n",
       "1337          X13   PoW/PoS     2.927942e+10    314159265359\n",
       "BTC       SHA-256       PoW     1.792718e+07        21000000\n",
       "ETH        Ethash       PoW     1.076842e+08               0\n",
       "...           ...       ...              ...             ...\n",
       "ZEPH      SHA-256      DPoS     2.000000e+09      2000000000\n",
       "GAP        Scrypt   PoW/PoS     1.493105e+07       250000000\n",
       "BDX   CryptoNight       PoW     9.802226e+08      1400222610\n",
       "ZEN      Equihash       PoW     7.296538e+06        21000000\n",
       "XBC        Scrypt       PoS     1.283270e+05         1000000\n",
       "\n",
       "[532 rows x 4 columns]"
      ]
     },
     "execution_count": 95,
     "metadata": {},
     "output_type": "execute_result"
    }
   ],
   "source": [
    "# Drop the 'CoinName' column since it's not going to be used on the clustering algorithm.\n",
    "df_crypto = df_crypto.drop([\"CoinName\"], axis=1)\n",
    "df_crypto"
   ]
  },
  {
   "cell_type": "code",
   "execution_count": 96,
   "metadata": {},
   "outputs": [
    {
     "data": {
      "text/html": [
       "<div>\n",
       "<style scoped>\n",
       "    .dataframe tbody tr th:only-of-type {\n",
       "        vertical-align: middle;\n",
       "    }\n",
       "\n",
       "    .dataframe tbody tr th {\n",
       "        vertical-align: top;\n",
       "    }\n",
       "\n",
       "    .dataframe thead th {\n",
       "        text-align: right;\n",
       "    }\n",
       "</style>\n",
       "<table border=\"1\" class=\"dataframe\">\n",
       "  <thead>\n",
       "    <tr style=\"text-align: right;\">\n",
       "      <th></th>\n",
       "      <th>TotalCoinsMined</th>\n",
       "      <th>TotalCoinSupply</th>\n",
       "      <th>1GB AES Pattern Search</th>\n",
       "      <th>536</th>\n",
       "      <th>Argon2d</th>\n",
       "      <th>BLAKE256</th>\n",
       "      <th>Blake</th>\n",
       "      <th>Blake2S</th>\n",
       "      <th>Blake2b</th>\n",
       "      <th>C11</th>\n",
       "      <th>...</th>\n",
       "      <th>PoW/PoS</th>\n",
       "      <th>PoW/PoS</th>\n",
       "      <th>PoW/PoW</th>\n",
       "      <th>PoW/nPoS</th>\n",
       "      <th>Pos</th>\n",
       "      <th>Proof of Authority</th>\n",
       "      <th>Proof of Trust</th>\n",
       "      <th>TPoS</th>\n",
       "      <th>Zero-Knowledge Proof</th>\n",
       "      <th>dPoW/PoW</th>\n",
       "    </tr>\n",
       "  </thead>\n",
       "  <tbody>\n",
       "    <tr>\n",
       "      <th>42</th>\n",
       "      <td>4.199995e+01</td>\n",
       "      <td>42</td>\n",
       "      <td>0</td>\n",
       "      <td>0</td>\n",
       "      <td>0</td>\n",
       "      <td>0</td>\n",
       "      <td>0</td>\n",
       "      <td>0</td>\n",
       "      <td>0</td>\n",
       "      <td>0</td>\n",
       "      <td>...</td>\n",
       "      <td>1</td>\n",
       "      <td>0</td>\n",
       "      <td>0</td>\n",
       "      <td>0</td>\n",
       "      <td>0</td>\n",
       "      <td>0</td>\n",
       "      <td>0</td>\n",
       "      <td>0</td>\n",
       "      <td>0</td>\n",
       "      <td>0</td>\n",
       "    </tr>\n",
       "    <tr>\n",
       "      <th>404</th>\n",
       "      <td>1.055185e+09</td>\n",
       "      <td>532000000</td>\n",
       "      <td>0</td>\n",
       "      <td>0</td>\n",
       "      <td>0</td>\n",
       "      <td>0</td>\n",
       "      <td>0</td>\n",
       "      <td>0</td>\n",
       "      <td>0</td>\n",
       "      <td>0</td>\n",
       "      <td>...</td>\n",
       "      <td>1</td>\n",
       "      <td>0</td>\n",
       "      <td>0</td>\n",
       "      <td>0</td>\n",
       "      <td>0</td>\n",
       "      <td>0</td>\n",
       "      <td>0</td>\n",
       "      <td>0</td>\n",
       "      <td>0</td>\n",
       "      <td>0</td>\n",
       "    </tr>\n",
       "    <tr>\n",
       "      <th>1337</th>\n",
       "      <td>2.927942e+10</td>\n",
       "      <td>314159265359</td>\n",
       "      <td>0</td>\n",
       "      <td>0</td>\n",
       "      <td>0</td>\n",
       "      <td>0</td>\n",
       "      <td>0</td>\n",
       "      <td>0</td>\n",
       "      <td>0</td>\n",
       "      <td>0</td>\n",
       "      <td>...</td>\n",
       "      <td>1</td>\n",
       "      <td>0</td>\n",
       "      <td>0</td>\n",
       "      <td>0</td>\n",
       "      <td>0</td>\n",
       "      <td>0</td>\n",
       "      <td>0</td>\n",
       "      <td>0</td>\n",
       "      <td>0</td>\n",
       "      <td>0</td>\n",
       "    </tr>\n",
       "    <tr>\n",
       "      <th>BTC</th>\n",
       "      <td>1.792718e+07</td>\n",
       "      <td>21000000</td>\n",
       "      <td>0</td>\n",
       "      <td>0</td>\n",
       "      <td>0</td>\n",
       "      <td>0</td>\n",
       "      <td>0</td>\n",
       "      <td>0</td>\n",
       "      <td>0</td>\n",
       "      <td>0</td>\n",
       "      <td>...</td>\n",
       "      <td>0</td>\n",
       "      <td>0</td>\n",
       "      <td>0</td>\n",
       "      <td>0</td>\n",
       "      <td>0</td>\n",
       "      <td>0</td>\n",
       "      <td>0</td>\n",
       "      <td>0</td>\n",
       "      <td>0</td>\n",
       "      <td>0</td>\n",
       "    </tr>\n",
       "    <tr>\n",
       "      <th>ETH</th>\n",
       "      <td>1.076842e+08</td>\n",
       "      <td>0</td>\n",
       "      <td>0</td>\n",
       "      <td>0</td>\n",
       "      <td>0</td>\n",
       "      <td>0</td>\n",
       "      <td>0</td>\n",
       "      <td>0</td>\n",
       "      <td>0</td>\n",
       "      <td>0</td>\n",
       "      <td>...</td>\n",
       "      <td>0</td>\n",
       "      <td>0</td>\n",
       "      <td>0</td>\n",
       "      <td>0</td>\n",
       "      <td>0</td>\n",
       "      <td>0</td>\n",
       "      <td>0</td>\n",
       "      <td>0</td>\n",
       "      <td>0</td>\n",
       "      <td>0</td>\n",
       "    </tr>\n",
       "    <tr>\n",
       "      <th>...</th>\n",
       "      <td>...</td>\n",
       "      <td>...</td>\n",
       "      <td>...</td>\n",
       "      <td>...</td>\n",
       "      <td>...</td>\n",
       "      <td>...</td>\n",
       "      <td>...</td>\n",
       "      <td>...</td>\n",
       "      <td>...</td>\n",
       "      <td>...</td>\n",
       "      <td>...</td>\n",
       "      <td>...</td>\n",
       "      <td>...</td>\n",
       "      <td>...</td>\n",
       "      <td>...</td>\n",
       "      <td>...</td>\n",
       "      <td>...</td>\n",
       "      <td>...</td>\n",
       "      <td>...</td>\n",
       "      <td>...</td>\n",
       "      <td>...</td>\n",
       "    </tr>\n",
       "    <tr>\n",
       "      <th>ZEPH</th>\n",
       "      <td>2.000000e+09</td>\n",
       "      <td>2000000000</td>\n",
       "      <td>0</td>\n",
       "      <td>0</td>\n",
       "      <td>0</td>\n",
       "      <td>0</td>\n",
       "      <td>0</td>\n",
       "      <td>0</td>\n",
       "      <td>0</td>\n",
       "      <td>0</td>\n",
       "      <td>...</td>\n",
       "      <td>0</td>\n",
       "      <td>0</td>\n",
       "      <td>0</td>\n",
       "      <td>0</td>\n",
       "      <td>0</td>\n",
       "      <td>0</td>\n",
       "      <td>0</td>\n",
       "      <td>0</td>\n",
       "      <td>0</td>\n",
       "      <td>0</td>\n",
       "    </tr>\n",
       "    <tr>\n",
       "      <th>GAP</th>\n",
       "      <td>1.493105e+07</td>\n",
       "      <td>250000000</td>\n",
       "      <td>0</td>\n",
       "      <td>0</td>\n",
       "      <td>0</td>\n",
       "      <td>0</td>\n",
       "      <td>0</td>\n",
       "      <td>0</td>\n",
       "      <td>0</td>\n",
       "      <td>0</td>\n",
       "      <td>...</td>\n",
       "      <td>1</td>\n",
       "      <td>0</td>\n",
       "      <td>0</td>\n",
       "      <td>0</td>\n",
       "      <td>0</td>\n",
       "      <td>0</td>\n",
       "      <td>0</td>\n",
       "      <td>0</td>\n",
       "      <td>0</td>\n",
       "      <td>0</td>\n",
       "    </tr>\n",
       "    <tr>\n",
       "      <th>BDX</th>\n",
       "      <td>9.802226e+08</td>\n",
       "      <td>1400222610</td>\n",
       "      <td>0</td>\n",
       "      <td>0</td>\n",
       "      <td>0</td>\n",
       "      <td>0</td>\n",
       "      <td>0</td>\n",
       "      <td>0</td>\n",
       "      <td>0</td>\n",
       "      <td>0</td>\n",
       "      <td>...</td>\n",
       "      <td>0</td>\n",
       "      <td>0</td>\n",
       "      <td>0</td>\n",
       "      <td>0</td>\n",
       "      <td>0</td>\n",
       "      <td>0</td>\n",
       "      <td>0</td>\n",
       "      <td>0</td>\n",
       "      <td>0</td>\n",
       "      <td>0</td>\n",
       "    </tr>\n",
       "    <tr>\n",
       "      <th>ZEN</th>\n",
       "      <td>7.296538e+06</td>\n",
       "      <td>21000000</td>\n",
       "      <td>0</td>\n",
       "      <td>0</td>\n",
       "      <td>0</td>\n",
       "      <td>0</td>\n",
       "      <td>0</td>\n",
       "      <td>0</td>\n",
       "      <td>0</td>\n",
       "      <td>0</td>\n",
       "      <td>...</td>\n",
       "      <td>0</td>\n",
       "      <td>0</td>\n",
       "      <td>0</td>\n",
       "      <td>0</td>\n",
       "      <td>0</td>\n",
       "      <td>0</td>\n",
       "      <td>0</td>\n",
       "      <td>0</td>\n",
       "      <td>0</td>\n",
       "      <td>0</td>\n",
       "    </tr>\n",
       "    <tr>\n",
       "      <th>XBC</th>\n",
       "      <td>1.283270e+05</td>\n",
       "      <td>1000000</td>\n",
       "      <td>0</td>\n",
       "      <td>0</td>\n",
       "      <td>0</td>\n",
       "      <td>0</td>\n",
       "      <td>0</td>\n",
       "      <td>0</td>\n",
       "      <td>0</td>\n",
       "      <td>0</td>\n",
       "      <td>...</td>\n",
       "      <td>0</td>\n",
       "      <td>0</td>\n",
       "      <td>0</td>\n",
       "      <td>0</td>\n",
       "      <td>0</td>\n",
       "      <td>0</td>\n",
       "      <td>0</td>\n",
       "      <td>0</td>\n",
       "      <td>0</td>\n",
       "      <td>0</td>\n",
       "    </tr>\n",
       "  </tbody>\n",
       "</table>\n",
       "<p>532 rows × 98 columns</p>\n",
       "</div>"
      ],
      "text/plain": [
       "      TotalCoinsMined TotalCoinSupply  1GB AES Pattern Search  536  Argon2d  \\\n",
       "42       4.199995e+01              42                       0    0        0   \n",
       "404      1.055185e+09       532000000                       0    0        0   \n",
       "1337     2.927942e+10    314159265359                       0    0        0   \n",
       "BTC      1.792718e+07        21000000                       0    0        0   \n",
       "ETH      1.076842e+08               0                       0    0        0   \n",
       "...               ...             ...                     ...  ...      ...   \n",
       "ZEPH     2.000000e+09      2000000000                       0    0        0   \n",
       "GAP      1.493105e+07       250000000                       0    0        0   \n",
       "BDX      9.802226e+08      1400222610                       0    0        0   \n",
       "ZEN      7.296538e+06        21000000                       0    0        0   \n",
       "XBC      1.283270e+05         1000000                       0    0        0   \n",
       "\n",
       "      BLAKE256  Blake  Blake2S  Blake2b  C11  ...  PoW/PoS  PoW/PoS   PoW/PoW  \\\n",
       "42           0      0        0        0    0  ...        1         0        0   \n",
       "404          0      0        0        0    0  ...        1         0        0   \n",
       "1337         0      0        0        0    0  ...        1         0        0   \n",
       "BTC          0      0        0        0    0  ...        0         0        0   \n",
       "ETH          0      0        0        0    0  ...        0         0        0   \n",
       "...        ...    ...      ...      ...  ...  ...      ...       ...      ...   \n",
       "ZEPH         0      0        0        0    0  ...        0         0        0   \n",
       "GAP          0      0        0        0    0  ...        1         0        0   \n",
       "BDX          0      0        0        0    0  ...        0         0        0   \n",
       "ZEN          0      0        0        0    0  ...        0         0        0   \n",
       "XBC          0      0        0        0    0  ...        0         0        0   \n",
       "\n",
       "      PoW/nPoS  Pos  Proof of Authority  Proof of Trust  TPoS  \\\n",
       "42           0    0                   0               0     0   \n",
       "404          0    0                   0               0     0   \n",
       "1337         0    0                   0               0     0   \n",
       "BTC          0    0                   0               0     0   \n",
       "ETH          0    0                   0               0     0   \n",
       "...        ...  ...                 ...             ...   ...   \n",
       "ZEPH         0    0                   0               0     0   \n",
       "GAP          0    0                   0               0     0   \n",
       "BDX          0    0                   0               0     0   \n",
       "ZEN          0    0                   0               0     0   \n",
       "XBC          0    0                   0               0     0   \n",
       "\n",
       "      Zero-Knowledge Proof  dPoW/PoW  \n",
       "42                       0         0  \n",
       "404                      0         0  \n",
       "1337                     0         0  \n",
       "BTC                      0         0  \n",
       "ETH                      0         0  \n",
       "...                    ...       ...  \n",
       "ZEPH                     0         0  \n",
       "GAP                      0         0  \n",
       "BDX                      0         0  \n",
       "ZEN                      0         0  \n",
       "XBC                      0         0  \n",
       "\n",
       "[532 rows x 98 columns]"
      ]
     },
     "execution_count": 96,
     "metadata": {},
     "output_type": "execute_result"
    }
   ],
   "source": [
    "# Use get_dummies() to create variables for text features.\n",
    "crypto = pd.get_dummies(df_crypto['Algorithm'])\n",
    "dummy = pd.get_dummies(df_crypto['ProofType'])\n",
    "combined = pd.concat([crypto,dummy],axis =1)\n",
    "df = df_crypto.merge(combined,left_index = True,right_index = True)\n",
    "df = df.drop(['Algorithm','ProofType'],axis = 1)\n",
    "df"
   ]
  },
  {
   "cell_type": "code",
   "execution_count": 97,
   "metadata": {},
   "outputs": [
    {
     "name": "stdout",
     "output_type": "stream",
     "text": [
      "[[-0.11710817 -0.1528703  -0.0433963  ... -0.0433963  -0.0433963\n",
      "  -0.0433963 ]\n",
      " [-0.09396955 -0.145009   -0.0433963  ... -0.0433963  -0.0433963\n",
      "  -0.0433963 ]\n",
      " [ 0.52494561  4.48942416 -0.0433963  ... -0.0433963  -0.0433963\n",
      "  -0.0433963 ]\n",
      " ...\n",
      " [-0.09561336 -0.13217937 -0.0433963  ... -0.0433963  -0.0433963\n",
      "  -0.0433963 ]\n",
      " [-0.11694817 -0.15255998 -0.0433963  ... -0.0433963  -0.0433963\n",
      "  -0.0433963 ]\n",
      " [-0.11710536 -0.15285552 -0.0433963  ... -0.0433963  -0.0433963\n",
      "  -0.0433963 ]]\n"
     ]
    }
   ],
   "source": [
    "# Standardize the data with StandardScaler()\n",
    "df_scaled = StandardScaler().fit_transform(df)\n",
    "print(df_scaled)"
   ]
  },
  {
   "cell_type": "markdown",
   "metadata": {},
   "source": [
    "### Deliverable 2: Reducing Data Dimensions Using PCA"
   ]
  },
  {
   "cell_type": "code",
   "execution_count": 98,
   "metadata": {},
   "outputs": [
    {
     "data": {
      "text/plain": [
       "array([[-0.33326724,  1.00830865, -0.59150944],\n",
       "       [-0.31659164,  1.00819586, -0.59186484],\n",
       "       [ 2.29550502,  1.54404881, -0.61592022],\n",
       "       ...,\n",
       "       [ 0.32114039, -2.27029381,  0.40677309],\n",
       "       [-0.13312004, -2.25764578,  0.44299435],\n",
       "       [-0.28385166,  0.77800643, -0.30510759]])"
      ]
     },
     "execution_count": 98,
     "metadata": {},
     "output_type": "execute_result"
    }
   ],
   "source": [
    "# Using PCA to reduce dimension to three principal components.\n",
    "pca = PCA(n_components=3)\n",
    "df_pca = pca.fit_transform(df_scaled)\n",
    "df_pca"
   ]
  },
  {
   "cell_type": "code",
   "execution_count": 99,
   "metadata": {},
   "outputs": [
    {
     "data": {
      "text/html": [
       "<div>\n",
       "<style scoped>\n",
       "    .dataframe tbody tr th:only-of-type {\n",
       "        vertical-align: middle;\n",
       "    }\n",
       "\n",
       "    .dataframe tbody tr th {\n",
       "        vertical-align: top;\n",
       "    }\n",
       "\n",
       "    .dataframe thead th {\n",
       "        text-align: right;\n",
       "    }\n",
       "</style>\n",
       "<table border=\"1\" class=\"dataframe\">\n",
       "  <thead>\n",
       "    <tr style=\"text-align: right;\">\n",
       "      <th></th>\n",
       "      <th>PC1</th>\n",
       "      <th>PC2</th>\n",
       "      <th>PC3</th>\n",
       "    </tr>\n",
       "  </thead>\n",
       "  <tbody>\n",
       "    <tr>\n",
       "      <th>42</th>\n",
       "      <td>-0.333267</td>\n",
       "      <td>1.008309</td>\n",
       "      <td>-0.591509</td>\n",
       "    </tr>\n",
       "    <tr>\n",
       "      <th>404</th>\n",
       "      <td>-0.316592</td>\n",
       "      <td>1.008196</td>\n",
       "      <td>-0.591865</td>\n",
       "    </tr>\n",
       "    <tr>\n",
       "      <th>1337</th>\n",
       "      <td>2.295505</td>\n",
       "      <td>1.544049</td>\n",
       "      <td>-0.615920</td>\n",
       "    </tr>\n",
       "    <tr>\n",
       "      <th>BTC</th>\n",
       "      <td>-0.149480</td>\n",
       "      <td>-1.269098</td>\n",
       "      <td>0.227975</td>\n",
       "    </tr>\n",
       "    <tr>\n",
       "      <th>ETH</th>\n",
       "      <td>-0.155019</td>\n",
       "      <td>-1.976615</td>\n",
       "      <td>0.372871</td>\n",
       "    </tr>\n",
       "    <tr>\n",
       "      <th>...</th>\n",
       "      <td>...</td>\n",
       "      <td>...</td>\n",
       "      <td>...</td>\n",
       "    </tr>\n",
       "    <tr>\n",
       "      <th>ZEPH</th>\n",
       "      <td>2.458832</td>\n",
       "      <td>1.009439</td>\n",
       "      <td>-0.068767</td>\n",
       "    </tr>\n",
       "    <tr>\n",
       "      <th>GAP</th>\n",
       "      <td>-0.331311</td>\n",
       "      <td>1.008162</td>\n",
       "      <td>-0.591533</td>\n",
       "    </tr>\n",
       "    <tr>\n",
       "      <th>BDX</th>\n",
       "      <td>0.321140</td>\n",
       "      <td>-2.270294</td>\n",
       "      <td>0.406773</td>\n",
       "    </tr>\n",
       "    <tr>\n",
       "      <th>ZEN</th>\n",
       "      <td>-0.133120</td>\n",
       "      <td>-2.257646</td>\n",
       "      <td>0.442994</td>\n",
       "    </tr>\n",
       "    <tr>\n",
       "      <th>XBC</th>\n",
       "      <td>-0.283852</td>\n",
       "      <td>0.778006</td>\n",
       "      <td>-0.305108</td>\n",
       "    </tr>\n",
       "  </tbody>\n",
       "</table>\n",
       "<p>532 rows × 3 columns</p>\n",
       "</div>"
      ],
      "text/plain": [
       "           PC1       PC2       PC3\n",
       "42   -0.333267  1.008309 -0.591509\n",
       "404  -0.316592  1.008196 -0.591865\n",
       "1337  2.295505  1.544049 -0.615920\n",
       "BTC  -0.149480 -1.269098  0.227975\n",
       "ETH  -0.155019 -1.976615  0.372871\n",
       "...        ...       ...       ...\n",
       "ZEPH  2.458832  1.009439 -0.068767\n",
       "GAP  -0.331311  1.008162 -0.591533\n",
       "BDX   0.321140 -2.270294  0.406773\n",
       "ZEN  -0.133120 -2.257646  0.442994\n",
       "XBC  -0.283852  0.778006 -0.305108\n",
       "\n",
       "[532 rows x 3 columns]"
      ]
     },
     "execution_count": 99,
     "metadata": {},
     "output_type": "execute_result"
    }
   ],
   "source": [
    "# Create a DataFrame with the three principal components.\n",
    "pcs_df = pd.DataFrame(\n",
    "    data = df_pca, columns = ['PC1', 'PC2', 'PC3'], index = df_crypto.index\n",
    ")\n",
    "pcs_df"
   ]
  },
  {
   "cell_type": "markdown",
   "metadata": {},
   "source": [
    "### Deliverable 3: Clustering Crytocurrencies Using K-Means\n",
    "\n",
    "#### Finding the Best Value for `k` Using the Elbow Curve"
   ]
  },
  {
   "cell_type": "code",
   "execution_count": 100,
   "metadata": {},
   "outputs": [
    {
     "data": {},
     "metadata": {},
     "output_type": "display_data"
    },
    {
     "data": {
      "application/vnd.holoviews_exec.v0+json": "",
      "text/html": [
       "<div id='1236'>\n",
       "\n",
       "\n",
       "\n",
       "\n",
       "\n",
       "  <div class=\"bk-root\" id=\"c04afbb5-9712-4305-8a8b-51e706ecac9e\" data-root-id=\"1236\"></div>\n",
       "</div>\n",
       "<script type=\"application/javascript\">(function(root) {\n",
       "  function embed_document(root) {\n",
       "    var docs_json = {\"b7f439e2-ba97-498c-ace6-763c94a56482\":{\"roots\":{\"references\":[{\"attributes\":{},\"id\":\"1260\",\"type\":\"WheelZoomTool\"},{\"attributes\":{},\"id\":\"1262\",\"type\":\"ResetTool\"},{\"attributes\":{\"overlay\":{\"id\":\"1263\"}},\"id\":\"1261\",\"type\":\"BoxZoomTool\"},{\"attributes\":{\"children\":[{\"id\":\"1237\"},{\"id\":\"1241\"},{\"id\":\"1300\"}],\"margin\":[0,0,0,0],\"name\":\"Row02094\",\"tags\":[\"embedded\"]},\"id\":\"1236\",\"type\":\"Row\"},{\"attributes\":{\"margin\":[5,5,5,5],\"name\":\"HSpacer02099\",\"sizing_mode\":\"stretch_width\"},\"id\":\"1300\",\"type\":\"Spacer\"},{\"attributes\":{},\"id\":\"1246\",\"type\":\"LinearScale\"},{\"attributes\":{\"axis_label\":\"k\",\"bounds\":\"auto\",\"formatter\":{\"id\":\"1280\"},\"major_label_orientation\":\"horizontal\",\"ticker\":{\"id\":\"1279\"}},\"id\":\"1250\",\"type\":\"LinearAxis\"},{\"attributes\":{},\"id\":\"1248\",\"type\":\"LinearScale\"},{\"attributes\":{\"data\":{\"inertia\":{\"__ndarray__\":\"G/4iUFBvrECdvxwuqVOjQIJ8jsisVZdALamiY5LRgUCmsXWeHWZ4QPnr9WliUnFAkds3r4toakA3nQEFmsNjQDwzuEwDamBAbPg2dzSaXEA=\",\"dtype\":\"float64\",\"order\":\"little\",\"shape\":[10]},\"k\":[1,2,3,4,5,6,7,8,9,10]},\"selected\":{\"id\":\"1272\"},\"selection_policy\":{\"id\":\"1291\"}},\"id\":\"1271\",\"type\":\"ColumnDataSource\"},{\"attributes\":{\"margin\":[5,5,5,5],\"name\":\"HSpacer02098\",\"sizing_mode\":\"stretch_width\"},\"id\":\"1237\",\"type\":\"Spacer\"},{\"attributes\":{\"end\":3992.1816023087526,\"reset_end\":3992.1816023087526,\"reset_start\":-238.11528866319816,\"start\":-238.11528866319816,\"tags\":[[[\"inertia\",\"inertia\",null]]]},\"id\":\"1239\",\"type\":\"Range1d\"},{\"attributes\":{\"axis_label\":\"inertia\",\"bounds\":\"auto\",\"formatter\":{\"id\":\"1284\"},\"major_label_orientation\":\"horizontal\",\"ticker\":{\"id\":\"1255\"}},\"id\":\"1254\",\"type\":\"LinearAxis\"},{\"attributes\":{\"axis\":{\"id\":\"1250\"},\"grid_line_color\":null,\"ticker\":null},\"id\":\"1253\",\"type\":\"Grid\"},{\"attributes\":{\"active_drag\":\"auto\",\"active_inspect\":\"auto\",\"active_multi\":null,\"active_scroll\":\"auto\",\"active_tap\":\"auto\",\"tools\":[{\"id\":\"1240\"},{\"id\":\"1258\"},{\"id\":\"1259\"},{\"id\":\"1260\"},{\"id\":\"1261\"},{\"id\":\"1262\"}]},\"id\":\"1264\",\"type\":\"Toolbar\"},{\"attributes\":{},\"id\":\"1284\",\"type\":\"BasicTickFormatter\"},{\"attributes\":{\"callback\":null,\"renderers\":[{\"id\":\"1277\"}],\"tags\":[\"hv_created\"],\"tooltips\":[[\"k\",\"@{k}\"],[\"inertia\",\"@{inertia}\"]]},\"id\":\"1240\",\"type\":\"HoverTool\"},{\"attributes\":{},\"id\":\"1255\",\"type\":\"BasicTicker\"},{\"attributes\":{\"axis\":{\"id\":\"1254\"},\"dimension\":1,\"grid_line_color\":null,\"ticker\":null},\"id\":\"1257\",\"type\":\"Grid\"},{\"attributes\":{},\"id\":\"1291\",\"type\":\"UnionRenderers\"},{\"attributes\":{\"data_source\":{\"id\":\"1271\"},\"glyph\":{\"id\":\"1274\"},\"hover_glyph\":null,\"muted_glyph\":{\"id\":\"1276\"},\"nonselection_glyph\":{\"id\":\"1275\"},\"selection_glyph\":null,\"view\":{\"id\":\"1278\"}},\"id\":\"1277\",\"type\":\"GlyphRenderer\"},{\"attributes\":{\"line_color\":\"#1f77b3\",\"line_width\":2,\"x\":{\"field\":\"k\"},\"y\":{\"field\":\"inertia\"}},\"id\":\"1274\",\"type\":\"Line\"},{\"attributes\":{},\"id\":\"1280\",\"type\":\"BasicTickFormatter\"},{\"attributes\":{\"source\":{\"id\":\"1271\"}},\"id\":\"1278\",\"type\":\"CDSView\"},{\"attributes\":{},\"id\":\"1272\",\"type\":\"Selection\"},{\"attributes\":{\"text\":\"Elbow Curve\",\"text_color\":{\"value\":\"black\"},\"text_font_size\":{\"value\":\"12pt\"}},\"id\":\"1242\",\"type\":\"Title\"},{\"attributes\":{\"bottom_units\":\"screen\",\"fill_alpha\":0.5,\"fill_color\":\"lightgrey\",\"left_units\":\"screen\",\"level\":\"overlay\",\"line_alpha\":1.0,\"line_color\":\"black\",\"line_dash\":[4,4],\"line_width\":2,\"right_units\":\"screen\",\"top_units\":\"screen\"},\"id\":\"1263\",\"type\":\"BoxAnnotation\"},{\"attributes\":{\"below\":[{\"id\":\"1250\"}],\"center\":[{\"id\":\"1253\"},{\"id\":\"1257\"}],\"left\":[{\"id\":\"1254\"}],\"margin\":[5,5,5,5],\"min_border_bottom\":10,\"min_border_left\":10,\"min_border_right\":10,\"min_border_top\":10,\"plot_height\":300,\"plot_width\":700,\"renderers\":[{\"id\":\"1277\"}],\"sizing_mode\":\"fixed\",\"title\":{\"id\":\"1242\"},\"toolbar\":{\"id\":\"1264\"},\"x_range\":{\"id\":\"1238\"},\"x_scale\":{\"id\":\"1246\"},\"y_range\":{\"id\":\"1239\"},\"y_scale\":{\"id\":\"1248\"}},\"id\":\"1241\",\"subtype\":\"Figure\",\"type\":\"Plot\"},{\"attributes\":{\"line_alpha\":0.2,\"line_color\":\"#1f77b3\",\"line_width\":2,\"x\":{\"field\":\"k\"},\"y\":{\"field\":\"inertia\"}},\"id\":\"1276\",\"type\":\"Line\"},{\"attributes\":{\"end\":10.0,\"reset_end\":10.0,\"reset_start\":1.0,\"start\":1.0,\"tags\":[[[\"k\",\"k\",null]]]},\"id\":\"1238\",\"type\":\"Range1d\"},{\"attributes\":{\"line_alpha\":0.1,\"line_color\":\"#1f77b3\",\"line_width\":2,\"x\":{\"field\":\"k\"},\"y\":{\"field\":\"inertia\"}},\"id\":\"1275\",\"type\":\"Line\"},{\"attributes\":{},\"id\":\"1258\",\"type\":\"SaveTool\"},{\"attributes\":{\"ticks\":[1,2,3,4,5,6,7,8,9,10]},\"id\":\"1279\",\"type\":\"FixedTicker\"},{\"attributes\":{},\"id\":\"1259\",\"type\":\"PanTool\"}],\"root_ids\":[\"1236\"]},\"title\":\"Bokeh Application\",\"version\":\"2.2.3\"}};\n",
       "    var render_items = [{\"docid\":\"b7f439e2-ba97-498c-ace6-763c94a56482\",\"root_ids\":[\"1236\"],\"roots\":{\"1236\":\"c04afbb5-9712-4305-8a8b-51e706ecac9e\"}}];\n",
       "    root.Bokeh.embed.embed_items_notebook(docs_json, render_items);\n",
       "  }\n",
       "  if (root.Bokeh !== undefined && root.Bokeh.Panel !== undefined) {\n",
       "    embed_document(root);\n",
       "  } else {\n",
       "    var attempts = 0;\n",
       "    var timer = setInterval(function(root) {\n",
       "      if (root.Bokeh !== undefined && root.Bokeh.Panel !== undefined) {\n",
       "        clearInterval(timer);\n",
       "        embed_document(root);\n",
       "      } else if (document.readyState == \"complete\") {\n",
       "        attempts++;\n",
       "        if (attempts > 100) {\n",
       "          clearInterval(timer);\n",
       "          console.log(\"Bokeh: ERROR: Unable to run BokehJS code because BokehJS library is missing\");\n",
       "        }\n",
       "      }\n",
       "    }, 10, root)\n",
       "  }\n",
       "})(window);</script>"
      ],
      "text/plain": [
       ":Curve   [k]   (inertia)"
      ]
     },
     "execution_count": 100,
     "metadata": {
      "application/vnd.holoviews_exec.v0+json": {
       "id": "1236"
      }
     },
     "output_type": "execute_result"
    }
   ],
   "source": [
    "# Create an elbow curve to find the best value for K.\n",
    "inertia = []\n",
    "k = list(range(1, 11))\n",
    "# Calculate the inertia for the range of K values\n",
    "for i in k:\n",
    "   km = KMeans(n_clusters=i, random_state=0)\n",
    "   km.fit(pcs_df)\n",
    "   inertia.append(km.inertia_)\n",
    "\n",
    "elbow_data = {\"k\":k,\"inertia\":inertia}\n",
    "df_elbow = pd.DataFrame(elbow_data)\n",
    "df_elbow.hvplot.line(x=\"k\",y=\"inertia\",xticks=k,title=\"Elbow Curve\")"
   ]
  },
  {
   "cell_type": "markdown",
   "metadata": {},
   "source": [
    "Running K-Means with `k=4`"
   ]
  },
  {
   "cell_type": "code",
   "execution_count": 101,
   "metadata": {},
   "outputs": [],
   "source": [
    "# Initialize the K-Means model.\n",
    "model = KMeans(n_clusters=4, random_state=0)\n",
    "\n",
    "# Fit the model\n",
    "model.fit(pcs_df)\n",
    "\n",
    "# Predict clusters\n",
    "predictions = model.predict(pcs_df)"
   ]
  },
  {
   "cell_type": "code",
   "execution_count": 102,
   "metadata": {},
   "outputs": [
    {
     "name": "stdout",
     "output_type": "stream",
     "text": [
      "(532, 9)\n"
     ]
    },
    {
     "data": {
      "text/html": [
       "<div>\n",
       "<style scoped>\n",
       "    .dataframe tbody tr th:only-of-type {\n",
       "        vertical-align: middle;\n",
       "    }\n",
       "\n",
       "    .dataframe tbody tr th {\n",
       "        vertical-align: top;\n",
       "    }\n",
       "\n",
       "    .dataframe thead th {\n",
       "        text-align: right;\n",
       "    }\n",
       "</style>\n",
       "<table border=\"1\" class=\"dataframe\">\n",
       "  <thead>\n",
       "    <tr style=\"text-align: right;\">\n",
       "      <th></th>\n",
       "      <th>Algorithm</th>\n",
       "      <th>ProofType</th>\n",
       "      <th>TotalCoinsMined</th>\n",
       "      <th>TotalCoinSupply</th>\n",
       "      <th>PC1</th>\n",
       "      <th>PC2</th>\n",
       "      <th>PC3</th>\n",
       "      <th>CoinName</th>\n",
       "      <th>Class</th>\n",
       "    </tr>\n",
       "  </thead>\n",
       "  <tbody>\n",
       "    <tr>\n",
       "      <th>42</th>\n",
       "      <td>Scrypt</td>\n",
       "      <td>PoW/PoS</td>\n",
       "      <td>4.199995e+01</td>\n",
       "      <td>42</td>\n",
       "      <td>-0.333267</td>\n",
       "      <td>1.008309</td>\n",
       "      <td>-0.591509</td>\n",
       "      <td>42 Coin</td>\n",
       "      <td>1</td>\n",
       "    </tr>\n",
       "    <tr>\n",
       "      <th>404</th>\n",
       "      <td>Scrypt</td>\n",
       "      <td>PoW/PoS</td>\n",
       "      <td>1.055185e+09</td>\n",
       "      <td>532000000</td>\n",
       "      <td>-0.316592</td>\n",
       "      <td>1.008196</td>\n",
       "      <td>-0.591865</td>\n",
       "      <td>404Coin</td>\n",
       "      <td>1</td>\n",
       "    </tr>\n",
       "    <tr>\n",
       "      <th>1337</th>\n",
       "      <td>X13</td>\n",
       "      <td>PoW/PoS</td>\n",
       "      <td>2.927942e+10</td>\n",
       "      <td>314159265359</td>\n",
       "      <td>2.295505</td>\n",
       "      <td>1.544049</td>\n",
       "      <td>-0.615920</td>\n",
       "      <td>EliteCoin</td>\n",
       "      <td>1</td>\n",
       "    </tr>\n",
       "    <tr>\n",
       "      <th>BTC</th>\n",
       "      <td>SHA-256</td>\n",
       "      <td>PoW</td>\n",
       "      <td>1.792718e+07</td>\n",
       "      <td>21000000</td>\n",
       "      <td>-0.149480</td>\n",
       "      <td>-1.269098</td>\n",
       "      <td>0.227975</td>\n",
       "      <td>Bitcoin</td>\n",
       "      <td>0</td>\n",
       "    </tr>\n",
       "    <tr>\n",
       "      <th>ETH</th>\n",
       "      <td>Ethash</td>\n",
       "      <td>PoW</td>\n",
       "      <td>1.076842e+08</td>\n",
       "      <td>0</td>\n",
       "      <td>-0.155019</td>\n",
       "      <td>-1.976615</td>\n",
       "      <td>0.372871</td>\n",
       "      <td>Ethereum</td>\n",
       "      <td>0</td>\n",
       "    </tr>\n",
       "    <tr>\n",
       "      <th>LTC</th>\n",
       "      <td>Scrypt</td>\n",
       "      <td>PoW</td>\n",
       "      <td>6.303924e+07</td>\n",
       "      <td>84000000</td>\n",
       "      <td>-0.161785</td>\n",
       "      <td>-1.118225</td>\n",
       "      <td>-0.046977</td>\n",
       "      <td>Litecoin</td>\n",
       "      <td>0</td>\n",
       "    </tr>\n",
       "    <tr>\n",
       "      <th>DASH</th>\n",
       "      <td>X11</td>\n",
       "      <td>PoW/PoS</td>\n",
       "      <td>9.031294e+06</td>\n",
       "      <td>22000000</td>\n",
       "      <td>-0.404348</td>\n",
       "      <td>1.255659</td>\n",
       "      <td>-0.463274</td>\n",
       "      <td>Dash</td>\n",
       "      <td>1</td>\n",
       "    </tr>\n",
       "    <tr>\n",
       "      <th>XMR</th>\n",
       "      <td>CryptoNight-V7</td>\n",
       "      <td>PoW</td>\n",
       "      <td>1.720114e+07</td>\n",
       "      <td>0</td>\n",
       "      <td>-0.156957</td>\n",
       "      <td>-2.098238</td>\n",
       "      <td>0.457604</td>\n",
       "      <td>Monero</td>\n",
       "      <td>0</td>\n",
       "    </tr>\n",
       "    <tr>\n",
       "      <th>ETC</th>\n",
       "      <td>Ethash</td>\n",
       "      <td>PoW</td>\n",
       "      <td>1.133597e+08</td>\n",
       "      <td>210000000</td>\n",
       "      <td>-0.153459</td>\n",
       "      <td>-1.976740</td>\n",
       "      <td>0.372853</td>\n",
       "      <td>Ethereum Classic</td>\n",
       "      <td>0</td>\n",
       "    </tr>\n",
       "    <tr>\n",
       "      <th>ZEC</th>\n",
       "      <td>Equihash</td>\n",
       "      <td>PoW</td>\n",
       "      <td>7.383056e+06</td>\n",
       "      <td>21000000</td>\n",
       "      <td>-0.133119</td>\n",
       "      <td>-2.257646</td>\n",
       "      <td>0.442994</td>\n",
       "      <td>ZCash</td>\n",
       "      <td>0</td>\n",
       "    </tr>\n",
       "  </tbody>\n",
       "</table>\n",
       "</div>"
      ],
      "text/plain": [
       "           Algorithm ProofType  TotalCoinsMined TotalCoinSupply       PC1  \\\n",
       "42            Scrypt   PoW/PoS     4.199995e+01              42 -0.333267   \n",
       "404           Scrypt   PoW/PoS     1.055185e+09       532000000 -0.316592   \n",
       "1337             X13   PoW/PoS     2.927942e+10    314159265359  2.295505   \n",
       "BTC          SHA-256       PoW     1.792718e+07        21000000 -0.149480   \n",
       "ETH           Ethash       PoW     1.076842e+08               0 -0.155019   \n",
       "LTC           Scrypt       PoW     6.303924e+07        84000000 -0.161785   \n",
       "DASH             X11   PoW/PoS     9.031294e+06        22000000 -0.404348   \n",
       "XMR   CryptoNight-V7       PoW     1.720114e+07               0 -0.156957   \n",
       "ETC           Ethash       PoW     1.133597e+08       210000000 -0.153459   \n",
       "ZEC         Equihash       PoW     7.383056e+06        21000000 -0.133119   \n",
       "\n",
       "           PC2       PC3          CoinName  Class  \n",
       "42    1.008309 -0.591509           42 Coin      1  \n",
       "404   1.008196 -0.591865           404Coin      1  \n",
       "1337  1.544049 -0.615920         EliteCoin      1  \n",
       "BTC  -1.269098  0.227975           Bitcoin      0  \n",
       "ETH  -1.976615  0.372871          Ethereum      0  \n",
       "LTC  -1.118225 -0.046977          Litecoin      0  \n",
       "DASH  1.255659 -0.463274              Dash      1  \n",
       "XMR  -2.098238  0.457604            Monero      0  \n",
       "ETC  -1.976740  0.372853  Ethereum Classic      0  \n",
       "ZEC  -2.257646  0.442994             ZCash      0  "
      ]
     },
     "execution_count": 102,
     "metadata": {},
     "output_type": "execute_result"
    }
   ],
   "source": [
    "# Create a new DataFrame including predicted clusters and cryptocurrencies features.\n",
    "# Concatentate the crypto_df and pcs_df DataFrames on the same columns.\n",
    "clustered_df = pd.concat([df_crypto,pcs_df],axis = 1)\n",
    "\n",
    "#  Add a new column, \"CoinName\" to the clustered_df DataFrame that holds the names of the cryptocurrencies. \n",
    "clustered_df['CoinName'] = names['CoinName']\n",
    "\n",
    "#  Add a new column, \"Class\" to the clustered_df DataFrame that holds the predictions.\n",
    "clustered_df[\"Class\"]= model.labels_\n",
    "\n",
    "# Print the shape of the clustered_df\n",
    "print(clustered_df.shape)\n",
    "clustered_df.head(10)"
   ]
  },
  {
   "cell_type": "markdown",
   "metadata": {},
   "source": [
    "### Deliverable 4: Visualizing Cryptocurrencies Results\n",
    "\n",
    "#### 3D-Scatter with Clusters"
   ]
  },
  {
   "cell_type": "code",
   "execution_count": 103,
   "metadata": {},
   "outputs": [
    {
     "data": {
      "application/vnd.plotly.v1+json": {
       "config": {
        "plotlyServerURL": "https://plot.ly"
       },
       "data": [
        {
         "customdata": [
          [
           "Scrypt"
          ],
          [
           "Scrypt"
          ],
          [
           "X13"
          ],
          [
           "X11"
          ],
          [
           "SHA-512"
          ],
          [
           "SHA-256"
          ],
          [
           "SHA-256"
          ],
          [
           "X15"
          ],
          [
           "Scrypt"
          ],
          [
           "Scrypt"
          ],
          [
           "Scrypt"
          ],
          [
           "Scrypt"
          ],
          [
           "Scrypt"
          ],
          [
           "Scrypt"
          ],
          [
           "Groestl"
          ],
          [
           "PoS"
          ],
          [
           "Scrypt"
          ],
          [
           "Scrypt"
          ],
          [
           "X11"
          ],
          [
           "X11"
          ],
          [
           "SHA3"
          ],
          [
           "Scrypt"
          ],
          [
           "SHA-256"
          ],
          [
           "Scrypt"
          ],
          [
           "X13"
          ],
          [
           "X13"
          ],
          [
           "NeoScrypt"
          ],
          [
           "Scrypt"
          ],
          [
           "Scrypt"
          ],
          [
           "Scrypt"
          ],
          [
           "X11"
          ],
          [
           "X11"
          ],
          [
           "Multiple"
          ],
          [
           "PHI1612"
          ],
          [
           "X11"
          ],
          [
           "Scrypt"
          ],
          [
           "Scrypt"
          ],
          [
           "Scrypt"
          ],
          [
           "X11"
          ],
          [
           "Multiple"
          ],
          [
           "X13"
          ],
          [
           "Scrypt"
          ],
          [
           "Shabal256"
          ],
          [
           "Counterparty"
          ],
          [
           "SHA-256"
          ],
          [
           "Groestl"
          ],
          [
           "Scrypt"
          ],
          [
           "X13"
          ],
          [
           "Scrypt"
          ],
          [
           "Scrypt"
          ],
          [
           "X13"
          ],
          [
           "X11"
          ],
          [
           "Scrypt"
          ],
          [
           "X11"
          ],
          [
           "SHA3"
          ],
          [
           "QUAIT"
          ],
          [
           "X11"
          ],
          [
           "Scrypt"
          ],
          [
           "X13"
          ],
          [
           "SHA-256"
          ],
          [
           "X15"
          ],
          [
           "BLAKE256"
          ],
          [
           "SHA-256"
          ],
          [
           "X11"
          ],
          [
           "SHA-256"
          ],
          [
           "NIST5"
          ],
          [
           "Scrypt"
          ],
          [
           "Scrypt"
          ],
          [
           "X11"
          ],
          [
           "Scrypt"
          ],
          [
           "SHA-256"
          ],
          [
           "Scrypt"
          ],
          [
           "PoS"
          ],
          [
           "X11"
          ],
          [
           "SHA-256"
          ],
          [
           "SHA-256"
          ],
          [
           "NIST5"
          ],
          [
           "X11"
          ],
          [
           "POS 3.0"
          ],
          [
           "Scrypt"
          ],
          [
           "Scrypt"
          ],
          [
           "Scrypt"
          ],
          [
           "X13"
          ],
          [
           "X11"
          ],
          [
           "X11"
          ],
          [
           "Scrypt"
          ],
          [
           "SHA-256"
          ],
          [
           "X11"
          ],
          [
           "Scrypt"
          ],
          [
           "Scrypt"
          ],
          [
           "Scrypt"
          ],
          [
           "Scrypt"
          ],
          [
           "SHA-256D"
          ],
          [
           "PoS"
          ],
          [
           "Scrypt"
          ],
          [
           "X11"
          ],
          [
           "PoS"
          ],
          [
           "X13"
          ],
          [
           "X14"
          ],
          [
           "PoS"
          ],
          [
           "SHA-256D"
          ],
          [
           "DPoS"
          ],
          [
           "X11"
          ],
          [
           "X13"
          ],
          [
           "X11"
          ],
          [
           "PoS"
          ],
          [
           "Scrypt"
          ],
          [
           "Scrypt"
          ],
          [
           "PoS"
          ],
          [
           "X11"
          ],
          [
           "SHA-256"
          ],
          [
           "Scrypt"
          ],
          [
           "X11"
          ],
          [
           "Scrypt"
          ],
          [
           "Scrypt"
          ],
          [
           "X11"
          ],
          [
           "Scrypt"
          ],
          [
           "Scrypt"
          ],
          [
           "Scrypt"
          ],
          [
           "Scrypt"
          ],
          [
           "Quark"
          ],
          [
           "QuBit"
          ],
          [
           "Scrypt"
          ],
          [
           "SHA-256"
          ],
          [
           "X11"
          ],
          [
           "Scrypt"
          ],
          [
           "Scrypt"
          ],
          [
           "Scrypt"
          ],
          [
           "Scrypt"
          ],
          [
           "X13"
          ],
          [
           "Scrypt"
          ],
          [
           "Scrypt"
          ],
          [
           "X11"
          ],
          [
           "Blake2S"
          ],
          [
           "X11"
          ],
          [
           "PoS"
          ],
          [
           "X11"
          ],
          [
           "PoS"
          ],
          [
           "X11"
          ],
          [
           "Scrypt"
          ],
          [
           "Scrypt"
          ],
          [
           "Scrypt"
          ],
          [
           "SHA-256"
          ],
          [
           "X11"
          ],
          [
           "Scrypt"
          ],
          [
           "PoS"
          ],
          [
           "Scrypt"
          ],
          [
           "X15"
          ],
          [
           "SHA-256"
          ],
          [
           "POS 3.0"
          ],
          [
           "536"
          ],
          [
           "NIST5"
          ],
          [
           "NIST5"
          ],
          [
           "Skein"
          ],
          [
           "X13"
          ],
          [
           "Scrypt"
          ],
          [
           "X13"
          ],
          [
           "SkunkHash v2 Raptor"
          ],
          [
           "Skein"
          ],
          [
           "X11"
          ],
          [
           "Scrypt"
          ],
          [
           "PoS"
          ],
          [
           "Scrypt"
          ],
          [
           "Scrypt"
          ],
          [
           "SHA-512"
          ],
          [
           "Ouroboros"
          ],
          [
           "X11"
          ],
          [
           "NeoScrypt"
          ],
          [
           "Scrypt"
          ],
          [
           "Lyra2REv2"
          ],
          [
           "Scrypt"
          ],
          [
           "SHA-256"
          ],
          [
           "NIST5"
          ],
          [
           "PHI1612"
          ],
          [
           "Scrypt"
          ],
          [
           "Quark"
          ],
          [
           "POS 2.0"
          ],
          [
           "Scrypt"
          ],
          [
           "SHA-256"
          ],
          [
           "X11"
          ],
          [
           "DPoS"
          ],
          [
           "NIST5"
          ],
          [
           "X13"
          ],
          [
           "Scrypt"
          ],
          [
           "NIST5"
          ],
          [
           "Quark"
          ],
          [
           "Scrypt"
          ],
          [
           "Scrypt"
          ],
          [
           "X11"
          ],
          [
           "Quark"
          ],
          [
           "Scrypt"
          ],
          [
           "Scrypt"
          ],
          [
           "X11"
          ],
          [
           "POS 3.0"
          ],
          [
           "Ethash"
          ],
          [
           "Scrypt"
          ],
          [
           "Scrypt"
          ],
          [
           "X13"
          ],
          [
           "C11"
          ],
          [
           "X11"
          ],
          [
           "XEVAN"
          ],
          [
           "Scrypt"
          ],
          [
           "VBFT"
          ],
          [
           "NIST5"
          ],
          [
           "Scrypt"
          ],
          [
           "Scrypt"
          ],
          [
           "Scrypt"
          ],
          [
           "Green Protocol"
          ],
          [
           "PoS"
          ],
          [
           "Scrypt"
          ],
          [
           "Semux BFT consensus"
          ],
          [
           "Quark"
          ],
          [
           "PoS"
          ],
          [
           "X16R"
          ],
          [
           "Scrypt"
          ],
          [
           "XEVAN"
          ],
          [
           "Scrypt"
          ],
          [
           "Scrypt"
          ],
          [
           "Scrypt"
          ],
          [
           "SHA-256D"
          ],
          [
           "Scrypt"
          ],
          [
           "X15"
          ],
          [
           "Scrypt"
          ],
          [
           "Quark"
          ],
          [
           "SHA-256"
          ],
          [
           "DPoS"
          ],
          [
           "X16R"
          ],
          [
           "Quark"
          ],
          [
           "Quark"
          ],
          [
           "Scrypt"
          ],
          [
           "Lyra2REv2"
          ],
          [
           "Quark"
          ],
          [
           "Scrypt"
          ],
          [
           "X11"
          ],
          [
           "X11"
          ],
          [
           "Scrypt"
          ],
          [
           "PoS"
          ],
          [
           "Keccak"
          ],
          [
           "X11"
          ],
          [
           "Scrypt"
          ],
          [
           "SHA-512"
          ],
          [
           "XEVAN"
          ],
          [
           "XEVAN"
          ],
          [
           "X11"
          ],
          [
           "Quark"
          ],
          [
           "Scrypt"
          ],
          [
           "Quark"
          ],
          [
           "Quark"
          ],
          [
           "Scrypt"
          ],
          [
           "X11"
          ],
          [
           "Scrypt"
          ],
          [
           "XEVAN"
          ],
          [
           "SHA-256D"
          ],
          [
           "X11"
          ],
          [
           "X11"
          ],
          [
           "DPoS"
          ],
          [
           "Scrypt"
          ],
          [
           "X11"
          ],
          [
           "Scrypt"
          ],
          [
           "Scrypt"
          ],
          [
           "SHA-256"
          ],
          [
           "Scrypt"
          ],
          [
           "X11"
          ],
          [
           "Scrypt"
          ],
          [
           "SHA-256"
          ],
          [
           "X11"
          ],
          [
           "Scrypt"
          ],
          [
           "Scrypt"
          ],
          [
           "X11"
          ],
          [
           "Scrypt"
          ],
          [
           "PoS"
          ],
          [
           "X11"
          ],
          [
           "SHA-256"
          ],
          [
           "DPoS"
          ],
          [
           "Scrypt"
          ],
          [
           "Scrypt"
          ],
          [
           "NeoScrypt"
          ],
          [
           "X13"
          ],
          [
           "DPoS"
          ],
          [
           "DPoS"
          ],
          [
           "SHA-256"
          ],
          [
           "PoS"
          ],
          [
           "PoS"
          ],
          [
           "SHA-256"
          ],
          [
           "Scrypt"
          ],
          [
           "Scrypt"
          ]
         ],
         "hovertemplate": "<b>%{hovertext}</b><br><br>Class=%{marker.color}<br>PC1=%{x}<br>PC2=%{y}<br>PC3=%{z}<br>Algorithm=%{customdata[0]}<extra></extra>",
         "hovertext": [
          "42 Coin",
          "404Coin",
          "EliteCoin",
          "Dash",
          "Bitshares",
          "BitcoinDark",
          "PayCoin",
          "KoboCoin",
          "Aurora Coin",
          "BlueCoin",
          "EnergyCoin",
          "BitBar",
          "CryptoBullion",
          "CasinoCoin",
          "Diamond",
          "Exclusive Coin",
          "FlutterCoin",
          "HoboNickels",
          "HyperStake",
          "IOCoin",
          "MaxCoin",
          "MintCoin",
          "MazaCoin",
          "Nautilus Coin",
          "NavCoin",
          "OpalCoin",
          "Orbitcoin",
          "PotCoin",
          "PhoenixCoin",
          "Reddcoin",
          "SuperCoin",
          "SyncCoin",
          "TeslaCoin",
          "TittieCoin",
          "TorCoin",
          "UnitaryStatus Dollar",
          "UltraCoin",
          "VeriCoin",
          "X11 Coin",
          "Crypti",
          "StealthCoin",
          "ZCC Coin",
          "BurstCoin",
          "StorjCoin",
          "Neutron",
          "FairCoin",
          "RubyCoin",
          "Kore",
          "Dnotes",
          "8BIT Coin",
          "Sativa Coin",
          "Ucoin",
          "Vtorrent",
          "IslaCoin",
          "Nexus",
          "Droidz",
          "Squall Coin",
          "Diggits",
          "Paycon",
          "Emercoin",
          "EverGreenCoin",
          "Decred",
          "EDRCoin",
          "Hitcoin",
          "DubaiCoin",
          "PWR Coin",
          "BillaryCoin",
          "GPU Coin",
          "EuropeCoin",
          "ZeitCoin",
          "SwingCoin",
          "SafeExchangeCoin",
          "Nebuchadnezzar",
          "Ratecoin",
          "Revenu",
          "Clockcoin",
          "VIP Tokens",
          "BitSend",
          "Let it Ride",
          "PutinCoin",
          "iBankCoin",
          "Frankywillcoin",
          "MudraCoin",
          "Lutetium Coin",
          "GoldBlocks",
          "CarterCoin",
          "BitTokens",
          "MustangCoin",
          "ZoneCoin",
          "RootCoin",
          "BitCurrency",
          "Swiscoin",
          "BuzzCoin",
          "Opair",
          "PesoBit",
          "Halloween Coin",
          "CoffeeCoin",
          "RoyalCoin",
          "GanjaCoin V2",
          "TeamUP",
          "LanaCoin",
          "ARK",
          "InsaneCoin",
          "EmberCoin",
          "XenixCoin",
          "FreeCoin",
          "PLNCoin",
          "AquariusCoin",
          "Creatio",
          "Eternity",
          "Eurocoin",
          "BitcoinFast",
          "Stakenet",
          "BitConnect Coin",
          "MoneyCoin",
          "Enigma",
          "Russiacoin",
          "PandaCoin",
          "GameUnits",
          "GAKHcoin",
          "Allsafe",
          "LiteCreed",
          "Klingon Empire Darsek",
          "Internet of People",
          "KushCoin",
          "Printerium",
          "Impeach",
          "Zilbercoin",
          "FirstCoin",
          "FindCoin",
          "OpenChat",
          "RenosCoin",
          "VirtacoinPlus",
          "TajCoin",
          "Impact",
          "Atmos",
          "HappyCoin",
          "MacronCoin",
          "Condensate",
          "Independent Money System",
          "ArgusCoin",
          "LomoCoin",
          "ProCurrency",
          "GoldReserve",
          "GrowthCoin",
          "Phreak",
          "Degas Coin",
          "HTML5 Coin",
          "Ultimate Secure Cash",
          "QTUM",
          "Espers",
          "Denarius",
          "Virta Unique Coin",
          "Bitcoin Planet",
          "BritCoin",
          "Linda",
          "DeepOnion",
          "Signatum",
          "Cream",
          "Monoeci",
          "Draftcoin",
          "Stakecoin",
          "CoinonatX",
          "Ethereum Dark",
          "Obsidian",
          "Cardano",
          "Regalcoin",
          "TrezarCoin",
          "TerraNovaCoin",
          "Rupee",
          "WomenCoin",
          "Theresa May Coin",
          "NamoCoin",
          "LUXCoin",
          "Xios",
          "Bitcloud 2.0",
          "KekCoin",
          "BlackholeCoin",
          "Infinity Economics",
          "Magnet",
          "Lamden Tau",
          "Electra",
          "Bitcoin Diamond",
          "Cash & Back Coin",
          "Bulwark",
          "Kalkulus",
          "GermanCoin",
          "LiteCoin Ultra",
          "PhantomX",
          "Digiwage",
          "Trollcoin",
          "Litecoin Plus",
          "Monkey Project",
          "TokenPay",
          "1717 Masonic Commemorative Token",
          "My Big Coin",
          "Unified Society USDEX",
          "Tokyo Coin",
          "Stipend",
          "Pushi",
          "Ellerium",
          "Velox",
          "Ontology",
          "Bitspace",
          "Briacoin",
          "Ignition",
          "MedicCoin",
          "Bitcoin Green",
          "Deviant Coin",
          "Abjcoin",
          "Semux",
          "Carebit",
          "Zealium",
          "Proton",
          "iDealCash",
          "Bitcoin Incognito",
          "HollyWoodCoin",
          "Swisscoin",
          "Xt3ch",
          "TheVig",
          "EmaratCoin",
          "Dekado",
          "Lynx",
          "Poseidon Quark",
          "BitcoinWSpectrum",
          "Muse",
          "Trivechain",
          "Dystem",
          "Giant",
          "Peony Coin",
          "Absolute Coin",
          "Vitae",
          "TPCash",
          "ARENON",
          "EUNO",
          "MMOCoin",
          "Ketan",
          "XDNA",
          "PAXEX",
          "ThunderStake",
          "Kcash",
          "Bettex coin",
          "BitMoney",
          "Junson Ming Chan Coin",
          "HerbCoin",
          "Oduwa",
          "Galilel",
          "Crypto Sports",
          "Credit",
          "Dash Platinum",
          "Nasdacoin",
          "Beetle Coin",
          "Titan Coin",
          "Award",
          "Insane Coin",
          "ALAX",
          "LiteDoge",
          "TruckCoin",
          "OrangeCoin",
          "BitstarCoin",
          "NeosCoin",
          "HyperCoin",
          "PinkCoin",
          "AudioCoin",
          "IncaKoin",
          "Piggy Coin",
          "Genstake",
          "XiaoMiCoin",
          "CapriCoin",
          " ClubCoin",
          "Radium",
          "Creditbit ",
          "OKCash",
          "Lisk",
          "HiCoin",
          "WhiteCoin",
          "FriendshipCoin",
          "Triangles Coin",
          "EOS",
          "Oxycoin",
          "TigerCash",
          "Particl",
          "Nxt",
          "ZEPHYR",
          "Gapcoin",
          "BitcoinPlus"
         ],
         "legendgroup": "1",
         "marker": {
          "color": [
           1,
           1,
           1,
           1,
           1,
           1,
           1,
           1,
           1,
           1,
           1,
           1,
           1,
           1,
           1,
           1,
           1,
           1,
           1,
           1,
           1,
           1,
           1,
           1,
           1,
           1,
           1,
           1,
           1,
           1,
           1,
           1,
           1,
           1,
           1,
           1,
           1,
           1,
           1,
           1,
           1,
           1,
           1,
           1,
           1,
           1,
           1,
           1,
           1,
           1,
           1,
           1,
           1,
           1,
           1,
           1,
           1,
           1,
           1,
           1,
           1,
           1,
           1,
           1,
           1,
           1,
           1,
           1,
           1,
           1,
           1,
           1,
           1,
           1,
           1,
           1,
           1,
           1,
           1,
           1,
           1,
           1,
           1,
           1,
           1,
           1,
           1,
           1,
           1,
           1,
           1,
           1,
           1,
           1,
           1,
           1,
           1,
           1,
           1,
           1,
           1,
           1,
           1,
           1,
           1,
           1,
           1,
           1,
           1,
           1,
           1,
           1,
           1,
           1,
           1,
           1,
           1,
           1,
           1,
           1,
           1,
           1,
           1,
           1,
           1,
           1,
           1,
           1,
           1,
           1,
           1,
           1,
           1,
           1,
           1,
           1,
           1,
           1,
           1,
           1,
           1,
           1,
           1,
           1,
           1,
           1,
           1,
           1,
           1,
           1,
           1,
           1,
           1,
           1,
           1,
           1,
           1,
           1,
           1,
           1,
           1,
           1,
           1,
           1,
           1,
           1,
           1,
           1,
           1,
           1,
           1,
           1,
           1,
           1,
           1,
           1,
           1,
           1,
           1,
           1,
           1,
           1,
           1,
           1,
           1,
           1,
           1,
           1,
           1,
           1,
           1,
           1,
           1,
           1,
           1,
           1,
           1,
           1,
           1,
           1,
           1,
           1,
           1,
           1,
           1,
           1,
           1,
           1,
           1,
           1,
           1,
           1,
           1,
           1,
           1,
           1,
           1,
           1,
           1,
           1,
           1,
           1,
           1,
           1,
           1,
           1,
           1,
           1,
           1,
           1,
           1,
           1,
           1,
           1,
           1,
           1,
           1,
           1,
           1,
           1,
           1,
           1,
           1,
           1,
           1,
           1,
           1,
           1,
           1,
           1,
           1,
           1,
           1,
           1,
           1,
           1,
           1,
           1,
           1,
           1,
           1,
           1,
           1,
           1,
           1,
           1,
           1,
           1,
           1,
           1,
           1,
           1,
           1,
           1,
           1,
           1,
           1,
           1,
           1,
           1,
           1,
           1,
           1,
           1,
           1,
           1
          ],
          "coloraxis": "coloraxis",
          "symbol": "circle"
         },
         "mode": "markers",
         "name": "1",
         "scene": "scene",
         "showlegend": true,
         "type": "scatter3d",
         "x": [
          -0.33326723614813386,
          -0.31659163574414784,
          2.29550501995584,
          -0.40434797399470374,
          -0.27167300566923624,
          -0.3197913432757864,
          -0.2703209562874464,
          -0.2425604470602062,
          -0.33292652611930135,
          -0.3254988100105153,
          -0.3317627226020412,
          -0.33326316813786183,
          -0.3332474366280707,
          0.7537837187060207,
          -0.37162707510116516,
          -0.354741843304184,
          -0.2603390190819107,
          -0.33132431364790077,
          -0.33468671438072606,
          -0.4042425941291023,
          -0.397169592254923,
          -0.0235296957115557,
          -0.28306522316659655,
          -0.2835476941336401,
          -0.2910843749529697,
          -0.2917070327882412,
          -0.35844290758196456,
          -0.32756433743773766,
          -0.33166758225629217,
          0.025132631263611784,
          -0.35458766859691615,
          -0.40461448890639734,
          -0.2415190882006859,
          -0.32598136092783087,
          -0.40452603992235187,
          -0.3084774606634221,
          -0.33194342968642093,
          -0.2641856406951617,
          -0.4044905015452771,
          -0.2419874134665152,
          -0.2914877381107452,
          -0.32436144434353603,
          0.22252742063288417,
          -0.3255915068262172,
          -0.31900237470005843,
          -0.37104823163100786,
          -0.2835279796228099,
          -0.29178244404189424,
          -0.27817691254428184,
          -0.3332492917492591,
          -0.2917345999782383,
          -0.3550327842363446,
          -0.3329834319633481,
          -0.40459600448016475,
          -0.3597153714631652,
          -0.42862713303068845,
          -0.2941085091928591,
          -0.2819281150606853,
          -0.2912557926272,
          -0.3123402670459228,
          -0.2450044601021757,
          -0.10020152619789321,
          -0.319762236245458,
          -0.08176536158197613,
          -0.3198260052300163,
          -0.2503995747756792,
          -0.3328591680017549,
          -0.28179676472974846,
          -0.4017622095415643,
          0.8706906073373628,
          -0.3196258505288687,
          0.02239335152597678,
          -0.35442483884767234,
          -0.40243725849764944,
          -0.3183680342262916,
          -0.31603383519666284,
          -0.3718455318319985,
          -0.40332993917713533,
          -0.3566052935628305,
          -0.30913365828445766,
          -0.3328972873716883,
          -0.3313350261830531,
          -0.24100498396269512,
          -0.3425129744677349,
          -0.4040694066960869,
          -0.3321008262775721,
          -0.31980691742357753,
          -0.4045851808279006,
          -0.33308664383131287,
          -0.3332435206877609,
          -0.2817868840623284,
          -0.20905826240738035,
          0.020263153805549324,
          -0.3533810317205609,
          -0.33285739930235503,
          -0.39073387346023336,
          -0.35270927107511857,
          -0.24243710937438742,
          -0.4342814737107132,
          -0.35245738296737006,
          -0.2945206141659092,
          3.7014655924010627,
          -0.4041773630541811,
          0.8412506262729552,
          -0.4045400559971885,
          -0.35384517561468903,
          -0.3327848065489695,
          -0.3329392353651263,
          -0.35442483884767234,
          -0.40411451589180997,
          -0.31966949381723303,
          -0.33278555663744824,
          -0.37879202642948195,
          -0.3329330659569742,
          -0.32851637753220153,
          -0.40456906793619224,
          -0.3321429128663801,
          0.3602679820916368,
          -0.3331325228855775,
          -0.33320316892727586,
          -0.3532183159223271,
          -0.3667025069906126,
          -0.32942598342230717,
          -0.31978331411024125,
          -0.4044789437362574,
          -0.3329807789387158,
          -0.3331078188277238,
          -0.28343428625979256,
          -0.2891887969210618,
          -0.24220476629410873,
          -0.3139451291935602,
          -0.2831752811461192,
          -0.40374393554137084,
          -0.45107658908903886,
          -0.40248137167984854,
          -0.3526699046763901,
          -0.4036417471232769,
          -0.3470650604421735,
          -0.3995788165269123,
          -0.33305106625244035,
          -0.33305023739158174,
          -0.32616459833168,
          0.26291235520974293,
          -0.40412071922147574,
          -0.2660590713390718,
          -0.3544591330870447,
          -0.332260978427591,
          0.890411002033334,
          -0.26900995953954665,
          -0.3553825992692319,
          0.5745287258138644,
          -0.3733824860654528,
          -0.3718833623010804,
          -0.4175023886540749,
          -0.2914194175857806,
          0.13213859918081436,
          -0.2914902683855799,
          -0.35653208000071346,
          -0.4170069171101423,
          -0.4043933752492209,
          -0.28350863480989247,
          -0.354325232932096,
          -0.3326859325610214,
          -0.3331860841070461,
          -0.3297876523492751,
          0.6454198869779765,
          -0.40433411710365935,
          -0.35343756433514933,
          -0.3331416388073418,
          -0.3130182356196675,
          0.4365911596924055,
          -0.3181281967514376,
          -0.3581354063192571,
          -0.41101683241337394,
          -0.33309192873032023,
          -0.40106548908001405,
          -0.36116289778940575,
          -0.33296224994264034,
          -0.09665734303713248,
          -0.4031256106211809,
          3.7063260309829977,
          0.18658746379863375,
          -0.28815824747827357,
          -0.3304202084057474,
          -0.3237388951343393,
          -0.35310412509249545,
          0.08160500382968497,
          -0.3320998259912415,
          -0.40370740304492453,
          -0.35226801212729625,
          -0.3196547666787199,
          -0.3332082320547483,
          -0.35500469100707954,
          -0.356887434344617,
          -0.2770124530359555,
          -0.2698184767642249,
          -0.3287497107024157,
          -0.23399265799436156,
          -0.38717738035836075,
          -0.4044105942986885,
          -0.2485171380989063,
          -0.2826677483429979,
          -0.3085934403940355,
          -0.3729810580579925,
          -0.33323560896778165,
          -0.3332173018160114,
          -0.27704419327757374,
          -0.33138811180522093,
          -0.35391933272443643,
          -0.3329335462933062,
          3.8806541168084507,
          -0.39973255777135097,
          -0.35410815750973323,
          -0.3219716577819279,
          -0.27975253487322466,
          -0.13816373243453736,
          -0.2832026028951866,
          -0.13618173774540657,
          -0.2834547975101597,
          -0.35990119633794804,
          -0.3324070642925701,
          -0.1949406630931057,
          2.276648594015138,
          -0.3488073999884296,
          -0.26913802635241135,
          1.008862522542945,
          -0.3707145511242534,
          -0.35321773629296416,
          -0.4027513374128591,
          -0.16405823049980658,
          -0.36235331070900706,
          -0.3519361500258686,
          -0.3261046464925022,
          -0.3545817093765241,
          -0.4038834891789114,
          -0.2806977531234481,
          -0.35320698096571673,
          -0.35592050096221817,
          -0.3544428748532076,
          -0.19257121644190164,
          -0.3205577230438328,
          -0.1991033381423019,
          0.7307559628592796,
          -0.1448062667361126,
          -0.4020453364094806,
          -0.33293754577625784,
          -0.40250187097439216,
          -0.35333481629793634,
          0.5744151387769282,
          -0.35505904835792956,
          -0.3324199355254135,
          -0.24296765803339226,
          -0.31457603897739483,
          -0.4014454482001638,
          -0.4041109396664786,
          3.718577800994699,
          0.10239347640734388,
          -0.4016489007951447,
          -0.33180468807513924,
          -0.3326306469315814,
          -0.2703535878541859,
          -0.3331494899350728,
          -0.3957315704876644,
          -0.24676368978740282,
          -0.09929130569616344,
          -0.39147560480019655,
          -0.3324272541563633,
          -0.3254856224277963,
          -0.40067663693577327,
          -0.33086495508901476,
          -0.35470069531757703,
          -0.4155465368326927,
          -0.31830513036911645,
          3.7018577765360634,
          -0.09057355453692528,
          -0.3280573645369366,
          -0.35806835323832487,
          -0.29188975548905477,
          3.711732443907693,
          3.712977469789688,
          -0.25123420504370547,
          -0.3546365168466557,
          -0.379093358915475,
          2.458831835034878,
          -0.33131056477235826,
          -0.28385166043925136
         ],
         "y": [
          1.0083086496391498,
          1.0081958644906834,
          1.5440488108621917,
          1.2556593650852679,
          1.7514789425229669,
          0.8573936832034676,
          0.6270998355866778,
          1.8155326814259896,
          1.008302135165187,
          1.0084329897247697,
          1.0083327306470118,
          1.0083083579276966,
          1.0083082528701808,
          0.36540217796324226,
          0.8889876823020436,
          1.4863764815626268,
          0.48126824795102563,
          1.0082541029557972,
          1.0256976103388986,
          1.2556610517767697,
          1.6452809594836484,
          0.7821738118944003,
          0.8562706176198862,
          0.7780004619991311,
          1.7268658474110203,
          1.7268558812597672,
          0.5176534853338484,
          1.0081001725018104,
          1.0082643102034905,
          1.014045134597718,
          1.0253790791833202,
          1.2556708001253571,
          0.10760973853401047,
          1.5509143213473962,
          1.2556650794722475,
          1.0075634999345509,
          1.0082584676251571,
          0.36253440286474437,
          1.255668859972759,
          0.10767361325878778,
          1.7268593912516137,
          1.007737487636569,
          0.6842347109950435,
          1.4150576270565889,
          0.8573734807931825,
          0.8890000732030544,
          0.7780123253182802,
          1.726846109761826,
          0.7777411202710927,
          1.008308936884001,
          1.7268483029585764,
          1.0253576806098312,
          1.0082989180575015,
          1.2556710966975229,
          1.3515372542915267,
          2.0555170415393933,
          0.8515052525440414,
          0.7779665618114735,
          1.726827418401924,
          0.8568149387949169,
          1.8157245912267752,
          0.9986640424602564,
          0.8573941490854503,
          1.2418893576836967,
          0.8574013360358181,
          1.473680392318819,
          1.0082852054601417,
          0.7778822681238442,
          1.255442390598601,
          0.7258295943654745,
          0.8573834853330062,
          0.3807112623340444,
          1.4863672813486843,
          1.255652121211996,
          0.8572732056868726,
          0.8570948308129197,
          1.4716723162058505,
          1.2555921559028564,
          1.5042573011781246,
          1.0072675143266028,
          1.0082829300131708,
          1.0082682056240935,
          1.4964322258798952,
          1.0251034393920273,
          1.2556438400004744,
          1.00826308542876,
          0.8573941476329727,
          1.2556691288193016,
          1.008296552360024,
          1.0083090292545915,
          0.7780401929860731,
          0.32036068238988125,
          1.9239255204299959,
          1.4863454481867133,
          1.0083152094452372,
          1.2548224116733717,
          1.4863804663647735,
          1.4965502604911936,
          1.9379230878706921,
          1.4861982205558153,
          1.9278041968656638,
          2.253565089190037,
          1.2556563862013284,
          1.7443831507163154,
          1.2556692420544453,
          1.4863551481390718,
          1.0082888651011161,
          1.0082839239160761,
          1.4863672813486843,
          1.25563598092504,
          0.8573970609174876,
          1.0082928070296855,
          0.9255809945351188,
          1.008294014554401,
          1.007920310879928,
          1.2556679593062738,
          1.0082238716439091,
          0.7651107001329266,
          1.0083015276804872,
          1.0083073086173695,
          1.4102724452755806,
          0.6214755119548487,
          1.0080132788002756,
          0.857394525423434,
          1.2556662943399168,
          1.008298960521345,
          1.0082955473108877,
          0.7779745710967764,
          0.25499483868038697,
          1.4965453972065572,
          1.0079042093357171,
          0.7779934001837545,
          1.2556133641061458,
          2.0087584885236844,
          1.255626435414528,
          1.4863309299279386,
          1.2556149997159032,
          1.486213872167389,
          1.2553945476400707,
          1.0082969704163136,
          1.0082917109051919,
          1.0077086266725523,
          0.5821156028982261,
          1.2556501557668829,
          0.7768645164524802,
          1.4863595953755304,
          1.0082498164633247,
          1.7696830288950298,
          0.6269869390944257,
          1.5042294099204943,
          1.9235379270139512,
          1.471704812513018,
          1.4716502995011882,
          1.9302128156758787,
          1.7268390735809993,
          0.9800725251047557,
          1.726845862991966,
          1.4739937286553173,
          1.9302207461058336,
          1.2556675545434777,
          0.7780002122491712,
          1.486339185455363,
          1.00828351614256,
          1.0083069510067892,
          1.7530532956641722,
          1.5758181168225533,
          1.255656018343406,
          0.5174508080220607,
          1.0082994309749564,
          0.6315820074916101,
          1.0027882030253645,
          0.8573646341209277,
          1.4710995437676115,
          1.7822444034193408,
          1.0082964677708648,
          1.6404670182643952,
          1.3971428853878578,
          1.0083029767348057,
          0.6234650269580878,
          1.2555918578167968,
          2.253375244550108,
          1.4592635327573922,
          1.7267628041121441,
          1.008204340313914,
          1.241394312843771,
          1.41027070446101,
          0.9792636933096636,
          1.0082202790454446,
          1.255649634166928,
          1.4102127164811398,
          1.0078841925435431,
          1.0083067392519658,
          1.0253574165585313,
          1.5042588517884181,
          -0.08044343386773735,
          0.26440012235998195,
          1.0082153764605193,
          1.4961162399926577,
          0.8262542761118316,
          1.2556562216760647,
          1.436848474370348,
          0.7779375944144026,
          1.337191462642791,
          1.4716826894362698,
          1.0083070147684965,
          1.008305880376408,
          0.7777592503754611,
          1.393567198708441,
          1.4863268403441237,
          1.0082925794530981,
          2.1460381546186587,
          1.6404883529273189,
          1.4863295277004824,
          0.5781271985915091,
          1.00550962632259,
          1.0327083185579822,
          0.7779989768700577,
          1.004183358387871,
          0.7779820935695106,
          1.9320434376222044,
          1.0082624660765938,
          1.5853879968781355,
          0.039258200248935914,
          1.4098898419494759,
          0.627056132892522,
          1.8704685126174783,
          0.8084126733262389,
          1.4102681723136539,
          1.6405790998838687,
          0.7678771702387123,
          0.8618644604620596,
          1.4102323023385175,
          1.0077095862510936,
          1.0253399207046365,
          1.2556468157633918,
          0.7778720617172429,
          1.4862511699198941,
          1.0314719976997742,
          1.0253100260701857,
          0.997713887175174,
          2.358035985522951,
          1.2065540778848103,
          1.0819020772606511,
          1.0287368032214574,
          1.6405555361592907,
          1.0082989387971393,
          1.6405731829846877,
          1.4102717439328571,
          0.969451602484295,
          1.0253574743429126,
          1.008262260061916,
          1.4366232674800803,
          1.9292717419254892,
          1.255421767188409,
          1.255657449362331,
          2.2532144909343303,
          0.9903020283577227,
          1.2557182675181877,
          1.008189317642661,
          1.0082801158554429,
          0.627093246785811,
          1.0083105342941985,
          1.255456125980152,
          1.0021992912408617,
          0.8608030651279198,
          1.2551673929336649,
          1.0083113886739827,
          1.0081477181780756,
          1.255585378436765,
          1.0082329071052152,
          1.4863707168109688,
          0.9501857383958107,
          0.8573582336199067,
          2.2535464449287663,
          0.773957348069435,
          1.0081779259846495,
          0.517619228658295,
          1.7268528709877282,
          2.253818631920781,
          2.253838559584984,
          0.6267005495233888,
          1.4863720051569136,
          1.603450385287085,
          1.0094392369652452,
          1.0081615411648044,
          0.7780064308337828
         ],
         "z": [
          -0.5915094432097284,
          -0.591864840941485,
          -0.615920224548351,
          -0.4632736375086266,
          -0.03890289933933481,
          -0.316578347675146,
          -0.030178836909579423,
          -0.6068648758768291,
          -0.5915161388457667,
          -0.5916987756151486,
          -0.5915461112797852,
          -0.5915094944076837,
          -0.5915098298649097,
          -0.5118675995115374,
          -0.4026328713806093,
          -0.06049596137413395,
          -0.34041701675483843,
          -0.5915452877742398,
          -0.17736741831573768,
          -0.4632762058310478,
          -0.5250993648710773,
          -0.311452263135032,
          -0.3172435381830122,
          -0.3051135420614331,
          -0.5830087518217972,
          -0.5829935763794214,
          -0.3178509048821821,
          -0.5916081550025835,
          -0.5915390314958064,
          -0.6002443795260421,
          -0.17688239144090168,
          -0.46326925177854505,
          0.10074747828240792,
          -0.28018712095923837,
          -0.46327044852117566,
          -0.5919601749535103,
          -0.5915321167237817,
          -0.3732680724689234,
          -0.46327174622996126,
          0.10074930196954325,
          -0.5829989210383224,
          -0.5916305919828828,
          -0.5581505223698182,
          -0.139587639763512,
          -0.31659316488619577,
          -0.4026473990350476,
          -0.3051155742638234,
          -0.5829905876105838,
          -0.3051980389132464,
          -0.5915098805553749,
          -0.5829919454751816,
          -0.17686962499312484,
          -0.5915144420299123,
          -0.46326970237764503,
          -0.26043347833717306,
          -0.5989390153865232,
          -0.27435266645081824,
          -0.30514497587323725,
          -0.5829997788454344,
          -0.31666615193466185,
          -0.6068363544630191,
          -0.3165987175063297,
          -0.31657905707288647,
          -0.4685915046992184,
          -0.316578605783455,
          -0.5541142927862116,
          -0.5915153607180841,
          -0.3051365677711443,
          -0.4633019407793097,
          -0.323751785193161,
          -0.31658065480719016,
          -0.49767231428228864,
          -0.06050176934868704,
          -0.463315122656905,
          -0.3165937863807564,
          -0.31662168632841514,
          -0.5511457756048731,
          -0.463287228379136,
          -0.13056329555106566,
          -0.59190582065606,
          -0.591514207896302,
          -0.5915469447589943,
          -0.2966039919320272,
          -0.17711366774724874,
          -0.46327774146274703,
          -0.591529239683138,
          -0.3165780640049304,
          -0.4632696784614782,
          -0.5915118306424654,
          -0.5915100212079231,
          -0.30515800831644774,
          -0.5509392161225559,
          -0.6165680869542669,
          -0.06052203026695386,
          -0.5915194317742123,
          -0.46346369547248345,
          -0.06054166317569449,
          -0.2965880290528175,
          -0.5630041173723135,
          -0.060522771365357844,
          -0.6100943830290914,
          -0.18823248353772637,
          -0.46327702841704826,
          -0.6105245490314728,
          -0.46327069640863694,
          -0.060513019818194805,
          -0.5915175048847714,
          -0.5915134093130104,
          -0.06050176934868704,
          -0.4632756830240225,
          -0.31658150920227274,
          -0.5915180179092792,
          -0.11071646400267271,
          -0.591514902323851,
          -0.5915628307442354,
          -0.4632698793584271,
          -0.5915230351550895,
          -0.3176878998030167,
          -0.5915114797047081,
          -0.5915106866667368,
          -0.19654976290435924,
          -0.4029898064154953,
          -0.5915551106056561,
          -0.3165786392658541,
          -0.4632716583050569,
          -0.5915145066895376,
          -0.5915112250546287,
          -0.3051125830667912,
          -0.4339533060501838,
          -0.2965925385138136,
          -0.5918844588442207,
          -0.30512086862925175,
          -0.46328087868136447,
          -0.6543626226730125,
          -0.4633106909041855,
          -0.06053588154163719,
          -0.4632833692216941,
          -0.06064469881981551,
          -0.4633440297112923,
          -0.5915126773975231,
          -0.5915119890746936,
          -0.591586645439706,
          -0.03598325327604615,
          -0.4632774499073184,
          -0.30534952010496463,
          -0.060499974492523236,
          -0.591523897895023,
          -0.6258799489281159,
          -0.030192798584591465,
          -0.13058671752027523,
          -0.6425087456738572,
          -0.5511159891774755,
          -0.5511419764924717,
          -0.6186042900939857,
          -0.5829977090423147,
          -0.5980571556235919,
          -0.5829970469669825,
          0.03921129278190685,
          -0.6186163657468368,
          -0.46327372908450937,
          -0.3051143764495543,
          -0.060500207363624506,
          -0.5915189832303459,
          -0.5915110182596998,
          -0.03782306976642386,
          -0.11527110658813645,
          -0.46327349571157134,
          -0.3179348954480683,
          -0.5915109953947358,
          -0.045453731791854836,
          -0.6078748748301019,
          -0.3166114014733583,
          -0.5513734664017222,
          -0.5659355730695498,
          -0.5915117018386894,
          -0.4829720036302632,
          -0.09967340184051222,
          -0.5915154581018531,
          -0.03354944043445991,
          -0.46329172876533187,
          -0.18831497851363274,
          -0.5618874522142707,
          -0.5830599277744157,
          -0.5915586913444362,
          -0.2647180896227681,
          -0.19655206645018564,
          -0.5968255487588596,
          -0.5915235098488525,
          -0.4632865642306253,
          -0.1965628538742605,
          -0.5917548936800598,
          -0.5915104976497181,
          -0.17687021377890894,
          -0.13055723438454409,
          0.11474624459030101,
          -0.5383431258897985,
          -0.5915972949049702,
          -0.2967173544959442,
          -0.4469016649797519,
          -0.46327182361333835,
          -0.5965912256384509,
          -0.3051246478151316,
          -0.18569992426587395,
          -0.5511219366551835,
          -0.5915099263220228,
          -0.5915101806975688,
          -0.3052256455938123,
          -0.1969738307502433,
          -0.060507568122971825,
          -0.591514698809964,
          -0.25332993891554495,
          -0.48300448988695166,
          -0.06050373330597759,
          -0.053670728136179076,
          -0.5923224923836937,
          -0.4076746619124655,
          -0.3051210108663818,
          -0.595334602826538,
          -0.30511313810485946,
          -0.6092111865197866,
          -0.5915223514589691,
          -0.32044428597884966,
          -0.6204071411070424,
          -0.19659636717147258,
          -0.030199250619156577,
          -0.15035486919947083,
          -0.3400852796416182,
          -0.1965492016097792,
          -0.48294960277714916,
          -0.3064084438942356,
          -0.3318547182170441,
          -0.19657286010215028,
          -0.5915881065883967,
          -0.1768772619837362,
          -0.46328227265212396,
          -0.30515961773617123,
          -0.060513229355619,
          -0.23529158456234403,
          -0.17687633000447078,
          -0.5932122284023125,
          0.14128475204876595,
          -0.3101903836831966,
          -0.6296662408791783,
          -0.18199519239697148,
          -0.482962124669884,
          -0.5915154644663969,
          -0.48295435116268354,
          -0.19654707987520703,
          -0.6064579294746202,
          -0.17686901365393945,
          -0.5915220377607527,
          -0.596684280230661,
          -0.6098459256996078,
          -0.4633062083717701,
          -0.4632786472905859,
          -0.1885656273788227,
          -0.5987707595940629,
          -0.46334152930989336,
          -0.5915259077845304,
          -0.5915197548376236,
          -0.03017722643147388,
          -0.591512312929296,
          -0.4634377949500275,
          -0.5926107238757595,
          -0.3219362718646394,
          -0.4634935697432977,
          -0.5915284767360794,
          -0.591660735601421,
          -0.4633452774252119,
          -0.59155264713773,
          -0.06049610110256019,
          -0.2835099433304445,
          -0.3166066097221741,
          -0.18823869306689817,
          -0.30885838453000325,
          -0.5916076473524504,
          -0.3178546247534477,
          -0.5829891115458132,
          -0.18849469560938717,
          -0.1885250394313997,
          -0.030549315235424555,
          -0.060497700350168555,
          0.25541220106356627,
          -0.0687668880820969,
          -0.5915331554002382,
          -0.3051075895980943
         ]
        },
        {
         "customdata": [
          [
           "SHA-256"
          ],
          [
           "Ethash"
          ],
          [
           "Scrypt"
          ],
          [
           "CryptoNight-V7"
          ],
          [
           "Ethash"
          ],
          [
           "Equihash"
          ],
          [
           "Multiple"
          ],
          [
           "Scrypt"
          ],
          [
           "X11"
          ],
          [
           "Scrypt"
          ],
          [
           "Multiple"
          ],
          [
           "Scrypt"
          ],
          [
           "SHA-256"
          ],
          [
           "Scrypt"
          ],
          [
           "Scrypt"
          ],
          [
           "Quark"
          ],
          [
           "Groestl"
          ],
          [
           "Scrypt"
          ],
          [
           "Scrypt"
          ],
          [
           "Scrypt"
          ],
          [
           "X11"
          ],
          [
           "Multiple"
          ],
          [
           "SHA-256"
          ],
          [
           "Scrypt"
          ],
          [
           "Scrypt"
          ],
          [
           "Scrypt"
          ],
          [
           "Scrypt"
          ],
          [
           "Scrypt"
          ],
          [
           "NeoScrypt"
          ],
          [
           "Scrypt"
          ],
          [
           "Scrypt"
          ],
          [
           "Scrypt"
          ],
          [
           "Scrypt"
          ],
          [
           "SHA-256"
          ],
          [
           "Scrypt"
          ],
          [
           "Scrypt"
          ],
          [
           "Scrypt"
          ],
          [
           "Scrypt"
          ],
          [
           "HybridScryptHash256"
          ],
          [
           "Scrypt"
          ],
          [
           "Scrypt"
          ],
          [
           "SHA-256"
          ],
          [
           "Scrypt"
          ],
          [
           "Scrypt"
          ],
          [
           "Scrypt"
          ],
          [
           "Scrypt"
          ],
          [
           "SHA-256"
          ],
          [
           "SHA-256"
          ],
          [
           "SHA-256"
          ],
          [
           "SHA-256"
          ],
          [
           "SHA-256"
          ],
          [
           "X11"
          ],
          [
           "Scrypt"
          ],
          [
           "Lyra2REv2"
          ],
          [
           "Scrypt"
          ],
          [
           "SHA-256"
          ],
          [
           "CryptoNight"
          ],
          [
           "CryptoNight"
          ],
          [
           "Scrypt"
          ],
          [
           "Scrypt"
          ],
          [
           "Scrypt"
          ],
          [
           "Scrypt"
          ],
          [
           "Scrypt"
          ],
          [
           "Scrypt"
          ],
          [
           "Stanford Folding"
          ],
          [
           "Multiple"
          ],
          [
           "QuBit"
          ],
          [
           "Scrypt"
          ],
          [
           "Scrypt"
          ],
          [
           "M7 POW"
          ],
          [
           "Scrypt"
          ],
          [
           "SHA-256"
          ],
          [
           "Scrypt"
          ],
          [
           "X11"
          ],
          [
           "Lyra2RE"
          ],
          [
           "SHA-256"
          ],
          [
           "X11"
          ],
          [
           "Scrypt"
          ],
          [
           "Scrypt"
          ],
          [
           "Ethash"
          ],
          [
           "Blake2b"
          ],
          [
           "X11"
          ],
          [
           "SHA-256"
          ],
          [
           "Scrypt"
          ],
          [
           "1GB AES Pattern Search"
          ],
          [
           "Scrypt"
          ],
          [
           "SHA-256"
          ],
          [
           "X11"
          ],
          [
           "Dagger"
          ],
          [
           "Scrypt"
          ],
          [
           "X11GOST"
          ],
          [
           "Scrypt"
          ],
          [
           "X11"
          ],
          [
           "Scrypt"
          ],
          [
           "X11"
          ],
          [
           "Equihash"
          ],
          [
           "CryptoNight"
          ],
          [
           "SHA-256"
          ],
          [
           "Multiple"
          ],
          [
           "Scrypt"
          ],
          [
           "SHA-256"
          ],
          [
           "Scrypt"
          ],
          [
           "Lyra2Z"
          ],
          [
           "Ethash"
          ],
          [
           "Equihash"
          ],
          [
           "Scrypt"
          ],
          [
           "X11"
          ],
          [
           "X11"
          ],
          [
           "CryptoNight"
          ],
          [
           "Scrypt"
          ],
          [
           "CryptoNight"
          ],
          [
           "Lyra2RE"
          ],
          [
           "X11"
          ],
          [
           "CryptoNight-V7"
          ],
          [
           "Scrypt"
          ],
          [
           "X11"
          ],
          [
           "Equihash"
          ],
          [
           "Scrypt"
          ],
          [
           "Lyra2RE"
          ],
          [
           "Dagger-Hashimoto"
          ],
          [
           "Scrypt"
          ],
          [
           "NIST5"
          ],
          [
           "Scrypt"
          ],
          [
           "SHA-256"
          ],
          [
           "Scrypt"
          ],
          [
           "CryptoNight-V7"
          ],
          [
           "Argon2d"
          ],
          [
           "Blake2b"
          ],
          [
           "Cloverhash"
          ],
          [
           "CryptoNight"
          ],
          [
           "X11"
          ],
          [
           "Scrypt"
          ],
          [
           "Scrypt"
          ],
          [
           "X11"
          ],
          [
           "X11"
          ],
          [
           "CryptoNight"
          ],
          [
           "Time Travel"
          ],
          [
           "Scrypt"
          ],
          [
           "Keccak"
          ],
          [
           "X11"
          ],
          [
           "SHA-256"
          ],
          [
           "Scrypt"
          ],
          [
           "Scrypt"
          ],
          [
           "Scrypt"
          ],
          [
           "Scrypt"
          ],
          [
           "Scrypt"
          ],
          [
           "Scrypt"
          ],
          [
           "CryptoNight"
          ],
          [
           "Equihash"
          ],
          [
           "X11"
          ],
          [
           "NeoScrypt"
          ],
          [
           "Equihash"
          ],
          [
           "Dagger"
          ],
          [
           "Scrypt"
          ],
          [
           "X11"
          ],
          [
           "NeoScrypt"
          ],
          [
           "Ethash"
          ],
          [
           "NeoScrypt"
          ],
          [
           "Multiple"
          ],
          [
           "CryptoNight"
          ],
          [
           "CryptoNight"
          ],
          [
           "Ethash"
          ],
          [
           "X11"
          ],
          [
           "CryptoNight-V7"
          ],
          [
           "Scrypt"
          ],
          [
           "BLAKE256"
          ],
          [
           "X11"
          ],
          [
           "NeoScrypt"
          ],
          [
           "NeoScrypt"
          ],
          [
           "Scrypt"
          ],
          [
           "X11"
          ],
          [
           "SHA-256"
          ],
          [
           "C11"
          ],
          [
           "CryptoNight"
          ],
          [
           "SkunkHash"
          ],
          [
           "CryptoNight"
          ],
          [
           "Scrypt"
          ],
          [
           "Dagger"
          ],
          [
           "Lyra2REv2"
          ],
          [
           "Scrypt"
          ],
          [
           "Scrypt"
          ],
          [
           "X11"
          ],
          [
           "Ethash"
          ],
          [
           "CryptoNight"
          ],
          [
           "Scrypt"
          ],
          [
           "IMesh"
          ],
          [
           "Equihash"
          ],
          [
           "Lyra2Z"
          ],
          [
           "X11"
          ],
          [
           "CryptoNight"
          ],
          [
           "NIST5"
          ],
          [
           "Lyra2RE"
          ],
          [
           "Tribus"
          ],
          [
           "Lyra2Z"
          ],
          [
           "CryptoNight"
          ],
          [
           "CryptoNight Heavy"
          ],
          [
           "CryptoNight"
          ],
          [
           "Jump Consistent Hash"
          ],
          [
           "CryptoNight"
          ],
          [
           "X16R"
          ],
          [
           "HMQ1725"
          ],
          [
           "X11"
          ],
          [
           "Scrypt"
          ],
          [
           "CryptoNight-V7"
          ],
          [
           "Cryptonight-GPU"
          ],
          [
           "XEVAN"
          ],
          [
           "CryptoNight Heavy"
          ],
          [
           "SHA-256"
          ],
          [
           "X11"
          ],
          [
           "X16R"
          ],
          [
           "Equihash"
          ],
          [
           "Lyra2Z"
          ],
          [
           "SHA-256"
          ],
          [
           "CryptoNight"
          ],
          [
           "Blake"
          ],
          [
           "Blake"
          ],
          [
           "Equihash"
          ],
          [
           "Exosis"
          ],
          [
           "Scrypt"
          ],
          [
           "Equihash"
          ],
          [
           "Equihash"
          ],
          [
           "QuBit"
          ],
          [
           "SHA-256"
          ],
          [
           "X13"
          ],
          [
           "SHA-256"
          ],
          [
           "Scrypt"
          ],
          [
           "NeoScrypt"
          ],
          [
           "Blake"
          ],
          [
           "Scrypt"
          ],
          [
           "SHA-256"
          ],
          [
           "Scrypt"
          ],
          [
           "Groestl"
          ],
          [
           "Scrypt"
          ],
          [
           "Scrypt"
          ],
          [
           "Multiple"
          ],
          [
           "Equihash+Scrypt"
          ],
          [
           "Ethash"
          ],
          [
           "CryptoNight"
          ],
          [
           "Equihash"
          ]
         ],
         "hovertemplate": "<b>%{hovertext}</b><br><br>Class=%{marker.color}<br>PC1=%{x}<br>PC2=%{y}<br>PC3=%{z}<br>Algorithm=%{customdata[0]}<extra></extra>",
         "hovertext": [
          "Bitcoin",
          "Ethereum",
          "Litecoin",
          "Monero",
          "Ethereum Classic",
          "ZCash",
          "DigiByte",
          "ProsperCoin",
          "Spreadcoin",
          "Argentum",
          "MyriadCoin",
          "MoonCoin",
          "ZetaCoin",
          "SexCoin",
          "Quatloo",
          "QuarkCoin",
          "Riecoin",
          "Digitalcoin ",
          "Catcoin",
          "CannaCoin",
          "CryptCoin",
          "Verge",
          "DevCoin",
          "EarthCoin",
          "E-Gulden",
          "Einsteinium",
          "Emerald",
          "Franko",
          "FeatherCoin",
          "GrandCoin",
          "GlobalCoin",
          "GoldCoin",
          "Infinite Coin",
          "IXcoin",
          "KrugerCoin",
          "LuckyCoin",
          "Litebar ",
          "MegaCoin",
          "MediterraneanCoin",
          "MinCoin",
          "NobleCoin",
          "Namecoin",
          "NyanCoin",
          "RonPaulCoin",
          "StableCoin",
          "SmartCoin",
          "SysCoin",
          "TigerCoin",
          "TerraCoin",
          "UnbreakableCoin",
          "Unobtanium",
          "UroCoin",
          "ViaCoin",
          "Vertcoin",
          "WorldCoin",
          "JouleCoin",
          "ByteCoin",
          "DigitalNote ",
          "MonaCoin",
          "Gulden",
          "PesetaCoin",
          "Wild Beast Coin",
          "Flo",
          "ArtByte",
          "Folding Coin",
          "Unitus",
          "CypherPunkCoin",
          "OmniCron",
          "GreenCoin",
          "Cryptonite",
          "MasterCoin",
          "SoonCoin",
          "1Credit",
          "MarsCoin ",
          "Crypto",
          "Anarchists Prime",
          "BowsCoin",
          "Song Coin",
          "BitZeny",
          "Expanse",
          "Siacoin",
          "MindCoin",
          "I0coin",
          "Revolution VR",
          "HOdlcoin",
          "Gamecredits",
          "CarpeDiemCoin",
          "Adzcoin",
          "SoilCoin",
          "YoCoin",
          "SibCoin",
          "Francs",
          "BolivarCoin",
          "Omni",
          "PizzaCoin",
          "Komodo",
          "Karbo",
          "ZayedCoin",
          "Circuits of Value",
          "DopeCoin",
          "DollarCoin",
          "Shilling",
          "ZCoin",
          "Elementrem",
          "ZClassic",
          "KiloCoin",
          "ArtexCoin",
          "Kurrent",
          "Cannabis Industry Coin",
          "OsmiumCoin",
          "Bikercoins",
          "HexxCoin",
          "PacCoin",
          "Citadel",
          "BeaverCoin",
          "VaultCoin",
          "Zero",
          "Canada eCoin",
          "Zoin",
          "DubaiCoin",
          "EB3coin",
          "Coinonat",
          "BenjiRolls",
          "ILCoin",
          "EquiTrader",
          "Quantum Resistant Ledger",
          "Dynamic",
          "Nano",
          "ChanCoin",
          "Dinastycoin",
          "DigitalPrice",
          "Unify",
          "SocialCoin",
          "ArcticCoin",
          "DAS",
          "LeviarCoin",
          "Bitcore",
          "gCn Coin",
          "SmartCash",
          "Onix",
          "Bitcoin Cash",
          "Sojourn Coin",
          "NewYorkCoin",
          "FrazCoin",
          "Kronecoin",
          "AdCoin",
          "Linx",
          "Sumokoin",
          "BitcoinZ",
          "Elements",
          "VIVO Coin",
          "Bitcoin Gold",
          "Pirl",
          "eBoost",
          "Pura",
          "Innova",
          "Ellaism",
          "GoByte",
          "SHIELD",
          "UltraNote",
          "BitCoal",
          "DaxxCoin",
          "AC3",
          "Lethean",
          "PopularCoin",
          "Photon",
          "Sucre",
          "SparksPay",
          "GunCoin",
          "IrishCoin",
          "Pioneer Coin",
          "UnitedBitcoin",
          "Interzone",
          "TurtleCoin",
          "MUNcoin",
          "Niobio Cash",
          "ShareChain",
          "Travelflex",
          "KREDS",
          "BitFlip",
          "LottoCoin",
          "Crypto Improvement Fund",
          "Callisto Network",
          "BitTube",
          "Poseidon",
          "Aidos Kuneen",
          "Bitrolium",
          "Alpenschillling",
          "FuturoCoin",
          "Monero Classic",
          "Jumpcoin",
          "Infinex",
          "KEYCO",
          "GINcoin",
          "PlatinCoin",
          "Loki",
          "Newton Coin",
          "MassGrid",
          "PluraCoin",
          "Motion",
          "PlusOneCoin",
          "Axe",
          "HexCoin",
          "Webchain",
          "Ryo",
          "Urals Coin",
          "Qwertycoin",
          "Project Pai",
          "Azart",
          "Xchange",
          "CrypticCoin",
          "Actinium",
          "Bitcoin SV",
          "FREDEnergy",
          "Universal Molecule",
          "Lithium",
          "PirateCash",
          "Exosis",
          "Block-Logic",
          "Beam",
          "Bithereum",
          "SLICE",
          "BLAST",
          "Bitcoin Rhodium",
          "GlobalToken",
          "SolarCoin",
          "UFO Coin",
          "BlakeCoin",
          "Crypto Escudo",
          "Crown Coin",
          "SmileyCoin",
          "Groestlcoin",
          "Bata",
          "Pakcoin",
          "JoinCoin",
          "Vollar",
          "Reality Clash",
          "Beldex",
          "Horizen"
         ],
         "legendgroup": "0",
         "marker": {
          "color": [
           0,
           0,
           0,
           0,
           0,
           0,
           0,
           0,
           0,
           0,
           0,
           0,
           0,
           0,
           0,
           0,
           0,
           0,
           0,
           0,
           0,
           0,
           0,
           0,
           0,
           0,
           0,
           0,
           0,
           0,
           0,
           0,
           0,
           0,
           0,
           0,
           0,
           0,
           0,
           0,
           0,
           0,
           0,
           0,
           0,
           0,
           0,
           0,
           0,
           0,
           0,
           0,
           0,
           0,
           0,
           0,
           0,
           0,
           0,
           0,
           0,
           0,
           0,
           0,
           0,
           0,
           0,
           0,
           0,
           0,
           0,
           0,
           0,
           0,
           0,
           0,
           0,
           0,
           0,
           0,
           0,
           0,
           0,
           0,
           0,
           0,
           0,
           0,
           0,
           0,
           0,
           0,
           0,
           0,
           0,
           0,
           0,
           0,
           0,
           0,
           0,
           0,
           0,
           0,
           0,
           0,
           0,
           0,
           0,
           0,
           0,
           0,
           0,
           0,
           0,
           0,
           0,
           0,
           0,
           0,
           0,
           0,
           0,
           0,
           0,
           0,
           0,
           0,
           0,
           0,
           0,
           0,
           0,
           0,
           0,
           0,
           0,
           0,
           0,
           0,
           0,
           0,
           0,
           0,
           0,
           0,
           0,
           0,
           0,
           0,
           0,
           0,
           0,
           0,
           0,
           0,
           0,
           0,
           0,
           0,
           0,
           0,
           0,
           0,
           0,
           0,
           0,
           0,
           0,
           0,
           0,
           0,
           0,
           0,
           0,
           0,
           0,
           0,
           0,
           0,
           0,
           0,
           0,
           0,
           0,
           0,
           0,
           0,
           0,
           0,
           0,
           0,
           0,
           0,
           0,
           0,
           0,
           0,
           0,
           0,
           0,
           0,
           0,
           0,
           0,
           0,
           0,
           0,
           0,
           0,
           0,
           0,
           0,
           0,
           0,
           0,
           0,
           0,
           0,
           0,
           0,
           0,
           0,
           0,
           0,
           0,
           0,
           0,
           0,
           0,
           0,
           0,
           0,
           0,
           0,
           0,
           0,
           0,
           0
          ],
          "coloraxis": "coloraxis",
          "symbol": "diamond"
         },
         "mode": "markers",
         "name": "0",
         "scene": "scene",
         "showlegend": true,
         "type": "scatter3d",
         "x": [
          -0.14947970718771794,
          -0.1550188061242338,
          -0.1617851178004802,
          -0.1569573069078257,
          -0.15345914964889987,
          -0.13311897961810204,
          0.1659731459601584,
          -0.16293236941542721,
          -0.23422094833405557,
          -0.16254851679871085,
          -0.087668620902092,
          2.5619140050866926,
          -0.14656209788812416,
          -0.15980140778254495,
          -0.16235231149774706,
          -0.22781886200273266,
          -0.20038136915743388,
          -0.1624012461470828,
          -0.16291462219042135,
          -0.16300116139056875,
          -0.2343103623079481,
          0.18972920429241946,
          0.22870047119159342,
          0.08594793887178336,
          -0.1627472475901025,
          -0.15834859617792676,
          -0.16268646901932773,
          -0.1630582116017355,
          -0.18345818206352013,
          -0.1422615721464648,
          -0.16185227337128819,
          -0.16212992271365997,
          1.587379124385814,
          -0.14944104777042,
          -0.1594168161890227,
          -0.16277371138968216,
          -0.16312883584376783,
          -0.16238743291767324,
          -0.14312276339835367,
          -0.16300999236374114,
          -0.027777492378441238,
          -0.14951871626889848,
          -0.1566683731633132,
          -0.1629893913949031,
          -0.16108174125714073,
          -0.16247567695142517,
          -0.13665907239443287,
          -0.14898202001612437,
          -0.1492694517289869,
          -0.1492523306005824,
          -0.14984367398198864,
          -0.23448443076995254,
          -0.16270566418131982,
          -0.19155182104981425,
          -0.15980608738313715,
          -0.14904936999150767,
          3.8586219385573792,
          0.4546221942516548,
          -0.16157221102374983,
          -0.14615574114437374,
          -0.16028992150585028,
          -0.16313104366598527,
          -0.16015487578192905,
          -0.14636616248575665,
          -0.13296789099068493,
          -0.12170551521835613,
          -0.19743837599000477,
          -0.16300402468027345,
          -0.03582256180812217,
          -0.1473817930245532,
          -0.16313994778382737,
          -0.1495465145525772,
          0.48972953805651526,
          -0.2338710779817915,
          -0.16435317338727687,
          -0.14928610204619053,
          -0.23415621914962806,
          -0.16126181406933196,
          -0.16045335468047048,
          -0.15608702084697834,
          0.36567268743813863,
          -0.2341916546186309,
          -0.14944217096072093,
          -0.15909427477362031,
          -0.1533398582413025,
          -0.16170202227203473,
          0.269407358355581,
          -0.23335158270505227,
          -0.15612323813883439,
          -0.16194942692918624,
          -0.17043682966815812,
          -0.16292965494041356,
          -0.23415484858709038,
          -0.16314000632981387,
          -0.23430493185417092,
          -0.17247182227937086,
          0.2993864822508542,
          -0.14970247802399456,
          -0.10176015029312319,
          -0.16030411132916167,
          -0.1496610745422851,
          -0.16280308293880574,
          -0.15801472181094886,
          -0.15582896216253062,
          -0.13314061286173523,
          -0.08978680210733735,
          -0.22087704840919634,
          -0.2321309623975366,
          0.29938086863474045,
          -0.16312172541566422,
          0.29951169219221413,
          -0.16489415817123917,
          0.48171831120477737,
          -0.15572063731046007,
          -0.16308998723578041,
          -0.22703118409152281,
          -0.1331530066336844,
          -0.1612216210523557,
          -0.1646123006842394,
          -0.16510359884073827,
          -0.13398220252136864,
          -0.20292294576538766,
          -0.1626519588568427,
          -0.1159963597613717,
          -0.16247380219364616,
          -0.15557846019986848,
          -0.18868830577398127,
          -0.03492938792132871,
          -0.16278705916256186,
          0.335534723679098,
          -0.23335994383580286,
          -0.1627934302341385,
          -0.162556498910072,
          -0.2337550162277743,
          -0.234333000191268,
          0.29977623187836616,
          -0.15423672540393943,
          3.2495967034404374,
          -0.1255793639214799,
          -0.22519567646509966,
          -0.1494788707788478,
          -0.08863246409229117,
          1.5851878399280241,
          -0.16289134932724741,
          -0.16234242699088108,
          -0.1620431395354723,
          -0.16203006066982312,
          0.2999600635298852,
          0.07938304509130197,
          -0.18868146090858548,
          -0.18815117826189082,
          -0.13299893290230605,
          -0.1548810993932439,
          -0.16121982886545258,
          -0.22987329095483525,
          -0.18799643092301394,
          -0.15419232716691603,
          -0.1880967429702392,
          -0.11192841966489835,
          1.1381560667795805,
          0.29936360489197084,
          -0.07900184490838906,
          -0.22961418925799912,
          -0.14468021361132233,
          -0.07920462107504846,
          1.0761891174316416,
          -0.2343069771445362,
          -0.18814874955127184,
          -0.1811802484823094,
          -0.16214168300484424,
          -0.2342323209838116,
          -0.1494582547518046,
          -0.21702795871563538,
          8.045411129323439,
          -0.15439251406675708,
          0.3032417182393023,
          0.030069160256534222,
          -0.15438407835234702,
          -0.17709659969039618,
          -0.1627158955557398,
          0.14463477465102864,
          -0.22836769132785212,
          -0.10718068413971996,
          0.3072950556587583,
          -0.16295312964982467,
          -0.14306139606755205,
          -0.13198914978100676,
          -0.15579590281231148,
          -0.23340074688436588,
          0.2995462747588072,
          -0.2029825172796833,
          -0.16473924148236524,
          -0.1779513562313247,
          -0.1580991877830768,
          0.3034788329950956,
          0.5684348722405975,
          2.1098301749019015,
          -0.15275548045854528,
          0.3131637857357985,
          -0.20138042782552057,
          -0.16331430144088485,
          -0.2342891210888289,
          -0.16297772730410917,
          -0.14455820367471375,
          -0.15408341640958842,
          -0.07716218525088334,
          3.0933270592877857,
          -0.10927147806819812,
          -0.23426045562267184,
          -0.20080753413185948,
          -0.02764796978744515,
          -0.1574963119602643,
          -0.14947890837251204,
          0.3793856442828713,
          -0.14440561105810273,
          -0.14479812105184847,
          -0.25315679107562733,
          -0.18118138385801455,
          -0.16186895810340513,
          -0.13105700113017604,
          -0.13283160250958617,
          -0.19664851740976147,
          -0.1487544041393671,
          -0.12174779839585333,
          -0.1476212436500727,
          0.5336965826008305,
          -0.11324861252216828,
          -0.09520966206110745,
          -0.14651686173268455,
          -0.14926882170702907,
          0.5533558597029895,
          -0.1999419892050919,
          -0.16305466433896795,
          -0.16100841668301508,
          -0.12244094603719965,
          -0.1530841322349787,
          -0.15586214971704757,
          0.3211403907736827,
          -0.13312003736016836
         ],
         "y": [
          -1.269097590180094,
          -1.9766151932522869,
          -1.1182245542400506,
          -2.0982379032086227,
          -1.9767401080444449,
          -2.2576457626677446,
          -1.798910002873725,
          -1.118197953433217,
          -0.8708341494336096,
          -1.1182224989382492,
          -1.7894093234829245,
          -1.3486328759769057,
          -1.2691570878289127,
          -1.118311278617441,
          -1.1182450519471154,
          -0.4860115360871537,
          -1.237546179547548,
          -1.1182088409205266,
          -1.11819766937427,
          -1.1181934447718342,
          -0.8708341531647474,
          -1.7953573419348492,
          -1.2780173550552854,
          -1.1238344699593827,
          -1.1181949904060022,
          -1.1183235623757048,
          -1.1182018683671235,
          -1.118192998876673,
          -1.609000819843959,
          -1.1188660108716029,
          -1.1182156372283871,
          -1.1182216840055113,
          -1.1548296037230485,
          -1.2690969714043014,
          -1.1183161288385262,
          -1.1181947002743384,
          -1.1181870737061985,
          -1.118204219113757,
          -2.075807407076405,
          -1.118191345080225,
          -1.1267252989534084,
          -1.2690982145525596,
          -1.118323224290004,
          -1.1181988661169417,
          -1.1183317714087293,
          -1.1182121976325343,
          -1.2695111689550003,
          -1.269108189199455,
          -1.2691092127061954,
          -1.2691360595177976,
          -1.2690886063571154,
          -0.8708240925556662,
          -1.1181957522424353,
          -1.2646421678751005,
          -1.1183223594444531,
          -1.2691078312364923,
          -2.344329783414234,
          -2.274295044332152,
          -1.1182362199744131,
          -1.119113468872883,
          -1.1182594218212714,
          -1.118188021161197,
          -1.1182527025731792,
          -1.1186315163774994,
          -2.16536024109086,
          -1.7885266988730761,
          -1.5049769761170007,
          -1.118186518642258,
          -1.1232855341025345,
          -2.2759973715437822,
          -1.118186730183602,
          -1.2690986594869749,
          -1.17339757817292,
          -0.8708378276558992,
          -2.15602092088551,
          -1.269117872397399,
          -0.8708338270962871,
          -1.118306276649426,
          -1.1183217135642542,
          -1.9766443571148022,
          -2.1143336050418466,
          -0.8708308257373304,
          -1.2690969893818866,
          -1.1182714121090087,
          -2.1875477571657886,
          -1.1182232242277184,
          -1.2778127879601788,
          -0.8708659117409872,
          -2.2009456428626564,
          -1.1182873862192564,
          -2.2200264760393376,
          -1.1181971962792476,
          -0.8708366599855536,
          -1.1181867289581477,
          -0.8708390621917983,
          -2.463026809691252,
          -2.2696497911449622,
          -1.2690931166200163,
          -1.7890639047619759,
          -1.118283639473451,
          -1.26909309789921,
          -1.118202307455782,
          -2.2528848168884315,
          -1.9766468635317795,
          -2.257646108925619,
          -1.1241492761942804,
          -0.8709631484797968,
          -0.8709491484530294,
          -2.269657731767692,
          -1.118187933597814,
          -2.269658492655203,
          -2.155989762744865,
          -0.9307313342635671,
          -2.0983501450076094,
          -1.1181878864524355,
          -0.8714185037687652,
          -2.257643452471894,
          -1.1182269543157022,
          -2.155993102156645,
          -2.1390543787122294,
          -1.1205744205893367,
          -0.6548121079518494,
          -1.1182038285361438,
          -1.2703309402068401,
          -1.1182270127219829,
          -2.0982907728209454,
          -2.0462623875404624,
          -2.1209884328096433,
          -2.0836169369117603,
          -2.270491484840509,
          -0.8708774648727606,
          -1.118194499738092,
          -1.118230477470695,
          -0.8708552400691538,
          -0.8708351578386119,
          -2.2696749559700438,
          -2.0182583523647124,
          -1.206303940845199,
          -1.0973664840171113,
          -0.8714604956143363,
          -1.269097576792689,
          -1.124487653345062,
          -1.0902028625147742,
          -1.1181965831663743,
          -1.1182334744324534,
          -1.118240103395335,
          -1.1182398940573233,
          -2.2696969140214303,
          -2.2692173427860203,
          -0.8713756501276537,
          -1.6088553997839286,
          -2.2576438412212307,
          -2.2010159073534132,
          -1.1182269256302755,
          -0.8710000847635412,
          -1.608865769643492,
          -1.976801802613546,
          -1.6088579542937702,
          -1.7888412547407446,
          -2.3168825141392437,
          -2.26965194158233,
          -1.9825355448277968,
          -0.8711386789399853,
          -2.0987547347399604,
          -1.1204113668642697,
          -1.1759434246102696,
          -0.870835383654232,
          -1.6088510786710433,
          -1.6090814075178679,
          -1.1182159872284552,
          -0.8708364725819178,
          -1.2690966515849313,
          -1.300242919096114,
          -2.8593677147625916,
          -2.2513157383500593,
          -2.269820753258387,
          -1.1222308828459016,
          -2.200967765637862,
          -1.265135926024087,
          -1.1182080490155606,
          -1.1263972825506903,
          -0.8710830423863394,
          -1.9804885973806574,
          -2.270229777413291,
          -1.1181982857178592,
          -2.163448639166393,
          -2.2576626504326156,
          -2.2530481415119086,
          -0.8708781179591438,
          -2.269653228669445,
          -0.6547936115117493,
          -2.1559989023192694,
          -2.1248109614390382,
          -2.252878389434325,
          -2.2700053769435935,
          -2.2463906762506745,
          -2.371987019754562,
          -2.241231802644712,
          -2.270135843557009,
          -1.3180518012083693,
          -2.1423401255168257,
          -0.8708359543012347,
          -1.1181994682570215,
          -2.099288431837437,
          -2.028980075809086,
          -0.6897338695604404,
          -2.337528091707243,
          -1.2699378203143075,
          -0.8708383503130983,
          -1.3180982466574223,
          -2.2613667943606224,
          -2.2529211973427756,
          -1.2690975773944064,
          -2.274128950653369,
          -2.181143416987124,
          -2.1810926805579887,
          -0.36150149507706425,
          -2.118437245232191,
          -1.1182515896093617,
          -2.257785333251232,
          -2.2576482186636135,
          -1.5050357044363805,
          -1.2691166704898784,
          -0.39964324509339605,
          -1.2691727588058304,
          -1.177047459457754,
          -1.6104920787270973,
          -2.1852769164225254,
          -1.1186339284430085,
          -1.2691092026221753,
          -1.1424035109096677,
          -1.237554134747497,
          -1.1181884915591542,
          -1.1182820657423385,
          -1.7885404684271442,
          -2.223514260329067,
          -1.9766461688670884,
          -2.270293812929712,
          -2.257645779597777
         ],
         "z": [
          0.22797492426710442,
          0.3728709491247727,
          -0.046976546511082524,
          0.4576036084880553,
          0.3728530768595677,
          0.44299432097080077,
          0.3539185389801997,
          -0.046954627571505335,
          0.0812840378630052,
          -0.046959858990401594,
          0.3582781390096862,
          -0.07653974432476277,
          0.22791808619910844,
          -0.04700897358310664,
          -0.046961188386084964,
          0.06151433996150982,
          0.1419053671173114,
          -0.04696496681367289,
          -0.04695506010760312,
          -0.046953704772600025,
          0.08128602525694491,
          0.35291326404688106,
          0.2207698620844338,
          -0.05172766466437779,
          -0.04695913936824765,
          -0.04703960629356086,
          -0.04695956572696865,
          -0.0469524969608096,
          0.2266204322739005,
          -0.04732418955517192,
          -0.046976252442526394,
          -0.04696927019071849,
          -0.08092644318566089,
          0.2279739820582022,
          -0.047016867955702916,
          -0.04695859029499059,
          -0.04695172378848918,
          -0.04696589481158903,
          0.47894911867981843,
          -0.046953790680921516,
          -0.04881208844291283,
          0.22797587499804212,
          -0.0470769884224397,
          -0.046953237829475636,
          -0.04697776924299375,
          -0.04696286181166141,
          0.22774560761078097,
          0.22796528925509735,
          0.22797181388707818,
          0.22797504094532575,
          0.2279818048820256,
          0.08128854139667001,
          -0.04695996103368677,
          0.21268973185936646,
          -0.04700738062214614,
          0.22796673775658394,
          0.3381142405710942,
          0.4043446145579763,
          -0.046979710000726635,
          -0.04720440424798416,
          -0.04700508638640124,
          -0.046951547414611876,
          -0.04700899016644288,
          -0.04726449026785714,
          0.4265053097287837,
          0.3589158804879801,
          0.14158153069145404,
          -0.04695457183789579,
          -0.0490955314552679,
          0.5759137936533298,
          -0.04695152302748574,
          0.2279765524989556,
          -0.054040217335769795,
          0.08127675755460305,
          0.44202604850615673,
          0.22797334751510182,
          0.08128255618421451,
          -0.046977193626357744,
          -0.046993084306491,
          0.3728986050815179,
          0.4322686356268653,
          0.08128294030114736,
          0.22797400943264243,
          -0.04703004400009355,
          0.45979900156618825,
          -0.04697857171872686,
          0.21983781463436847,
          0.08126898747565722,
          0.31655438170726186,
          -0.04696445237269862,
          0.4746234474724297,
          -0.04695478963235706,
          0.08128290639502832,
          -0.04695152189118838,
          0.08128656423058765,
          0.6554100243808316,
          0.40716994920154537,
          0.22797927338945245,
          0.358544855499625,
          -0.04700151684934296,
          0.22797835083567894,
          -0.046956915414836126,
          0.3860880315522663,
          0.3728932074854218,
          0.4429948482171051,
          -0.047780312770732095,
          0.08100485349154284,
          0.08125304857924182,
          0.4071711409559341,
          -0.04695176624425776,
          0.4071683361330298,
          0.4420338830364451,
          0.07342357421535918,
          0.45759121048344625,
          -0.04695247784221545,
          0.08120279411710427,
          0.44299476666440446,
          -0.04698874562013397,
          0.44202806853337845,
          0.47320762876465305,
          -0.04727860198428631,
          -0.006562557556413915,
          -0.04696006919119312,
          0.22739661165927746,
          -0.0469609127093891,
          0.45758007305265114,
          0.4997234271746893,
          0.44206476017609253,
          0.4781632027784196,
          0.4064797908490311,
          0.08127072571036126,
          -0.04695817906395343,
          -0.04695860951094932,
          0.08127651828874712,
          0.08128666330156799,
          0.4071646699640141,
          0.5878662527418258,
          -0.11094622947528288,
          0.3082431588910631,
          0.08116764940523356,
          0.22797490388211952,
          -0.04776049456677659,
          -0.08956189920187432,
          -0.04695572321833668,
          -0.04696296374857433,
          -0.04696872353786818,
          -0.04696904229651977,
          0.40716353557983304,
          0.4398271735649803,
          0.08034485593014336,
          0.22670517597178336,
          0.4429913951873053,
          0.3165362215153543,
          -0.04698878929938696,
          0.08120972475168592,
          0.226703130727266,
          0.37287765914105353,
          0.22670430960968013,
          0.3587408890593039,
          0.39487826552949146,
          0.4071707465283647,
          0.3719772961697629,
          0.08122259062548996,
          0.45740024449581324,
          -0.04851773989772366,
          0.21206375736338684,
          0.0812861153800021,
          0.22670454135781773,
          0.22658064256598498,
          -0.04696977436036206,
          0.08128460274835811,
          0.22797432144389548,
          0.09765600731324003,
          0.314286113904228,
          0.44094258387361845,
          0.4071072537903986,
          -0.050701447216059466,
          0.31651870808225674,
          0.21243486662171213,
          -0.04695808131377208,
          -0.05268738582881785,
          0.08118741574890387,
          0.3723284095559056,
          0.40707214564464655,
          -0.04695412160221845,
          0.44630488330555895,
          0.4429714839857323,
          0.3860606731348027,
          0.08127172016393938,
          0.40716686032183075,
          -0.0065637192407003685,
          0.4420316687105037,
          0.3823237495698988,
          0.38608904481166356,
          0.4071267934080378,
          0.4138711363633483,
          0.38069103614784455,
          0.42897893388832103,
          0.40692911271378307,
          0.20448611281527107,
          0.4028138450479109,
          0.08128579527574387,
          -0.04695341610852521,
          0.45746924825539587,
          0.3763529165337173,
          -0.05204890001836881,
          0.37001130338665783,
          0.22719435114396963,
          0.08128548025404385,
          0.20447962344399953,
          0.4411506302244049,
          0.38608140040860806,
          0.22797490479835372,
          0.4059941480230985,
          0.35547484955701547,
          0.35547675397649126,
          0.18482984945768927,
          0.47354643180934375,
          -0.04697105062379426,
          0.4429672558258891,
          0.44298826510663575,
          0.14157187058115242,
          0.22796137100424801,
          -0.038431418387519775,
          0.22794372753991674,
          -0.054526772268056044,
          0.2252606723826307,
          0.35493708736803503,
          -0.047260817419611564,
          0.2279717985321572,
          -0.059618869978160516,
          0.14189667250569443,
          -0.04695318145147922,
          -0.04698607775427693,
          0.35893407296810526,
          0.5447643724885005,
          0.3728938516103988,
          0.40677308933878714,
          0.44299434675013466
         ]
        },
        {
         "customdata": [
          [
           "VeChainThor Authority"
          ],
          [
           "Proof-of-BibleHash"
          ],
          [
           "SHA-256 + Hive"
          ],
          [
           "Proof-of-Authority"
          ],
          [
           "ECC 256K1"
          ],
          [
           "Leased POS"
          ]
         ],
         "hovertemplate": "<b>%{hovertext}</b><br><br>Class=%{marker.color}<br>PC1=%{x}<br>PC2=%{y}<br>PC3=%{z}<br>Algorithm=%{customdata[0]}<extra></extra>",
         "hovertext": [
          "Vechain",
          "BiblePay",
          "LitecoinCash",
          "Poa Network",
          "Acute Angle Cloud",
          "Waves"
         ],
         "legendgroup": "3",
         "marker": {
          "color": [
           3,
           3,
           3,
           3,
           3,
           3
          ],
          "coloraxis": "coloraxis",
          "symbol": "square"
         },
         "mode": "markers",
         "name": "3",
         "scene": "scene",
         "showlegend": true,
         "type": "scatter3d",
         "x": [
          4.362841924949412,
          -0.12010794179866635,
          -0.37721056012536897,
          -0.3768025984880106,
          -0.35223046011641385,
          -0.38213330544181406
         ],
         "y": [
          2.8393561095764777,
          5.344421281027924,
          1.9883641592258843,
          3.0659847723866998,
          3.479149881613596,
          3.066203299014034
         ],
         "z": [
          6.455844894310633,
          6.0824796751915615,
          17.066324170524748,
          14.645027588096129,
          17.69558809254794,
          9.796154081418933
         ]
        },
        {
         "customdata": [
          [
           "TRC10"
          ]
         ],
         "hovertemplate": "<b>%{hovertext}</b><br><br>Class=%{marker.color}<br>PC1=%{x}<br>PC2=%{y}<br>PC3=%{z}<br>Algorithm=%{customdata[0]}<extra></extra>",
         "hovertext": [
          "BitTorrent"
         ],
         "legendgroup": "2",
         "marker": {
          "color": [
           2
          ],
          "coloraxis": "coloraxis",
          "symbol": "x"
         },
         "mode": "markers",
         "name": "2",
         "scene": "scene",
         "showlegend": true,
         "type": "scatter3d",
         "x": [
          34.073231567225854
         ],
         "y": [
          1.3700532309420026
         ],
         "z": [
          -0.8791320176379893
         ]
        }
       ],
       "layout": {
        "coloraxis": {
         "colorbar": {
          "title": {
           "text": "Class"
          }
         },
         "colorscale": [
          [
           0,
           "#0d0887"
          ],
          [
           0.1111111111111111,
           "#46039f"
          ],
          [
           0.2222222222222222,
           "#7201a8"
          ],
          [
           0.3333333333333333,
           "#9c179e"
          ],
          [
           0.4444444444444444,
           "#bd3786"
          ],
          [
           0.5555555555555556,
           "#d8576b"
          ],
          [
           0.6666666666666666,
           "#ed7953"
          ],
          [
           0.7777777777777778,
           "#fb9f3a"
          ],
          [
           0.8888888888888888,
           "#fdca26"
          ],
          [
           1,
           "#f0f921"
          ]
         ]
        },
        "legend": {
         "title": {
          "text": "Class"
         },
         "tracegroupgap": 0,
         "x": 0,
         "y": 1
        },
        "margin": {
         "t": 60
        },
        "scene": {
         "domain": {
          "x": [
           0,
           1
          ],
          "y": [
           0,
           1
          ]
         },
         "xaxis": {
          "title": {
           "text": "PC1"
          }
         },
         "yaxis": {
          "title": {
           "text": "PC2"
          }
         },
         "zaxis": {
          "title": {
           "text": "PC3"
          }
         }
        },
        "template": {
         "data": {
          "bar": [
           {
            "error_x": {
             "color": "#2a3f5f"
            },
            "error_y": {
             "color": "#2a3f5f"
            },
            "marker": {
             "line": {
              "color": "#E5ECF6",
              "width": 0.5
             }
            },
            "type": "bar"
           }
          ],
          "barpolar": [
           {
            "marker": {
             "line": {
              "color": "#E5ECF6",
              "width": 0.5
             }
            },
            "type": "barpolar"
           }
          ],
          "carpet": [
           {
            "aaxis": {
             "endlinecolor": "#2a3f5f",
             "gridcolor": "white",
             "linecolor": "white",
             "minorgridcolor": "white",
             "startlinecolor": "#2a3f5f"
            },
            "baxis": {
             "endlinecolor": "#2a3f5f",
             "gridcolor": "white",
             "linecolor": "white",
             "minorgridcolor": "white",
             "startlinecolor": "#2a3f5f"
            },
            "type": "carpet"
           }
          ],
          "choropleth": [
           {
            "colorbar": {
             "outlinewidth": 0,
             "ticks": ""
            },
            "type": "choropleth"
           }
          ],
          "contour": [
           {
            "colorbar": {
             "outlinewidth": 0,
             "ticks": ""
            },
            "colorscale": [
             [
              0,
              "#0d0887"
             ],
             [
              0.1111111111111111,
              "#46039f"
             ],
             [
              0.2222222222222222,
              "#7201a8"
             ],
             [
              0.3333333333333333,
              "#9c179e"
             ],
             [
              0.4444444444444444,
              "#bd3786"
             ],
             [
              0.5555555555555556,
              "#d8576b"
             ],
             [
              0.6666666666666666,
              "#ed7953"
             ],
             [
              0.7777777777777778,
              "#fb9f3a"
             ],
             [
              0.8888888888888888,
              "#fdca26"
             ],
             [
              1,
              "#f0f921"
             ]
            ],
            "type": "contour"
           }
          ],
          "contourcarpet": [
           {
            "colorbar": {
             "outlinewidth": 0,
             "ticks": ""
            },
            "type": "contourcarpet"
           }
          ],
          "heatmap": [
           {
            "colorbar": {
             "outlinewidth": 0,
             "ticks": ""
            },
            "colorscale": [
             [
              0,
              "#0d0887"
             ],
             [
              0.1111111111111111,
              "#46039f"
             ],
             [
              0.2222222222222222,
              "#7201a8"
             ],
             [
              0.3333333333333333,
              "#9c179e"
             ],
             [
              0.4444444444444444,
              "#bd3786"
             ],
             [
              0.5555555555555556,
              "#d8576b"
             ],
             [
              0.6666666666666666,
              "#ed7953"
             ],
             [
              0.7777777777777778,
              "#fb9f3a"
             ],
             [
              0.8888888888888888,
              "#fdca26"
             ],
             [
              1,
              "#f0f921"
             ]
            ],
            "type": "heatmap"
           }
          ],
          "heatmapgl": [
           {
            "colorbar": {
             "outlinewidth": 0,
             "ticks": ""
            },
            "colorscale": [
             [
              0,
              "#0d0887"
             ],
             [
              0.1111111111111111,
              "#46039f"
             ],
             [
              0.2222222222222222,
              "#7201a8"
             ],
             [
              0.3333333333333333,
              "#9c179e"
             ],
             [
              0.4444444444444444,
              "#bd3786"
             ],
             [
              0.5555555555555556,
              "#d8576b"
             ],
             [
              0.6666666666666666,
              "#ed7953"
             ],
             [
              0.7777777777777778,
              "#fb9f3a"
             ],
             [
              0.8888888888888888,
              "#fdca26"
             ],
             [
              1,
              "#f0f921"
             ]
            ],
            "type": "heatmapgl"
           }
          ],
          "histogram": [
           {
            "marker": {
             "colorbar": {
              "outlinewidth": 0,
              "ticks": ""
             }
            },
            "type": "histogram"
           }
          ],
          "histogram2d": [
           {
            "colorbar": {
             "outlinewidth": 0,
             "ticks": ""
            },
            "colorscale": [
             [
              0,
              "#0d0887"
             ],
             [
              0.1111111111111111,
              "#46039f"
             ],
             [
              0.2222222222222222,
              "#7201a8"
             ],
             [
              0.3333333333333333,
              "#9c179e"
             ],
             [
              0.4444444444444444,
              "#bd3786"
             ],
             [
              0.5555555555555556,
              "#d8576b"
             ],
             [
              0.6666666666666666,
              "#ed7953"
             ],
             [
              0.7777777777777778,
              "#fb9f3a"
             ],
             [
              0.8888888888888888,
              "#fdca26"
             ],
             [
              1,
              "#f0f921"
             ]
            ],
            "type": "histogram2d"
           }
          ],
          "histogram2dcontour": [
           {
            "colorbar": {
             "outlinewidth": 0,
             "ticks": ""
            },
            "colorscale": [
             [
              0,
              "#0d0887"
             ],
             [
              0.1111111111111111,
              "#46039f"
             ],
             [
              0.2222222222222222,
              "#7201a8"
             ],
             [
              0.3333333333333333,
              "#9c179e"
             ],
             [
              0.4444444444444444,
              "#bd3786"
             ],
             [
              0.5555555555555556,
              "#d8576b"
             ],
             [
              0.6666666666666666,
              "#ed7953"
             ],
             [
              0.7777777777777778,
              "#fb9f3a"
             ],
             [
              0.8888888888888888,
              "#fdca26"
             ],
             [
              1,
              "#f0f921"
             ]
            ],
            "type": "histogram2dcontour"
           }
          ],
          "mesh3d": [
           {
            "colorbar": {
             "outlinewidth": 0,
             "ticks": ""
            },
            "type": "mesh3d"
           }
          ],
          "parcoords": [
           {
            "line": {
             "colorbar": {
              "outlinewidth": 0,
              "ticks": ""
             }
            },
            "type": "parcoords"
           }
          ],
          "pie": [
           {
            "automargin": true,
            "type": "pie"
           }
          ],
          "scatter": [
           {
            "marker": {
             "colorbar": {
              "outlinewidth": 0,
              "ticks": ""
             }
            },
            "type": "scatter"
           }
          ],
          "scatter3d": [
           {
            "line": {
             "colorbar": {
              "outlinewidth": 0,
              "ticks": ""
             }
            },
            "marker": {
             "colorbar": {
              "outlinewidth": 0,
              "ticks": ""
             }
            },
            "type": "scatter3d"
           }
          ],
          "scattercarpet": [
           {
            "marker": {
             "colorbar": {
              "outlinewidth": 0,
              "ticks": ""
             }
            },
            "type": "scattercarpet"
           }
          ],
          "scattergeo": [
           {
            "marker": {
             "colorbar": {
              "outlinewidth": 0,
              "ticks": ""
             }
            },
            "type": "scattergeo"
           }
          ],
          "scattergl": [
           {
            "marker": {
             "colorbar": {
              "outlinewidth": 0,
              "ticks": ""
             }
            },
            "type": "scattergl"
           }
          ],
          "scattermapbox": [
           {
            "marker": {
             "colorbar": {
              "outlinewidth": 0,
              "ticks": ""
             }
            },
            "type": "scattermapbox"
           }
          ],
          "scatterpolar": [
           {
            "marker": {
             "colorbar": {
              "outlinewidth": 0,
              "ticks": ""
             }
            },
            "type": "scatterpolar"
           }
          ],
          "scatterpolargl": [
           {
            "marker": {
             "colorbar": {
              "outlinewidth": 0,
              "ticks": ""
             }
            },
            "type": "scatterpolargl"
           }
          ],
          "scatterternary": [
           {
            "marker": {
             "colorbar": {
              "outlinewidth": 0,
              "ticks": ""
             }
            },
            "type": "scatterternary"
           }
          ],
          "surface": [
           {
            "colorbar": {
             "outlinewidth": 0,
             "ticks": ""
            },
            "colorscale": [
             [
              0,
              "#0d0887"
             ],
             [
              0.1111111111111111,
              "#46039f"
             ],
             [
              0.2222222222222222,
              "#7201a8"
             ],
             [
              0.3333333333333333,
              "#9c179e"
             ],
             [
              0.4444444444444444,
              "#bd3786"
             ],
             [
              0.5555555555555556,
              "#d8576b"
             ],
             [
              0.6666666666666666,
              "#ed7953"
             ],
             [
              0.7777777777777778,
              "#fb9f3a"
             ],
             [
              0.8888888888888888,
              "#fdca26"
             ],
             [
              1,
              "#f0f921"
             ]
            ],
            "type": "surface"
           }
          ],
          "table": [
           {
            "cells": {
             "fill": {
              "color": "#EBF0F8"
             },
             "line": {
              "color": "white"
             }
            },
            "header": {
             "fill": {
              "color": "#C8D4E3"
             },
             "line": {
              "color": "white"
             }
            },
            "type": "table"
           }
          ]
         },
         "layout": {
          "annotationdefaults": {
           "arrowcolor": "#2a3f5f",
           "arrowhead": 0,
           "arrowwidth": 1
          },
          "coloraxis": {
           "colorbar": {
            "outlinewidth": 0,
            "ticks": ""
           }
          },
          "colorscale": {
           "diverging": [
            [
             0,
             "#8e0152"
            ],
            [
             0.1,
             "#c51b7d"
            ],
            [
             0.2,
             "#de77ae"
            ],
            [
             0.3,
             "#f1b6da"
            ],
            [
             0.4,
             "#fde0ef"
            ],
            [
             0.5,
             "#f7f7f7"
            ],
            [
             0.6,
             "#e6f5d0"
            ],
            [
             0.7,
             "#b8e186"
            ],
            [
             0.8,
             "#7fbc41"
            ],
            [
             0.9,
             "#4d9221"
            ],
            [
             1,
             "#276419"
            ]
           ],
           "sequential": [
            [
             0,
             "#0d0887"
            ],
            [
             0.1111111111111111,
             "#46039f"
            ],
            [
             0.2222222222222222,
             "#7201a8"
            ],
            [
             0.3333333333333333,
             "#9c179e"
            ],
            [
             0.4444444444444444,
             "#bd3786"
            ],
            [
             0.5555555555555556,
             "#d8576b"
            ],
            [
             0.6666666666666666,
             "#ed7953"
            ],
            [
             0.7777777777777778,
             "#fb9f3a"
            ],
            [
             0.8888888888888888,
             "#fdca26"
            ],
            [
             1,
             "#f0f921"
            ]
           ],
           "sequentialminus": [
            [
             0,
             "#0d0887"
            ],
            [
             0.1111111111111111,
             "#46039f"
            ],
            [
             0.2222222222222222,
             "#7201a8"
            ],
            [
             0.3333333333333333,
             "#9c179e"
            ],
            [
             0.4444444444444444,
             "#bd3786"
            ],
            [
             0.5555555555555556,
             "#d8576b"
            ],
            [
             0.6666666666666666,
             "#ed7953"
            ],
            [
             0.7777777777777778,
             "#fb9f3a"
            ],
            [
             0.8888888888888888,
             "#fdca26"
            ],
            [
             1,
             "#f0f921"
            ]
           ]
          },
          "colorway": [
           "#636efa",
           "#EF553B",
           "#00cc96",
           "#ab63fa",
           "#FFA15A",
           "#19d3f3",
           "#FF6692",
           "#B6E880",
           "#FF97FF",
           "#FECB52"
          ],
          "font": {
           "color": "#2a3f5f"
          },
          "geo": {
           "bgcolor": "white",
           "lakecolor": "white",
           "landcolor": "#E5ECF6",
           "showlakes": true,
           "showland": true,
           "subunitcolor": "white"
          },
          "hoverlabel": {
           "align": "left"
          },
          "hovermode": "closest",
          "mapbox": {
           "style": "light"
          },
          "paper_bgcolor": "white",
          "plot_bgcolor": "#E5ECF6",
          "polar": {
           "angularaxis": {
            "gridcolor": "white",
            "linecolor": "white",
            "ticks": ""
           },
           "bgcolor": "#E5ECF6",
           "radialaxis": {
            "gridcolor": "white",
            "linecolor": "white",
            "ticks": ""
           }
          },
          "scene": {
           "xaxis": {
            "backgroundcolor": "#E5ECF6",
            "gridcolor": "white",
            "gridwidth": 2,
            "linecolor": "white",
            "showbackground": true,
            "ticks": "",
            "zerolinecolor": "white"
           },
           "yaxis": {
            "backgroundcolor": "#E5ECF6",
            "gridcolor": "white",
            "gridwidth": 2,
            "linecolor": "white",
            "showbackground": true,
            "ticks": "",
            "zerolinecolor": "white"
           },
           "zaxis": {
            "backgroundcolor": "#E5ECF6",
            "gridcolor": "white",
            "gridwidth": 2,
            "linecolor": "white",
            "showbackground": true,
            "ticks": "",
            "zerolinecolor": "white"
           }
          },
          "shapedefaults": {
           "line": {
            "color": "#2a3f5f"
           }
          },
          "ternary": {
           "aaxis": {
            "gridcolor": "white",
            "linecolor": "white",
            "ticks": ""
           },
           "baxis": {
            "gridcolor": "white",
            "linecolor": "white",
            "ticks": ""
           },
           "bgcolor": "#E5ECF6",
           "caxis": {
            "gridcolor": "white",
            "linecolor": "white",
            "ticks": ""
           }
          },
          "title": {
           "x": 0.05
          },
          "xaxis": {
           "automargin": true,
           "gridcolor": "white",
           "linecolor": "white",
           "ticks": "",
           "title": {
            "standoff": 15
           },
           "zerolinecolor": "white",
           "zerolinewidth": 2
          },
          "yaxis": {
           "automargin": true,
           "gridcolor": "white",
           "linecolor": "white",
           "ticks": "",
           "title": {
            "standoff": 15
           },
           "zerolinecolor": "white",
           "zerolinewidth": 2
          }
         }
        },
        "width": 800
       }
      },
      "text/html": [
       "<div>                            <div id=\"c0c75a01-f0cf-4ed6-8e5a-d6b20824cec3\" class=\"plotly-graph-div\" style=\"height:525px; width:800px;\"></div>            <script type=\"text/javascript\">                require([\"plotly\"], function(Plotly) {                    window.PLOTLYENV=window.PLOTLYENV || {};                                    if (document.getElementById(\"c0c75a01-f0cf-4ed6-8e5a-d6b20824cec3\")) {                    Plotly.newPlot(                        \"c0c75a01-f0cf-4ed6-8e5a-d6b20824cec3\",                        [{\"customdata\": [[\"Scrypt\"], [\"Scrypt\"], [\"X13\"], [\"X11\"], [\"SHA-512\"], [\"SHA-256\"], [\"SHA-256\"], [\"X15\"], [\"Scrypt\"], [\"Scrypt\"], [\"Scrypt\"], [\"Scrypt\"], [\"Scrypt\"], [\"Scrypt\"], [\"Groestl\"], [\"PoS\"], [\"Scrypt\"], [\"Scrypt\"], [\"X11\"], [\"X11\"], [\"SHA3\"], [\"Scrypt\"], [\"SHA-256\"], [\"Scrypt\"], [\"X13\"], [\"X13\"], [\"NeoScrypt\"], [\"Scrypt\"], [\"Scrypt\"], [\"Scrypt\"], [\"X11\"], [\"X11\"], [\"Multiple\"], [\"PHI1612\"], [\"X11\"], [\"Scrypt\"], [\"Scrypt\"], [\"Scrypt\"], [\"X11\"], [\"Multiple\"], [\"X13\"], [\"Scrypt\"], [\"Shabal256\"], [\"Counterparty\"], [\"SHA-256\"], [\"Groestl\"], [\"Scrypt\"], [\"X13\"], [\"Scrypt\"], [\"Scrypt\"], [\"X13\"], [\"X11\"], [\"Scrypt\"], [\"X11\"], [\"SHA3\"], [\"QUAIT\"], [\"X11\"], [\"Scrypt\"], [\"X13\"], [\"SHA-256\"], [\"X15\"], [\"BLAKE256\"], [\"SHA-256\"], [\"X11\"], [\"SHA-256\"], [\"NIST5\"], [\"Scrypt\"], [\"Scrypt\"], [\"X11\"], [\"Scrypt\"], [\"SHA-256\"], [\"Scrypt\"], [\"PoS\"], [\"X11\"], [\"SHA-256\"], [\"SHA-256\"], [\"NIST5\"], [\"X11\"], [\"POS 3.0\"], [\"Scrypt\"], [\"Scrypt\"], [\"Scrypt\"], [\"X13\"], [\"X11\"], [\"X11\"], [\"Scrypt\"], [\"SHA-256\"], [\"X11\"], [\"Scrypt\"], [\"Scrypt\"], [\"Scrypt\"], [\"Scrypt\"], [\"SHA-256D\"], [\"PoS\"], [\"Scrypt\"], [\"X11\"], [\"PoS\"], [\"X13\"], [\"X14\"], [\"PoS\"], [\"SHA-256D\"], [\"DPoS\"], [\"X11\"], [\"X13\"], [\"X11\"], [\"PoS\"], [\"Scrypt\"], [\"Scrypt\"], [\"PoS\"], [\"X11\"], [\"SHA-256\"], [\"Scrypt\"], [\"X11\"], [\"Scrypt\"], [\"Scrypt\"], [\"X11\"], [\"Scrypt\"], [\"Scrypt\"], [\"Scrypt\"], [\"Scrypt\"], [\"Quark\"], [\"QuBit\"], [\"Scrypt\"], [\"SHA-256\"], [\"X11\"], [\"Scrypt\"], [\"Scrypt\"], [\"Scrypt\"], [\"Scrypt\"], [\"X13\"], [\"Scrypt\"], [\"Scrypt\"], [\"X11\"], [\"Blake2S\"], [\"X11\"], [\"PoS\"], [\"X11\"], [\"PoS\"], [\"X11\"], [\"Scrypt\"], [\"Scrypt\"], [\"Scrypt\"], [\"SHA-256\"], [\"X11\"], [\"Scrypt\"], [\"PoS\"], [\"Scrypt\"], [\"X15\"], [\"SHA-256\"], [\"POS 3.0\"], [\"536\"], [\"NIST5\"], [\"NIST5\"], [\"Skein\"], [\"X13\"], [\"Scrypt\"], [\"X13\"], [\"SkunkHash v2 Raptor\"], [\"Skein\"], [\"X11\"], [\"Scrypt\"], [\"PoS\"], [\"Scrypt\"], [\"Scrypt\"], [\"SHA-512\"], [\"Ouroboros\"], [\"X11\"], [\"NeoScrypt\"], [\"Scrypt\"], [\"Lyra2REv2\"], [\"Scrypt\"], [\"SHA-256\"], [\"NIST5\"], [\"PHI1612\"], [\"Scrypt\"], [\"Quark\"], [\"POS 2.0\"], [\"Scrypt\"], [\"SHA-256\"], [\"X11\"], [\"DPoS\"], [\"NIST5\"], [\"X13\"], [\"Scrypt\"], [\"NIST5\"], [\"Quark\"], [\"Scrypt\"], [\"Scrypt\"], [\"X11\"], [\"Quark\"], [\"Scrypt\"], [\"Scrypt\"], [\"X11\"], [\"POS 3.0\"], [\"Ethash\"], [\"Scrypt\"], [\"Scrypt\"], [\"X13\"], [\"C11\"], [\"X11\"], [\"XEVAN\"], [\"Scrypt\"], [\"VBFT\"], [\"NIST5\"], [\"Scrypt\"], [\"Scrypt\"], [\"Scrypt\"], [\"Green Protocol\"], [\"PoS\"], [\"Scrypt\"], [\"Semux BFT consensus\"], [\"Quark\"], [\"PoS\"], [\"X16R\"], [\"Scrypt\"], [\"XEVAN\"], [\"Scrypt\"], [\"Scrypt\"], [\"Scrypt\"], [\"SHA-256D\"], [\"Scrypt\"], [\"X15\"], [\"Scrypt\"], [\"Quark\"], [\"SHA-256\"], [\"DPoS\"], [\"X16R\"], [\"Quark\"], [\"Quark\"], [\"Scrypt\"], [\"Lyra2REv2\"], [\"Quark\"], [\"Scrypt\"], [\"X11\"], [\"X11\"], [\"Scrypt\"], [\"PoS\"], [\"Keccak\"], [\"X11\"], [\"Scrypt\"], [\"SHA-512\"], [\"XEVAN\"], [\"XEVAN\"], [\"X11\"], [\"Quark\"], [\"Scrypt\"], [\"Quark\"], [\"Quark\"], [\"Scrypt\"], [\"X11\"], [\"Scrypt\"], [\"XEVAN\"], [\"SHA-256D\"], [\"X11\"], [\"X11\"], [\"DPoS\"], [\"Scrypt\"], [\"X11\"], [\"Scrypt\"], [\"Scrypt\"], [\"SHA-256\"], [\"Scrypt\"], [\"X11\"], [\"Scrypt\"], [\"SHA-256\"], [\"X11\"], [\"Scrypt\"], [\"Scrypt\"], [\"X11\"], [\"Scrypt\"], [\"PoS\"], [\"X11\"], [\"SHA-256\"], [\"DPoS\"], [\"Scrypt\"], [\"Scrypt\"], [\"NeoScrypt\"], [\"X13\"], [\"DPoS\"], [\"DPoS\"], [\"SHA-256\"], [\"PoS\"], [\"PoS\"], [\"SHA-256\"], [\"Scrypt\"], [\"Scrypt\"]], \"hovertemplate\": \"<b>%{hovertext}</b><br><br>Class=%{marker.color}<br>PC1=%{x}<br>PC2=%{y}<br>PC3=%{z}<br>Algorithm=%{customdata[0]}<extra></extra>\", \"hovertext\": [\"42 Coin\", \"404Coin\", \"EliteCoin\", \"Dash\", \"Bitshares\", \"BitcoinDark\", \"PayCoin\", \"KoboCoin\", \"Aurora Coin\", \"BlueCoin\", \"EnergyCoin\", \"BitBar\", \"CryptoBullion\", \"CasinoCoin\", \"Diamond\", \"Exclusive Coin\", \"FlutterCoin\", \"HoboNickels\", \"HyperStake\", \"IOCoin\", \"MaxCoin\", \"MintCoin\", \"MazaCoin\", \"Nautilus Coin\", \"NavCoin\", \"OpalCoin\", \"Orbitcoin\", \"PotCoin\", \"PhoenixCoin\", \"Reddcoin\", \"SuperCoin\", \"SyncCoin\", \"TeslaCoin\", \"TittieCoin\", \"TorCoin\", \"UnitaryStatus Dollar\", \"UltraCoin\", \"VeriCoin\", \"X11 Coin\", \"Crypti\", \"StealthCoin\", \"ZCC Coin\", \"BurstCoin\", \"StorjCoin\", \"Neutron\", \"FairCoin\", \"RubyCoin\", \"Kore\", \"Dnotes\", \"8BIT Coin\", \"Sativa Coin\", \"Ucoin\", \"Vtorrent\", \"IslaCoin\", \"Nexus\", \"Droidz\", \"Squall Coin\", \"Diggits\", \"Paycon\", \"Emercoin\", \"EverGreenCoin\", \"Decred\", \"EDRCoin\", \"Hitcoin\", \"DubaiCoin\", \"PWR Coin\", \"BillaryCoin\", \"GPU Coin\", \"EuropeCoin\", \"ZeitCoin\", \"SwingCoin\", \"SafeExchangeCoin\", \"Nebuchadnezzar\", \"Ratecoin\", \"Revenu\", \"Clockcoin\", \"VIP Tokens\", \"BitSend\", \"Let it Ride\", \"PutinCoin\", \"iBankCoin\", \"Frankywillcoin\", \"MudraCoin\", \"Lutetium Coin\", \"GoldBlocks\", \"CarterCoin\", \"BitTokens\", \"MustangCoin\", \"ZoneCoin\", \"RootCoin\", \"BitCurrency\", \"Swiscoin\", \"BuzzCoin\", \"Opair\", \"PesoBit\", \"Halloween Coin\", \"CoffeeCoin\", \"RoyalCoin\", \"GanjaCoin V2\", \"TeamUP\", \"LanaCoin\", \"ARK\", \"InsaneCoin\", \"EmberCoin\", \"XenixCoin\", \"FreeCoin\", \"PLNCoin\", \"AquariusCoin\", \"Creatio\", \"Eternity\", \"Eurocoin\", \"BitcoinFast\", \"Stakenet\", \"BitConnect Coin\", \"MoneyCoin\", \"Enigma\", \"Russiacoin\", \"PandaCoin\", \"GameUnits\", \"GAKHcoin\", \"Allsafe\", \"LiteCreed\", \"Klingon Empire Darsek\", \"Internet of People\", \"KushCoin\", \"Printerium\", \"Impeach\", \"Zilbercoin\", \"FirstCoin\", \"FindCoin\", \"OpenChat\", \"RenosCoin\", \"VirtacoinPlus\", \"TajCoin\", \"Impact\", \"Atmos\", \"HappyCoin\", \"MacronCoin\", \"Condensate\", \"Independent Money System\", \"ArgusCoin\", \"LomoCoin\", \"ProCurrency\", \"GoldReserve\", \"GrowthCoin\", \"Phreak\", \"Degas Coin\", \"HTML5 Coin\", \"Ultimate Secure Cash\", \"QTUM\", \"Espers\", \"Denarius\", \"Virta Unique Coin\", \"Bitcoin Planet\", \"BritCoin\", \"Linda\", \"DeepOnion\", \"Signatum\", \"Cream\", \"Monoeci\", \"Draftcoin\", \"Stakecoin\", \"CoinonatX\", \"Ethereum Dark\", \"Obsidian\", \"Cardano\", \"Regalcoin\", \"TrezarCoin\", \"TerraNovaCoin\", \"Rupee\", \"WomenCoin\", \"Theresa May Coin\", \"NamoCoin\", \"LUXCoin\", \"Xios\", \"Bitcloud 2.0\", \"KekCoin\", \"BlackholeCoin\", \"Infinity Economics\", \"Magnet\", \"Lamden Tau\", \"Electra\", \"Bitcoin Diamond\", \"Cash & Back Coin\", \"Bulwark\", \"Kalkulus\", \"GermanCoin\", \"LiteCoin Ultra\", \"PhantomX\", \"Digiwage\", \"Trollcoin\", \"Litecoin Plus\", \"Monkey Project\", \"TokenPay\", \"1717 Masonic Commemorative Token\", \"My Big Coin\", \"Unified Society USDEX\", \"Tokyo Coin\", \"Stipend\", \"Pushi\", \"Ellerium\", \"Velox\", \"Ontology\", \"Bitspace\", \"Briacoin\", \"Ignition\", \"MedicCoin\", \"Bitcoin Green\", \"Deviant Coin\", \"Abjcoin\", \"Semux\", \"Carebit\", \"Zealium\", \"Proton\", \"iDealCash\", \"Bitcoin Incognito\", \"HollyWoodCoin\", \"Swisscoin\", \"Xt3ch\", \"TheVig\", \"EmaratCoin\", \"Dekado\", \"Lynx\", \"Poseidon Quark\", \"BitcoinWSpectrum\", \"Muse\", \"Trivechain\", \"Dystem\", \"Giant\", \"Peony Coin\", \"Absolute Coin\", \"Vitae\", \"TPCash\", \"ARENON\", \"EUNO\", \"MMOCoin\", \"Ketan\", \"XDNA\", \"PAXEX\", \"ThunderStake\", \"Kcash\", \"Bettex coin\", \"BitMoney\", \"Junson Ming Chan Coin\", \"HerbCoin\", \"Oduwa\", \"Galilel\", \"Crypto Sports\", \"Credit\", \"Dash Platinum\", \"Nasdacoin\", \"Beetle Coin\", \"Titan Coin\", \"Award\", \"Insane Coin\", \"ALAX\", \"LiteDoge\", \"TruckCoin\", \"OrangeCoin\", \"BitstarCoin\", \"NeosCoin\", \"HyperCoin\", \"PinkCoin\", \"AudioCoin\", \"IncaKoin\", \"Piggy Coin\", \"Genstake\", \"XiaoMiCoin\", \"CapriCoin\", \" ClubCoin\", \"Radium\", \"Creditbit \", \"OKCash\", \"Lisk\", \"HiCoin\", \"WhiteCoin\", \"FriendshipCoin\", \"Triangles Coin\", \"EOS\", \"Oxycoin\", \"TigerCash\", \"Particl\", \"Nxt\", \"ZEPHYR\", \"Gapcoin\", \"BitcoinPlus\"], \"legendgroup\": \"1\", \"marker\": {\"color\": [1, 1, 1, 1, 1, 1, 1, 1, 1, 1, 1, 1, 1, 1, 1, 1, 1, 1, 1, 1, 1, 1, 1, 1, 1, 1, 1, 1, 1, 1, 1, 1, 1, 1, 1, 1, 1, 1, 1, 1, 1, 1, 1, 1, 1, 1, 1, 1, 1, 1, 1, 1, 1, 1, 1, 1, 1, 1, 1, 1, 1, 1, 1, 1, 1, 1, 1, 1, 1, 1, 1, 1, 1, 1, 1, 1, 1, 1, 1, 1, 1, 1, 1, 1, 1, 1, 1, 1, 1, 1, 1, 1, 1, 1, 1, 1, 1, 1, 1, 1, 1, 1, 1, 1, 1, 1, 1, 1, 1, 1, 1, 1, 1, 1, 1, 1, 1, 1, 1, 1, 1, 1, 1, 1, 1, 1, 1, 1, 1, 1, 1, 1, 1, 1, 1, 1, 1, 1, 1, 1, 1, 1, 1, 1, 1, 1, 1, 1, 1, 1, 1, 1, 1, 1, 1, 1, 1, 1, 1, 1, 1, 1, 1, 1, 1, 1, 1, 1, 1, 1, 1, 1, 1, 1, 1, 1, 1, 1, 1, 1, 1, 1, 1, 1, 1, 1, 1, 1, 1, 1, 1, 1, 1, 1, 1, 1, 1, 1, 1, 1, 1, 1, 1, 1, 1, 1, 1, 1, 1, 1, 1, 1, 1, 1, 1, 1, 1, 1, 1, 1, 1, 1, 1, 1, 1, 1, 1, 1, 1, 1, 1, 1, 1, 1, 1, 1, 1, 1, 1, 1, 1, 1, 1, 1, 1, 1, 1, 1, 1, 1, 1, 1, 1, 1, 1, 1, 1, 1, 1, 1, 1, 1, 1, 1, 1, 1, 1, 1, 1, 1, 1, 1, 1, 1, 1, 1, 1, 1, 1, 1, 1, 1, 1, 1, 1, 1], \"coloraxis\": \"coloraxis\", \"symbol\": \"circle\"}, \"mode\": \"markers\", \"name\": \"1\", \"scene\": \"scene\", \"showlegend\": true, \"type\": \"scatter3d\", \"x\": [-0.33326723614813386, -0.31659163574414784, 2.29550501995584, -0.40434797399470374, -0.27167300566923624, -0.3197913432757864, -0.2703209562874464, -0.2425604470602062, -0.33292652611930135, -0.3254988100105153, -0.3317627226020412, -0.33326316813786183, -0.3332474366280707, 0.7537837187060207, -0.37162707510116516, -0.354741843304184, -0.2603390190819107, -0.33132431364790077, -0.33468671438072606, -0.4042425941291023, -0.397169592254923, -0.0235296957115557, -0.28306522316659655, -0.2835476941336401, -0.2910843749529697, -0.2917070327882412, -0.35844290758196456, -0.32756433743773766, -0.33166758225629217, 0.025132631263611784, -0.35458766859691615, -0.40461448890639734, -0.2415190882006859, -0.32598136092783087, -0.40452603992235187, -0.3084774606634221, -0.33194342968642093, -0.2641856406951617, -0.4044905015452771, -0.2419874134665152, -0.2914877381107452, -0.32436144434353603, 0.22252742063288417, -0.3255915068262172, -0.31900237470005843, -0.37104823163100786, -0.2835279796228099, -0.29178244404189424, -0.27817691254428184, -0.3332492917492591, -0.2917345999782383, -0.3550327842363446, -0.3329834319633481, -0.40459600448016475, -0.3597153714631652, -0.42862713303068845, -0.2941085091928591, -0.2819281150606853, -0.2912557926272, -0.3123402670459228, -0.2450044601021757, -0.10020152619789321, -0.319762236245458, -0.08176536158197613, -0.3198260052300163, -0.2503995747756792, -0.3328591680017549, -0.28179676472974846, -0.4017622095415643, 0.8706906073373628, -0.3196258505288687, 0.02239335152597678, -0.35442483884767234, -0.40243725849764944, -0.3183680342262916, -0.31603383519666284, -0.3718455318319985, -0.40332993917713533, -0.3566052935628305, -0.30913365828445766, -0.3328972873716883, -0.3313350261830531, -0.24100498396269512, -0.3425129744677349, -0.4040694066960869, -0.3321008262775721, -0.31980691742357753, -0.4045851808279006, -0.33308664383131287, -0.3332435206877609, -0.2817868840623284, -0.20905826240738035, 0.020263153805549324, -0.3533810317205609, -0.33285739930235503, -0.39073387346023336, -0.35270927107511857, -0.24243710937438742, -0.4342814737107132, -0.35245738296737006, -0.2945206141659092, 3.7014655924010627, -0.4041773630541811, 0.8412506262729552, -0.4045400559971885, -0.35384517561468903, -0.3327848065489695, -0.3329392353651263, -0.35442483884767234, -0.40411451589180997, -0.31966949381723303, -0.33278555663744824, -0.37879202642948195, -0.3329330659569742, -0.32851637753220153, -0.40456906793619224, -0.3321429128663801, 0.3602679820916368, -0.3331325228855775, -0.33320316892727586, -0.3532183159223271, -0.3667025069906126, -0.32942598342230717, -0.31978331411024125, -0.4044789437362574, -0.3329807789387158, -0.3331078188277238, -0.28343428625979256, -0.2891887969210618, -0.24220476629410873, -0.3139451291935602, -0.2831752811461192, -0.40374393554137084, -0.45107658908903886, -0.40248137167984854, -0.3526699046763901, -0.4036417471232769, -0.3470650604421735, -0.3995788165269123, -0.33305106625244035, -0.33305023739158174, -0.32616459833168, 0.26291235520974293, -0.40412071922147574, -0.2660590713390718, -0.3544591330870447, -0.332260978427591, 0.890411002033334, -0.26900995953954665, -0.3553825992692319, 0.5745287258138644, -0.3733824860654528, -0.3718833623010804, -0.4175023886540749, -0.2914194175857806, 0.13213859918081436, -0.2914902683855799, -0.35653208000071346, -0.4170069171101423, -0.4043933752492209, -0.28350863480989247, -0.354325232932096, -0.3326859325610214, -0.3331860841070461, -0.3297876523492751, 0.6454198869779765, -0.40433411710365935, -0.35343756433514933, -0.3331416388073418, -0.3130182356196675, 0.4365911596924055, -0.3181281967514376, -0.3581354063192571, -0.41101683241337394, -0.33309192873032023, -0.40106548908001405, -0.36116289778940575, -0.33296224994264034, -0.09665734303713248, -0.4031256106211809, 3.7063260309829977, 0.18658746379863375, -0.28815824747827357, -0.3304202084057474, -0.3237388951343393, -0.35310412509249545, 0.08160500382968497, -0.3320998259912415, -0.40370740304492453, -0.35226801212729625, -0.3196547666787199, -0.3332082320547483, -0.35500469100707954, -0.356887434344617, -0.2770124530359555, -0.2698184767642249, -0.3287497107024157, -0.23399265799436156, -0.38717738035836075, -0.4044105942986885, -0.2485171380989063, -0.2826677483429979, -0.3085934403940355, -0.3729810580579925, -0.33323560896778165, -0.3332173018160114, -0.27704419327757374, -0.33138811180522093, -0.35391933272443643, -0.3329335462933062, 3.8806541168084507, -0.39973255777135097, -0.35410815750973323, -0.3219716577819279, -0.27975253487322466, -0.13816373243453736, -0.2832026028951866, -0.13618173774540657, -0.2834547975101597, -0.35990119633794804, -0.3324070642925701, -0.1949406630931057, 2.276648594015138, -0.3488073999884296, -0.26913802635241135, 1.008862522542945, -0.3707145511242534, -0.35321773629296416, -0.4027513374128591, -0.16405823049980658, -0.36235331070900706, -0.3519361500258686, -0.3261046464925022, -0.3545817093765241, -0.4038834891789114, -0.2806977531234481, -0.35320698096571673, -0.35592050096221817, -0.3544428748532076, -0.19257121644190164, -0.3205577230438328, -0.1991033381423019, 0.7307559628592796, -0.1448062667361126, -0.4020453364094806, -0.33293754577625784, -0.40250187097439216, -0.35333481629793634, 0.5744151387769282, -0.35505904835792956, -0.3324199355254135, -0.24296765803339226, -0.31457603897739483, -0.4014454482001638, -0.4041109396664786, 3.718577800994699, 0.10239347640734388, -0.4016489007951447, -0.33180468807513924, -0.3326306469315814, -0.2703535878541859, -0.3331494899350728, -0.3957315704876644, -0.24676368978740282, -0.09929130569616344, -0.39147560480019655, -0.3324272541563633, -0.3254856224277963, -0.40067663693577327, -0.33086495508901476, -0.35470069531757703, -0.4155465368326927, -0.31830513036911645, 3.7018577765360634, -0.09057355453692528, -0.3280573645369366, -0.35806835323832487, -0.29188975548905477, 3.711732443907693, 3.712977469789688, -0.25123420504370547, -0.3546365168466557, -0.379093358915475, 2.458831835034878, -0.33131056477235826, -0.28385166043925136], \"y\": [1.0083086496391498, 1.0081958644906834, 1.5440488108621917, 1.2556593650852679, 1.7514789425229669, 0.8573936832034676, 0.6270998355866778, 1.8155326814259896, 1.008302135165187, 1.0084329897247697, 1.0083327306470118, 1.0083083579276966, 1.0083082528701808, 0.36540217796324226, 0.8889876823020436, 1.4863764815626268, 0.48126824795102563, 1.0082541029557972, 1.0256976103388986, 1.2556610517767697, 1.6452809594836484, 0.7821738118944003, 0.8562706176198862, 0.7780004619991311, 1.7268658474110203, 1.7268558812597672, 0.5176534853338484, 1.0081001725018104, 1.0082643102034905, 1.014045134597718, 1.0253790791833202, 1.2556708001253571, 0.10760973853401047, 1.5509143213473962, 1.2556650794722475, 1.0075634999345509, 1.0082584676251571, 0.36253440286474437, 1.255668859972759, 0.10767361325878778, 1.7268593912516137, 1.007737487636569, 0.6842347109950435, 1.4150576270565889, 0.8573734807931825, 0.8890000732030544, 0.7780123253182802, 1.726846109761826, 0.7777411202710927, 1.008308936884001, 1.7268483029585764, 1.0253576806098312, 1.0082989180575015, 1.2556710966975229, 1.3515372542915267, 2.0555170415393933, 0.8515052525440414, 0.7779665618114735, 1.726827418401924, 0.8568149387949169, 1.8157245912267752, 0.9986640424602564, 0.8573941490854503, 1.2418893576836967, 0.8574013360358181, 1.473680392318819, 1.0082852054601417, 0.7778822681238442, 1.255442390598601, 0.7258295943654745, 0.8573834853330062, 0.3807112623340444, 1.4863672813486843, 1.255652121211996, 0.8572732056868726, 0.8570948308129197, 1.4716723162058505, 1.2555921559028564, 1.5042573011781246, 1.0072675143266028, 1.0082829300131708, 1.0082682056240935, 1.4964322258798952, 1.0251034393920273, 1.2556438400004744, 1.00826308542876, 0.8573941476329727, 1.2556691288193016, 1.008296552360024, 1.0083090292545915, 0.7780401929860731, 0.32036068238988125, 1.9239255204299959, 1.4863454481867133, 1.0083152094452372, 1.2548224116733717, 1.4863804663647735, 1.4965502604911936, 1.9379230878706921, 1.4861982205558153, 1.9278041968656638, 2.253565089190037, 1.2556563862013284, 1.7443831507163154, 1.2556692420544453, 1.4863551481390718, 1.0082888651011161, 1.0082839239160761, 1.4863672813486843, 1.25563598092504, 0.8573970609174876, 1.0082928070296855, 0.9255809945351188, 1.008294014554401, 1.007920310879928, 1.2556679593062738, 1.0082238716439091, 0.7651107001329266, 1.0083015276804872, 1.0083073086173695, 1.4102724452755806, 0.6214755119548487, 1.0080132788002756, 0.857394525423434, 1.2556662943399168, 1.008298960521345, 1.0082955473108877, 0.7779745710967764, 0.25499483868038697, 1.4965453972065572, 1.0079042093357171, 0.7779934001837545, 1.2556133641061458, 2.0087584885236844, 1.255626435414528, 1.4863309299279386, 1.2556149997159032, 1.486213872167389, 1.2553945476400707, 1.0082969704163136, 1.0082917109051919, 1.0077086266725523, 0.5821156028982261, 1.2556501557668829, 0.7768645164524802, 1.4863595953755304, 1.0082498164633247, 1.7696830288950298, 0.6269869390944257, 1.5042294099204943, 1.9235379270139512, 1.471704812513018, 1.4716502995011882, 1.9302128156758787, 1.7268390735809993, 0.9800725251047557, 1.726845862991966, 1.4739937286553173, 1.9302207461058336, 1.2556675545434777, 0.7780002122491712, 1.486339185455363, 1.00828351614256, 1.0083069510067892, 1.7530532956641722, 1.5758181168225533, 1.255656018343406, 0.5174508080220607, 1.0082994309749564, 0.6315820074916101, 1.0027882030253645, 0.8573646341209277, 1.4710995437676115, 1.7822444034193408, 1.0082964677708648, 1.6404670182643952, 1.3971428853878578, 1.0083029767348057, 0.6234650269580878, 1.2555918578167968, 2.253375244550108, 1.4592635327573922, 1.7267628041121441, 1.008204340313914, 1.241394312843771, 1.41027070446101, 0.9792636933096636, 1.0082202790454446, 1.255649634166928, 1.4102127164811398, 1.0078841925435431, 1.0083067392519658, 1.0253574165585313, 1.5042588517884181, -0.08044343386773735, 0.26440012235998195, 1.0082153764605193, 1.4961162399926577, 0.8262542761118316, 1.2556562216760647, 1.436848474370348, 0.7779375944144026, 1.337191462642791, 1.4716826894362698, 1.0083070147684965, 1.008305880376408, 0.7777592503754611, 1.393567198708441, 1.4863268403441237, 1.0082925794530981, 2.1460381546186587, 1.6404883529273189, 1.4863295277004824, 0.5781271985915091, 1.00550962632259, 1.0327083185579822, 0.7779989768700577, 1.004183358387871, 0.7779820935695106, 1.9320434376222044, 1.0082624660765938, 1.5853879968781355, 0.039258200248935914, 1.4098898419494759, 0.627056132892522, 1.8704685126174783, 0.8084126733262389, 1.4102681723136539, 1.6405790998838687, 0.7678771702387123, 0.8618644604620596, 1.4102323023385175, 1.0077095862510936, 1.0253399207046365, 1.2556468157633918, 0.7778720617172429, 1.4862511699198941, 1.0314719976997742, 1.0253100260701857, 0.997713887175174, 2.358035985522951, 1.2065540778848103, 1.0819020772606511, 1.0287368032214574, 1.6405555361592907, 1.0082989387971393, 1.6405731829846877, 1.4102717439328571, 0.969451602484295, 1.0253574743429126, 1.008262260061916, 1.4366232674800803, 1.9292717419254892, 1.255421767188409, 1.255657449362331, 2.2532144909343303, 0.9903020283577227, 1.2557182675181877, 1.008189317642661, 1.0082801158554429, 0.627093246785811, 1.0083105342941985, 1.255456125980152, 1.0021992912408617, 0.8608030651279198, 1.2551673929336649, 1.0083113886739827, 1.0081477181780756, 1.255585378436765, 1.0082329071052152, 1.4863707168109688, 0.9501857383958107, 0.8573582336199067, 2.2535464449287663, 0.773957348069435, 1.0081779259846495, 0.517619228658295, 1.7268528709877282, 2.253818631920781, 2.253838559584984, 0.6267005495233888, 1.4863720051569136, 1.603450385287085, 1.0094392369652452, 1.0081615411648044, 0.7780064308337828], \"z\": [-0.5915094432097284, -0.591864840941485, -0.615920224548351, -0.4632736375086266, -0.03890289933933481, -0.316578347675146, -0.030178836909579423, -0.6068648758768291, -0.5915161388457667, -0.5916987756151486, -0.5915461112797852, -0.5915094944076837, -0.5915098298649097, -0.5118675995115374, -0.4026328713806093, -0.06049596137413395, -0.34041701675483843, -0.5915452877742398, -0.17736741831573768, -0.4632762058310478, -0.5250993648710773, -0.311452263135032, -0.3172435381830122, -0.3051135420614331, -0.5830087518217972, -0.5829935763794214, -0.3178509048821821, -0.5916081550025835, -0.5915390314958064, -0.6002443795260421, -0.17688239144090168, -0.46326925177854505, 0.10074747828240792, -0.28018712095923837, -0.46327044852117566, -0.5919601749535103, -0.5915321167237817, -0.3732680724689234, -0.46327174622996126, 0.10074930196954325, -0.5829989210383224, -0.5916305919828828, -0.5581505223698182, -0.139587639763512, -0.31659316488619577, -0.4026473990350476, -0.3051155742638234, -0.5829905876105838, -0.3051980389132464, -0.5915098805553749, -0.5829919454751816, -0.17686962499312484, -0.5915144420299123, -0.46326970237764503, -0.26043347833717306, -0.5989390153865232, -0.27435266645081824, -0.30514497587323725, -0.5829997788454344, -0.31666615193466185, -0.6068363544630191, -0.3165987175063297, -0.31657905707288647, -0.4685915046992184, -0.316578605783455, -0.5541142927862116, -0.5915153607180841, -0.3051365677711443, -0.4633019407793097, -0.323751785193161, -0.31658065480719016, -0.49767231428228864, -0.06050176934868704, -0.463315122656905, -0.3165937863807564, -0.31662168632841514, -0.5511457756048731, -0.463287228379136, -0.13056329555106566, -0.59190582065606, -0.591514207896302, -0.5915469447589943, -0.2966039919320272, -0.17711366774724874, -0.46327774146274703, -0.591529239683138, -0.3165780640049304, -0.4632696784614782, -0.5915118306424654, -0.5915100212079231, -0.30515800831644774, -0.5509392161225559, -0.6165680869542669, -0.06052203026695386, -0.5915194317742123, -0.46346369547248345, -0.06054166317569449, -0.2965880290528175, -0.5630041173723135, -0.060522771365357844, -0.6100943830290914, -0.18823248353772637, -0.46327702841704826, -0.6105245490314728, -0.46327069640863694, -0.060513019818194805, -0.5915175048847714, -0.5915134093130104, -0.06050176934868704, -0.4632756830240225, -0.31658150920227274, -0.5915180179092792, -0.11071646400267271, -0.591514902323851, -0.5915628307442354, -0.4632698793584271, -0.5915230351550895, -0.3176878998030167, -0.5915114797047081, -0.5915106866667368, -0.19654976290435924, -0.4029898064154953, -0.5915551106056561, -0.3165786392658541, -0.4632716583050569, -0.5915145066895376, -0.5915112250546287, -0.3051125830667912, -0.4339533060501838, -0.2965925385138136, -0.5918844588442207, -0.30512086862925175, -0.46328087868136447, -0.6543626226730125, -0.4633106909041855, -0.06053588154163719, -0.4632833692216941, -0.06064469881981551, -0.4633440297112923, -0.5915126773975231, -0.5915119890746936, -0.591586645439706, -0.03598325327604615, -0.4632774499073184, -0.30534952010496463, -0.060499974492523236, -0.591523897895023, -0.6258799489281159, -0.030192798584591465, -0.13058671752027523, -0.6425087456738572, -0.5511159891774755, -0.5511419764924717, -0.6186042900939857, -0.5829977090423147, -0.5980571556235919, -0.5829970469669825, 0.03921129278190685, -0.6186163657468368, -0.46327372908450937, -0.3051143764495543, -0.060500207363624506, -0.5915189832303459, -0.5915110182596998, -0.03782306976642386, -0.11527110658813645, -0.46327349571157134, -0.3179348954480683, -0.5915109953947358, -0.045453731791854836, -0.6078748748301019, -0.3166114014733583, -0.5513734664017222, -0.5659355730695498, -0.5915117018386894, -0.4829720036302632, -0.09967340184051222, -0.5915154581018531, -0.03354944043445991, -0.46329172876533187, -0.18831497851363274, -0.5618874522142707, -0.5830599277744157, -0.5915586913444362, -0.2647180896227681, -0.19655206645018564, -0.5968255487588596, -0.5915235098488525, -0.4632865642306253, -0.1965628538742605, -0.5917548936800598, -0.5915104976497181, -0.17687021377890894, -0.13055723438454409, 0.11474624459030101, -0.5383431258897985, -0.5915972949049702, -0.2967173544959442, -0.4469016649797519, -0.46327182361333835, -0.5965912256384509, -0.3051246478151316, -0.18569992426587395, -0.5511219366551835, -0.5915099263220228, -0.5915101806975688, -0.3052256455938123, -0.1969738307502433, -0.060507568122971825, -0.591514698809964, -0.25332993891554495, -0.48300448988695166, -0.06050373330597759, -0.053670728136179076, -0.5923224923836937, -0.4076746619124655, -0.3051210108663818, -0.595334602826538, -0.30511313810485946, -0.6092111865197866, -0.5915223514589691, -0.32044428597884966, -0.6204071411070424, -0.19659636717147258, -0.030199250619156577, -0.15035486919947083, -0.3400852796416182, -0.1965492016097792, -0.48294960277714916, -0.3064084438942356, -0.3318547182170441, -0.19657286010215028, -0.5915881065883967, -0.1768772619837362, -0.46328227265212396, -0.30515961773617123, -0.060513229355619, -0.23529158456234403, -0.17687633000447078, -0.5932122284023125, 0.14128475204876595, -0.3101903836831966, -0.6296662408791783, -0.18199519239697148, -0.482962124669884, -0.5915154644663969, -0.48295435116268354, -0.19654707987520703, -0.6064579294746202, -0.17686901365393945, -0.5915220377607527, -0.596684280230661, -0.6098459256996078, -0.4633062083717701, -0.4632786472905859, -0.1885656273788227, -0.5987707595940629, -0.46334152930989336, -0.5915259077845304, -0.5915197548376236, -0.03017722643147388, -0.591512312929296, -0.4634377949500275, -0.5926107238757595, -0.3219362718646394, -0.4634935697432977, -0.5915284767360794, -0.591660735601421, -0.4633452774252119, -0.59155264713773, -0.06049610110256019, -0.2835099433304445, -0.3166066097221741, -0.18823869306689817, -0.30885838453000325, -0.5916076473524504, -0.3178546247534477, -0.5829891115458132, -0.18849469560938717, -0.1885250394313997, -0.030549315235424555, -0.060497700350168555, 0.25541220106356627, -0.0687668880820969, -0.5915331554002382, -0.3051075895980943]}, {\"customdata\": [[\"SHA-256\"], [\"Ethash\"], [\"Scrypt\"], [\"CryptoNight-V7\"], [\"Ethash\"], [\"Equihash\"], [\"Multiple\"], [\"Scrypt\"], [\"X11\"], [\"Scrypt\"], [\"Multiple\"], [\"Scrypt\"], [\"SHA-256\"], [\"Scrypt\"], [\"Scrypt\"], [\"Quark\"], [\"Groestl\"], [\"Scrypt\"], [\"Scrypt\"], [\"Scrypt\"], [\"X11\"], [\"Multiple\"], [\"SHA-256\"], [\"Scrypt\"], [\"Scrypt\"], [\"Scrypt\"], [\"Scrypt\"], [\"Scrypt\"], [\"NeoScrypt\"], [\"Scrypt\"], [\"Scrypt\"], [\"Scrypt\"], [\"Scrypt\"], [\"SHA-256\"], [\"Scrypt\"], [\"Scrypt\"], [\"Scrypt\"], [\"Scrypt\"], [\"HybridScryptHash256\"], [\"Scrypt\"], [\"Scrypt\"], [\"SHA-256\"], [\"Scrypt\"], [\"Scrypt\"], [\"Scrypt\"], [\"Scrypt\"], [\"SHA-256\"], [\"SHA-256\"], [\"SHA-256\"], [\"SHA-256\"], [\"SHA-256\"], [\"X11\"], [\"Scrypt\"], [\"Lyra2REv2\"], [\"Scrypt\"], [\"SHA-256\"], [\"CryptoNight\"], [\"CryptoNight\"], [\"Scrypt\"], [\"Scrypt\"], [\"Scrypt\"], [\"Scrypt\"], [\"Scrypt\"], [\"Scrypt\"], [\"Stanford Folding\"], [\"Multiple\"], [\"QuBit\"], [\"Scrypt\"], [\"Scrypt\"], [\"M7 POW\"], [\"Scrypt\"], [\"SHA-256\"], [\"Scrypt\"], [\"X11\"], [\"Lyra2RE\"], [\"SHA-256\"], [\"X11\"], [\"Scrypt\"], [\"Scrypt\"], [\"Ethash\"], [\"Blake2b\"], [\"X11\"], [\"SHA-256\"], [\"Scrypt\"], [\"1GB AES Pattern Search\"], [\"Scrypt\"], [\"SHA-256\"], [\"X11\"], [\"Dagger\"], [\"Scrypt\"], [\"X11GOST\"], [\"Scrypt\"], [\"X11\"], [\"Scrypt\"], [\"X11\"], [\"Equihash\"], [\"CryptoNight\"], [\"SHA-256\"], [\"Multiple\"], [\"Scrypt\"], [\"SHA-256\"], [\"Scrypt\"], [\"Lyra2Z\"], [\"Ethash\"], [\"Equihash\"], [\"Scrypt\"], [\"X11\"], [\"X11\"], [\"CryptoNight\"], [\"Scrypt\"], [\"CryptoNight\"], [\"Lyra2RE\"], [\"X11\"], [\"CryptoNight-V7\"], [\"Scrypt\"], [\"X11\"], [\"Equihash\"], [\"Scrypt\"], [\"Lyra2RE\"], [\"Dagger-Hashimoto\"], [\"Scrypt\"], [\"NIST5\"], [\"Scrypt\"], [\"SHA-256\"], [\"Scrypt\"], [\"CryptoNight-V7\"], [\"Argon2d\"], [\"Blake2b\"], [\"Cloverhash\"], [\"CryptoNight\"], [\"X11\"], [\"Scrypt\"], [\"Scrypt\"], [\"X11\"], [\"X11\"], [\"CryptoNight\"], [\"Time Travel\"], [\"Scrypt\"], [\"Keccak\"], [\"X11\"], [\"SHA-256\"], [\"Scrypt\"], [\"Scrypt\"], [\"Scrypt\"], [\"Scrypt\"], [\"Scrypt\"], [\"Scrypt\"], [\"CryptoNight\"], [\"Equihash\"], [\"X11\"], [\"NeoScrypt\"], [\"Equihash\"], [\"Dagger\"], [\"Scrypt\"], [\"X11\"], [\"NeoScrypt\"], [\"Ethash\"], [\"NeoScrypt\"], [\"Multiple\"], [\"CryptoNight\"], [\"CryptoNight\"], [\"Ethash\"], [\"X11\"], [\"CryptoNight-V7\"], [\"Scrypt\"], [\"BLAKE256\"], [\"X11\"], [\"NeoScrypt\"], [\"NeoScrypt\"], [\"Scrypt\"], [\"X11\"], [\"SHA-256\"], [\"C11\"], [\"CryptoNight\"], [\"SkunkHash\"], [\"CryptoNight\"], [\"Scrypt\"], [\"Dagger\"], [\"Lyra2REv2\"], [\"Scrypt\"], [\"Scrypt\"], [\"X11\"], [\"Ethash\"], [\"CryptoNight\"], [\"Scrypt\"], [\"IMesh\"], [\"Equihash\"], [\"Lyra2Z\"], [\"X11\"], [\"CryptoNight\"], [\"NIST5\"], [\"Lyra2RE\"], [\"Tribus\"], [\"Lyra2Z\"], [\"CryptoNight\"], [\"CryptoNight Heavy\"], [\"CryptoNight\"], [\"Jump Consistent Hash\"], [\"CryptoNight\"], [\"X16R\"], [\"HMQ1725\"], [\"X11\"], [\"Scrypt\"], [\"CryptoNight-V7\"], [\"Cryptonight-GPU\"], [\"XEVAN\"], [\"CryptoNight Heavy\"], [\"SHA-256\"], [\"X11\"], [\"X16R\"], [\"Equihash\"], [\"Lyra2Z\"], [\"SHA-256\"], [\"CryptoNight\"], [\"Blake\"], [\"Blake\"], [\"Equihash\"], [\"Exosis\"], [\"Scrypt\"], [\"Equihash\"], [\"Equihash\"], [\"QuBit\"], [\"SHA-256\"], [\"X13\"], [\"SHA-256\"], [\"Scrypt\"], [\"NeoScrypt\"], [\"Blake\"], [\"Scrypt\"], [\"SHA-256\"], [\"Scrypt\"], [\"Groestl\"], [\"Scrypt\"], [\"Scrypt\"], [\"Multiple\"], [\"Equihash+Scrypt\"], [\"Ethash\"], [\"CryptoNight\"], [\"Equihash\"]], \"hovertemplate\": \"<b>%{hovertext}</b><br><br>Class=%{marker.color}<br>PC1=%{x}<br>PC2=%{y}<br>PC3=%{z}<br>Algorithm=%{customdata[0]}<extra></extra>\", \"hovertext\": [\"Bitcoin\", \"Ethereum\", \"Litecoin\", \"Monero\", \"Ethereum Classic\", \"ZCash\", \"DigiByte\", \"ProsperCoin\", \"Spreadcoin\", \"Argentum\", \"MyriadCoin\", \"MoonCoin\", \"ZetaCoin\", \"SexCoin\", \"Quatloo\", \"QuarkCoin\", \"Riecoin\", \"Digitalcoin \", \"Catcoin\", \"CannaCoin\", \"CryptCoin\", \"Verge\", \"DevCoin\", \"EarthCoin\", \"E-Gulden\", \"Einsteinium\", \"Emerald\", \"Franko\", \"FeatherCoin\", \"GrandCoin\", \"GlobalCoin\", \"GoldCoin\", \"Infinite Coin\", \"IXcoin\", \"KrugerCoin\", \"LuckyCoin\", \"Litebar \", \"MegaCoin\", \"MediterraneanCoin\", \"MinCoin\", \"NobleCoin\", \"Namecoin\", \"NyanCoin\", \"RonPaulCoin\", \"StableCoin\", \"SmartCoin\", \"SysCoin\", \"TigerCoin\", \"TerraCoin\", \"UnbreakableCoin\", \"Unobtanium\", \"UroCoin\", \"ViaCoin\", \"Vertcoin\", \"WorldCoin\", \"JouleCoin\", \"ByteCoin\", \"DigitalNote \", \"MonaCoin\", \"Gulden\", \"PesetaCoin\", \"Wild Beast Coin\", \"Flo\", \"ArtByte\", \"Folding Coin\", \"Unitus\", \"CypherPunkCoin\", \"OmniCron\", \"GreenCoin\", \"Cryptonite\", \"MasterCoin\", \"SoonCoin\", \"1Credit\", \"MarsCoin \", \"Crypto\", \"Anarchists Prime\", \"BowsCoin\", \"Song Coin\", \"BitZeny\", \"Expanse\", \"Siacoin\", \"MindCoin\", \"I0coin\", \"Revolution VR\", \"HOdlcoin\", \"Gamecredits\", \"CarpeDiemCoin\", \"Adzcoin\", \"SoilCoin\", \"YoCoin\", \"SibCoin\", \"Francs\", \"BolivarCoin\", \"Omni\", \"PizzaCoin\", \"Komodo\", \"Karbo\", \"ZayedCoin\", \"Circuits of Value\", \"DopeCoin\", \"DollarCoin\", \"Shilling\", \"ZCoin\", \"Elementrem\", \"ZClassic\", \"KiloCoin\", \"ArtexCoin\", \"Kurrent\", \"Cannabis Industry Coin\", \"OsmiumCoin\", \"Bikercoins\", \"HexxCoin\", \"PacCoin\", \"Citadel\", \"BeaverCoin\", \"VaultCoin\", \"Zero\", \"Canada eCoin\", \"Zoin\", \"DubaiCoin\", \"EB3coin\", \"Coinonat\", \"BenjiRolls\", \"ILCoin\", \"EquiTrader\", \"Quantum Resistant Ledger\", \"Dynamic\", \"Nano\", \"ChanCoin\", \"Dinastycoin\", \"DigitalPrice\", \"Unify\", \"SocialCoin\", \"ArcticCoin\", \"DAS\", \"LeviarCoin\", \"Bitcore\", \"gCn Coin\", \"SmartCash\", \"Onix\", \"Bitcoin Cash\", \"Sojourn Coin\", \"NewYorkCoin\", \"FrazCoin\", \"Kronecoin\", \"AdCoin\", \"Linx\", \"Sumokoin\", \"BitcoinZ\", \"Elements\", \"VIVO Coin\", \"Bitcoin Gold\", \"Pirl\", \"eBoost\", \"Pura\", \"Innova\", \"Ellaism\", \"GoByte\", \"SHIELD\", \"UltraNote\", \"BitCoal\", \"DaxxCoin\", \"AC3\", \"Lethean\", \"PopularCoin\", \"Photon\", \"Sucre\", \"SparksPay\", \"GunCoin\", \"IrishCoin\", \"Pioneer Coin\", \"UnitedBitcoin\", \"Interzone\", \"TurtleCoin\", \"MUNcoin\", \"Niobio Cash\", \"ShareChain\", \"Travelflex\", \"KREDS\", \"BitFlip\", \"LottoCoin\", \"Crypto Improvement Fund\", \"Callisto Network\", \"BitTube\", \"Poseidon\", \"Aidos Kuneen\", \"Bitrolium\", \"Alpenschillling\", \"FuturoCoin\", \"Monero Classic\", \"Jumpcoin\", \"Infinex\", \"KEYCO\", \"GINcoin\", \"PlatinCoin\", \"Loki\", \"Newton Coin\", \"MassGrid\", \"PluraCoin\", \"Motion\", \"PlusOneCoin\", \"Axe\", \"HexCoin\", \"Webchain\", \"Ryo\", \"Urals Coin\", \"Qwertycoin\", \"Project Pai\", \"Azart\", \"Xchange\", \"CrypticCoin\", \"Actinium\", \"Bitcoin SV\", \"FREDEnergy\", \"Universal Molecule\", \"Lithium\", \"PirateCash\", \"Exosis\", \"Block-Logic\", \"Beam\", \"Bithereum\", \"SLICE\", \"BLAST\", \"Bitcoin Rhodium\", \"GlobalToken\", \"SolarCoin\", \"UFO Coin\", \"BlakeCoin\", \"Crypto Escudo\", \"Crown Coin\", \"SmileyCoin\", \"Groestlcoin\", \"Bata\", \"Pakcoin\", \"JoinCoin\", \"Vollar\", \"Reality Clash\", \"Beldex\", \"Horizen\"], \"legendgroup\": \"0\", \"marker\": {\"color\": [0, 0, 0, 0, 0, 0, 0, 0, 0, 0, 0, 0, 0, 0, 0, 0, 0, 0, 0, 0, 0, 0, 0, 0, 0, 0, 0, 0, 0, 0, 0, 0, 0, 0, 0, 0, 0, 0, 0, 0, 0, 0, 0, 0, 0, 0, 0, 0, 0, 0, 0, 0, 0, 0, 0, 0, 0, 0, 0, 0, 0, 0, 0, 0, 0, 0, 0, 0, 0, 0, 0, 0, 0, 0, 0, 0, 0, 0, 0, 0, 0, 0, 0, 0, 0, 0, 0, 0, 0, 0, 0, 0, 0, 0, 0, 0, 0, 0, 0, 0, 0, 0, 0, 0, 0, 0, 0, 0, 0, 0, 0, 0, 0, 0, 0, 0, 0, 0, 0, 0, 0, 0, 0, 0, 0, 0, 0, 0, 0, 0, 0, 0, 0, 0, 0, 0, 0, 0, 0, 0, 0, 0, 0, 0, 0, 0, 0, 0, 0, 0, 0, 0, 0, 0, 0, 0, 0, 0, 0, 0, 0, 0, 0, 0, 0, 0, 0, 0, 0, 0, 0, 0, 0, 0, 0, 0, 0, 0, 0, 0, 0, 0, 0, 0, 0, 0, 0, 0, 0, 0, 0, 0, 0, 0, 0, 0, 0, 0, 0, 0, 0, 0, 0, 0, 0, 0, 0, 0, 0, 0, 0, 0, 0, 0, 0, 0, 0, 0, 0, 0, 0, 0, 0, 0, 0, 0, 0, 0, 0, 0, 0, 0, 0, 0, 0, 0, 0, 0, 0], \"coloraxis\": \"coloraxis\", \"symbol\": \"diamond\"}, \"mode\": \"markers\", \"name\": \"0\", \"scene\": \"scene\", \"showlegend\": true, \"type\": \"scatter3d\", \"x\": [-0.14947970718771794, -0.1550188061242338, -0.1617851178004802, -0.1569573069078257, -0.15345914964889987, -0.13311897961810204, 0.1659731459601584, -0.16293236941542721, -0.23422094833405557, -0.16254851679871085, -0.087668620902092, 2.5619140050866926, -0.14656209788812416, -0.15980140778254495, -0.16235231149774706, -0.22781886200273266, -0.20038136915743388, -0.1624012461470828, -0.16291462219042135, -0.16300116139056875, -0.2343103623079481, 0.18972920429241946, 0.22870047119159342, 0.08594793887178336, -0.1627472475901025, -0.15834859617792676, -0.16268646901932773, -0.1630582116017355, -0.18345818206352013, -0.1422615721464648, -0.16185227337128819, -0.16212992271365997, 1.587379124385814, -0.14944104777042, -0.1594168161890227, -0.16277371138968216, -0.16312883584376783, -0.16238743291767324, -0.14312276339835367, -0.16300999236374114, -0.027777492378441238, -0.14951871626889848, -0.1566683731633132, -0.1629893913949031, -0.16108174125714073, -0.16247567695142517, -0.13665907239443287, -0.14898202001612437, -0.1492694517289869, -0.1492523306005824, -0.14984367398198864, -0.23448443076995254, -0.16270566418131982, -0.19155182104981425, -0.15980608738313715, -0.14904936999150767, 3.8586219385573792, 0.4546221942516548, -0.16157221102374983, -0.14615574114437374, -0.16028992150585028, -0.16313104366598527, -0.16015487578192905, -0.14636616248575665, -0.13296789099068493, -0.12170551521835613, -0.19743837599000477, -0.16300402468027345, -0.03582256180812217, -0.1473817930245532, -0.16313994778382737, -0.1495465145525772, 0.48972953805651526, -0.2338710779817915, -0.16435317338727687, -0.14928610204619053, -0.23415621914962806, -0.16126181406933196, -0.16045335468047048, -0.15608702084697834, 0.36567268743813863, -0.2341916546186309, -0.14944217096072093, -0.15909427477362031, -0.1533398582413025, -0.16170202227203473, 0.269407358355581, -0.23335158270505227, -0.15612323813883439, -0.16194942692918624, -0.17043682966815812, -0.16292965494041356, -0.23415484858709038, -0.16314000632981387, -0.23430493185417092, -0.17247182227937086, 0.2993864822508542, -0.14970247802399456, -0.10176015029312319, -0.16030411132916167, -0.1496610745422851, -0.16280308293880574, -0.15801472181094886, -0.15582896216253062, -0.13314061286173523, -0.08978680210733735, -0.22087704840919634, -0.2321309623975366, 0.29938086863474045, -0.16312172541566422, 0.29951169219221413, -0.16489415817123917, 0.48171831120477737, -0.15572063731046007, -0.16308998723578041, -0.22703118409152281, -0.1331530066336844, -0.1612216210523557, -0.1646123006842394, -0.16510359884073827, -0.13398220252136864, -0.20292294576538766, -0.1626519588568427, -0.1159963597613717, -0.16247380219364616, -0.15557846019986848, -0.18868830577398127, -0.03492938792132871, -0.16278705916256186, 0.335534723679098, -0.23335994383580286, -0.1627934302341385, -0.162556498910072, -0.2337550162277743, -0.234333000191268, 0.29977623187836616, -0.15423672540393943, 3.2495967034404374, -0.1255793639214799, -0.22519567646509966, -0.1494788707788478, -0.08863246409229117, 1.5851878399280241, -0.16289134932724741, -0.16234242699088108, -0.1620431395354723, -0.16203006066982312, 0.2999600635298852, 0.07938304509130197, -0.18868146090858548, -0.18815117826189082, -0.13299893290230605, -0.1548810993932439, -0.16121982886545258, -0.22987329095483525, -0.18799643092301394, -0.15419232716691603, -0.1880967429702392, -0.11192841966489835, 1.1381560667795805, 0.29936360489197084, -0.07900184490838906, -0.22961418925799912, -0.14468021361132233, -0.07920462107504846, 1.0761891174316416, -0.2343069771445362, -0.18814874955127184, -0.1811802484823094, -0.16214168300484424, -0.2342323209838116, -0.1494582547518046, -0.21702795871563538, 8.045411129323439, -0.15439251406675708, 0.3032417182393023, 0.030069160256534222, -0.15438407835234702, -0.17709659969039618, -0.1627158955557398, 0.14463477465102864, -0.22836769132785212, -0.10718068413971996, 0.3072950556587583, -0.16295312964982467, -0.14306139606755205, -0.13198914978100676, -0.15579590281231148, -0.23340074688436588, 0.2995462747588072, -0.2029825172796833, -0.16473924148236524, -0.1779513562313247, -0.1580991877830768, 0.3034788329950956, 0.5684348722405975, 2.1098301749019015, -0.15275548045854528, 0.3131637857357985, -0.20138042782552057, -0.16331430144088485, -0.2342891210888289, -0.16297772730410917, -0.14455820367471375, -0.15408341640958842, -0.07716218525088334, 3.0933270592877857, -0.10927147806819812, -0.23426045562267184, -0.20080753413185948, -0.02764796978744515, -0.1574963119602643, -0.14947890837251204, 0.3793856442828713, -0.14440561105810273, -0.14479812105184847, -0.25315679107562733, -0.18118138385801455, -0.16186895810340513, -0.13105700113017604, -0.13283160250958617, -0.19664851740976147, -0.1487544041393671, -0.12174779839585333, -0.1476212436500727, 0.5336965826008305, -0.11324861252216828, -0.09520966206110745, -0.14651686173268455, -0.14926882170702907, 0.5533558597029895, -0.1999419892050919, -0.16305466433896795, -0.16100841668301508, -0.12244094603719965, -0.1530841322349787, -0.15586214971704757, 0.3211403907736827, -0.13312003736016836], \"y\": [-1.269097590180094, -1.9766151932522869, -1.1182245542400506, -2.0982379032086227, -1.9767401080444449, -2.2576457626677446, -1.798910002873725, -1.118197953433217, -0.8708341494336096, -1.1182224989382492, -1.7894093234829245, -1.3486328759769057, -1.2691570878289127, -1.118311278617441, -1.1182450519471154, -0.4860115360871537, -1.237546179547548, -1.1182088409205266, -1.11819766937427, -1.1181934447718342, -0.8708341531647474, -1.7953573419348492, -1.2780173550552854, -1.1238344699593827, -1.1181949904060022, -1.1183235623757048, -1.1182018683671235, -1.118192998876673, -1.609000819843959, -1.1188660108716029, -1.1182156372283871, -1.1182216840055113, -1.1548296037230485, -1.2690969714043014, -1.1183161288385262, -1.1181947002743384, -1.1181870737061985, -1.118204219113757, -2.075807407076405, -1.118191345080225, -1.1267252989534084, -1.2690982145525596, -1.118323224290004, -1.1181988661169417, -1.1183317714087293, -1.1182121976325343, -1.2695111689550003, -1.269108189199455, -1.2691092127061954, -1.2691360595177976, -1.2690886063571154, -0.8708240925556662, -1.1181957522424353, -1.2646421678751005, -1.1183223594444531, -1.2691078312364923, -2.344329783414234, -2.274295044332152, -1.1182362199744131, -1.119113468872883, -1.1182594218212714, -1.118188021161197, -1.1182527025731792, -1.1186315163774994, -2.16536024109086, -1.7885266988730761, -1.5049769761170007, -1.118186518642258, -1.1232855341025345, -2.2759973715437822, -1.118186730183602, -1.2690986594869749, -1.17339757817292, -0.8708378276558992, -2.15602092088551, -1.269117872397399, -0.8708338270962871, -1.118306276649426, -1.1183217135642542, -1.9766443571148022, -2.1143336050418466, -0.8708308257373304, -1.2690969893818866, -1.1182714121090087, -2.1875477571657886, -1.1182232242277184, -1.2778127879601788, -0.8708659117409872, -2.2009456428626564, -1.1182873862192564, -2.2200264760393376, -1.1181971962792476, -0.8708366599855536, -1.1181867289581477, -0.8708390621917983, -2.463026809691252, -2.2696497911449622, -1.2690931166200163, -1.7890639047619759, -1.118283639473451, -1.26909309789921, -1.118202307455782, -2.2528848168884315, -1.9766468635317795, -2.257646108925619, -1.1241492761942804, -0.8709631484797968, -0.8709491484530294, -2.269657731767692, -1.118187933597814, -2.269658492655203, -2.155989762744865, -0.9307313342635671, -2.0983501450076094, -1.1181878864524355, -0.8714185037687652, -2.257643452471894, -1.1182269543157022, -2.155993102156645, -2.1390543787122294, -1.1205744205893367, -0.6548121079518494, -1.1182038285361438, -1.2703309402068401, -1.1182270127219829, -2.0982907728209454, -2.0462623875404624, -2.1209884328096433, -2.0836169369117603, -2.270491484840509, -0.8708774648727606, -1.118194499738092, -1.118230477470695, -0.8708552400691538, -0.8708351578386119, -2.2696749559700438, -2.0182583523647124, -1.206303940845199, -1.0973664840171113, -0.8714604956143363, -1.269097576792689, -1.124487653345062, -1.0902028625147742, -1.1181965831663743, -1.1182334744324534, -1.118240103395335, -1.1182398940573233, -2.2696969140214303, -2.2692173427860203, -0.8713756501276537, -1.6088553997839286, -2.2576438412212307, -2.2010159073534132, -1.1182269256302755, -0.8710000847635412, -1.608865769643492, -1.976801802613546, -1.6088579542937702, -1.7888412547407446, -2.3168825141392437, -2.26965194158233, -1.9825355448277968, -0.8711386789399853, -2.0987547347399604, -1.1204113668642697, -1.1759434246102696, -0.870835383654232, -1.6088510786710433, -1.6090814075178679, -1.1182159872284552, -0.8708364725819178, -1.2690966515849313, -1.300242919096114, -2.8593677147625916, -2.2513157383500593, -2.269820753258387, -1.1222308828459016, -2.200967765637862, -1.265135926024087, -1.1182080490155606, -1.1263972825506903, -0.8710830423863394, -1.9804885973806574, -2.270229777413291, -1.1181982857178592, -2.163448639166393, -2.2576626504326156, -2.2530481415119086, -0.8708781179591438, -2.269653228669445, -0.6547936115117493, -2.1559989023192694, -2.1248109614390382, -2.252878389434325, -2.2700053769435935, -2.2463906762506745, -2.371987019754562, -2.241231802644712, -2.270135843557009, -1.3180518012083693, -2.1423401255168257, -0.8708359543012347, -1.1181994682570215, -2.099288431837437, -2.028980075809086, -0.6897338695604404, -2.337528091707243, -1.2699378203143075, -0.8708383503130983, -1.3180982466574223, -2.2613667943606224, -2.2529211973427756, -1.2690975773944064, -2.274128950653369, -2.181143416987124, -2.1810926805579887, -0.36150149507706425, -2.118437245232191, -1.1182515896093617, -2.257785333251232, -2.2576482186636135, -1.5050357044363805, -1.2691166704898784, -0.39964324509339605, -1.2691727588058304, -1.177047459457754, -1.6104920787270973, -2.1852769164225254, -1.1186339284430085, -1.2691092026221753, -1.1424035109096677, -1.237554134747497, -1.1181884915591542, -1.1182820657423385, -1.7885404684271442, -2.223514260329067, -1.9766461688670884, -2.270293812929712, -2.257645779597777], \"z\": [0.22797492426710442, 0.3728709491247727, -0.046976546511082524, 0.4576036084880553, 0.3728530768595677, 0.44299432097080077, 0.3539185389801997, -0.046954627571505335, 0.0812840378630052, -0.046959858990401594, 0.3582781390096862, -0.07653974432476277, 0.22791808619910844, -0.04700897358310664, -0.046961188386084964, 0.06151433996150982, 0.1419053671173114, -0.04696496681367289, -0.04695506010760312, -0.046953704772600025, 0.08128602525694491, 0.35291326404688106, 0.2207698620844338, -0.05172766466437779, -0.04695913936824765, -0.04703960629356086, -0.04695956572696865, -0.0469524969608096, 0.2266204322739005, -0.04732418955517192, -0.046976252442526394, -0.04696927019071849, -0.08092644318566089, 0.2279739820582022, -0.047016867955702916, -0.04695859029499059, -0.04695172378848918, -0.04696589481158903, 0.47894911867981843, -0.046953790680921516, -0.04881208844291283, 0.22797587499804212, -0.0470769884224397, -0.046953237829475636, -0.04697776924299375, -0.04696286181166141, 0.22774560761078097, 0.22796528925509735, 0.22797181388707818, 0.22797504094532575, 0.2279818048820256, 0.08128854139667001, -0.04695996103368677, 0.21268973185936646, -0.04700738062214614, 0.22796673775658394, 0.3381142405710942, 0.4043446145579763, -0.046979710000726635, -0.04720440424798416, -0.04700508638640124, -0.046951547414611876, -0.04700899016644288, -0.04726449026785714, 0.4265053097287837, 0.3589158804879801, 0.14158153069145404, -0.04695457183789579, -0.0490955314552679, 0.5759137936533298, -0.04695152302748574, 0.2279765524989556, -0.054040217335769795, 0.08127675755460305, 0.44202604850615673, 0.22797334751510182, 0.08128255618421451, -0.046977193626357744, -0.046993084306491, 0.3728986050815179, 0.4322686356268653, 0.08128294030114736, 0.22797400943264243, -0.04703004400009355, 0.45979900156618825, -0.04697857171872686, 0.21983781463436847, 0.08126898747565722, 0.31655438170726186, -0.04696445237269862, 0.4746234474724297, -0.04695478963235706, 0.08128290639502832, -0.04695152189118838, 0.08128656423058765, 0.6554100243808316, 0.40716994920154537, 0.22797927338945245, 0.358544855499625, -0.04700151684934296, 0.22797835083567894, -0.046956915414836126, 0.3860880315522663, 0.3728932074854218, 0.4429948482171051, -0.047780312770732095, 0.08100485349154284, 0.08125304857924182, 0.4071711409559341, -0.04695176624425776, 0.4071683361330298, 0.4420338830364451, 0.07342357421535918, 0.45759121048344625, -0.04695247784221545, 0.08120279411710427, 0.44299476666440446, -0.04698874562013397, 0.44202806853337845, 0.47320762876465305, -0.04727860198428631, -0.006562557556413915, -0.04696006919119312, 0.22739661165927746, -0.0469609127093891, 0.45758007305265114, 0.4997234271746893, 0.44206476017609253, 0.4781632027784196, 0.4064797908490311, 0.08127072571036126, -0.04695817906395343, -0.04695860951094932, 0.08127651828874712, 0.08128666330156799, 0.4071646699640141, 0.5878662527418258, -0.11094622947528288, 0.3082431588910631, 0.08116764940523356, 0.22797490388211952, -0.04776049456677659, -0.08956189920187432, -0.04695572321833668, -0.04696296374857433, -0.04696872353786818, -0.04696904229651977, 0.40716353557983304, 0.4398271735649803, 0.08034485593014336, 0.22670517597178336, 0.4429913951873053, 0.3165362215153543, -0.04698878929938696, 0.08120972475168592, 0.226703130727266, 0.37287765914105353, 0.22670430960968013, 0.3587408890593039, 0.39487826552949146, 0.4071707465283647, 0.3719772961697629, 0.08122259062548996, 0.45740024449581324, -0.04851773989772366, 0.21206375736338684, 0.0812861153800021, 0.22670454135781773, 0.22658064256598498, -0.04696977436036206, 0.08128460274835811, 0.22797432144389548, 0.09765600731324003, 0.314286113904228, 0.44094258387361845, 0.4071072537903986, -0.050701447216059466, 0.31651870808225674, 0.21243486662171213, -0.04695808131377208, -0.05268738582881785, 0.08118741574890387, 0.3723284095559056, 0.40707214564464655, -0.04695412160221845, 0.44630488330555895, 0.4429714839857323, 0.3860606731348027, 0.08127172016393938, 0.40716686032183075, -0.0065637192407003685, 0.4420316687105037, 0.3823237495698988, 0.38608904481166356, 0.4071267934080378, 0.4138711363633483, 0.38069103614784455, 0.42897893388832103, 0.40692911271378307, 0.20448611281527107, 0.4028138450479109, 0.08128579527574387, -0.04695341610852521, 0.45746924825539587, 0.3763529165337173, -0.05204890001836881, 0.37001130338665783, 0.22719435114396963, 0.08128548025404385, 0.20447962344399953, 0.4411506302244049, 0.38608140040860806, 0.22797490479835372, 0.4059941480230985, 0.35547484955701547, 0.35547675397649126, 0.18482984945768927, 0.47354643180934375, -0.04697105062379426, 0.4429672558258891, 0.44298826510663575, 0.14157187058115242, 0.22796137100424801, -0.038431418387519775, 0.22794372753991674, -0.054526772268056044, 0.2252606723826307, 0.35493708736803503, -0.047260817419611564, 0.2279717985321572, -0.059618869978160516, 0.14189667250569443, -0.04695318145147922, -0.04698607775427693, 0.35893407296810526, 0.5447643724885005, 0.3728938516103988, 0.40677308933878714, 0.44299434675013466]}, {\"customdata\": [[\"VeChainThor Authority\"], [\"Proof-of-BibleHash\"], [\"SHA-256 + Hive\"], [\"Proof-of-Authority\"], [\"ECC 256K1\"], [\"Leased POS\"]], \"hovertemplate\": \"<b>%{hovertext}</b><br><br>Class=%{marker.color}<br>PC1=%{x}<br>PC2=%{y}<br>PC3=%{z}<br>Algorithm=%{customdata[0]}<extra></extra>\", \"hovertext\": [\"Vechain\", \"BiblePay\", \"LitecoinCash\", \"Poa Network\", \"Acute Angle Cloud\", \"Waves\"], \"legendgroup\": \"3\", \"marker\": {\"color\": [3, 3, 3, 3, 3, 3], \"coloraxis\": \"coloraxis\", \"symbol\": \"square\"}, \"mode\": \"markers\", \"name\": \"3\", \"scene\": \"scene\", \"showlegend\": true, \"type\": \"scatter3d\", \"x\": [4.362841924949412, -0.12010794179866635, -0.37721056012536897, -0.3768025984880106, -0.35223046011641385, -0.38213330544181406], \"y\": [2.8393561095764777, 5.344421281027924, 1.9883641592258843, 3.0659847723866998, 3.479149881613596, 3.066203299014034], \"z\": [6.455844894310633, 6.0824796751915615, 17.066324170524748, 14.645027588096129, 17.69558809254794, 9.796154081418933]}, {\"customdata\": [[\"TRC10\"]], \"hovertemplate\": \"<b>%{hovertext}</b><br><br>Class=%{marker.color}<br>PC1=%{x}<br>PC2=%{y}<br>PC3=%{z}<br>Algorithm=%{customdata[0]}<extra></extra>\", \"hovertext\": [\"BitTorrent\"], \"legendgroup\": \"2\", \"marker\": {\"color\": [2], \"coloraxis\": \"coloraxis\", \"symbol\": \"x\"}, \"mode\": \"markers\", \"name\": \"2\", \"scene\": \"scene\", \"showlegend\": true, \"type\": \"scatter3d\", \"x\": [34.073231567225854], \"y\": [1.3700532309420026], \"z\": [-0.8791320176379893]}],                        {\"coloraxis\": {\"colorbar\": {\"title\": {\"text\": \"Class\"}}, \"colorscale\": [[0.0, \"#0d0887\"], [0.1111111111111111, \"#46039f\"], [0.2222222222222222, \"#7201a8\"], [0.3333333333333333, \"#9c179e\"], [0.4444444444444444, \"#bd3786\"], [0.5555555555555556, \"#d8576b\"], [0.6666666666666666, \"#ed7953\"], [0.7777777777777778, \"#fb9f3a\"], [0.8888888888888888, \"#fdca26\"], [1.0, \"#f0f921\"]]}, \"legend\": {\"title\": {\"text\": \"Class\"}, \"tracegroupgap\": 0, \"x\": 0, \"y\": 1}, \"margin\": {\"t\": 60}, \"scene\": {\"domain\": {\"x\": [0.0, 1.0], \"y\": [0.0, 1.0]}, \"xaxis\": {\"title\": {\"text\": \"PC1\"}}, \"yaxis\": {\"title\": {\"text\": \"PC2\"}}, \"zaxis\": {\"title\": {\"text\": \"PC3\"}}}, \"template\": {\"data\": {\"bar\": [{\"error_x\": {\"color\": \"#2a3f5f\"}, \"error_y\": {\"color\": \"#2a3f5f\"}, \"marker\": {\"line\": {\"color\": \"#E5ECF6\", \"width\": 0.5}}, \"type\": \"bar\"}], \"barpolar\": [{\"marker\": {\"line\": {\"color\": \"#E5ECF6\", \"width\": 0.5}}, \"type\": \"barpolar\"}], \"carpet\": [{\"aaxis\": {\"endlinecolor\": \"#2a3f5f\", \"gridcolor\": \"white\", \"linecolor\": \"white\", \"minorgridcolor\": \"white\", \"startlinecolor\": \"#2a3f5f\"}, \"baxis\": {\"endlinecolor\": \"#2a3f5f\", \"gridcolor\": \"white\", \"linecolor\": \"white\", \"minorgridcolor\": \"white\", \"startlinecolor\": \"#2a3f5f\"}, \"type\": \"carpet\"}], \"choropleth\": [{\"colorbar\": {\"outlinewidth\": 0, \"ticks\": \"\"}, \"type\": \"choropleth\"}], \"contour\": [{\"colorbar\": {\"outlinewidth\": 0, \"ticks\": \"\"}, \"colorscale\": [[0.0, \"#0d0887\"], [0.1111111111111111, \"#46039f\"], [0.2222222222222222, \"#7201a8\"], [0.3333333333333333, \"#9c179e\"], [0.4444444444444444, \"#bd3786\"], [0.5555555555555556, \"#d8576b\"], [0.6666666666666666, \"#ed7953\"], [0.7777777777777778, \"#fb9f3a\"], [0.8888888888888888, \"#fdca26\"], [1.0, \"#f0f921\"]], \"type\": \"contour\"}], \"contourcarpet\": [{\"colorbar\": {\"outlinewidth\": 0, \"ticks\": \"\"}, \"type\": \"contourcarpet\"}], \"heatmap\": [{\"colorbar\": {\"outlinewidth\": 0, \"ticks\": \"\"}, \"colorscale\": [[0.0, \"#0d0887\"], [0.1111111111111111, \"#46039f\"], [0.2222222222222222, \"#7201a8\"], [0.3333333333333333, \"#9c179e\"], [0.4444444444444444, \"#bd3786\"], [0.5555555555555556, \"#d8576b\"], [0.6666666666666666, \"#ed7953\"], [0.7777777777777778, \"#fb9f3a\"], [0.8888888888888888, \"#fdca26\"], [1.0, \"#f0f921\"]], \"type\": \"heatmap\"}], \"heatmapgl\": [{\"colorbar\": {\"outlinewidth\": 0, \"ticks\": \"\"}, \"colorscale\": [[0.0, \"#0d0887\"], [0.1111111111111111, \"#46039f\"], [0.2222222222222222, \"#7201a8\"], [0.3333333333333333, \"#9c179e\"], [0.4444444444444444, \"#bd3786\"], [0.5555555555555556, \"#d8576b\"], [0.6666666666666666, \"#ed7953\"], [0.7777777777777778, \"#fb9f3a\"], [0.8888888888888888, \"#fdca26\"], [1.0, \"#f0f921\"]], \"type\": \"heatmapgl\"}], \"histogram\": [{\"marker\": {\"colorbar\": {\"outlinewidth\": 0, \"ticks\": \"\"}}, \"type\": \"histogram\"}], \"histogram2d\": [{\"colorbar\": {\"outlinewidth\": 0, \"ticks\": \"\"}, \"colorscale\": [[0.0, \"#0d0887\"], [0.1111111111111111, \"#46039f\"], [0.2222222222222222, \"#7201a8\"], [0.3333333333333333, \"#9c179e\"], [0.4444444444444444, \"#bd3786\"], [0.5555555555555556, \"#d8576b\"], [0.6666666666666666, \"#ed7953\"], [0.7777777777777778, \"#fb9f3a\"], [0.8888888888888888, \"#fdca26\"], [1.0, \"#f0f921\"]], \"type\": \"histogram2d\"}], \"histogram2dcontour\": [{\"colorbar\": {\"outlinewidth\": 0, \"ticks\": \"\"}, \"colorscale\": [[0.0, \"#0d0887\"], [0.1111111111111111, \"#46039f\"], [0.2222222222222222, \"#7201a8\"], [0.3333333333333333, \"#9c179e\"], [0.4444444444444444, \"#bd3786\"], [0.5555555555555556, \"#d8576b\"], [0.6666666666666666, \"#ed7953\"], [0.7777777777777778, \"#fb9f3a\"], [0.8888888888888888, \"#fdca26\"], [1.0, \"#f0f921\"]], \"type\": \"histogram2dcontour\"}], \"mesh3d\": [{\"colorbar\": {\"outlinewidth\": 0, \"ticks\": \"\"}, \"type\": \"mesh3d\"}], \"parcoords\": [{\"line\": {\"colorbar\": {\"outlinewidth\": 0, \"ticks\": \"\"}}, \"type\": \"parcoords\"}], \"pie\": [{\"automargin\": true, \"type\": \"pie\"}], \"scatter\": [{\"marker\": {\"colorbar\": {\"outlinewidth\": 0, \"ticks\": \"\"}}, \"type\": \"scatter\"}], \"scatter3d\": [{\"line\": {\"colorbar\": {\"outlinewidth\": 0, \"ticks\": \"\"}}, \"marker\": {\"colorbar\": {\"outlinewidth\": 0, \"ticks\": \"\"}}, \"type\": \"scatter3d\"}], \"scattercarpet\": [{\"marker\": {\"colorbar\": {\"outlinewidth\": 0, \"ticks\": \"\"}}, \"type\": \"scattercarpet\"}], \"scattergeo\": [{\"marker\": {\"colorbar\": {\"outlinewidth\": 0, \"ticks\": \"\"}}, \"type\": \"scattergeo\"}], \"scattergl\": [{\"marker\": {\"colorbar\": {\"outlinewidth\": 0, \"ticks\": \"\"}}, \"type\": \"scattergl\"}], \"scattermapbox\": [{\"marker\": {\"colorbar\": {\"outlinewidth\": 0, \"ticks\": \"\"}}, \"type\": \"scattermapbox\"}], \"scatterpolar\": [{\"marker\": {\"colorbar\": {\"outlinewidth\": 0, \"ticks\": \"\"}}, \"type\": \"scatterpolar\"}], \"scatterpolargl\": [{\"marker\": {\"colorbar\": {\"outlinewidth\": 0, \"ticks\": \"\"}}, \"type\": \"scatterpolargl\"}], \"scatterternary\": [{\"marker\": {\"colorbar\": {\"outlinewidth\": 0, \"ticks\": \"\"}}, \"type\": \"scatterternary\"}], \"surface\": [{\"colorbar\": {\"outlinewidth\": 0, \"ticks\": \"\"}, \"colorscale\": [[0.0, \"#0d0887\"], [0.1111111111111111, \"#46039f\"], [0.2222222222222222, \"#7201a8\"], [0.3333333333333333, \"#9c179e\"], [0.4444444444444444, \"#bd3786\"], [0.5555555555555556, \"#d8576b\"], [0.6666666666666666, \"#ed7953\"], [0.7777777777777778, \"#fb9f3a\"], [0.8888888888888888, \"#fdca26\"], [1.0, \"#f0f921\"]], \"type\": \"surface\"}], \"table\": [{\"cells\": {\"fill\": {\"color\": \"#EBF0F8\"}, \"line\": {\"color\": \"white\"}}, \"header\": {\"fill\": {\"color\": \"#C8D4E3\"}, \"line\": {\"color\": \"white\"}}, \"type\": \"table\"}]}, \"layout\": {\"annotationdefaults\": {\"arrowcolor\": \"#2a3f5f\", \"arrowhead\": 0, \"arrowwidth\": 1}, \"coloraxis\": {\"colorbar\": {\"outlinewidth\": 0, \"ticks\": \"\"}}, \"colorscale\": {\"diverging\": [[0, \"#8e0152\"], [0.1, \"#c51b7d\"], [0.2, \"#de77ae\"], [0.3, \"#f1b6da\"], [0.4, \"#fde0ef\"], [0.5, \"#f7f7f7\"], [0.6, \"#e6f5d0\"], [0.7, \"#b8e186\"], [0.8, \"#7fbc41\"], [0.9, \"#4d9221\"], [1, \"#276419\"]], \"sequential\": [[0.0, \"#0d0887\"], [0.1111111111111111, \"#46039f\"], [0.2222222222222222, \"#7201a8\"], [0.3333333333333333, \"#9c179e\"], [0.4444444444444444, \"#bd3786\"], [0.5555555555555556, \"#d8576b\"], [0.6666666666666666, \"#ed7953\"], [0.7777777777777778, \"#fb9f3a\"], [0.8888888888888888, \"#fdca26\"], [1.0, \"#f0f921\"]], \"sequentialminus\": [[0.0, \"#0d0887\"], [0.1111111111111111, \"#46039f\"], [0.2222222222222222, \"#7201a8\"], [0.3333333333333333, \"#9c179e\"], [0.4444444444444444, \"#bd3786\"], [0.5555555555555556, \"#d8576b\"], [0.6666666666666666, \"#ed7953\"], [0.7777777777777778, \"#fb9f3a\"], [0.8888888888888888, \"#fdca26\"], [1.0, \"#f0f921\"]]}, \"colorway\": [\"#636efa\", \"#EF553B\", \"#00cc96\", \"#ab63fa\", \"#FFA15A\", \"#19d3f3\", \"#FF6692\", \"#B6E880\", \"#FF97FF\", \"#FECB52\"], \"font\": {\"color\": \"#2a3f5f\"}, \"geo\": {\"bgcolor\": \"white\", \"lakecolor\": \"white\", \"landcolor\": \"#E5ECF6\", \"showlakes\": true, \"showland\": true, \"subunitcolor\": \"white\"}, \"hoverlabel\": {\"align\": \"left\"}, \"hovermode\": \"closest\", \"mapbox\": {\"style\": \"light\"}, \"paper_bgcolor\": \"white\", \"plot_bgcolor\": \"#E5ECF6\", \"polar\": {\"angularaxis\": {\"gridcolor\": \"white\", \"linecolor\": \"white\", \"ticks\": \"\"}, \"bgcolor\": \"#E5ECF6\", \"radialaxis\": {\"gridcolor\": \"white\", \"linecolor\": \"white\", \"ticks\": \"\"}}, \"scene\": {\"xaxis\": {\"backgroundcolor\": \"#E5ECF6\", \"gridcolor\": \"white\", \"gridwidth\": 2, \"linecolor\": \"white\", \"showbackground\": true, \"ticks\": \"\", \"zerolinecolor\": \"white\"}, \"yaxis\": {\"backgroundcolor\": \"#E5ECF6\", \"gridcolor\": \"white\", \"gridwidth\": 2, \"linecolor\": \"white\", \"showbackground\": true, \"ticks\": \"\", \"zerolinecolor\": \"white\"}, \"zaxis\": {\"backgroundcolor\": \"#E5ECF6\", \"gridcolor\": \"white\", \"gridwidth\": 2, \"linecolor\": \"white\", \"showbackground\": true, \"ticks\": \"\", \"zerolinecolor\": \"white\"}}, \"shapedefaults\": {\"line\": {\"color\": \"#2a3f5f\"}}, \"ternary\": {\"aaxis\": {\"gridcolor\": \"white\", \"linecolor\": \"white\", \"ticks\": \"\"}, \"baxis\": {\"gridcolor\": \"white\", \"linecolor\": \"white\", \"ticks\": \"\"}, \"bgcolor\": \"#E5ECF6\", \"caxis\": {\"gridcolor\": \"white\", \"linecolor\": \"white\", \"ticks\": \"\"}}, \"title\": {\"x\": 0.05}, \"xaxis\": {\"automargin\": true, \"gridcolor\": \"white\", \"linecolor\": \"white\", \"ticks\": \"\", \"title\": {\"standoff\": 15}, \"zerolinecolor\": \"white\", \"zerolinewidth\": 2}, \"yaxis\": {\"automargin\": true, \"gridcolor\": \"white\", \"linecolor\": \"white\", \"ticks\": \"\", \"title\": {\"standoff\": 15}, \"zerolinecolor\": \"white\", \"zerolinewidth\": 2}}}, \"width\": 800},                        {\"responsive\": true}                    ).then(function(){\n",
       "                            \n",
       "var gd = document.getElementById('c0c75a01-f0cf-4ed6-8e5a-d6b20824cec3');\n",
       "var x = new MutationObserver(function (mutations, observer) {{\n",
       "        var display = window.getComputedStyle(gd).display;\n",
       "        if (!display || display === 'none') {{\n",
       "            console.log([gd, 'removed!']);\n",
       "            Plotly.purge(gd);\n",
       "            observer.disconnect();\n",
       "        }}\n",
       "}});\n",
       "\n",
       "// Listen for the removal of the full notebook cells\n",
       "var notebookContainer = gd.closest('#notebook-container');\n",
       "if (notebookContainer) {{\n",
       "    x.observe(notebookContainer, {childList: true});\n",
       "}}\n",
       "\n",
       "// Listen for the clearing of the current output cell\n",
       "var outputEl = gd.closest('.output');\n",
       "if (outputEl) {{\n",
       "    x.observe(outputEl, {childList: true});\n",
       "}}\n",
       "\n",
       "                        })                };                });            </script>        </div>"
      ]
     },
     "metadata": {},
     "output_type": "display_data"
    }
   ],
   "source": [
    "# Creating a 3D-Scatter with the PCA data and the clusters\n",
    "fig = px.scatter_3d(\n",
    "    clustered_df,\n",
    "    hover_name=\"CoinName\",\n",
    "    hover_data=[\"Algorithm\"],\n",
    "    x=\"PC1\",\n",
    "    y=\"PC2\",\n",
    "    z=\"PC3\",\n",
    "    color=\"Class\",\n",
    "    symbol=\"Class\",\n",
    "    width=800,\n",
    ")\n",
    "fig.update_layout(legend=dict(x=0, y=1))\n",
    "fig.show()"
   ]
  },
  {
   "cell_type": "code",
   "execution_count": 104,
   "metadata": {},
   "outputs": [
    {
     "data": {},
     "metadata": {},
     "output_type": "display_data"
    },
    {
     "data": {
      "application/vnd.holoviews_exec.v0+json": "",
      "text/html": [
       "<div id='1337'>\n",
       "\n",
       "\n",
       "\n",
       "\n",
       "\n",
       "  <div class=\"bk-root\" id=\"00a50bf2-d5eb-4685-b98b-26ed7d0c0ef0\" data-root-id=\"1337\"></div>\n",
       "</div>\n",
       "<script type=\"application/javascript\">(function(root) {\n",
       "  function embed_document(root) {\n",
       "    var docs_json = {\"eebe7783-842c-48f7-bfee-e19bb87386c2\":{\"roots\":{\"references\":[{\"attributes\":{},\"id\":\"1372\",\"type\":\"NumberEditor\"},{\"attributes\":{\"editor\":{\"id\":\"1372\"},\"field\":\"PC3\",\"formatter\":{\"id\":\"1371\"},\"title\":\"PC3\"},\"id\":\"1373\",\"type\":\"TableColumn\"},{\"attributes\":{},\"id\":\"1340\",\"type\":\"Selection\"},{\"attributes\":{\"source\":{\"id\":\"1339\"}},\"id\":\"1387\",\"type\":\"CDSView\"},{\"attributes\":{},\"id\":\"1389\",\"type\":\"UnionRenderers\"},{\"attributes\":{\"data\":{\"Algorithm\":[\"Scrypt\",\"Scrypt\",\"X13\",\"SHA-256\",\"Ethash\",\"Scrypt\",\"X11\",\"CryptoNight-V7\",\"Ethash\",\"Equihash\",\"SHA-512\",\"Multiple\",\"SHA-256\",\"SHA-256\",\"Scrypt\",\"X15\",\"X11\",\"Scrypt\",\"Scrypt\",\"Scrypt\",\"Multiple\",\"Scrypt\",\"SHA-256\",\"Scrypt\",\"Scrypt\",\"Scrypt\",\"Quark\",\"Groestl\",\"Scrypt\",\"Scrypt\",\"Scrypt\",\"Scrypt\",\"Scrypt\",\"X11\",\"Scrypt\",\"Groestl\",\"Multiple\",\"SHA-256\",\"Scrypt\",\"Scrypt\",\"Scrypt\",\"Scrypt\",\"PoS\",\"Scrypt\",\"Scrypt\",\"NeoScrypt\",\"Scrypt\",\"Scrypt\",\"Scrypt\",\"Scrypt\",\"X11\",\"Scrypt\",\"X11\",\"SHA-256\",\"Scrypt\",\"Scrypt\",\"Scrypt\",\"SHA3\",\"Scrypt\",\"HybridScryptHash256\",\"Scrypt\",\"Scrypt\",\"SHA-256\",\"Scrypt\",\"X13\",\"Scrypt\",\"SHA-256\",\"Scrypt\",\"X13\",\"NeoScrypt\",\"Scrypt\",\"Scrypt\",\"Scrypt\",\"Scrypt\",\"Scrypt\",\"Scrypt\",\"X11\",\"X11\",\"SHA-256\",\"Multiple\",\"SHA-256\",\"PHI1612\",\"X11\",\"SHA-256\",\"SHA-256\",\"SHA-256\",\"X11\",\"Scrypt\",\"Scrypt\",\"Scrypt\",\"Scrypt\",\"Lyra2REv2\",\"Scrypt\",\"X11\",\"Multiple\",\"SHA-256\",\"X13\",\"Scrypt\",\"CryptoNight\",\"CryptoNight\",\"Shabal256\",\"Counterparty\",\"Scrypt\",\"SHA-256\",\"Groestl\",\"Scrypt\",\"Scrypt\",\"Scrypt\",\"X13\",\"Scrypt\",\"Scrypt\",\"Scrypt\",\"Scrypt\",\"X13\",\"Scrypt\",\"Stanford Folding\",\"X11\",\"Multiple\",\"QuBit\",\"Scrypt\",\"Scrypt\",\"Scrypt\",\"M7 POW\",\"Scrypt\",\"SHA-256\",\"Scrypt\",\"X11\",\"SHA3\",\"X11\",\"Lyra2RE\",\"SHA-256\",\"QUAIT\",\"X11\",\"X11\",\"Scrypt\",\"Scrypt\",\"Scrypt\",\"Ethash\",\"X13\",\"Blake2b\",\"SHA-256\",\"X15\",\"X11\",\"SHA-256\",\"BLAKE256\",\"Scrypt\",\"1GB AES Pattern Search\",\"SHA-256\",\"X11\",\"Scrypt\",\"SHA-256\",\"SHA-256\",\"NIST5\",\"Scrypt\",\"Scrypt\",\"X11\",\"Dagger\",\"Scrypt\",\"X11GOST\",\"X11\",\"Scrypt\",\"SHA-256\",\"Scrypt\",\"PoS\",\"Scrypt\",\"X11\",\"X11\",\"SHA-256\",\"SHA-256\",\"NIST5\",\"X11\",\"Scrypt\",\"POS 3.0\",\"Scrypt\",\"Scrypt\",\"Scrypt\",\"X13\",\"X11\",\"X11\",\"Equihash\",\"X11\",\"Scrypt\",\"CryptoNight\",\"SHA-256\",\"SHA-256\",\"X11\",\"Scrypt\",\"Multiple\",\"Scrypt\",\"Scrypt\",\"Scrypt\",\"SHA-256\",\"Scrypt\",\"Scrypt\",\"SHA-256D\",\"PoS\",\"Scrypt\",\"X11\",\"Lyra2Z\",\"PoS\",\"X13\",\"X14\",\"PoS\",\"SHA-256D\",\"Ethash\",\"Equihash\",\"DPoS\",\"X11\",\"Scrypt\",\"X11\",\"X13\",\"X11\",\"PoS\",\"Scrypt\",\"Scrypt\",\"X11\",\"PoS\",\"X11\",\"SHA-256\",\"Scrypt\",\"X11\",\"Scrypt\",\"Scrypt\",\"X11\",\"CryptoNight\",\"Scrypt\",\"Scrypt\",\"Scrypt\",\"Scrypt\",\"Quark\",\"QuBit\",\"Scrypt\",\"CryptoNight\",\"Lyra2RE\",\"Scrypt\",\"SHA-256\",\"X11\",\"Scrypt\",\"X11\",\"Scrypt\",\"CryptoNight-V7\",\"Scrypt\",\"Scrypt\",\"Scrypt\",\"X13\",\"X11\",\"Equihash\",\"Scrypt\",\"Scrypt\",\"Lyra2RE\",\"Scrypt\",\"Dagger-Hashimoto\",\"X11\",\"Blake2S\",\"X11\",\"Scrypt\",\"PoS\",\"X11\",\"NIST5\",\"PoS\",\"X11\",\"Scrypt\",\"Scrypt\",\"Scrypt\",\"SHA-256\",\"X11\",\"Scrypt\",\"Scrypt\",\"SHA-256\",\"PoS\",\"Scrypt\",\"X15\",\"SHA-256\",\"Scrypt\",\"POS 3.0\",\"CryptoNight-V7\",\"536\",\"Argon2d\",\"Blake2b\",\"Cloverhash\",\"CryptoNight\",\"NIST5\",\"X11\",\"NIST5\",\"Skein\",\"Scrypt\",\"X13\",\"Scrypt\",\"X11\",\"X11\",\"Scrypt\",\"CryptoNight\",\"X13\",\"Time Travel\",\"Scrypt\",\"Keccak\",\"SkunkHash v2 Raptor\",\"X11\",\"Skein\",\"SHA-256\",\"X11\",\"Scrypt\",\"VeChainThor Authority\",\"Scrypt\",\"PoS\",\"Scrypt\",\"Scrypt\",\"Scrypt\",\"Scrypt\",\"Scrypt\",\"Scrypt\",\"Scrypt\",\"CryptoNight\",\"SHA-512\",\"Ouroboros\",\"X11\",\"Equihash\",\"NeoScrypt\",\"X11\",\"Scrypt\",\"NeoScrypt\",\"Lyra2REv2\",\"Equihash\",\"Scrypt\",\"SHA-256\",\"NIST5\",\"PHI1612\",\"Dagger\",\"Scrypt\",\"Quark\",\"Scrypt\",\"POS 2.0\",\"Scrypt\",\"SHA-256\",\"X11\",\"NeoScrypt\",\"Ethash\",\"NeoScrypt\",\"X11\",\"DPoS\",\"NIST5\",\"X13\",\"Multiple\",\"Scrypt\",\"CryptoNight\",\"CryptoNight\",\"Ethash\",\"NIST5\",\"Quark\",\"X11\",\"CryptoNight-V7\",\"Scrypt\",\"Scrypt\",\"Scrypt\",\"X11\",\"BLAKE256\",\"X11\",\"NeoScrypt\",\"Quark\",\"NeoScrypt\",\"Scrypt\",\"Scrypt\",\"Scrypt\",\"X11\",\"X11\",\"SHA-256\",\"C11\",\"POS 3.0\",\"Ethash\",\"Scrypt\",\"CryptoNight\",\"SkunkHash\",\"Scrypt\",\"CryptoNight\",\"Scrypt\",\"Dagger\",\"Lyra2REv2\",\"X13\",\"Proof-of-BibleHash\",\"SHA-256 + Hive\",\"Scrypt\",\"Scrypt\",\"X11\",\"C11\",\"Proof-of-Authority\",\"X11\",\"XEVAN\",\"Scrypt\",\"VBFT\",\"Ethash\",\"CryptoNight\",\"Scrypt\",\"IMesh\",\"NIST5\",\"Scrypt\",\"Scrypt\",\"Equihash\",\"Scrypt\",\"Lyra2Z\",\"Green Protocol\",\"PoS\",\"Scrypt\",\"Semux BFT consensus\",\"X11\",\"Quark\",\"PoS\",\"CryptoNight\",\"X16R\",\"Scrypt\",\"NIST5\",\"Lyra2RE\",\"XEVAN\",\"Tribus\",\"Scrypt\",\"Lyra2Z\",\"CryptoNight\",\"CryptoNight Heavy\",\"CryptoNight\",\"Scrypt\",\"Scrypt\",\"Jump Consistent Hash\",\"SHA-256D\",\"CryptoNight\",\"Scrypt\",\"X15\",\"Scrypt\",\"Quark\",\"SHA-256\",\"DPoS\",\"X16R\",\"HMQ1725\",\"X11\",\"X16R\",\"Quark\",\"Quark\",\"Scrypt\",\"Lyra2REv2\",\"Quark\",\"Scrypt\",\"Scrypt\",\"CryptoNight-V7\",\"Cryptonight-GPU\",\"XEVAN\",\"CryptoNight Heavy\",\"X11\",\"X11\",\"Scrypt\",\"PoS\",\"SHA-256\",\"Keccak\",\"X11\",\"X11\",\"Scrypt\",\"SHA-512\",\"X16R\",\"ECC 256K1\",\"Equihash\",\"XEVAN\",\"Lyra2Z\",\"SHA-256\",\"XEVAN\",\"X11\",\"CryptoNight\",\"Quark\",\"Blake\",\"Blake\",\"Equihash\",\"Exosis\",\"Scrypt\",\"Scrypt\",\"Equihash\",\"Quark\",\"Equihash\",\"Quark\",\"Scrypt\",\"QuBit\",\"X11\",\"Scrypt\",\"XEVAN\",\"SHA-256D\",\"X11\",\"SHA-256\",\"X13\",\"SHA-256\",\"X11\",\"DPoS\",\"Scrypt\",\"Scrypt\",\"X11\",\"NeoScrypt\",\"Scrypt\",\"Blake\",\"Scrypt\",\"SHA-256\",\"Scrypt\",\"X11\",\"Scrypt\",\"Scrypt\",\"SHA-256\",\"X11\",\"SHA-256\",\"Scrypt\",\"Scrypt\",\"Scrypt\",\"Groestl\",\"X11\",\"Scrypt\",\"PoS\",\"Scrypt\",\"Scrypt\",\"X11\",\"SHA-256\",\"DPoS\",\"Scrypt\",\"Scrypt\",\"NeoScrypt\",\"Multiple\",\"X13\",\"Equihash+Scrypt\",\"DPoS\",\"Ethash\",\"DPoS\",\"SHA-256\",\"Leased POS\",\"PoS\",\"TRC10\",\"PoS\",\"SHA-256\",\"Scrypt\",\"CryptoNight\",\"Equihash\",\"Scrypt\"],\"Class\":{\"__ndarray__\":\"AQAAAAEAAAABAAAAAAAAAAAAAAAAAAAAAQAAAAAAAAAAAAAAAAAAAAEAAAAAAAAAAQAAAAEAAAAAAAAAAQAAAAAAAAAAAAAAAQAAAAEAAAAAAAAAAAAAAAAAAAAAAAAAAAAAAAEAAAAAAAAAAAAAAAAAAAABAAAAAAAAAAEAAAAAAAAAAAAAAAEAAAABAAAAAAAAAAAAAAAAAAAAAAAAAAAAAAAAAAAAAQAAAAEAAAAAAAAAAAAAAAAAAAAAAAAAAAAAAAEAAAABAAAAAAAAAAEAAAAAAAAAAAAAAAAAAAAAAAAAAQAAAAAAAAAAAAAAAQAAAAAAAAABAAAAAQAAAAEAAAAAAAAAAAAAAAAAAAABAAAAAQAAAAEAAAABAAAAAQAAAAAAAAAAAAAAAAAAAAEAAAABAAAAAAAAAAEAAAAAAAAAAQAAAAEAAAAAAAAAAAAAAAAAAAAAAAAAAQAAAAEAAAAAAAAAAQAAAAAAAAAAAAAAAQAAAAEAAAAAAAAAAQAAAAEAAAAAAAAAAAAAAAEAAAABAAAAAAAAAAEAAAABAAAAAAAAAAEAAAAAAAAAAQAAAAAAAAABAAAAAAAAAAEAAAABAAAAAAAAAAAAAAABAAAAAAAAAAAAAAAAAAAAAQAAAAAAAAAAAAAAAAAAAAAAAAAAAAAAAQAAAAEAAAAAAAAAAAAAAAAAAAABAAAAAAAAAAEAAAAAAAAAAAAAAAEAAAAAAAAAAQAAAAAAAAABAAAAAQAAAAAAAAAAAAAAAQAAAAAAAAAAAAAAAQAAAAEAAAAAAAAAAQAAAAAAAAABAAAAAQAAAAEAAAAAAAAAAAAAAAAAAAAAAAAAAQAAAAEAAAABAAAAAQAAAAEAAAAAAAAAAAAAAAEAAAABAAAAAQAAAAEAAAABAAAAAAAAAAEAAAABAAAAAQAAAAEAAAABAAAAAAAAAAEAAAAAAAAAAQAAAAEAAAAAAAAAAQAAAAAAAAABAAAAAQAAAAAAAAABAAAAAAAAAAEAAAAAAAAAAQAAAAAAAAABAAAAAQAAAAEAAAABAAAAAAAAAAEAAAABAAAAAQAAAAEAAAABAAAAAAAAAAAAAAABAAAAAQAAAAAAAAAAAAAAAQAAAAEAAAABAAAAAQAAAAEAAAAAAAAAAQAAAAEAAAABAAAAAQAAAAEAAAABAAAAAQAAAAEAAAAAAAAAAQAAAAEAAAABAAAAAQAAAAEAAAABAAAAAAAAAAAAAAAAAAAAAQAAAAEAAAABAAAAAQAAAAAAAAABAAAAAAAAAAEAAAABAAAAAAAAAAEAAAAAAAAAAAAAAAEAAAAAAAAAAAAAAAEAAAAAAAAAAQAAAAEAAAABAAAAAAAAAAEAAAABAAAAAAAAAAEAAAABAAAAAQAAAAEAAAABAAAAAQAAAAEAAAAAAAAAAQAAAAAAAAABAAAAAQAAAAEAAAABAAAAAAAAAAEAAAAAAAAAAQAAAAAAAAAAAAAAAAAAAAAAAAABAAAAAAAAAAEAAAABAAAAAAAAAAEAAAAAAAAAAAAAAAAAAAABAAAAAAAAAAEAAAAAAAAAAAAAAAAAAAABAAAAAAAAAAEAAAAAAAAAAQAAAAEAAAADAAAAAAAAAAEAAAAAAAAAAAAAAAAAAAAAAAAAAAAAAAEAAAABAAAAAAAAAAEAAAABAAAAAQAAAAAAAAABAAAAAAAAAAEAAAAAAAAAAQAAAAAAAAABAAAAAQAAAAEAAAABAAAAAAAAAAEAAAABAAAAAAAAAAEAAAABAAAAAQAAAAAAAAAAAAAAAAAAAAAAAAABAAAAAQAAAAEAAAABAAAAAAAAAAEAAAAAAAAAAAAAAAAAAAABAAAAAQAAAAAAAAAAAAAAAQAAAAEAAAAAAAAAAQAAAAAAAAAAAAAAAAAAAAEAAAAAAAAAAAAAAAEAAAABAAAAAQAAAAAAAAAAAAAAAAAAAAEAAAABAAAAAQAAAAAAAAAAAAAAAQAAAAAAAAAAAAAAAAAAAAAAAAABAAAAAwAAAAMAAAAAAAAAAAAAAAAAAAABAAAAAwAAAAEAAAABAAAAAQAAAAEAAAAAAAAAAAAAAAAAAAAAAAAAAQAAAAEAAAABAAAAAAAAAAEAAAAAAAAAAQAAAAEAAAABAAAAAQAAAAAAAAABAAAAAQAAAAAAAAABAAAAAQAAAAAAAAAAAAAAAQAAAAAAAAABAAAAAAAAAAAAAAAAAAAAAAAAAAEAAAABAAAAAAAAAAEAAAAAAAAAAQAAAAEAAAABAAAAAQAAAAEAAAABAAAAAAAAAAAAAAAAAAAAAQAAAAEAAAABAAAAAQAAAAEAAAABAAAAAAAAAAEAAAAAAAAAAAAAAAAAAAAAAAAAAQAAAAEAAAABAAAAAQAAAAAAAAABAAAAAQAAAAAAAAABAAAAAQAAAAAAAAADAAAAAAAAAAEAAAAAAAAAAAAAAAEAAAABAAAAAAAAAAEAAAAAAAAAAAAAAAAAAAAAAAAAAAAAAAEAAAAAAAAAAQAAAAAAAAABAAAAAQAAAAAAAAABAAAAAQAAAAEAAAABAAAAAQAAAAAAAAAAAAAAAAAAAAEAAAABAAAAAQAAAAAAAAABAAAAAAAAAAEAAAAAAAAAAQAAAAEAAAABAAAAAQAAAAAAAAABAAAAAQAAAAEAAAAAAAAAAQAAAAAAAAABAAAAAAAAAAEAAAABAAAAAQAAAAAAAAAAAAAAAQAAAAEAAAABAAAAAQAAAAEAAAABAAAAAAAAAAEAAAAAAAAAAQAAAAAAAAABAAAAAQAAAAMAAAABAAAAAgAAAAEAAAABAAAAAQAAAAAAAAAAAAAAAQAAAA==\",\"dtype\":\"int32\",\"order\":\"little\",\"shape\":[532]},\"CoinName\":[\"42 Coin\",\"404Coin\",\"EliteCoin\",\"Bitcoin\",\"Ethereum\",\"Litecoin\",\"Dash\",\"Monero\",\"Ethereum Classic\",\"ZCash\",\"Bitshares\",\"DigiByte\",\"BitcoinDark\",\"PayCoin\",\"ProsperCoin\",\"KoboCoin\",\"Spreadcoin\",\"Argentum\",\"Aurora Coin\",\"BlueCoin\",\"MyriadCoin\",\"MoonCoin\",\"ZetaCoin\",\"SexCoin\",\"Quatloo\",\"EnergyCoin\",\"QuarkCoin\",\"Riecoin\",\"Digitalcoin \",\"BitBar\",\"Catcoin\",\"CryptoBullion\",\"CannaCoin\",\"CryptCoin\",\"CasinoCoin\",\"Diamond\",\"Verge\",\"DevCoin\",\"EarthCoin\",\"E-Gulden\",\"Einsteinium\",\"Emerald\",\"Exclusive Coin\",\"FlutterCoin\",\"Franko\",\"FeatherCoin\",\"GrandCoin\",\"GlobalCoin\",\"GoldCoin\",\"HoboNickels\",\"HyperStake\",\"Infinite Coin\",\"IOCoin\",\"IXcoin\",\"KrugerCoin\",\"LuckyCoin\",\"Litebar \",\"MaxCoin\",\"MegaCoin\",\"MediterraneanCoin\",\"MintCoin\",\"MinCoin\",\"MazaCoin\",\"Nautilus Coin\",\"NavCoin\",\"NobleCoin\",\"Namecoin\",\"NyanCoin\",\"OpalCoin\",\"Orbitcoin\",\"PotCoin\",\"PhoenixCoin\",\"Reddcoin\",\"RonPaulCoin\",\"StableCoin\",\"SmartCoin\",\"SuperCoin\",\"SyncCoin\",\"SysCoin\",\"TeslaCoin\",\"TigerCoin\",\"TittieCoin\",\"TorCoin\",\"TerraCoin\",\"UnbreakableCoin\",\"Unobtanium\",\"UroCoin\",\"UnitaryStatus Dollar\",\"UltraCoin\",\"ViaCoin\",\"VeriCoin\",\"Vertcoin\",\"WorldCoin\",\"X11 Coin\",\"Crypti\",\"JouleCoin\",\"StealthCoin\",\"ZCC Coin\",\"ByteCoin\",\"DigitalNote \",\"BurstCoin\",\"StorjCoin\",\"MonaCoin\",\"Neutron\",\"FairCoin\",\"Gulden\",\"RubyCoin\",\"PesetaCoin\",\"Kore\",\"Wild Beast Coin\",\"Dnotes\",\"Flo\",\"8BIT Coin\",\"Sativa Coin\",\"ArtByte\",\"Folding Coin\",\"Ucoin\",\"Unitus\",\"CypherPunkCoin\",\"OmniCron\",\"Vtorrent\",\"GreenCoin\",\"Cryptonite\",\"MasterCoin\",\"SoonCoin\",\"1Credit\",\"IslaCoin\",\"Nexus\",\"MarsCoin \",\"Crypto\",\"Anarchists Prime\",\"Droidz\",\"BowsCoin\",\"Squall Coin\",\"Song Coin\",\"BitZeny\",\"Diggits\",\"Expanse\",\"Paycon\",\"Siacoin\",\"Emercoin\",\"EverGreenCoin\",\"MindCoin\",\"I0coin\",\"Decred\",\"Revolution VR\",\"HOdlcoin\",\"EDRCoin\",\"Hitcoin\",\"Gamecredits\",\"DubaiCoin\",\"CarpeDiemCoin\",\"PWR Coin\",\"BillaryCoin\",\"GPU Coin\",\"Adzcoin\",\"SoilCoin\",\"YoCoin\",\"SibCoin\",\"EuropeCoin\",\"ZeitCoin\",\"SwingCoin\",\"SafeExchangeCoin\",\"Nebuchadnezzar\",\"Francs\",\"BolivarCoin\",\"Ratecoin\",\"Revenu\",\"Clockcoin\",\"VIP Tokens\",\"BitSend\",\"Omni\",\"Let it Ride\",\"PutinCoin\",\"iBankCoin\",\"Frankywillcoin\",\"MudraCoin\",\"PizzaCoin\",\"Lutetium Coin\",\"Komodo\",\"GoldBlocks\",\"CarterCoin\",\"Karbo\",\"BitTokens\",\"ZayedCoin\",\"MustangCoin\",\"ZoneCoin\",\"Circuits of Value\",\"RootCoin\",\"DopeCoin\",\"BitCurrency\",\"DollarCoin\",\"Swiscoin\",\"Shilling\",\"BuzzCoin\",\"Opair\",\"PesoBit\",\"Halloween Coin\",\"ZCoin\",\"CoffeeCoin\",\"RoyalCoin\",\"GanjaCoin V2\",\"TeamUP\",\"LanaCoin\",\"Elementrem\",\"ZClassic\",\"ARK\",\"InsaneCoin\",\"KiloCoin\",\"ArtexCoin\",\"EmberCoin\",\"XenixCoin\",\"FreeCoin\",\"PLNCoin\",\"AquariusCoin\",\"Kurrent\",\"Creatio\",\"Eternity\",\"Eurocoin\",\"BitcoinFast\",\"Stakenet\",\"BitConnect Coin\",\"MoneyCoin\",\"Enigma\",\"Cannabis Industry Coin\",\"Russiacoin\",\"PandaCoin\",\"GameUnits\",\"GAKHcoin\",\"Allsafe\",\"LiteCreed\",\"OsmiumCoin\",\"Bikercoins\",\"HexxCoin\",\"Klingon Empire Darsek\",\"Internet of People\",\"KushCoin\",\"Printerium\",\"PacCoin\",\"Impeach\",\"Citadel\",\"Zilbercoin\",\"FirstCoin\",\"BeaverCoin\",\"FindCoin\",\"VaultCoin\",\"Zero\",\"OpenChat\",\"Canada eCoin\",\"Zoin\",\"RenosCoin\",\"DubaiCoin\",\"VirtacoinPlus\",\"TajCoin\",\"Impact\",\"EB3coin\",\"Atmos\",\"HappyCoin\",\"Coinonat\",\"MacronCoin\",\"Condensate\",\"Independent Money System\",\"ArgusCoin\",\"LomoCoin\",\"ProCurrency\",\"GoldReserve\",\"BenjiRolls\",\"GrowthCoin\",\"ILCoin\",\"Phreak\",\"Degas Coin\",\"HTML5 Coin\",\"Ultimate Secure Cash\",\"EquiTrader\",\"QTUM\",\"Quantum Resistant Ledger\",\"Espers\",\"Dynamic\",\"Nano\",\"ChanCoin\",\"Dinastycoin\",\"Denarius\",\"DigitalPrice\",\"Virta Unique Coin\",\"Bitcoin Planet\",\"Unify\",\"BritCoin\",\"SocialCoin\",\"ArcticCoin\",\"DAS\",\"Linda\",\"LeviarCoin\",\"DeepOnion\",\"Bitcore\",\"gCn Coin\",\"SmartCash\",\"Signatum\",\"Onix\",\"Cream\",\"Bitcoin Cash\",\"Monoeci\",\"Draftcoin\",\"Vechain\",\"Sojourn Coin\",\"Stakecoin\",\"NewYorkCoin\",\"FrazCoin\",\"Kronecoin\",\"AdCoin\",\"Linx\",\"CoinonatX\",\"Ethereum Dark\",\"Sumokoin\",\"Obsidian\",\"Cardano\",\"Regalcoin\",\"BitcoinZ\",\"TrezarCoin\",\"Elements\",\"TerraNovaCoin\",\"VIVO Coin\",\"Rupee\",\"Bitcoin Gold\",\"WomenCoin\",\"Theresa May Coin\",\"NamoCoin\",\"LUXCoin\",\"Pirl\",\"Xios\",\"Bitcloud 2.0\",\"eBoost\",\"KekCoin\",\"BlackholeCoin\",\"Infinity Economics\",\"Pura\",\"Innova\",\"Ellaism\",\"GoByte\",\"Magnet\",\"Lamden Tau\",\"Electra\",\"Bitcoin Diamond\",\"SHIELD\",\"Cash & Back Coin\",\"UltraNote\",\"BitCoal\",\"DaxxCoin\",\"Bulwark\",\"Kalkulus\",\"AC3\",\"Lethean\",\"GermanCoin\",\"LiteCoin Ultra\",\"PopularCoin\",\"PhantomX\",\"Photon\",\"Sucre\",\"SparksPay\",\"Digiwage\",\"GunCoin\",\"IrishCoin\",\"Trollcoin\",\"Litecoin Plus\",\"Monkey Project\",\"Pioneer Coin\",\"UnitedBitcoin\",\"Interzone\",\"TokenPay\",\"1717 Masonic Commemorative Token\",\"My Big Coin\",\"TurtleCoin\",\"MUNcoin\",\"Unified Society USDEX\",\"Niobio Cash\",\"ShareChain\",\"Travelflex\",\"KREDS\",\"Tokyo Coin\",\"BiblePay\",\"LitecoinCash\",\"BitFlip\",\"LottoCoin\",\"Crypto Improvement Fund\",\"Stipend\",\"Poa Network\",\"Pushi\",\"Ellerium\",\"Velox\",\"Ontology\",\"Callisto Network\",\"BitTube\",\"Poseidon\",\"Aidos Kuneen\",\"Bitspace\",\"Briacoin\",\"Ignition\",\"Bitrolium\",\"MedicCoin\",\"Alpenschillling\",\"Bitcoin Green\",\"Deviant Coin\",\"Abjcoin\",\"Semux\",\"FuturoCoin\",\"Carebit\",\"Zealium\",\"Monero Classic\",\"Proton\",\"iDealCash\",\"Jumpcoin\",\"Infinex\",\"Bitcoin Incognito\",\"KEYCO\",\"HollyWoodCoin\",\"GINcoin\",\"PlatinCoin\",\"Loki\",\"Newton Coin\",\"Swisscoin\",\"Xt3ch\",\"MassGrid\",\"TheVig\",\"PluraCoin\",\"EmaratCoin\",\"Dekado\",\"Lynx\",\"Poseidon Quark\",\"BitcoinWSpectrum\",\"Muse\",\"Motion\",\"PlusOneCoin\",\"Axe\",\"Trivechain\",\"Dystem\",\"Giant\",\"Peony Coin\",\"Absolute Coin\",\"Vitae\",\"HexCoin\",\"TPCash\",\"Webchain\",\"Ryo\",\"Urals Coin\",\"Qwertycoin\",\"ARENON\",\"EUNO\",\"MMOCoin\",\"Ketan\",\"Project Pai\",\"XDNA\",\"PAXEX\",\"Azart\",\"ThunderStake\",\"Kcash\",\"Xchange\",\"Acute Angle Cloud\",\"CrypticCoin\",\"Bettex coin\",\"Actinium\",\"Bitcoin SV\",\"BitMoney\",\"Junson Ming Chan Coin\",\"FREDEnergy\",\"HerbCoin\",\"Universal Molecule\",\"Lithium\",\"PirateCash\",\"Exosis\",\"Block-Logic\",\"Oduwa\",\"Beam\",\"Galilel\",\"Bithereum\",\"Crypto Sports\",\"Credit\",\"SLICE\",\"Dash Platinum\",\"Nasdacoin\",\"Beetle Coin\",\"Titan Coin\",\"Award\",\"BLAST\",\"Bitcoin Rhodium\",\"GlobalToken\",\"Insane Coin\",\"ALAX\",\"LiteDoge\",\"SolarCoin\",\"TruckCoin\",\"UFO Coin\",\"OrangeCoin\",\"BlakeCoin\",\"BitstarCoin\",\"NeosCoin\",\"HyperCoin\",\"PinkCoin\",\"Crypto Escudo\",\"AudioCoin\",\"IncaKoin\",\"Piggy Coin\",\"Crown Coin\",\"Genstake\",\"SmileyCoin\",\"XiaoMiCoin\",\"Groestlcoin\",\"CapriCoin\",\" ClubCoin\",\"Radium\",\"Bata\",\"Pakcoin\",\"Creditbit \",\"OKCash\",\"Lisk\",\"HiCoin\",\"WhiteCoin\",\"FriendshipCoin\",\"JoinCoin\",\"Triangles Coin\",\"Vollar\",\"EOS\",\"Reality Clash\",\"Oxycoin\",\"TigerCash\",\"Waves\",\"Particl\",\"BitTorrent\",\"Nxt\",\"ZEPHYR\",\"Gapcoin\",\"Beldex\",\"Horizen\",\"BitcoinPlus\"],\"PC1\":{\"__ndarray__\":\"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\",\"dtype\":\"float64\",\"order\":\"little\",\"shape\":[532]},\"PC2\":{\"__ndarray__\":\"y5UnQAgi8D/tMp/8kSHwP/hKoYZstPg/OhhURjlO9L+EubxAN6D/vx+5IG4/5PG/TlE/Ri4X9D+2ESz0MMkAwNzgSzy6oP+/NePklKgPAsAITZzIDgb8P36j7NpVyPy/9Pyk4MRv6z8Lf6WsMxHkP18yh4kj5PG/dLM4/2sM/T+m1QGU393rv3R1aUY95PG/3FdwawEi8D/MNHGhiiLwPy5EuKtrofy/iRkKEQCU9b9zY5upd070v8KOBl6a5PG/Sm1w7FTk8b892FmAISLwP29GPiHQGt+/tiQHOf3M87+uoB30LuTxv6NT2fEHIvA/h9BGPSPk8b9G1KXVByLwP4RYPs8e5PG/ZKMClt/d67+mUA/Rv2LXP3kXwUuWcuw/D+bDnsi5/L8K7XpTwnL0vxt9ado5+/G/W4QlbiDk8b92/2s/p+TxvwJob6Qn5PG/M66dtDLI9z9KYmNWGc3eP+KpjFce5PG/zHjHpHe++b/QytQL4Obxv/pYfBQ25PG/HbWnazzk8b8mDOQNzyHwP9Dav+VBafA/ExdHmy568r8B4AMLMBf0P10lOqA4TvS/cjb/c5/k8b8m0kMgIOTxv40MBiEY5PG/m2ubIBJT+j8gfHUbKuTxv3OA8elAmwDAq/i7X5EH6T8Xo5ybHOTxvxCAZqORZus/oeSROWHl6D/DWjMVPqH7P5lKaRsRB/K/zaTu7TlO9L/q7KrkpuTxv8Wn7qEzofs/3GrFCp6Q4D+2y3+lLSHwP5LE4MHZIfA/6z0cZIc58D9CWIZ+JOTxv6xzBNuv5PG/0R4teTLk8b/vhLHk82fwP/tJ0UM6F/Q/ZhiJ8epP9L9hFLzTT4y7P7Yoe2NETvS/k1wRiYvQ+D8uADFENBf0P7UBOnZFTvS/HdrcnGFO9L//esDaL070vwkOw3zK3eu/jMuN5/oe8D+N14Wh0yHwP5+Epjoh5PG/YKf+fsMz1z9XqAJt+Tv0vxUxg/yl5PG/hQQDOzgX9D95sZZ3f5C7P60hZANETvS/WXUjUDeh+z/kogVYsR/wP1ZsNvkvwQLAR+SmmcExAsAKYFAxQOXlP1idYncTpPY/X+KfqUvk8b9k3I6Cmm/rPyePEUiwcuw/gydVhuPn8b/ID6QaeuXoP+Co0v1j5PG/Dm7qYimh+z8nqVofGeTxvyozilhB4+g/XHIj8lzk8b+o5kKNCCLwP1LDpa8rofs/J9wxKerl8b/yWdxjqFIBwAi/jnTdZ/A/Wez6K86d/L/kfNq8YhT4v3FYBowX5PG/7mLaC/4h8D/7pJBA+vjxvwOAJBw+NQLAH1vPxBfk8b/QTV5lOk70vy1V94k8xvK/spJtkzoX9D+3HyiH5Z/1P1DbvErn3eu/gI+F5Yc/AcBzdMuKTk70v0pCLuuycQBAWyH05t7d679qkIHxhz/rP9ruUR+V5PG/dqQiT6Xk8b80lIshGuXoP6kYWtVVoP+/PfV9yRWh+z956LO8J+oAwCwmmykHa+s/n8qdOjUN/T8Nf5yb2N3rv2OODaU4TvS/yNpBSw717z969XCQcOTxv8G42wkZgAHA+1HD2sVv6z/hBwhgx97zP7v4Ggk+5PG/6EE67dRv6z9cMWvS63H0v6BAHOQxlPc/Bt/nqu8h8D/qXbdaaeToP9IeRDAi3uu/UPOiY4mbAcDZdHVQgeTxv6K+tj2dwgHA+CCawkoW9D/amEj8/jnnPyBYtH2vb+s/5mM8xZJd2D/gyvMOKcj3P+H4R74i5PG/ZXfZ1+Td678GI7ytJhf0P7wwxTfIbus/RzB9I1Jt6z/vhUhF+Iv3P25468znFvQ/tCR7xBfk8b+uRJUacBH4Pw6yhYrEHfA/lFgYSO0h8D+KCIzX3SHwP6pa7epi8fc/vi2G4end679ESzPd0mbwP3RcZmZHtAPAQ53D/h0X9D+m4xp52CHwPwy6UiY+KALAeLH72cVv6z8PY3eVNE70v+oCLoM4F/Q/yOTQkPsh8D8HghZ5AaD8v0WPDqYIIvA/lAuzYn3k8b+nKPuLtOXoPyfncJA0TvS/bHtyF8qA1D9hWU0aKOTxv138YiBmyP4/i1MoKhLI9z/mBgohDyLwP7jMRqrAE/Q/roaReegFAsDqMkfiNsj3P04Umq/e8fc/WhbJo7sB/z/okQrJd8f3P7oSqjZJ2P4/bsIpdlig/7+uN17DqA8CwAnUKyJNBwJA1vibJisX9D9eOZHzg/zxv8691xvu3uu/+lGATv7o+z+heJOhOBf0Pw7691UcyPc/53tIgfMh8D9m1eRS7iHwP8S2or/Q3uu/4MrzDinI9z8VEBzBFRf0P9d3CvbLb+s/q8Bvo/ch8D/MeqoIXJ7tPx44lOf4IfA/TkFDDHEg8D8msD1JNxf0PztyGFBCKALADB28Wq8h8D+nf1xvyXvoPwBQXsgAIvA/JUUt2AYi8D9/ie7WeZD2P8KM45wg4+M/1FnZBxnk8b+PVzi2QigCwP3/i493PwHAORgmiNIg8D+h0c6kxm/rPz0SToo1F/Q/xHpAF/4h8D9ryEAUjcjtv2RxBoP6IfA/lOoCzWvJAMB3Xn/tKuXoP9r8Md/VUdA/j4sx+xjk8b8ytB+W2fH3P3wd2g6p4uu/mynTXqcPAsDyjwkqYCDwP4GqZPJB5PG/pVDBT3k/AcDMYElqUuXoPxx6x4rIHAHAXRr0Cf4W9D9FLG747xEAQESTwb4LF/Q/RqWScd/t8b8jLvHwAsj3P4NZAsH/FvQ/TLKVhTj05L+bIH0yiMf3P5cN25cYFvQ/zoAJAfwh8D+mpjJ99iHwP31KtxSTH/A/9Q2e5rCg4j/vxiOeJBf0PxcynbIp5PG/ncJy+RLc6D+hkDSJRlP0vzi9w/8gyPc/GIc+j8oh8D/7PtYmn1D8Px/AzelGEOQ/qVASAkLk8b9vo5TbUhH4P8AdNqxMyQDAtz+StM/G/j9YK4zQvl4AwMnkkMjI9wDA8WtLWz+rAMBI5Ilw9ykCwGK/cVgajPc/7nXOajre679uGTgv4Yv3PxteWtUm4v4/MRNv6h/k8b/pwycCIqH7P5oIIqRF5PG/Orb0zgve67939mOx4d3rv94OYQ7BXO8/WojjV0soAsDFiKwgKaH7P0NIkqJkJQDA73RvXAVN87+uR4ko0I7xv8dWsXJ6lfc/wWwNHwHj679JXSkmL+L+P4IevEI5TvS/vJmW3DYX9D8chXyzYOXoP0+hAlYAtwZAGff9w+b98b97tASZC8j3P8kaiI54cfG/JS2zGSLk8b9srZ/ISOTxv7iJErxP5PG/ePDgg0/k8b/X2W7l7SHwP0l1LngGIvA/724M21YoAsC6XNCcgQz8P6Anww6NNvk/1PfcwyoX9D9+QRZsWycCwPXKN//0juA/Qof6L0/i6785zomV/iHwPycK4Sjfvfm/SmRdeOs15D/vfACTpw8CwNHvjKRrC/A/B3wJ9Ydv6z9SR9qsn4n3Pz+kIrUShPw/K3hgOq6bAcCO+Bt6+yHwP5/LGVhaP/o/JGux6kHk8b9gR4l/slr2PymRWE0CIvA/CYOf7Wzz4z+l7NuRO9/rv9lchAjqvfm/a2JO7fqg/7+KnpnW4b35vwMn53znFvQ/c6unmekGAkDJA9e3JFn3P03GuQjSoPs/vI3tARif/L8UVtXfmiHwP+43F7P5iALALDHzRj8oAsA9FgMxd7j/v5SrcUjA3PM/tKuiA3iQ9j8Afgo5XuDrvytEIOw/ygDAEZsd0CBW7z96oFqWqyHwP6n6K3g07fG/fbMfEiQX9D+LW2oNqtDyv0TTnyri3eu/W2zwoNq9+b98CZs1O5D2PxdBXiXMvvm/Sitwcjbk8b8CFNIsSyDwPwnHVj8GIvA/cEetLd1n8D8k6Dxz5N3rv4FTYEo4TvS/YfnlhMvN9L9yZdK6cRH4P5HOo93wl7S/oQymfe7r0D8RJjEu/N8GwAJ4adOxAgLAX45TcqYh8D8BN3jIlygCwFEmxl6o9PG/7rfn/JSbAcBCSjQr/z30v/mGHJUX8Pc/1T7o+K9gFUCOnsbvVtD/PzBVih8u5PG/XLwtKLkF8r/IyGSL6d/rvzeTws6scOo/ono7BiOHCEDK4XH6Khf0P3Wma9NU/fY/N9fKYd3k6D+6qAjgImX1PwWdvc8UsP+/3ynDOm4pAsCen7niI+Txv+dc/ii+TgHAWn3TJQOM9z8aIUyJBiLwP29MyVgFIvA/8xGIb7EPAsBGxRBeZ+PoP5rboBo+BgLAibJzHg1M9j/SHien/sf3PwHPWGb3IfA/UXFQDRYrAUA++G3JO97rv/iqFLdwP/o/2teIeAHI9z8qK7PzPygCwLodXJwEgOI/N+YNQ5EW8D9/U2K7EfTkv6JiPVp8PwHADDhoKPmF8D//gKzjnP8AwLZOPxxe5eg/d+LjGuUFAsAvvD2U+CgCwKtJxKyb+AHADQ+jVNT5AsDlabeRIhHwPy0mGLQ65eg/z+l48AruAcDcnjBhpun+PxRwLPs8KQLAHVXZ0tch8D8sAOHNv135PwOHVpymGaQ/cyuipuiO9j+V8vAF2BDkP8E8HmRw7f0/P/tJfL0W9b/DBkA4gyMBwL7z/Fzj3eu/yHUzQYTe6T9S1OpbdZD2P48JyN7PP/o/P6awJHOS6D+KnejGZJTrP1DoJL9PkPY/kRgpICXk8b+2Bk0WlB/wP0HnvLtXywDAXK/u51k7AMBzlJbDTBLmv0Ppmu1BswLAt1or1cpn8D8hfJAdIRf0P12GMfNT5Og/tymHTq/H9z9vQeNRqlH0v9zDDcjogPA/urdjfKtn8D+uUFZj6N3rv0XWhaxF7e8/y+WE+EHdAkDn7+Qv7hb1vyRNe4hM1QtAWFBQeUcXAsBg7hWmC07zP0hreIz7BQLACHjlQjlO9L+C8XSNeE/xP6dx4Li0dfA/TYvvhGoxAsDiNnEptz/6P1vD3lH7cgHAEVUkuOByAcD/6LMq1yLXv2o09zmP8gDA0idhx1vk8b9/mmsR/iHwP7qevcHxDwLAXNJ5qsk/+j9VQ4jeqQ8CwNOhqhp5kPY/4jH3Xb8F7z9/3Z1RoBT4vwYxMD3dZ/A/kxyMm9ch8D9i/uetaPz2P72rygtM3v4/ACyMIjUW9D+9/yhITU70v6mU70LBk9m/4rhAGIhO9L/91v9DLBf0P2p9q1GVBgJALa8e4Y2w7z8CYIO3L9Xyv7OvvwlsF/Q/W5mJV5PE+b+DOjcfiyHwP2ToxXZyewHAReasVOoh8D+6mU/bJRHkPwoYEDoKIvA/m1yqKVkW9D9Xva2w7OXxvxhDvx8CCfA/0aug3rKL6z+ifXpnKhX0P8AJhXNFTvS/KKBoHwsi8D/mFGPnSEfyvy3KcYBfIfA/PFJ8kAXN878KjJux4Bb0P1dJLNS4IfA/iPYmqSzI9z+IKaCdGeTxvxARQbx75PG/ySPx6+tn7j+NUsuIem/rP5Hjx1tDBwJAqaBOM0LE6D9rc0otfyHwP6rHWzNWkOA/Q3k3nNyd/L8EVt55MKH7P31sMtjByQHAw7gZENIHAkDyw7C7V6D/v88Mv4LcBwJAZtKST+4N5D9/OGGYlYcIQBVs/QIuyPc/88zK77zr9T/qEFmXu6f5P+wJ4cGpJvA/ZjQG/20h8D8JwXbNjykCwFmZKpeoDwLA9EcQvm3l6D8=\",\"dtype\":\"float64\",\"order\":\"little\",\"shape\":[532]},\"PC3\":{\"__ndarray__\":\"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\",\"dtype\":\"float64\",\"order\":\"little\",\"shape\":[532]},\"ProofType\":[\"PoW/PoS\",\"PoW/PoS\",\"PoW/PoS\",\"PoW\",\"PoW\",\"PoW\",\"PoW/PoS\",\"PoW\",\"PoW\",\"PoW\",\"PoS\",\"PoW\",\"PoW/PoS\",\"PoS\",\"PoW\",\"PoW/PoS\",\"PoW\",\"PoW\",\"PoW/PoS\",\"PoW/PoS\",\"PoW\",\"PoW\",\"PoW\",\"PoW\",\"PoW\",\"PoW/PoS\",\"PoW\",\"PoW\",\"PoW\",\"PoW/PoS\",\"PoW\",\"PoW/PoS\",\"PoW\",\"PoW\",\"PoC\",\"PoW/PoS\",\"PoW\",\"PoW\",\"PoW\",\"PoW\",\"PoW\",\"PoW\",\"PoS\",\"PoS/PoW/PoT\",\"PoW\",\"PoW\",\"PoW\",\"PoW\",\"PoW\",\"PoW/PoS\",\"PoS\",\"PoW\",\"PoW/PoS\",\"PoW\",\"PoW\",\"PoW\",\"PoW\",\"PoW/PoS\",\"PoW\",\"PoW\",\"PoS\",\"PoW\",\"PoW/PoS\",\"PoS\",\"PoW/PoS\",\"PoW\",\"PoW\",\"PoW\",\"PoW/PoS\",\"PoW/PoS\",\"PoW/PoS\",\"PoW/PoS\",\"PoW/PoS\",\"PoW\",\"PoW\",\"PoW\",\"PoS\",\"PoW/PoS\",\"PoW\",\"PoS\",\"PoW\",\"PoS\",\"PoW/PoS\",\"PoW\",\"PoW\",\"PoW\",\"PoW\",\"PoW/PoS\",\"PoW/PoS\",\"PoW\",\"PoST\",\"PoW\",\"PoW\",\"PoW/PoS\",\"PoS\",\"PoW\",\"PoW/PoS\",\"PoW/PoS\",\"PoW\",\"PoW\",\"PoC\",\"PoS\",\"PoW\",\"PoW/PoS\",\"PoW/PoS\",\"PoW\",\"PoS\",\"PoW\",\"PoW/PoS\",\"PoW\",\"PoS\",\"PoW\",\"PoW/PoS\",\"PoW/PoS\",\"PoW\",\"PoW\",\"PoS\",\"PoW\",\"PoW\",\"PoW\",\"PoW/PoS\",\"PoW\",\"PoW\",\"PoW\",\"PoW\",\"PoW\",\"PoW/PoS\",\"PoW/nPoS\",\"PoW\",\"PoW\",\"PoW\",\"PoW/PoS\",\"PoW\",\"PoS/PoW\",\"PoW\",\"PoW\",\"PoS\",\"PoW\",\"PoW/PoS\",\"PoW\",\"PoW/PoS\",\"PoW/PoS\",\"PoW\",\"PoW\",\"PoW/PoS\",\"PoW\",\"PoW\",\"PoW/PoS\",\"PoW/PoS\",\"PoW\",\"PoW/PoS\",\"PoW\",\"PoW/PoS\",\"PoW/PoS\",\"PoS\",\"PoW\",\"PoW\",\"PoW\",\"PoW\",\"PoW/PoS\",\"PoS\",\"PoW/PoS\",\"PoC\",\"PoS\",\"PoW\",\"PoW\",\"PoW/PoS\",\"PoW/PoS\",\"PoW/PoS\",\"PoW/PoS\",\"PoW/PoS\",\"PoW\",\"PoS\",\"PoW/PoS\",\"PoW/PoS\",\"PoW/PoS\",\"PoS\",\"PoW\",\"PoS\",\"dPoW/PoW\",\"PoW/PoS\",\"PoW/PoS\",\"PoW\",\"PoW/PoS\",\"PoW\",\"PoW/PoS\",\"PoW/PoS\",\"PoW\",\"PoW/PoS\",\"PoW\",\"PoS\",\"PoW\",\"PoW/PoW\",\"PoW\",\"PoW/PoS\",\"PoS\",\"PoW/PoS\",\"PoW/PoS\",\"PoW\",\"PoS\",\"PoS\",\"PoW/PoS\",\"PoS\",\"PoW/PoS\",\"PoW\",\"PoW\",\"DPoS\",\"PoW/PoS\",\"PoW\",\"PoW\",\"PoW/PoS\",\"PoW/PoS\",\"PoS\",\"PoW/PoS\",\"PoW/PoS\",\"PoW\",\"PoS\",\"PoW/PoS\",\"PoW/PoS\",\"PoW/PoS\",\"TPoS\",\"PoW/PoS\",\"PoW/PoS\",\"PoW/PoS\",\"PoW\",\"PoW/PoS\",\"PoS\",\"PoW/PoS\",\"PoW/PoS\",\"PoS\",\"PoW/PoS\",\"PoW\",\"PoW\",\"PoW\",\"PoW/PoS\",\"PoW/PoS\",\"PoW/PoS\",\"PoW/PoS\",\"PoW\",\"PoW/PoS\",\"PoW\",\"PoS\",\"PoW/PoS \",\"PoW\",\"PoS\",\"PoW\",\"PoW\",\"PoW/PoS\",\"PoW\",\"PoW\",\"PoS\",\"PoW\",\"PoW/PoS\",\"PoW/PoS\",\"PoW/PoS\",\"PoW\",\"PoS\",\"PoW/PoS\",\"PoW\",\"PoS\",\"PoW/PoS\",\"PoW/PoS\",\"PoW/PoS\",\"PoW/PoS\",\"PoS\",\"PoW/PoS\",\"PoW\",\"PoS\",\"PoW\",\"PoS\",\"PoW/PoS\",\"PoW/PoS\",\"PoS\",\"PoW\",\"PoS\",\"PoW\",\"PoW/PoS\",\"PoW\",\"PoW\",\"PoW\",\"PoW\",\"PoW/PoS\",\"PoW\",\"PoW/PoS\",\"PoW/PoS\",\"PoW\",\"PoW/PoS\",\"PoW\",\"PoW\",\"PoW\",\"PoW/PoS\",\"PoW\",\"PoW/PoS\",\"PoW\",\"PoW\",\"PoW\",\"PoS\",\"PoW\",\"PoW/PoS\",\"PoW\",\"PoW/PoS\",\"PoS\",\"Proof of Authority\",\"PoW\",\"PoS\",\"PoW\",\"PoW\",\"PoW\",\"PoW\",\"PoW\",\"PoW/PoS\",\"PoW/PoS\",\"PoW\",\"PoS\",\"PoS\",\"PoW/PoS\",\"PoW\",\"PoW/PoS\",\"PoW\",\"PoW/PoS\",\"PoW\",\"PoS\",\"PoW\",\"PoW/PoS\",\"PoW/PoS\",\"PoW/PoS\",\"PoW/PoS\",\"PoW\",\"PoW/PoS\",\"PoW/PoS\",\"PoW\",\"PoS\",\"PoW/PoS\",\"PoS\",\"PoW\",\"PoW\",\"PoW\",\"PoW\",\"PoW/PoS\",\"DPoS\",\"PoW/PoS\",\"PoW/PoS\",\"PoW\",\"PoW/PoS\",\"PoW\",\"PoW\",\"PoW\",\"PoS\",\"PoS\",\"PoW\",\"PoW\",\"PoW/PoS\",\"PoW/PoS\",\"PoW\",\"PoW/PoS\",\"PoW\",\"PoW\",\"PoW\",\"PoS\",\"PoW\",\"PoW\",\"PoW/PoS\",\"PoW/PoS\",\"PoS\",\"PoW\",\"PoW\",\"PoW\",\"PoS\",\"PoS\",\"PoW and PoS\",\"PoW\",\"PoW\",\"PoW/PoS\",\"PoW\",\"PoW\",\"PoW\",\"PoW\",\"PoS\",\"POBh\",\"PoW + Hive\",\"PoW\",\"PoW\",\"PoW\",\"PoW/PoS\",\"PoA\",\"PoW/PoS\",\"PoW/PoS\",\"PoS\",\"PoS\",\"PoW\",\"PoW\",\"PoW\",\"PoW\",\"PoW/PoS\",\"PoW/PoS\",\"PoW/PoS\",\"PoW\",\"PoS\",\"PoW\",\"PoS\",\"PoS\",\"PoW/PoS\",\"DPoS\",\"PoW\",\"PoW/PoS\",\"PoS\",\"PoW\",\"PoS\",\"PoW/PoS\",\"PoW\",\"PoW\",\"PoS/PoW\",\"PoW\",\"PoS\",\"PoW\",\"PoW\",\"PoW\",\"PoW\",\"PoW/PoS\",\"PoS\",\"PoW\",\"PoW/PoS\",\"PoW\",\"PoW/PoS\",\"PoS\",\"HPoW\",\"PoS\",\"PoS\",\"PoS\",\"PoW\",\"PoW\",\"PoW\",\"PoW/PoS\",\"PoS\",\"PoW/PoS\",\"PoS\",\"PoW/PoS\",\"PoS\",\"PoW\",\"PoW/PoS\",\"PoW\",\"PoW\",\"PoW\",\"PoW\",\"PoS\",\"PoW/PoS\",\"PoS\",\"PoS\",\"PoW\",\"PoW/PoS\",\"PoS\",\"PoW\",\"PoW/PoS\",\"Zero-Knowledge Proof\",\"PoW\",\"DPOS\",\"PoW\",\"PoS\",\"PoW\",\"PoW\",\"Pos\",\"PoS\",\"PoW\",\"PoW/PoS\",\"PoW\",\"PoW\",\"PoS\",\"PoW\",\"PoW\",\"PoW/PoS\",\"PoW\",\"PoW/PoS\",\"PoW\",\"PoS\",\"PoW/PoS\",\"PoW\",\"PoS\",\"PoW/PoS\",\"PoW/PoS\",\"PoW/PoS\",\"PoW/PoS\",\"PoW\",\"PoW\",\"PoW\",\"PoW/PoS\",\"DPoS\",\"PoW/PoS\",\"PoW\",\"PoW/PoS\",\"PoW\",\"PoW/PoS\",\"PoW\",\"PoW/PoS\",\"PoS\",\"PoW/PoS\",\"PoW/PoS\",\"PoW\",\"PoW/PoS\",\"PoW/PoS\",\"PoW/PoS\",\"PoW\",\"PoW/PoS\",\"PoW\",\"PoW/PoS\",\"PoW\",\"PoW/PoS\",\"PoW/PoS\",\"PoS\",\"PoW\",\"PoW\",\"Proof of Trust\",\"PoW/PoS\",\"DPoS\",\"PoS\",\"PoW/PoS\",\"PoW/PoS\",\"PoW\",\"PoW/PoS\",\"PoW\",\"DPoS\",\"PoW\",\"DPoS\",\"PoS\",\"LPoS\",\"PoS\",\"DPoS\",\"PoS/LPoS\",\"DPoS\",\"PoW/PoS\",\"PoW\",\"PoW\",\"PoS\"],\"TotalCoinSupply\":[\"42\",\"532000000\",\"314159265359\",\"21000000\",\"0\",\"84000000\",\"22000000\",\"0\",\"210000000\",\"21000000\",\"3600570502\",\"21000000000\",\"22000000\",\"12500000\",\"21000000\",\"350000000\",\"20000000\",\"64000000\",\"16768584\",\"0\",\"2000000000\",\"384000000000\",\"169795588\",\"250000000\",\"100000000\",\"0\",\"247000000\",\"84000000\",\"48166000\",\"500000\",\"21000000 \",\"1000000\",\"13140000\",\"18000000\",\"40000000000\",\"4380000\",\"16555000000\",\"21000000000\",\"13500000000\",\"21000000 \",\"299792458\",\"32000000\",\"0\",\"0\",\"11235813\",\"336000000\",\"1420609614\",\"70000000\",\"72245700\",\"120000000\",\"0\",\"90600000000\",\"22000000\",\"21000000\",\"265420800\",\"20000000\",\"1350000\",\"100000000\",\"42000000\",\"200000000\",\"0\",\"10000000\",\"2419200000\",\"16180000\",\"0\",\"15000000000\",\"21000000\",\"337000000\",\"0\",\"3770000\",\"420000000\",\"98000000\",\"0\",\"21000000\",\"250000000\",\"51200000\",\"0\",\"1000\",\"888000000\",\"100000000\",\"47011968\",\"2300000000\",\"10000000\",\"42000000\",\"80000000\",\"250000\",\"0\",\"1600000000\",\"100000000\",\"23000000\",\"0\",\"84000000\",\"265420800\",\"5500000\",\"0\",\"45000000\",\"0\",\"1000000000\",\"184467440735\",\"10000000000\",\"2158812800\",\"500000000\",\"105120000\",\"68000000\",\"0\",\"1680000000\",\"0\",\"166386000\",\"12000000\",\"2628000\",\"500000000\",\"160000000\",\"0\",\"10000000\",\"1000000000\",\"1000000000\",\"20000000\",\"0\",\"0\",\"3371337\",\"20000000\",\"10000000000\",\"1840000000\",\"619478\",\"21000000\",\"92000000000\",\"0\",\"78000000\",\"33000000\",\"65789100\",\"53760000\",\"5060000\",\"21000000\",\"0\",\"210240000\",\"250000000\",\"100000000\",\"16906397\",\"50000000\",\"0\",\"1000000000\",\"26298000\",\"16000000\",\"21000000\",\"21000000\",\"210000000\",\"81962100\",\"22000000\",\"26550000000\",\"84000000\",\"10500000\",\"21626280000 \",\"0\",\"42000000\",\"221052632\",\"84000000\",\"30000000\",\"168351300\",\"24000000\",\"384000000\",\" 99000000000\",\"40000000\",\"2147483647\",\"20000000\",\"20000000\",\"25000000\",\"75000000\",\"222725000\",\"525000000\",\"90000000\",\"139000000\",\"616448\",\"33500000\",\"2000000000\",\"44333333\",\"100000000\",\"200000000\",\"25000000\",\"657000000\",\"200000000\",\"50000000\",\"90000000\",\"10000000\",\"21000000\",\"9736000\",\"3000000\",\"21000000\",\"1200000000\",\"0\",\"200000000\",\"0\",\"10638298\",\"3100000000\",\"30000000\",\"20000000000\",\"74000000\",\"0\",\"1500000000\",\"21400000\",\"39999898\",\"2500124\",\"100000000\",\"301000000\",\"7506000000\",\"26205539\",\"21000000\",\"125000000\",\"30000000\",\"10000000000\",\"500000000\",\"850000000\",\"3853326.77707314\",\"50000000\",\"38540000 \",\"42000000\",\"228000000\",\"20000000\",\"60000000\",\"20000000\",\"33000000\",\"76500000\",\"28000000\",\"650659833\",\"5000000\",\"21000000\",\"144000000\",\"32514916898\",\"13000000\",\"3315789\",\"15000000\",\"78835200\",\"2714286\",\"25000000\",\"9999999\",\"500000000\",\"21000000\",\"9354000\",\"20000000\",\"100000000000\",\"21933333\",\"185000000\",\"55000000\",\"110000000\",\"3360000\",\"14524851.4827\",\"1000000000\",\"17000000\",\"1000000000\",\"100000000 \",\"21000000\",\"34426423\",\"2232901\",\"100000000\",\"36900000\",\"110000000\",\"4000000000\",\"110290030\",\"100000000\",\"48252000\",\"400000000\",\"500000000\",\"21212121\",\"28600000\",\"1000000000\",\"75000000000\",\"40000000\",\"35520400\",\"2000000000\",\"2500000000\",\"30000000\",\"105000000\",\"90000000000\",\"200084200\",\"72000000\",\"100000000\",\"105000000\",\"50000000000\",\"0\",\"340282367\",\"30000000\",\"2000000000\",\"10000000\",\"100000000\",\"120000000\",\"100000000\",\"19276800\",\"30000000\",\" 75000000\",\"60000000\",\"18900000\",\"50000000000\",\"54000000\",\"18898187.6216583\",\"21000000\",\"200000000000\",\"5000000000\",\"137500000\",\"1100000000\",\"100000000\",\"21000000\",\"9507271\",\"17405891.19707116\",\"86712634466\",\"10500000000\",\"61599965\",\"0\",\"20000000\",\"84000000\",\"100000000\",\"100000000\",\"48252000\",\"4200000\",\"88888888\",\"91388946\",\"45000000000\",\"27000000\",\"21000000000\",\"400000000\",\"1800000000\",\"15733333\",\"27000000\",\"24000000\",\"21000000\",\"25000000000\",\"100000000\",\"1200000000\",\"60000000\",\"156306732.71\",\"21000000\",\"200000000\",\"100000000\",\"21000000\",\"14788275.991\",\"9000000000\",\"350000000\",\"45000000\",\"280000000\",\"31800000\",\"144000000\",\"500000000\",\"30000000000\",\"210000000\",\"660000000\",\"210000000\",\"85000000000\",\"12500000\",\"10000000000\",\"27716121\",\"20000000\",\"550000000\",\"999481516\",\"50000000000\",\"150000000\",\"4999999999\",\"50000000\",\" 90000000000\",\"19800000\",\"21000000\",\"120000000\",\"500000000\",\"64000000\",\"900000000\",\"4000000\",\"21000000\",\"23000000\",\"20166000\",\"23000000\",\"25000000\",\"1618033\",\"30000000\",\"1000000000000\",\"16600000\",\"232000000\",\"336000000\",\"10000000000\",\"100000000\",\"1100000000\",\"800000000\",\"5200000000\",\"840000000\",\"40000000\",\"18406979840\",\"500000000\",\"19340594\",\"252460800\",\"25000000\",\"60000000\",\"124000000\",\"1000000000\",\"6500000000\",\"1000000000\",\"21000000\",\"25000000\",\"50000000\",\"3000000\",\"5000000\",\"70000000\",\"500000000\",\"300000000\",\"21000000\",\"88000000\",\"30000000\",\"100000000\",\"100000000\",\"200000000\",\"80000000\",\"18400000\",\"45000000\",\"5121951220\",\"21000000\",\"26280000\",\"21000000\",\"18000000\",\"26000000\",\"10500000\",\"600000518\",\"150000000\",\"184000000000\",\"10200000000\",\"44000000\",\"168000000\",\"100000000\",\"1000000000\",\"84000000\",\"90000000\",\"92000000000\",\"650000000 \",\"100262205\",\"18081806 \",\"22075700\",\"21000000\",\"21000000\",\"82546564\",\"21000000\",\"5151000\",\"16880000000\",\"52500000\",\"100000000\",\"22105263\",\"1000000000\",\"1750000000\",\"88188888\",\"210000000\",\"184470000000\",\"55000000\",\"50000000\",\"260000000\",\"210000000\",\"2100000000\",\"366000000\",\"100000000\",\"25000000\",\"18000000000\",\"1000000000\",\"100000000\",\"1000000000\",\"7600000000\",\"50000000\",\"84000000\",\"21000000\",\"70000000000\",\"0\",\"8080000000\",\"54000000\",\"105120001.44\",\"25228800\",\"105000000\",\"21000000\",\"120000000\",\"21000000\",\"262800000\",\"19035999\",\"30886000\",\"13370000\",\"74800000000\",\"100000000\",\"19700000\",\"84000000\",\"500000000\",\"5000000000\",\"420000000\",\"64000000\",\"2100000\",\"168000000\",\"30000000\",\"1000000000\",\"35000000000\",\"98100000000\",\"0\",\"4000000000\",\"200000000\",\"7000000000\",\"54256119\",\"21000000\",\"0\",\"500000000\",\"1000000000\",\"10500000000\",\"190000000\",\"1000000000\",\"42000000\",\"15000000\",\"50000000000\",\"400000000\",\"105000000\",\"208000000\",\"160000000\",\"9000000\",\"5000000\",\"182000000\",\"16504333\",\"105000000\",\"159918400\",\"10008835635\",\"300000000\",\"60168145\",\"2800000\",\"120000\",\"2100000000\",\"0\",\"24487944\",\"0\",\"1000000000\",\"100000000\",\"8634140\",\"990000000000\",\"1000000000\",\"2000000000\",\"250000000\",\"1400222610\",\"21000000\",\"1000000\"],\"TotalCoinsMined\":{\"__ndarray__\":\"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\",\"dtype\":\"float64\",\"order\":\"little\",\"shape\":[532]}},\"selected\":{\"id\":\"1340\"},\"selection_policy\":{\"id\":\"1389\"}},\"id\":\"1339\",\"type\":\"ColumnDataSource\"},{\"attributes\":{\"editor\":{\"id\":\"1377\"},\"field\":\"CoinName\",\"formatter\":{\"id\":\"1376\"},\"title\":\"CoinName\"},\"id\":\"1378\",\"type\":\"TableColumn\"},{\"attributes\":{},\"id\":\"1376\",\"type\":\"StringFormatter\"},{\"attributes\":{},\"id\":\"1367\",\"type\":\"NumberEditor\"},{\"attributes\":{\"editor\":{\"id\":\"1367\"},\"field\":\"PC2\",\"formatter\":{\"id\":\"1366\"},\"title\":\"PC2\"},\"id\":\"1368\",\"type\":\"TableColumn\"},{\"attributes\":{},\"id\":\"1381\",\"type\":\"NumberFormatter\"},{\"attributes\":{\"margin\":[5,5,5,5],\"name\":\"HSpacer02270\",\"sizing_mode\":\"stretch_width\"},\"id\":\"1338\",\"type\":\"Spacer\"},{\"attributes\":{\"columns\":[{\"id\":\"1343\"},{\"id\":\"1348\"},{\"id\":\"1353\"},{\"id\":\"1358\"},{\"id\":\"1363\"},{\"id\":\"1368\"},{\"id\":\"1373\"},{\"id\":\"1378\"},{\"id\":\"1383\"}],\"height\":300,\"reorderable\":false,\"source\":{\"id\":\"1339\"},\"view\":{\"id\":\"1387\"},\"width\":700},\"id\":\"1386\",\"type\":\"DataTable\"},{\"attributes\":{},\"id\":\"1341\",\"type\":\"StringFormatter\"},{\"attributes\":{},\"id\":\"1377\",\"type\":\"StringEditor\"},{\"attributes\":{\"editor\":{\"id\":\"1382\"},\"field\":\"Class\",\"formatter\":{\"id\":\"1381\"},\"title\":\"Class\"},\"id\":\"1383\",\"type\":\"TableColumn\"},{\"attributes\":{},\"id\":\"1342\",\"type\":\"StringEditor\"},{\"attributes\":{\"editor\":{\"id\":\"1362\"},\"field\":\"PC1\",\"formatter\":{\"id\":\"1361\"},\"title\":\"PC1\"},\"id\":\"1363\",\"type\":\"TableColumn\"},{\"attributes\":{\"editor\":{\"id\":\"1342\"},\"field\":\"Algorithm\",\"formatter\":{\"id\":\"1341\"},\"title\":\"Algorithm\"},\"id\":\"1343\",\"type\":\"TableColumn\"},{\"attributes\":{\"editor\":{\"id\":\"1357\"},\"field\":\"TotalCoinSupply\",\"formatter\":{\"id\":\"1356\"},\"title\":\"TotalCoinSupply\"},\"id\":\"1358\",\"type\":\"TableColumn\"},{\"attributes\":{},\"id\":\"1346\",\"type\":\"StringFormatter\"},{\"attributes\":{\"format\":\"0,0.0[00000]\"},\"id\":\"1361\",\"type\":\"NumberFormatter\"},{\"attributes\":{\"format\":\"0,0.0[00000]\"},\"id\":\"1371\",\"type\":\"NumberFormatter\"},{\"attributes\":{},\"id\":\"1382\",\"type\":\"IntEditor\"},{\"attributes\":{},\"id\":\"1347\",\"type\":\"StringEditor\"},{\"attributes\":{\"children\":[{\"id\":\"1338\"},{\"id\":\"1386\"},{\"id\":\"1392\"}],\"margin\":[0,0,0,0],\"name\":\"Row02266\",\"tags\":[\"embedded\"]},\"id\":\"1337\",\"type\":\"Row\"},{\"attributes\":{\"format\":\"0,0.0[00000]\"},\"id\":\"1366\",\"type\":\"NumberFormatter\"},{\"attributes\":{\"format\":\"0,0.0[00000]\"},\"id\":\"1351\",\"type\":\"NumberFormatter\"},{\"attributes\":{},\"id\":\"1362\",\"type\":\"NumberEditor\"},{\"attributes\":{\"margin\":[5,5,5,5],\"name\":\"HSpacer02271\",\"sizing_mode\":\"stretch_width\"},\"id\":\"1392\",\"type\":\"Spacer\"},{\"attributes\":{\"editor\":{\"id\":\"1347\"},\"field\":\"ProofType\",\"formatter\":{\"id\":\"1346\"},\"title\":\"ProofType\"},\"id\":\"1348\",\"type\":\"TableColumn\"},{\"attributes\":{},\"id\":\"1356\",\"type\":\"StringFormatter\"},{\"attributes\":{},\"id\":\"1352\",\"type\":\"NumberEditor\"},{\"attributes\":{},\"id\":\"1357\",\"type\":\"StringEditor\"},{\"attributes\":{\"editor\":{\"id\":\"1352\"},\"field\":\"TotalCoinsMined\",\"formatter\":{\"id\":\"1351\"},\"title\":\"TotalCoinsMined\"},\"id\":\"1353\",\"type\":\"TableColumn\"}],\"root_ids\":[\"1337\"]},\"title\":\"Bokeh Application\",\"version\":\"2.2.3\"}};\n",
       "    var render_items = [{\"docid\":\"eebe7783-842c-48f7-bfee-e19bb87386c2\",\"root_ids\":[\"1337\"],\"roots\":{\"1337\":\"00a50bf2-d5eb-4685-b98b-26ed7d0c0ef0\"}}];\n",
       "    root.Bokeh.embed.embed_items_notebook(docs_json, render_items);\n",
       "  }\n",
       "  if (root.Bokeh !== undefined && root.Bokeh.Panel !== undefined) {\n",
       "    embed_document(root);\n",
       "  } else {\n",
       "    var attempts = 0;\n",
       "    var timer = setInterval(function(root) {\n",
       "      if (root.Bokeh !== undefined && root.Bokeh.Panel !== undefined) {\n",
       "        clearInterval(timer);\n",
       "        embed_document(root);\n",
       "      } else if (document.readyState == \"complete\") {\n",
       "        attempts++;\n",
       "        if (attempts > 100) {\n",
       "          clearInterval(timer);\n",
       "          console.log(\"Bokeh: ERROR: Unable to run BokehJS code because BokehJS library is missing\");\n",
       "        }\n",
       "      }\n",
       "    }, 10, root)\n",
       "  }\n",
       "})(window);</script>"
      ],
      "text/plain": [
       ":Table   [Algorithm,ProofType,TotalCoinsMined,TotalCoinSupply,PC1,PC2,PC3,CoinName,Class]"
      ]
     },
     "execution_count": 104,
     "metadata": {
      "application/vnd.holoviews_exec.v0+json": {
       "id": "1337"
      }
     },
     "output_type": "execute_result"
    }
   ],
   "source": [
    "# Create a table with tradable cryptocurrencies.\n",
    "clustered_df.hvplot.table(sortable=True)"
   ]
  },
  {
   "cell_type": "code",
   "execution_count": 105,
   "metadata": {},
   "outputs": [
    {
     "name": "stdout",
     "output_type": "stream",
     "text": [
      "<bound method DataFrame.count of         Algorithm ProofType  TotalCoinsMined TotalCoinSupply       PC1  \\\n",
      "42         Scrypt   PoW/PoS     4.199995e+01              42 -0.333267   \n",
      "404        Scrypt   PoW/PoS     1.055185e+09       532000000 -0.316592   \n",
      "1337          X13   PoW/PoS     2.927942e+10    314159265359  2.295505   \n",
      "BTC       SHA-256       PoW     1.792718e+07        21000000 -0.149480   \n",
      "ETH        Ethash       PoW     1.076842e+08               0 -0.155019   \n",
      "...           ...       ...              ...             ...       ...   \n",
      "ZEPH      SHA-256      DPoS     2.000000e+09      2000000000  2.458832   \n",
      "GAP        Scrypt   PoW/PoS     1.493105e+07       250000000 -0.331311   \n",
      "BDX   CryptoNight       PoW     9.802226e+08      1400222610  0.321140   \n",
      "ZEN      Equihash       PoW     7.296538e+06        21000000 -0.133120   \n",
      "XBC        Scrypt       PoS     1.283270e+05         1000000 -0.283852   \n",
      "\n",
      "           PC2       PC3     CoinName  Class  \n",
      "42    1.008309 -0.591509      42 Coin      1  \n",
      "404   1.008196 -0.591865      404Coin      1  \n",
      "1337  1.544049 -0.615920    EliteCoin      1  \n",
      "BTC  -1.269098  0.227975      Bitcoin      0  \n",
      "ETH  -1.976615  0.372871     Ethereum      0  \n",
      "...        ...       ...          ...    ...  \n",
      "ZEPH  1.009439 -0.068767       ZEPHYR      1  \n",
      "GAP   1.008162 -0.591533      Gapcoin      1  \n",
      "BDX  -2.270294  0.406773       Beldex      0  \n",
      "ZEN  -2.257646  0.442994      Horizen      0  \n",
      "XBC   0.778006 -0.305108  BitcoinPlus      1  \n",
      "\n",
      "[532 rows x 9 columns]>\n"
     ]
    }
   ],
   "source": [
    "# Print the total number of tradable cryptocurrencies.\n",
    "print(clustered_df.count) "
   ]
  },
  {
   "cell_type": "code",
   "execution_count": 106,
   "metadata": {},
   "outputs": [
    {
     "name": "stdout",
     "output_type": "stream",
     "text": [
      "[[4.20000000e-11 0.00000000e+00]\n",
      " [5.32000000e-04 1.06585544e-03]\n",
      " [3.14159265e-01 2.95755135e-02]\n",
      " ...\n",
      " [1.40022261e-03 9.90135079e-04]\n",
      " [2.10000000e-05 7.37028150e-06]\n",
      " [1.00000000e-06 1.29582282e-07]]\n"
     ]
    }
   ],
   "source": [
    "# Scaling data to create the scatter plot with tradable cryptocurrencies.\n",
    "scaled = MinMaxScaler().fit_transform(clustered_df[[\"TotalCoinSupply\",\"TotalCoinsMined\"]])\n",
    "print(scaled)"
   ]
  },
  {
   "cell_type": "code",
   "execution_count": 107,
   "metadata": {},
   "outputs": [
    {
     "data": {
      "text/html": [
       "<div>\n",
       "<style scoped>\n",
       "    .dataframe tbody tr th:only-of-type {\n",
       "        vertical-align: middle;\n",
       "    }\n",
       "\n",
       "    .dataframe tbody tr th {\n",
       "        vertical-align: top;\n",
       "    }\n",
       "\n",
       "    .dataframe thead th {\n",
       "        text-align: right;\n",
       "    }\n",
       "</style>\n",
       "<table border=\"1\" class=\"dataframe\">\n",
       "  <thead>\n",
       "    <tr style=\"text-align: right;\">\n",
       "      <th></th>\n",
       "      <th>TotalCoinSuppy</th>\n",
       "      <th>TotalCoinsMined</th>\n",
       "      <th>CoinName</th>\n",
       "      <th>Class</th>\n",
       "    </tr>\n",
       "  </thead>\n",
       "  <tbody>\n",
       "    <tr>\n",
       "      <th>42</th>\n",
       "      <td>4.200000e-11</td>\n",
       "      <td>0.000000</td>\n",
       "      <td>42 Coin</td>\n",
       "      <td>1</td>\n",
       "    </tr>\n",
       "    <tr>\n",
       "      <th>404</th>\n",
       "      <td>5.320000e-04</td>\n",
       "      <td>0.001066</td>\n",
       "      <td>404Coin</td>\n",
       "      <td>1</td>\n",
       "    </tr>\n",
       "    <tr>\n",
       "      <th>1337</th>\n",
       "      <td>3.141593e-01</td>\n",
       "      <td>0.029576</td>\n",
       "      <td>EliteCoin</td>\n",
       "      <td>1</td>\n",
       "    </tr>\n",
       "    <tr>\n",
       "      <th>BTC</th>\n",
       "      <td>2.100000e-05</td>\n",
       "      <td>0.000018</td>\n",
       "      <td>Bitcoin</td>\n",
       "      <td>0</td>\n",
       "    </tr>\n",
       "    <tr>\n",
       "      <th>ETH</th>\n",
       "      <td>0.000000e+00</td>\n",
       "      <td>0.000109</td>\n",
       "      <td>Ethereum</td>\n",
       "      <td>0</td>\n",
       "    </tr>\n",
       "    <tr>\n",
       "      <th>LTC</th>\n",
       "      <td>8.400000e-05</td>\n",
       "      <td>0.000064</td>\n",
       "      <td>Litecoin</td>\n",
       "      <td>0</td>\n",
       "    </tr>\n",
       "    <tr>\n",
       "      <th>DASH</th>\n",
       "      <td>2.200000e-05</td>\n",
       "      <td>0.000009</td>\n",
       "      <td>Dash</td>\n",
       "      <td>1</td>\n",
       "    </tr>\n",
       "    <tr>\n",
       "      <th>XMR</th>\n",
       "      <td>0.000000e+00</td>\n",
       "      <td>0.000017</td>\n",
       "      <td>Monero</td>\n",
       "      <td>0</td>\n",
       "    </tr>\n",
       "    <tr>\n",
       "      <th>ETC</th>\n",
       "      <td>2.100000e-04</td>\n",
       "      <td>0.000115</td>\n",
       "      <td>Ethereum Classic</td>\n",
       "      <td>0</td>\n",
       "    </tr>\n",
       "    <tr>\n",
       "      <th>ZEC</th>\n",
       "      <td>2.100000e-05</td>\n",
       "      <td>0.000007</td>\n",
       "      <td>ZCash</td>\n",
       "      <td>0</td>\n",
       "    </tr>\n",
       "  </tbody>\n",
       "</table>\n",
       "</div>"
      ],
      "text/plain": [
       "      TotalCoinSuppy  TotalCoinsMined          CoinName  Class\n",
       "42      4.200000e-11         0.000000           42 Coin      1\n",
       "404     5.320000e-04         0.001066           404Coin      1\n",
       "1337    3.141593e-01         0.029576         EliteCoin      1\n",
       "BTC     2.100000e-05         0.000018           Bitcoin      0\n",
       "ETH     0.000000e+00         0.000109          Ethereum      0\n",
       "LTC     8.400000e-05         0.000064          Litecoin      0\n",
       "DASH    2.200000e-05         0.000009              Dash      1\n",
       "XMR     0.000000e+00         0.000017            Monero      0\n",
       "ETC     2.100000e-04         0.000115  Ethereum Classic      0\n",
       "ZEC     2.100000e-05         0.000007             ZCash      0"
      ]
     },
     "execution_count": 107,
     "metadata": {},
     "output_type": "execute_result"
    }
   ],
   "source": [
    "# Create a new DataFrame that has the scaled data with the clustered_df DataFrame index.\n",
    "plot_df = pd.DataFrame(\n",
    "    data = scaled,columns = [\"TotalCoinSuppy\",\"TotalCoinsMined\"], index = clustered_df.index\n",
    ")\n",
    "\n",
    "# Add the \"CoinName\" column from the clustered_df DataFrame to the new DataFrame.\n",
    "plot_df = pd.concat([plot_df, clustered_df['CoinName']],axis = 1)\n",
    "\n",
    "# Add the \"Class\" column from the clustered_df DataFrame to the new DataFrame. \n",
    "plot_df = pd.concat([plot_df,clustered_df[\"Class\"]],axis = 1)\n",
    "plot_df.head(10)"
   ]
  },
  {
   "cell_type": "code",
   "execution_count": 113,
   "metadata": {},
   "outputs": [
    {
     "ename": "DataError",
     "evalue": "Supplied data does not contain specified dimensions, the following dimensions were not found: ['TotalCoinSupply']\n\nPandasInterface expects tabular data, for more information on supported datatypes see http://holoviews.org/user_guide/Tabular_Datasets.html",
     "output_type": "error",
     "traceback": [
      "\u001b[1;31m---------------------------------------------------------------------------\u001b[0m",
      "\u001b[1;31mDataError\u001b[0m                                 Traceback (most recent call last)",
      "\u001b[1;32m<ipython-input-113-e94e39852419>\u001b[0m in \u001b[0;36m<module>\u001b[1;34m\u001b[0m\n\u001b[0;32m      1\u001b[0m \u001b[1;31m# Create a hvplot.scatter plot using x=\"TotalCoinsMined\" and y=\"TotalCoinSupply\".\u001b[0m\u001b[1;33m\u001b[0m\u001b[1;33m\u001b[0m\u001b[1;33m\u001b[0m\u001b[0m\n\u001b[1;32m----> 2\u001b[1;33m \u001b[0mplot_df\u001b[0m\u001b[1;33m.\u001b[0m\u001b[0mhvplot\u001b[0m\u001b[1;33m.\u001b[0m\u001b[0mscatter\u001b[0m\u001b[1;33m(\u001b[0m\u001b[0mx\u001b[0m\u001b[1;33m=\u001b[0m\u001b[1;34m\"TotalCoinsMined\"\u001b[0m\u001b[1;33m,\u001b[0m \u001b[0my\u001b[0m\u001b[1;33m=\u001b[0m\u001b[1;34m\"TotalCoinSupply\"\u001b[0m\u001b[1;33m,\u001b[0m \u001b[0mby\u001b[0m \u001b[1;33m=\u001b[0m\u001b[1;34m\"Class\"\u001b[0m\u001b[1;33m,\u001b[0m\u001b[0mhover_cols\u001b[0m \u001b[1;33m=\u001b[0m \u001b[1;33m[\u001b[0m\u001b[1;34m\"CoinName\"\u001b[0m\u001b[1;33m]\u001b[0m\u001b[1;33m)\u001b[0m\u001b[1;33m\u001b[0m\u001b[1;33m\u001b[0m\u001b[0m\n\u001b[0m",
      "\u001b[1;32m~\\anaconda3\\envs\\PythonData\\lib\\site-packages\\hvplot\\plotting\\core.py\u001b[0m in \u001b[0;36mscatter\u001b[1;34m(self, x, y, **kwds)\u001b[0m\n\u001b[0;32m    196\u001b[0m             \u001b[0mThe\u001b[0m \u001b[0mHoloViews\u001b[0m \u001b[0mrepresentation\u001b[0m \u001b[0mof\u001b[0m \u001b[0mthe\u001b[0m \u001b[0mplot\u001b[0m\u001b[1;33m.\u001b[0m\u001b[1;33m\u001b[0m\u001b[1;33m\u001b[0m\u001b[0m\n\u001b[0;32m    197\u001b[0m         \"\"\"\n\u001b[1;32m--> 198\u001b[1;33m         \u001b[1;32mreturn\u001b[0m \u001b[0mself\u001b[0m\u001b[1;33m(\u001b[0m\u001b[0mx\u001b[0m\u001b[1;33m,\u001b[0m \u001b[0my\u001b[0m\u001b[1;33m,\u001b[0m \u001b[0mkind\u001b[0m\u001b[1;33m=\u001b[0m\u001b[1;34m'scatter'\u001b[0m\u001b[1;33m,\u001b[0m \u001b[1;33m**\u001b[0m\u001b[0mkwds\u001b[0m\u001b[1;33m)\u001b[0m\u001b[1;33m\u001b[0m\u001b[1;33m\u001b[0m\u001b[0m\n\u001b[0m\u001b[0;32m    199\u001b[0m \u001b[1;33m\u001b[0m\u001b[0m\n\u001b[0;32m    200\u001b[0m     \u001b[1;32mdef\u001b[0m \u001b[0marea\u001b[0m\u001b[1;33m(\u001b[0m\u001b[0mself\u001b[0m\u001b[1;33m,\u001b[0m \u001b[0mx\u001b[0m\u001b[1;33m=\u001b[0m\u001b[1;32mNone\u001b[0m\u001b[1;33m,\u001b[0m \u001b[0my\u001b[0m\u001b[1;33m=\u001b[0m\u001b[1;32mNone\u001b[0m\u001b[1;33m,\u001b[0m \u001b[0my2\u001b[0m\u001b[1;33m=\u001b[0m\u001b[1;32mNone\u001b[0m\u001b[1;33m,\u001b[0m \u001b[0mstacked\u001b[0m\u001b[1;33m=\u001b[0m\u001b[1;32mTrue\u001b[0m\u001b[1;33m,\u001b[0m \u001b[1;33m**\u001b[0m\u001b[0mkwds\u001b[0m\u001b[1;33m)\u001b[0m\u001b[1;33m:\u001b[0m\u001b[1;33m\u001b[0m\u001b[1;33m\u001b[0m\u001b[0m\n",
      "\u001b[1;32m~\\anaconda3\\envs\\PythonData\\lib\\site-packages\\hvplot\\plotting\\core.py\u001b[0m in \u001b[0;36m__call__\u001b[1;34m(self, x, y, kind, **kwds)\u001b[0m\n\u001b[0;32m     77\u001b[0m                 \u001b[1;32mreturn\u001b[0m \u001b[0mpn\u001b[0m\u001b[1;33m.\u001b[0m\u001b[0mpanel\u001b[0m\u001b[1;33m(\u001b[0m\u001b[0mplot\u001b[0m\u001b[1;33m,\u001b[0m \u001b[1;33m**\u001b[0m\u001b[0mpanel_dict\u001b[0m\u001b[1;33m)\u001b[0m\u001b[1;33m\u001b[0m\u001b[1;33m\u001b[0m\u001b[0m\n\u001b[0;32m     78\u001b[0m \u001b[1;33m\u001b[0m\u001b[0m\n\u001b[1;32m---> 79\u001b[1;33m         \u001b[1;32mreturn\u001b[0m \u001b[0mself\u001b[0m\u001b[1;33m.\u001b[0m\u001b[0m_get_converter\u001b[0m\u001b[1;33m(\u001b[0m\u001b[0mx\u001b[0m\u001b[1;33m,\u001b[0m \u001b[0my\u001b[0m\u001b[1;33m,\u001b[0m \u001b[0mkind\u001b[0m\u001b[1;33m,\u001b[0m \u001b[1;33m**\u001b[0m\u001b[0mkwds\u001b[0m\u001b[1;33m)\u001b[0m\u001b[1;33m(\u001b[0m\u001b[0mkind\u001b[0m\u001b[1;33m,\u001b[0m \u001b[0mx\u001b[0m\u001b[1;33m,\u001b[0m \u001b[0my\u001b[0m\u001b[1;33m)\u001b[0m\u001b[1;33m\u001b[0m\u001b[1;33m\u001b[0m\u001b[0m\n\u001b[0m\u001b[0;32m     80\u001b[0m \u001b[1;33m\u001b[0m\u001b[0m\n\u001b[0;32m     81\u001b[0m     \u001b[1;32mdef\u001b[0m \u001b[0m_get_converter\u001b[0m\u001b[1;33m(\u001b[0m\u001b[0mself\u001b[0m\u001b[1;33m,\u001b[0m \u001b[0mx\u001b[0m\u001b[1;33m=\u001b[0m\u001b[1;32mNone\u001b[0m\u001b[1;33m,\u001b[0m \u001b[0my\u001b[0m\u001b[1;33m=\u001b[0m\u001b[1;32mNone\u001b[0m\u001b[1;33m,\u001b[0m \u001b[0mkind\u001b[0m\u001b[1;33m=\u001b[0m\u001b[1;32mNone\u001b[0m\u001b[1;33m,\u001b[0m \u001b[1;33m**\u001b[0m\u001b[0mkwds\u001b[0m\u001b[1;33m)\u001b[0m\u001b[1;33m:\u001b[0m\u001b[1;33m\u001b[0m\u001b[1;33m\u001b[0m\u001b[0m\n",
      "\u001b[1;32m~\\anaconda3\\envs\\PythonData\\lib\\site-packages\\hvplot\\converter.py\u001b[0m in \u001b[0;36m__call__\u001b[1;34m(self, kind, x, y)\u001b[0m\n\u001b[0;32m   1048\u001b[0m                         \u001b[0mdataset\u001b[0m \u001b[1;33m=\u001b[0m \u001b[0mDataset\u001b[0m\u001b[1;33m(\u001b[0m\u001b[0mdata\u001b[0m\u001b[1;33m)\u001b[0m\u001b[1;33m\u001b[0m\u001b[1;33m\u001b[0m\u001b[0m\n\u001b[0;32m   1049\u001b[0m                     \u001b[0mdataset\u001b[0m \u001b[1;33m=\u001b[0m \u001b[0mdataset\u001b[0m\u001b[1;33m.\u001b[0m\u001b[0mredim\u001b[0m\u001b[1;33m(\u001b[0m\u001b[1;33m**\u001b[0m\u001b[0mself\u001b[0m\u001b[1;33m.\u001b[0m\u001b[0m_redim\u001b[0m\u001b[1;33m)\u001b[0m\u001b[1;33m\u001b[0m\u001b[1;33m\u001b[0m\u001b[0m\n\u001b[1;32m-> 1050\u001b[1;33m                 \u001b[0mobj\u001b[0m \u001b[1;33m=\u001b[0m \u001b[0mmethod\u001b[0m\u001b[1;33m(\u001b[0m\u001b[0mx\u001b[0m\u001b[1;33m,\u001b[0m \u001b[0my\u001b[0m\u001b[1;33m)\u001b[0m\u001b[1;33m\u001b[0m\u001b[1;33m\u001b[0m\u001b[0m\n\u001b[0m\u001b[0;32m   1051\u001b[0m                 \u001b[0mobj\u001b[0m\u001b[1;33m.\u001b[0m\u001b[0m_dataset\u001b[0m \u001b[1;33m=\u001b[0m \u001b[0mdataset\u001b[0m\u001b[1;33m\u001b[0m\u001b[1;33m\u001b[0m\u001b[0m\n\u001b[0;32m   1052\u001b[0m \u001b[1;33m\u001b[0m\u001b[0m\n",
      "\u001b[1;32m~\\anaconda3\\envs\\PythonData\\lib\\site-packages\\hvplot\\converter.py\u001b[0m in \u001b[0;36mscatter\u001b[1;34m(self, x, y, data)\u001b[0m\n\u001b[0;32m   1359\u001b[0m \u001b[1;33m\u001b[0m\u001b[0m\n\u001b[0;32m   1360\u001b[0m     \u001b[1;32mdef\u001b[0m \u001b[0mscatter\u001b[0m\u001b[1;33m(\u001b[0m\u001b[0mself\u001b[0m\u001b[1;33m,\u001b[0m \u001b[0mx\u001b[0m\u001b[1;33m=\u001b[0m\u001b[1;32mNone\u001b[0m\u001b[1;33m,\u001b[0m \u001b[0my\u001b[0m\u001b[1;33m=\u001b[0m\u001b[1;32mNone\u001b[0m\u001b[1;33m,\u001b[0m \u001b[0mdata\u001b[0m\u001b[1;33m=\u001b[0m\u001b[1;32mNone\u001b[0m\u001b[1;33m)\u001b[0m\u001b[1;33m:\u001b[0m\u001b[1;33m\u001b[0m\u001b[1;33m\u001b[0m\u001b[0m\n\u001b[1;32m-> 1361\u001b[1;33m         \u001b[1;32mreturn\u001b[0m \u001b[0mself\u001b[0m\u001b[1;33m.\u001b[0m\u001b[0mchart\u001b[0m\u001b[1;33m(\u001b[0m\u001b[0mScatter\u001b[0m\u001b[1;33m,\u001b[0m \u001b[0mx\u001b[0m\u001b[1;33m,\u001b[0m \u001b[0my\u001b[0m\u001b[1;33m,\u001b[0m \u001b[0mdata\u001b[0m\u001b[1;33m)\u001b[0m\u001b[1;33m\u001b[0m\u001b[1;33m\u001b[0m\u001b[0m\n\u001b[0m\u001b[0;32m   1362\u001b[0m \u001b[1;33m\u001b[0m\u001b[0m\n\u001b[0;32m   1363\u001b[0m     \u001b[1;32mdef\u001b[0m \u001b[0marea\u001b[0m\u001b[1;33m(\u001b[0m\u001b[0mself\u001b[0m\u001b[1;33m,\u001b[0m \u001b[0mx\u001b[0m\u001b[1;33m=\u001b[0m\u001b[1;32mNone\u001b[0m\u001b[1;33m,\u001b[0m \u001b[0my\u001b[0m\u001b[1;33m=\u001b[0m\u001b[1;32mNone\u001b[0m\u001b[1;33m,\u001b[0m \u001b[0mdata\u001b[0m\u001b[1;33m=\u001b[0m\u001b[1;32mNone\u001b[0m\u001b[1;33m)\u001b[0m\u001b[1;33m:\u001b[0m\u001b[1;33m\u001b[0m\u001b[1;33m\u001b[0m\u001b[0m\n",
      "\u001b[1;32m~\\anaconda3\\envs\\PythonData\\lib\\site-packages\\hvplot\\converter.py\u001b[0m in \u001b[0;36mchart\u001b[1;34m(self, element, x, y, data)\u001b[0m\n\u001b[0;32m   1329\u001b[0m         \u001b[0mdata\u001b[0m\u001b[1;33m,\u001b[0m \u001b[0mx\u001b[0m\u001b[1;33m,\u001b[0m \u001b[0my\u001b[0m \u001b[1;33m=\u001b[0m \u001b[0mself\u001b[0m\u001b[1;33m.\u001b[0m\u001b[0m_process_chart_args\u001b[0m\u001b[1;33m(\u001b[0m\u001b[0mdata\u001b[0m\u001b[1;33m,\u001b[0m \u001b[0mx\u001b[0m\u001b[1;33m,\u001b[0m \u001b[0my\u001b[0m\u001b[1;33m)\u001b[0m\u001b[1;33m\u001b[0m\u001b[1;33m\u001b[0m\u001b[0m\n\u001b[0;32m   1330\u001b[0m         \u001b[1;32mif\u001b[0m \u001b[0mx\u001b[0m \u001b[1;32mand\u001b[0m \u001b[0my\u001b[0m \u001b[1;32mand\u001b[0m \u001b[1;32mnot\u001b[0m \u001b[0misinstance\u001b[0m\u001b[1;33m(\u001b[0m\u001b[0my\u001b[0m\u001b[1;33m,\u001b[0m \u001b[1;33m(\u001b[0m\u001b[0mlist\u001b[0m\u001b[1;33m,\u001b[0m \u001b[0mtuple\u001b[0m\u001b[1;33m)\u001b[0m\u001b[1;33m)\u001b[0m\u001b[1;33m:\u001b[0m\u001b[1;33m\u001b[0m\u001b[1;33m\u001b[0m\u001b[0m\n\u001b[1;32m-> 1331\u001b[1;33m             \u001b[1;32mreturn\u001b[0m \u001b[0mself\u001b[0m\u001b[1;33m.\u001b[0m\u001b[0msingle_chart\u001b[0m\u001b[1;33m(\u001b[0m\u001b[0melement\u001b[0m\u001b[1;33m,\u001b[0m \u001b[0mx\u001b[0m\u001b[1;33m,\u001b[0m \u001b[0my\u001b[0m\u001b[1;33m,\u001b[0m \u001b[0mdata\u001b[0m\u001b[1;33m)\u001b[0m\u001b[1;33m\u001b[0m\u001b[1;33m\u001b[0m\u001b[0m\n\u001b[0m\u001b[0;32m   1332\u001b[0m         \u001b[1;32melif\u001b[0m \u001b[0mx\u001b[0m \u001b[1;32mand\u001b[0m \u001b[0my\u001b[0m \u001b[1;32mand\u001b[0m \u001b[0mlen\u001b[0m\u001b[1;33m(\u001b[0m\u001b[0my\u001b[0m\u001b[1;33m)\u001b[0m \u001b[1;33m==\u001b[0m \u001b[1;36m1\u001b[0m\u001b[1;33m:\u001b[0m\u001b[1;33m\u001b[0m\u001b[1;33m\u001b[0m\u001b[0m\n\u001b[0;32m   1333\u001b[0m             \u001b[1;32mreturn\u001b[0m \u001b[0mself\u001b[0m\u001b[1;33m.\u001b[0m\u001b[0msingle_chart\u001b[0m\u001b[1;33m(\u001b[0m\u001b[0melement\u001b[0m\u001b[1;33m,\u001b[0m \u001b[0mx\u001b[0m\u001b[1;33m,\u001b[0m \u001b[0my\u001b[0m\u001b[1;33m[\u001b[0m\u001b[1;36m0\u001b[0m\u001b[1;33m]\u001b[0m\u001b[1;33m,\u001b[0m \u001b[0mdata\u001b[0m\u001b[1;33m)\u001b[0m\u001b[1;33m\u001b[0m\u001b[1;33m\u001b[0m\u001b[0m\n",
      "\u001b[1;32m~\\anaconda3\\envs\\PythonData\\lib\\site-packages\\hvplot\\converter.py\u001b[0m in \u001b[0;36msingle_chart\u001b[1;34m(self, element, x, y, data)\u001b[0m\n\u001b[0;32m   1252\u001b[0m                         \u001b[1;33m.\u001b[0m\u001b[0mredim\u001b[0m\u001b[1;33m(\u001b[0m\u001b[1;33m**\u001b[0m\u001b[0mself\u001b[0m\u001b[1;33m.\u001b[0m\u001b[0m_redim\u001b[0m\u001b[1;33m)\u001b[0m\u001b[1;33m\u001b[0m\u001b[1;33m\u001b[0m\u001b[0m\n\u001b[0;32m   1253\u001b[0m                         .opts(opts))\n\u001b[1;32m-> 1254\u001b[1;33m             chart = Dataset(data, self.by+kdims, vdims).to(\n\u001b[0m\u001b[0;32m   1255\u001b[0m                 element, kdims, vdims, self.by).relabel(**self._relabel)\n\u001b[0;32m   1256\u001b[0m             \u001b[0mchart\u001b[0m \u001b[1;33m=\u001b[0m \u001b[0mchart\u001b[0m\u001b[1;33m.\u001b[0m\u001b[0mlayout\u001b[0m\u001b[1;33m(\u001b[0m\u001b[1;33m)\u001b[0m \u001b[1;32mif\u001b[0m \u001b[0mself\u001b[0m\u001b[1;33m.\u001b[0m\u001b[0msubplots\u001b[0m \u001b[1;32melse\u001b[0m \u001b[0mchart\u001b[0m\u001b[1;33m.\u001b[0m\u001b[0moverlay\u001b[0m\u001b[1;33m(\u001b[0m\u001b[0msort\u001b[0m\u001b[1;33m=\u001b[0m\u001b[1;32mFalse\u001b[0m\u001b[1;33m)\u001b[0m\u001b[1;33m\u001b[0m\u001b[1;33m\u001b[0m\u001b[0m\n",
      "\u001b[1;32m~\\anaconda3\\envs\\PythonData\\lib\\site-packages\\holoviews\\core\\data\\__init__.py\u001b[0m in \u001b[0;36m__init__\u001b[1;34m(self, data, kdims, vdims, **kwargs)\u001b[0m\n\u001b[0;32m    352\u001b[0m         \u001b[1;33m(\u001b[0m\u001b[0mdata\u001b[0m\u001b[1;33m,\u001b[0m \u001b[0mself\u001b[0m\u001b[1;33m.\u001b[0m\u001b[0minterface\u001b[0m\u001b[1;33m,\u001b[0m \u001b[0mdims\u001b[0m\u001b[1;33m,\u001b[0m \u001b[0mextra_kws\u001b[0m\u001b[1;33m)\u001b[0m \u001b[1;33m=\u001b[0m \u001b[0minitialized\u001b[0m\u001b[1;33m\u001b[0m\u001b[1;33m\u001b[0m\u001b[0m\n\u001b[0;32m    353\u001b[0m         \u001b[0msuper\u001b[0m\u001b[1;33m(\u001b[0m\u001b[0mDataset\u001b[0m\u001b[1;33m,\u001b[0m \u001b[0mself\u001b[0m\u001b[1;33m)\u001b[0m\u001b[1;33m.\u001b[0m\u001b[0m__init__\u001b[0m\u001b[1;33m(\u001b[0m\u001b[0mdata\u001b[0m\u001b[1;33m,\u001b[0m \u001b[1;33m**\u001b[0m\u001b[0mdict\u001b[0m\u001b[1;33m(\u001b[0m\u001b[0mkwargs\u001b[0m\u001b[1;33m,\u001b[0m \u001b[1;33m**\u001b[0m\u001b[0mdict\u001b[0m\u001b[1;33m(\u001b[0m\u001b[0mdims\u001b[0m\u001b[1;33m,\u001b[0m \u001b[1;33m**\u001b[0m\u001b[0mextra_kws\u001b[0m\u001b[1;33m)\u001b[0m\u001b[1;33m)\u001b[0m\u001b[1;33m)\u001b[0m\u001b[1;33m\u001b[0m\u001b[1;33m\u001b[0m\u001b[0m\n\u001b[1;32m--> 354\u001b[1;33m         \u001b[0mself\u001b[0m\u001b[1;33m.\u001b[0m\u001b[0minterface\u001b[0m\u001b[1;33m.\u001b[0m\u001b[0mvalidate\u001b[0m\u001b[1;33m(\u001b[0m\u001b[0mself\u001b[0m\u001b[1;33m,\u001b[0m \u001b[0mvalidate_vdims\u001b[0m\u001b[1;33m)\u001b[0m\u001b[1;33m\u001b[0m\u001b[1;33m\u001b[0m\u001b[0m\n\u001b[0m\u001b[0;32m    355\u001b[0m \u001b[1;33m\u001b[0m\u001b[0m\n\u001b[0;32m    356\u001b[0m         \u001b[1;31m# Handle _pipeline property\u001b[0m\u001b[1;33m\u001b[0m\u001b[1;33m\u001b[0m\u001b[1;33m\u001b[0m\u001b[0m\n",
      "\u001b[1;32m~\\anaconda3\\envs\\PythonData\\lib\\site-packages\\holoviews\\core\\data\\pandas.py\u001b[0m in \u001b[0;36mvalidate\u001b[1;34m(cls, dataset, vdims)\u001b[0m\n\u001b[0;32m    155\u001b[0m             raise DataError(\"Supplied data does not contain specified \"\n\u001b[0;32m    156\u001b[0m                             \u001b[1;34m\"dimensions, the following dimensions were \"\u001b[0m\u001b[1;33m\u001b[0m\u001b[1;33m\u001b[0m\u001b[0m\n\u001b[1;32m--> 157\u001b[1;33m                             \"not found: %s\" % repr(not_found), cls)\n\u001b[0m\u001b[0;32m    158\u001b[0m \u001b[1;33m\u001b[0m\u001b[0m\n\u001b[0;32m    159\u001b[0m \u001b[1;33m\u001b[0m\u001b[0m\n",
      "\u001b[1;31mDataError\u001b[0m: Supplied data does not contain specified dimensions, the following dimensions were not found: ['TotalCoinSupply']\n\nPandasInterface expects tabular data, for more information on supported datatypes see http://holoviews.org/user_guide/Tabular_Datasets.html"
     ]
    }
   ],
   "source": [
    "# Create a hvplot.scatter plot using x=\"TotalCoinsMined\" and y=\"TotalCoinSupply\".\n",
    "plot_df.hvplot.scatter(x=\"TotalCoinsMined\", y=\"TotalCoinSupply\", by =\"Class\",hover_cols = [\"CoinName\"])"
   ]
  },
  {
   "cell_type": "code",
   "execution_count": null,
   "metadata": {},
   "outputs": [],
   "source": []
  }
 ],
 "metadata": {
  "file_extension": ".py",
  "kernelspec": {
   "display_name": "PythonData",
   "language": "python",
   "name": "pythondata"
  },
  "language_info": {
   "codemirror_mode": {
    "name": "ipython",
    "version": 3
   },
   "file_extension": ".py",
   "mimetype": "text/x-python",
   "name": "python",
   "nbconvert_exporter": "python",
   "pygments_lexer": "ipython3",
   "version": "3.7.7"
  },
  "latex_envs": {
   "LaTeX_envs_menu_present": true,
   "autoclose": false,
   "autocomplete": true,
   "bibliofile": "biblio.bib",
   "cite_by": "apalike",
   "current_citInitial": 1,
   "eqLabelWithNumbers": true,
   "eqNumInitial": 1,
   "hotkeys": {
    "equation": "Ctrl-E",
    "itemize": "Ctrl-I"
   },
   "labels_anchors": false,
   "latex_user_defs": false,
   "report_style_numbering": false,
   "user_envs_cfg": false
  },
  "mimetype": "text/x-python",
  "name": "python",
  "npconvert_exporter": "python",
  "pygments_lexer": "ipython3",
  "version": 3
 },
 "nbformat": 4,
 "nbformat_minor": 2
}
